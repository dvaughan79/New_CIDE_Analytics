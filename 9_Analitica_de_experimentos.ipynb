{
 "cells": [
  {
   "cell_type": "markdown",
   "metadata": {
    "slideshow": {
     "slide_type": "slide"
    }
   },
   "source": [
    "# Analítica y Ciencia de Datos\n",
    "\n",
    "## CIDE - Otoño 2015\n",
    "\n",
    "### Analítica de Experimentos"
   ]
  },
  {
   "cell_type": "markdown",
   "metadata": {
    "slideshow": {
     "slide_type": "slide"
    }
   },
   "source": [
    "# Referencias\n",
    "\n",
    "El modelo del resultado potencial se puede ver en los Capítulos 2 y 25 del [Cameron y Trivedi](http://www.amazon.com/Microeconometrics-Applications-A-Colin-Cameron/dp/0521848059).\n",
    "\n",
    "También el capítulo 2 de [Mostly Harmless Econometrics](http://www.amazon.com/Mostly-Harmless-Econometrics-Empiricists-Companion/dp/0691120358).\n",
    "\n",
    "Aunque hay material online gratis que lo cubre.  Por ejemplo la entrada del [Palgrave Dictionary of Economics](http://www.dictionaryofeconomics.com/article?id=pde2008_T000206) sobre treatment effects ([pdf acá](http://economics.mit.edu/files/32)).\n",
    "\n",
    "Material para el diseño de los experimentos se puede encontrar en [Bloome (2006)](http://www.mdrc.org/sites/default/files/full_533.pdf), o en [Duflo, et.al.(2007)](http://economics.mit.edu/files/806).\n",
    "\n"
   ]
  },
  {
   "cell_type": "markdown",
   "metadata": {
    "slideshow": {
     "slide_type": "slide"
    }
   },
   "source": [
    "# Evaluación de un tratamiento\n",
    "\n",
    "\n",
    "* El problema que queremos entender es cómo afecta el comportamiento de los individuos un *tratamiento*.\n",
    "\n",
    "\n",
    "* El lenguaje utilizado proviene de la investigación médica: dar o no un tratamiento médico o un placebo a los pacientes.\n",
    "\n",
    "\n",
    "* Para formalizar el problema, introduzcamos algo de notación.\n",
    "\n",
    "\n",
    "* Para cada individuo $i=1, \\cdots, N$, tenemos la tripla $(y_{i0}, y_{i1}, D_i)$, donde\n",
    "\n",
    "$$\n",
    "\\begin{eqnarray*}\n",
    "&& D_i \\in {0,1} \\hspace{2mm}\\text{indica si el individuo $i$ recibió el tratamiento.}\\\\\n",
    "&& y_{0i} \\hspace{2mm} \\text{el resultado para $i$ si no recibió el tratamiento}\\\\\n",
    "&& y_{1i} \\hspace{2mm} \\text{el resultado para $i$ si  recibió el tratamiento}\n",
    "\\end{eqnarray*}\n",
    "$$\n",
    "\n",
    "\n",
    "* El problema es que para cada individuo sólo observamos el resultado si recibió/no recibió el tratamiento:\n",
    "\n",
    "$$\n",
    "y_i =\n",
    "\\begin{cases}\n",
    "y_{1i} & \\text{si $D_i=1$}\\\\\n",
    "y_{0i} & \\text{si $D_i=0$}\\\\\n",
    "\\end{cases}\n",
    "$$\n",
    "\n",
    "\n",
    "* Si tratamos a un individuo, la pregunta que tendremos siempre será: **¿Cuál habría sido el resultado para $i$ si no es tratado?**\n",
    "\n",
    "\n",
    "* Es decir, estamos buscando el **contrafactual**."
   ]
  },
  {
   "cell_type": "markdown",
   "metadata": {
    "slideshow": {
     "slide_type": "subslide"
    }
   },
   "source": [
    "# Efecto Esperado del Tratamiento\n",
    "\n",
    "\n",
    "El Efecto Promedio del Tratamiento **(ATE)** es:\n",
    "\n",
    "$$\n",
    "ATE = E[y_i|D_i=1] - E[y_i|D_i=0]\n",
    "$$\n",
    "\n",
    "Alternativamente, podemos estimar el Efecto Promedio del Tratamiento Sobre los Tratados **(ATET)**\n",
    "\n",
    "$$\n",
    "ATET = E[y_{1i}-y_{0i}|D_i=1] = E[y_{1i}|D_i=1]- \\underbrace{E[y_{0i}|D_i=1]}_{contrafactual}\n",
    "$$\n",
    "\n",
    "\n",
    "El ATE se puede descomponer así:\n",
    "\n",
    "$$\n",
    "\\begin{eqnarray*}\n",
    "ATE &=& E[y_i|D_i=1] - E[y_i|D_i=0] \\\\\n",
    "&=& E[y_i|D_i=1] - (E[y_{0i}|D_i=1] + E[y_{0i}|D_i=1]) - E[y_i|D_i=0] \\\\\n",
    "&=& \\underbrace{E[y_{1i}-y_{0i}|D_i=1]}_{\\text{ATET}}  + \\underbrace{\\left(E[y_{0i}|D_i=1]) - E[y_{0i}|D_i=0] \\right)}_{\\text{Sesgo de selección}}\n",
    "\\end{eqnarray*}\n",
    "$$"
   ]
  },
  {
   "cell_type": "markdown",
   "metadata": {
    "slideshow": {
     "slide_type": "subslide"
    }
   },
   "source": [
    "# Entendiendo el sesgo de selección\n",
    "\n",
    "\n",
    "* Supongamos que tenemos información de mortalidad de individuos que fueron y que no fueron al hospital.\n",
    "\n",
    "\n",
    "* Si quisiéramos evaluar si ir al hospital impacta la salud, podríamos comparar\n",
    "\n",
    "$$\n",
    "E(salud_i| \\text{fue a hospital}) - E(salud_i| \\text{no fue a hospital})\n",
    "$$\n",
    "\n",
    "**¿Qué creen que encontraríamos?**\n",
    "\n",
    "* Probablemente que la salud promedio de quiénes fueron al hospital es peor que la de aquellos que no fueron!\n",
    "\n",
    "\n",
    "* La conclusión errónea es que *ir al hospital afecta negativamente la salud*.\n",
    "\n",
    "\n",
    "* El problema que tenemos es que la probabilidad de ir al hospital (de recibir el tratamiento) depende de la salud de los pacientes.\n",
    "\n",
    "\n",
    "* Este es el sesgo de selección."
   ]
  },
  {
   "cell_type": "markdown",
   "metadata": {
    "slideshow": {
     "slide_type": "subslide"
    }
   },
   "source": [
    "# Una solución: asignar aleatoriamente el tratamiento\n",
    "\n",
    "* Si asignamos aleatoriamente el tratamiento, el sesgo desaparece.\n",
    "\n",
    "\n",
    "* En términos de la descomposición de arriba:\n",
    "\n",
    "$$\n",
    "E[y_{0i}|D_i=1]) = E[y_{0i}|D_i=0]\n",
    "$$\n",
    "\n",
    "\n",
    "* El resultado en caso de no haber recibido el tratamiento $y_{0i}$ es, en promedio, igual para quienes lo recibieron y quiénes no lo recibieron."
   ]
  },
  {
   "cell_type": "markdown",
   "metadata": {
    "slideshow": {
     "slide_type": "subslide"
    }
   },
   "source": [
    "# ¿Qué es un experimento?\n",
    "\n",
    "\n",
    " ![caption](figures/experimento.png)"
   ]
  },
  {
   "cell_type": "markdown",
   "metadata": {
    "slideshow": {
     "slide_type": "subslide"
    }
   },
   "source": [
    "# Experimentos en los negocios\n",
    "\n",
    "\n",
    "* El experimento utiliza el método de aplicar un tratamiento de manera aleatoria, para *estimar un efecto causal*.\n",
    "\n",
    "\n",
    "* Y así evitar el sesgo de selección.\n",
    "\n",
    "\n",
    "* La pregunta natural es si alguien está utilizando experimentos."
   ]
  },
  {
   "cell_type": "markdown",
   "metadata": {
    "slideshow": {
     "slide_type": "subslide"
    }
   },
   "source": [
    " ![caption](figures/lideres_experimento.png)"
   ]
  },
  {
   "cell_type": "markdown",
   "metadata": {
    "slideshow": {
     "slide_type": "subslide"
    }
   },
   "source": [
    "\n",
    "\n",
    " ![caption](figures/experiment_pnl.png)"
   ]
  },
  {
   "cell_type": "markdown",
   "metadata": {
    "slideshow": {
     "slide_type": "subslide"
    }
   },
   "source": [
    "\n",
    " ![caption](figures/etapas1.png)"
   ]
  },
  {
   "cell_type": "markdown",
   "metadata": {
    "slideshow": {
     "slide_type": "subslide"
    }
   },
   "source": [
    " ![caption](figures/etapas2.png)"
   ]
  },
  {
   "cell_type": "markdown",
   "metadata": {
    "slideshow": {
     "slide_type": "subslide"
    }
   },
   "source": [
    " ![caption](figures/estimacion1.png)"
   ]
  },
  {
   "cell_type": "markdown",
   "metadata": {
    "slideshow": {
     "slide_type": "subslide"
    }
   },
   "source": [
    " ![caption](figures/estimacion2.png)"
   ]
  },
  {
   "cell_type": "markdown",
   "metadata": {},
   "source": [
    " ![caption](figures/error12.png)"
   ]
  },
  {
   "cell_type": "markdown",
   "metadata": {
    "slideshow": {
     "slide_type": "subslide"
    }
   },
   "source": [
    " ![caption](figures/error12_tabla.png)"
   ]
  },
  {
   "cell_type": "markdown",
   "metadata": {
    "slideshow": {
     "slide_type": "subslide"
    }
   },
   "source": [
    "# ¿Cuál es el número de individuos que se debe incluir en un experimento?\n",
    "\n",
    "\n",
    "* En general hay un tradeoff.\n",
    "\n",
    "\n",
    "* Estadísticamente, es mejor tener una muestra más grande.\n",
    "\n",
    "\n",
    "* Pero esto tiene un costo: clientes que se incluyen en el experimento no se pueden tocar.\n",
    "\n"
   ]
  },
  {
   "cell_type": "markdown",
   "metadata": {},
   "source": [
    " ![caption](figures/muestra_exp.png)"
   ]
  },
  {
   "cell_type": "markdown",
   "metadata": {
    "slideshow": {
     "slide_type": "subslide"
    }
   },
   "source": [
    "\n",
    "![caption](figures/muestra1.png)"
   ]
  },
  {
   "cell_type": "markdown",
   "metadata": {},
   "source": [
    "![caption](figures/muestra2.png)"
   ]
  },
  {
   "cell_type": "code",
   "execution_count": null,
   "metadata": {
    "collapsed": true
   },
   "outputs": [],
   "source": []
  }
 ],
 "metadata": {
  "celltoolbar": "Slideshow",
  "kernelspec": {
   "display_name": "Python 2",
   "language": "python",
   "name": "python2"
  },
  "language_info": {
   "codemirror_mode": {
    "name": "ipython",
    "version": 2
   },
   "file_extension": ".py",
   "mimetype": "text/x-python",
   "name": "python",
   "nbconvert_exporter": "python",
   "pygments_lexer": "ipython2",
   "version": "2.7.10"
  }
 },
 "nbformat": 4,
 "nbformat_minor": 0
}
