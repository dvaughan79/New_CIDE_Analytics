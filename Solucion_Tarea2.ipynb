{
 "cells": [
  {
   "cell_type": "markdown",
   "metadata": {},
   "source": [
    "# Solución Tarea 2: Matplotlib\n",
    "\n",
    "## Analítica y Ciencia de Datos\n",
    "\n",
    "## CIDE - Otoñ0 2015"
   ]
  },
  {
   "cell_type": "code",
   "execution_count": 2,
   "metadata": {
    "collapsed": true
   },
   "outputs": [],
   "source": [
    "import numpy as np\n",
    "import matplotlib.pyplot as plt\n",
    "%matplotlib inline"
   ]
  },
  {
   "cell_type": "markdown",
   "metadata": {},
   "source": [
    "# Problema 1"
   ]
  },
  {
   "cell_type": "markdown",
   "metadata": {},
   "source": [
    "### Parte 1"
   ]
  },
  {
   "cell_type": "code",
   "execution_count": 63,
   "metadata": {
    "collapsed": false
   },
   "outputs": [
    {
     "name": "stdout",
     "output_type": "stream",
     "text": [
      "(200, 1)\n"
     ]
    }
   ],
   "source": [
    "# Vamos a simular el modelo\n",
    "N = 200\n",
    "mu    = np.array([10,45])\n",
    "corr = 0.9\n",
    "Sigma = np.array([[corr,0.5],[0.2,corr]])\n",
    "prexmat  = np.random.multivariate_normal(mu,Sigma,N)\n",
    "\n",
    "#plt.scatter(xmat[:,0],xmat[:,1])\n",
    "beta = np.array([0.2,2,-3]).reshape((3,1))\n",
    "epsilon = np.random.randn(N,1)\n",
    "# concatenemos x\n",
    "xmat = np.concatenate((np.ones((N,1)),prexmat),axis=1)\n",
    "# listos para simular el modelo\n",
    "y = np.dot(xmat,beta) + epsilon\n",
    "print y.shape"
   ]
  },
  {
   "cell_type": "markdown",
   "metadata": {},
   "source": [
    "### Parte 2"
   ]
  },
  {
   "cell_type": "code",
   "execution_count": 64,
   "metadata": {
    "collapsed": false
   },
   "outputs": [
    {
     "data": {
      "image/png": "[encoded data removed]",
      "text/plain": [
       "<matplotlib.figure.Figure at 0x10b6e0850>"
      ]
     },
     "metadata": {},
     "output_type": "display_data"
    }
   ],
   "source": [
    "# vamos a hacer un subplot\n",
    "plt.figure(figsize=(10,4))\n",
    "plt.subplot(1,2,1)\n",
    "plt.scatter(xmat[:,1], y, color='b', alpha=0.5)\n",
    "plt.title(u'Relación entre Y y X1')\n",
    "plt.ylabel('Y',rotation=0)\n",
    "plt.xlabel('X1')\n",
    "# segund subplot\n",
    "plt.subplot(1,2,2)\n",
    "plt.scatter(xmat[:,2], y, color='b', alpha=0.5)\n",
    "plt.title(u'Relación entre Y y X2')\n",
    "#plt.ylabel('Y')\n",
    "plt.xlabel('X2')\n",
    "plt.tight_layout()"
   ]
  },
  {
   "cell_type": "markdown",
   "metadata": {},
   "source": [
    "### Parte 3\n",
    "Estimación de OLS\n"
   ]
  },
  {
   "cell_type": "code",
   "execution_count": 65,
   "metadata": {
    "collapsed": false
   },
   "outputs": [
    {
     "name": "stdout",
     "output_type": "stream",
     "text": [
      "[[ 3.88663693]\n",
      " [ 2.10068411]\n",
      " [-3.10710595]]\n",
      "---------------\n",
      "[[ 0.21039518]\n",
      " [ 0.        ]\n",
      " [ 0.        ]]\n",
      "---------------\n",
      "[[  1.25657596]\n",
      " [ 26.76695071]\n",
      " [-42.55015947]]\n"
     ]
    }
   ],
   "source": [
    "# betahat\n",
    "xtxinv = np.linalg.inv(np.dot(xmat.T,xmat))\n",
    "betahat = np.dot(xtxinv,np.dot(xmat.T,y))\n",
    "yhat    = np.dot(xmat,betahat)\n",
    "resids  = y - yhat\n",
    "sigma2  = np.dot(resids.T,resids)/(N-3)\n",
    "vcv     = sigma2*xtxinv\n",
    "betastd = np.sqrt(np.diag(vcv))\n",
    "# para el pvalue necesitamos primer el estadístico t\n",
    "tstat   = betahat.reshape((3,1))/betastd.reshape((3,1))\n",
    "# Qué es el pvalue? Es el área bajo las colas utilizando el estadístico t como valor crítico\n",
    "# necesitamos la cdf de una student\n",
    "from scipy import stats\n",
    "dof     = N-3\n",
    "pval    = 2*(1-stats.t.cdf(np.abs(tstat),dof))\n",
    "\n",
    "print betahat\n",
    "print \"---------------\"\n",
    "print pval\n",
    "print \"---------------\"\n",
    "print tstat\n",
    "\n"
   ]
  },
  {
   "cell_type": "markdown",
   "metadata": {},
   "source": [
    "### Parte 4"
   ]
  },
  {
   "cell_type": "code",
   "execution_count": 66,
   "metadata": {
    "collapsed": false
   },
   "outputs": [
    {
     "name": "stdout",
     "output_type": "stream",
     "text": [
      "-0.179874637232 1.17987463723\n"
     ]
    }
   ],
   "source": [
    "# contribuciones promedio normalizadas\n",
    "x1_cont = np.mean(betahat[1]*xmat[:,1])\n",
    "x2_cont = np.mean(betahat[2]*xmat[:,2])\n",
    "suma_con = x1_cont + x2_cont\n",
    "# normalicémoslas\n",
    "x1_cont = x1_cont/suma_con\n",
    "x2_cont = x2_cont/suma_con\n",
    "print x1_cont, x2_cont\n"
   ]
  },
  {
   "cell_type": "code",
   "execution_count": 67,
   "metadata": {
    "collapsed": false
   },
   "outputs": [
    {
     "data": {
      "text/plain": [
       "([<matplotlib.axis.XTick at 0x10b886ad0>,\n",
       "  <matplotlib.axis.XTick at 0x10b886550>,\n",
       "  <matplotlib.axis.XTick at 0x10ba37b50>],\n",
       " <a list of 3 Text xticklabel objects>)"
      ]
     },
     "execution_count": 67,
     "metadata": {},
     "output_type": "execute_result"
    },
    {
     "data": {
      "image/png": "[encoded data removed]",
      "text/plain": [
       "<matplotlib.figure.Figure at 0x10856cb50>"
      ]
     },
     "metadata": {},
     "output_type": "display_data"
    }
   ],
   "source": [
    "# Listos para hacer un gráfico de cascada: \n",
    "# Necesitamos tres barras:\n",
    "# Primera barra: el 100%\n",
    "plt.bar(1,1,align='center',alpha=0.5)\n",
    "# Segunda barra: primer regresor:\n",
    "plt.bar(2,x1_cont,bottom= x2_cont,align='center',alpha=0.5)\n",
    "# Tercera barra: segundo regresor\n",
    "plt.bar(3,x2_cont,align='center',alpha=0.5)\n",
    "# Démosle formato:\n",
    "# Título\n",
    "plt.title(u'Descomposición de los efectos de cada regresor')\n",
    "plt.ylabel('Magnitud del efecto')\n",
    "# Etiquetas de X\n",
    "plt.xticks([1,2,3],['Total','$x_1$','$x_2$'],fontsize=14)"
   ]
  },
  {
   "cell_type": "markdown",
   "metadata": {},
   "source": [
    "### Parte 5: Resultados de la estimación"
   ]
  },
  {
   "cell_type": "code",
   "execution_count": 83,
   "metadata": {
    "collapsed": false
   },
   "outputs": [
    {
     "data": {
      "text/plain": [
       "[<matplotlib.lines.Line2D at 0x10d7ce250>]"
      ]
     },
     "execution_count": 83,
     "metadata": {},
     "output_type": "execute_result"
    },
    {
     "data": {
      "image/png": "[encoded data removed]",
      "text/plain": [
       "<matplotlib.figure.Figure at 0x10d5c5050>"
      ]
     },
     "metadata": {},
     "output_type": "display_data"
    }
   ],
   "source": [
    "# simplemente tenemos que mostrar los coeficientes y los errores estándar con intervalos de confianza al 95%\n",
    "plt.bar(np.arange(1,4), betahat, color='b', alpha=0.4, yerr= 1.96*betastd, ecolor='r',\n",
    "           align='center')\n",
    "# démosle formato:\n",
    "plt.title(u'Resultados: coeficiente e intervalos confidenciales (95%)')\n",
    "plt.xticks(np.arange(1,4),['Constante','X1','X2'])\n",
    "# incluyamos una línea que pase por 0\n",
    "plt.plot([0.5,3.5],[0,0], color='k', alpha=0.8)"
   ]
  },
  {
   "cell_type": "code",
   "execution_count": null,
   "metadata": {
    "collapsed": true
   },
   "outputs": [],
   "source": []
  }
 ],
 "metadata": {
  "kernelspec": {
   "display_name": "Python 2",
   "language": "python",
   "name": "python2"
  },
  "language_info": {
   "codemirror_mode": {
    "name": "ipython",
    "version": 2
   },
   "file_extension": ".py",
   "mimetype": "text/x-python",
   "name": "python",
   "nbconvert_exporter": "python",
   "pygments_lexer": "ipython2",
   "version": "2.7.10"
  }
 },
 "nbformat": 4,
 "nbformat_minor": 0
}
