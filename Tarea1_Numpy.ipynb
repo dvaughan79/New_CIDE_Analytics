{
 "cells": [
  {
   "cell_type": "markdown",
   "metadata": {},
   "source": [
    "# Analítica de Negocios y Ciencia de Datos\n",
    "## CIDE -  otoño 2014\n",
    "\n",
    "## Tarea 1: Ejercicios de Numpy\n",
    "\n",
    "### Fecha de entrega: jueves 3 de septiembre de 2015\n",
    "### Forma de entrega: seguir las instrucciones en [las notas de clase](3_El_Ipython_Notebook.ipynb)"
   ]
  },
  {
   "cell_type": "markdown",
   "metadata": {},
   "source": [
    "### Problema 1 \n",
    "\n",
    "Siga los siguientes pasos:\n",
    "\n",
    "    a. Genere manualmente la siguiente matriz\n",
    "$$\n",
    "A= \\left[\n",
    "\\begin{array}{ccc}\n",
    "1 & 2 & 3 \\\\\n",
    "4 & 5 & 6 \\\\\n",
    "7 & 8 & 9 \\\\\n",
    "\\end{array}\n",
    "\\right]\n",
    "$$\n",
    "\n",
    "    b. Repita este ejercicio utilizando las funciones `np.arange()` y `np.reshape()` y llámela `A1`\n",
    "    \n",
    "    c. Repita este ejercicio utilizando dos loops y nómbrela `A2`:\n",
    "        * Inicialice una matriz de ceros A3 = np.zeros((3,3))\n",
    "        * Con el primer loop `for i in range(3):` controle las filas.\n",
    "        * Con el segundo loop `for j in range(3):` controle las columnas.\n",
    "        \n",
    "    \n",
    "    d. Extraiga manualmente los elementos de la diagonal principal, y guárdelos en un arreglo que se llame `Adiag`\n",
    "    \n",
    "    e. Extraiga la diagonal con la función np.diag()"
   ]
  },
  {
   "cell_type": "markdown",
   "metadata": {},
   "source": [
    "### Problema 2\n",
    "\n",
    "a. Genere manualmente un vector $b= [-1,2,1]$ de tamaño $1x3$ (es decir, constrúyalo y muestre con un `print b.shape` que es del tamaño deseado).\n",
    "    \n",
    "b. Utilizando la función `np.dot(A,b)` y la matriz $A$ del problema anterior, obtenga el producto matricial $c = Ab$.  ¿Por qué no puede hacerlo?  ¿Cuál es el error que obtiene?  ¿Cómo lo puede solucionar?\n",
    "    \n",
    "c. Recuerde que el k-ésimo elemento de $c$, es el producto interno de la fila $k$ de $A$, $A_k$ y el vector $b$, es decir, \n",
    "    $c_k =  A_k b$.\n",
    "Obtenga el resultado mediante un loop en donde utilice la función `np.dot(A_k,b)`, es decir, seleccionando la k-esima fila y realizando el producto interno.\n",
    "    \n",
    "d. En lugar de utilizar la función `np.dot()`, calcule manualmente con dos loops el producto de $A$ y $b$, recordando que $c_k = \\sum_{j} A_{k,j} b_j$.\n",
    "    \n",
    "    "
   ]
  },
  {
   "cell_type": "markdown",
   "metadata": {},
   "source": [
    "### Problema 3\n",
    "\n",
    "Vamos a probar la velocidad de Numpy utilizando la función mágica `%timeit` (si no recuerda su funcionamiento, en las *Notas de Clase* la utilizamos, o puede probar directamente buscando en Google.)\n",
    "\n",
    "1. Genere dos vectores de tamaño 100: `vec1` y `vec2`\n",
    "    * El primero un vector que empieza en 0 y termina en 99 (usando la función `np.arange()`).\n",
    "    * El segundo un vector de constantes $[20,20, \\cdots, 20]$ (ayuda: pruebe np.ones(), multiplicado por el escalar 20)\n",
    "    \n",
    "2. Inicialice %timeit y ejecute la suma de dos los dos vectores `np.add(vec1,vec2)`\n",
    "3. Repita con un loop sobre los elementos.\n",
    "4. Repita con la suma directa: `vec1 + vec2`\n",
    "5. ¿Qué puede concluir?"
   ]
  },
  {
   "cell_type": "markdown",
   "metadata": {},
   "source": [
    "### Problema 4:  **Broadcasting**\n",
    "\n",
    "\n",
    "a. Inicialice un vector `x = np.arange(20).reshape((20,1))`\n",
    "\n",
    "b. Inicialice un vector `y = np.random.randn(20,1)`.\n",
    "\n",
    "b1. ¿Qué hace la función `random.randn(d1,d2,d3,...)`?\n",
    "\n",
    "c. Encuentre las medias muestrales de `x` y `y` ($\\overline{x}$,$\\overline{y}$) con la función `np.mean()`.\n",
    "\n",
    "d. Utilizando dos loops, calcule la matriz de distancias \n",
    "$$\n",
    "D_{i,j} = (x_i - \\overline{x})^2 + (y_j - \\overline{y})^2\n",
    "$$\n",
    "\n",
    "e. Utilizando el *magic* %timeit, ¿cuánto tiempo toma?\n",
    "\n",
    "f. Vamos a utilizar la capacidad de **broadcasting** de NumPy.  Investigue en internet qué es y qué hace, y muestre que lo entiende con un ejemplo simple.\n",
    "\n",
    "g. Encuentre la matriz de distancias utilizando *broadcasting* en NumPy y calcule el tiempo que toma con la función %timeit."
   ]
  },
  {
   "cell_type": "code",
   "execution_count": null,
   "metadata": {
    "collapsed": true
   },
   "outputs": [],
   "source": []
  }
 ],
 "metadata": {
  "kernelspec": {
   "display_name": "Python 2",
   "language": "python",
   "name": "python2"
  },
  "language_info": {
   "codemirror_mode": {
    "name": "ipython",
    "version": 2
   },
   "file_extension": ".py",
   "mimetype": "text/x-python",
   "name": "python",
   "nbconvert_exporter": "python",
   "pygments_lexer": "ipython2",
   "version": "2.7.9"
  }
 },
 "nbformat": 4,
 "nbformat_minor": 0
}
