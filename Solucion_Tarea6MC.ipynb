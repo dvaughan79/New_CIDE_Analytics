{
 "cells": [
  {
   "cell_type": "markdown",
   "metadata": {},
   "source": [
    "# Analítica y Ciencia de Datos\n",
    "\n",
    "## CIDE - Otoño 2015\n",
    "\n",
    "\n",
    "### Solución Tarea 6: Modelos de Clasificación."
   ]
  },
  {
   "cell_type": "code",
   "execution_count": 1,
   "metadata": {
    "collapsed": true
   },
   "outputs": [],
   "source": [
    "import numpy as np\n",
    "import pandas as pd\n",
    "import sys\n",
    "sys.path.append('/Users/danielvaughan/Documents/Python Scripts')\n",
    "import olsdan as ols\n",
    "import matplotlib.pyplot as plt\n",
    "%matplotlib inline"
   ]
  },
  {
   "cell_type": "markdown",
   "metadata": {},
   "source": [
    "## Punto 1: Vamos a limpiar los datos"
   ]
  },
  {
   "cell_type": "code",
   "execution_count": 286,
   "metadata": {
    "collapsed": true
   },
   "outputs": [],
   "source": [
    "data = pd.read_excel('/Users/danielvaughan/Documents/Clase CIDE/Slides/Analitica/datasets/data_tarea6.xlsx')"
   ]
  },
  {
   "cell_type": "code",
   "execution_count": 287,
   "metadata": {
    "collapsed": false
   },
   "outputs": [
    {
     "data": {
      "text/html": [
       "<div>\n",
       "<table border=\"1\" class=\"dataframe\">\n",
       "  <thead>\n",
       "    <tr style=\"text-align: right;\">\n",
       "      <th></th>\n",
       "      <th>id_cliente</th>\n",
       "      <th>MOB</th>\n",
       "      <th>EDAD_CLIENTE</th>\n",
       "      <th>SEXO</th>\n",
       "      <th>UN_MESES_SINPAGO</th>\n",
       "      <th>FACT_PROM_6M_ANTES</th>\n",
       "      <th>PAYRATIO_PROM_6M_ANTES</th>\n",
       "      <th>BALANCE_PROM_6M_ANTES</th>\n",
       "      <th>USOVECES_PROM_6M_ANTES</th>\n",
       "      <th>TKTPROM_PROM_6M_ANTES</th>\n",
       "      <th>SCORE_LAST</th>\n",
       "      <th>SCORE_FIRST</th>\n",
       "    </tr>\n",
       "  </thead>\n",
       "  <tbody>\n",
       "    <tr>\n",
       "      <th>0</th>\n",
       "      <td>1</td>\n",
       "      <td>32</td>\n",
       "      <td>43</td>\n",
       "      <td>M</td>\n",
       "      <td>0</td>\n",
       "      <td>0.000000</td>\n",
       "      <td>0.000000</td>\n",
       "      <td>0.000000</td>\n",
       "      <td>0.000000</td>\n",
       "      <td>0.000000</td>\n",
       "      <td>771</td>\n",
       "      <td>767</td>\n",
       "    </tr>\n",
       "    <tr>\n",
       "      <th>1</th>\n",
       "      <td>2</td>\n",
       "      <td>61</td>\n",
       "      <td>41</td>\n",
       "      <td>M</td>\n",
       "      <td>0</td>\n",
       "      <td>2353.033333</td>\n",
       "      <td>1.652819</td>\n",
       "      <td>2357.733333</td>\n",
       "      <td>3.633333</td>\n",
       "      <td>88.201330</td>\n",
       "      <td>616</td>\n",
       "      <td>611</td>\n",
       "    </tr>\n",
       "    <tr>\n",
       "      <th>2</th>\n",
       "      <td>3</td>\n",
       "      <td>35</td>\n",
       "      <td>37</td>\n",
       "      <td>M</td>\n",
       "      <td>0</td>\n",
       "      <td>21.542857</td>\n",
       "      <td>0.203771</td>\n",
       "      <td>6774.142857</td>\n",
       "      <td>0.028571</td>\n",
       "      <td>17.514286</td>\n",
       "      <td>561</td>\n",
       "      <td>587</td>\n",
       "    </tr>\n",
       "    <tr>\n",
       "      <th>3</th>\n",
       "      <td>4</td>\n",
       "      <td>27</td>\n",
       "      <td>35</td>\n",
       "      <td>F</td>\n",
       "      <td>1</td>\n",
       "      <td>1150.444444</td>\n",
       "      <td>3.484363</td>\n",
       "      <td>1506.703704</td>\n",
       "      <td>1.185185</td>\n",
       "      <td>229.744092</td>\n",
       "      <td>605</td>\n",
       "      <td>616</td>\n",
       "    </tr>\n",
       "    <tr>\n",
       "      <th>4</th>\n",
       "      <td>5</td>\n",
       "      <td>42</td>\n",
       "      <td>28</td>\n",
       "      <td>F</td>\n",
       "      <td>0</td>\n",
       "      <td>215.523810</td>\n",
       "      <td>1.291662</td>\n",
       "      <td>775.309524</td>\n",
       "      <td>0.142857</td>\n",
       "      <td>80.047619</td>\n",
       "      <td>752</td>\n",
       "      <td>758</td>\n",
       "    </tr>\n",
       "  </tbody>\n",
       "</table>\n",
       "</div>"
      ],
      "text/plain": [
       "   id_cliente  MOB  EDAD_CLIENTE SEXO  UN_MESES_SINPAGO  FACT_PROM_6M_ANTES  \\\n",
       "0           1   32            43    M                 0            0.000000   \n",
       "1           2   61            41    M                 0         2353.033333   \n",
       "2           3   35            37    M                 0           21.542857   \n",
       "3           4   27            35    F                 1         1150.444444   \n",
       "4           5   42            28    F                 0          215.523810   \n",
       "\n",
       "   PAYRATIO_PROM_6M_ANTES  BALANCE_PROM_6M_ANTES  USOVECES_PROM_6M_ANTES  \\\n",
       "0                0.000000               0.000000                0.000000   \n",
       "1                1.652819            2357.733333                3.633333   \n",
       "2                0.203771            6774.142857                0.028571   \n",
       "3                3.484363            1506.703704                1.185185   \n",
       "4                1.291662             775.309524                0.142857   \n",
       "\n",
       "   TKTPROM_PROM_6M_ANTES  SCORE_LAST  SCORE_FIRST  \n",
       "0               0.000000         771          767  \n",
       "1              88.201330         616          611  \n",
       "2              17.514286         561          587  \n",
       "3             229.744092         605          616  \n",
       "4              80.047619         752          758  "
      ]
     },
     "execution_count": 287,
     "metadata": {},
     "output_type": "execute_result"
    }
   ],
   "source": [
    "data.head()"
   ]
  },
  {
   "cell_type": "code",
   "execution_count": 288,
   "metadata": {
    "collapsed": false
   },
   "outputs": [
    {
     "name": "stdout",
     "output_type": "stream",
     "text": [
      "0.12 (500, 12)\n",
      "(440, 12)\n"
     ]
    }
   ],
   "source": [
    "# Eliminar aquellos con filas cero: son 12% de los clientes\n",
    "ind_cero = data[[u'FACT_PROM_6M_ANTES',u'PAYRATIO_PROM_6M_ANTES', u'BALANCE_PROM_6M_ANTES',\n",
    "                 u'USOVECES_PROM_6M_ANTES',  u'TKTPROM_PROM_6M_ANTES']].sum(axis=1)==0\n",
    "print ind_cero.mean(), data.shape\n",
    "\n",
    "data.drop(data[ind_cero].index, axis=0, inplace=True)\n",
    "print data.shape"
   ]
  },
  {
   "cell_type": "code",
   "execution_count": 289,
   "metadata": {
    "collapsed": false
   },
   "outputs": [
    {
     "name": "stdout",
     "output_type": "stream",
     "text": [
      "0.598465473146\n"
     ]
    }
   ],
   "source": [
    "# Género a una dummy: 59% de la muestra son hombres\n",
    "hombre_dum = 1.0*(data.SEXO=='M')\n",
    "hombre_dum[data.SEXO.isnull()==True] =  np.nan\n",
    "print hombre_dum.mean()"
   ]
  },
  {
   "cell_type": "code",
   "execution_count": 290,
   "metadata": {
    "collapsed": false
   },
   "outputs": [
    {
     "name": "stdout",
     "output_type": "stream",
     "text": [
      "0.206818181818\n"
     ]
    }
   ],
   "source": [
    "# Variable dependiente: 20% de la muestra se ha atrasado por lo menos una vez\n",
    "yy = 1.0*(data.UN_MESES_SINPAGO>0)\n",
    "yy[data.UN_MESES_SINPAGO.isnull()] = np.nan\n",
    "print yy.mean()\n",
    "data.UN_MESES_SINPAGO.groupby(data.UN_MESES_SINPAGO).count()\n",
    "nobs = yy.shape[0]\n",
    "yy = yy.reshape((nobs,1))\n"
   ]
  },
  {
   "cell_type": "code",
   "execution_count": 291,
   "metadata": {
    "collapsed": false
   },
   "outputs": [],
   "source": [
    "# Arreglemos los regresores que vamos a utilizar\n",
    "antiguedad  = np.asarray(data.MOB).reshape((nobs,1))\n",
    "edad_clie   = np.asarray(data.EDAD_CLIENTE).reshape((nobs,1))\n",
    "edad2_clie  = edad_clie**2\n",
    "factu_antes = np.asarray(data.FACT_PROM_6M_ANTES).reshape((nobs,1))\n",
    "payratio    = np.asarray(data.PAYRATIO_PROM_6M_ANTES).reshape((nobs,1))\n",
    "saldo_antes = np.asarray(data.BALANCE_PROM_6M_ANTES).reshape((nobs,1))\n",
    "uso_antes   = np.asarray(data.USOVECES_PROM_6M_ANTES).reshape((nobs,1))\n",
    "tktprom_ant = np.asarray(data.TKTPROM_PROM_6M_ANTES).reshape((nobs,1))\n",
    "# SCORE: miremos que no haya negativos\n",
    "data.SCORE_LAST.loc[data.SCORE_LAST<0] = np.nan\n",
    "data.SCORE_FIRST.loc[data.SCORE_FIRST<0] = np.nan\n",
    "score_last  = np.asarray(data.SCORE_LAST).reshape((nobs,1))\n",
    "score_delta = np.asarray(data.SCORE_LAST - data.SCORE_FIRST).reshape((nobs,1))"
   ]
  },
  {
   "cell_type": "code",
   "execution_count": 297,
   "metadata": {
    "collapsed": false
   },
   "outputs": [],
   "source": [
    "xmat   = np.concatenate((antiguedad, edad_clie, factu_antes,\n",
    "                      payratio, saldo_antes, uso_antes, tktprom_ant, score_last, score_delta),axis=1)\n",
    "labs_x = np.array(['antiguedad', 'edad_clie', 'factu_antes','payratio', 'saldo_antes', 'uso_antes', \n",
    "          'tktprom_ant', 'score_last', 'score_delta'])\n",
    "\n",
    "xmat_cons = np.concatenate((np.ones((nobs,1)),antiguedad, edad_clie, factu_antes,\n",
    "                      payratio, saldo_antes, uso_antes, tktprom_ant, score_last, score_delta),axis=1)\n",
    "labs_x_cons = np.array(['constante','antiguedad', 'edad_clie', 'factu_antes','payratio', 'saldo_antes', 'uso_antes', \n",
    "          'tktprom_ant', 'score_last', 'score_delta'])\n"
   ]
  },
  {
   "cell_type": "code",
   "execution_count": 82,
   "metadata": {
    "collapsed": false
   },
   "outputs": [
    {
     "name": "stdout",
     "output_type": "stream",
     "text": [
      "(384, 1) (384, 9)\n"
     ]
    }
   ],
   "source": [
    "# Vamos a eliminar los nans\n",
    "# necesitamos concatenar Y y X, eliminar, y volver a separar\n",
    "predata = np.asarray(pd.DataFrame(np.concatenate((yy,xmat),axis=1)).dropna())\n",
    "nobs = predata.shape[0]\n",
    "yy   = predata[:,0].reshape((nobs,1))\n",
    "xmat = predata[:,1:]\n",
    "print yy.shape, xmat.shape"
   ]
  },
  {
   "cell_type": "markdown",
   "metadata": {},
   "source": [
    "# Punto 2: Lasso y Modelo Lineal de Probabilidad"
   ]
  },
  {
   "cell_type": "code",
   "execution_count": 98,
   "metadata": {
    "collapsed": true
   },
   "outputs": [],
   "source": [
    "# Para no penalizar la constante: medias cero\n",
    "yy_std = yy - np.mean(yy)\n",
    "prexmat_std = xmat.copy()\n",
    "nobs, nvar = prexmat_std.shape\n",
    "prexmat_std -= prexmat_std.mean(axis=0).reshape((1,nvar))"
   ]
  },
  {
   "cell_type": "code",
   "execution_count": 84,
   "metadata": {
    "collapsed": false,
    "scrolled": true
   },
   "outputs": [
    {
     "data": {
      "text/html": [
       "<div>\n",
       "<table border=\"1\" class=\"dataframe\">\n",
       "  <thead>\n",
       "    <tr style=\"text-align: right;\">\n",
       "      <th></th>\n",
       "      <th>0</th>\n",
       "      <th>1</th>\n",
       "      <th>2</th>\n",
       "      <th>3</th>\n",
       "      <th>4</th>\n",
       "      <th>5</th>\n",
       "      <th>6</th>\n",
       "      <th>7</th>\n",
       "      <th>8</th>\n",
       "    </tr>\n",
       "  </thead>\n",
       "  <tbody>\n",
       "    <tr>\n",
       "      <th>count</th>\n",
       "      <td>384.000000</td>\n",
       "      <td>3.840000e+02</td>\n",
       "      <td>3.840000e+02</td>\n",
       "      <td>3.840000e+02</td>\n",
       "      <td>3.840000e+02</td>\n",
       "      <td>3.840000e+02</td>\n",
       "      <td>3.840000e+02</td>\n",
       "      <td>3.840000e+02</td>\n",
       "      <td>384.000000</td>\n",
       "    </tr>\n",
       "    <tr>\n",
       "      <th>mean</th>\n",
       "      <td>0.000000</td>\n",
       "      <td>-6.772360e-15</td>\n",
       "      <td>-4.556355e-13</td>\n",
       "      <td>-1.821460e-15</td>\n",
       "      <td>-1.005418e-12</td>\n",
       "      <td>-1.393561e-16</td>\n",
       "      <td>6.054416e-14</td>\n",
       "      <td>-3.789561e-14</td>\n",
       "      <td>0.000000</td>\n",
       "    </tr>\n",
       "    <tr>\n",
       "      <th>std</th>\n",
       "      <td>38.269320</td>\n",
       "      <td>1.091924e+01</td>\n",
       "      <td>1.606062e+03</td>\n",
       "      <td>2.552374e+00</td>\n",
       "      <td>4.047146e+03</td>\n",
       "      <td>1.239815e+00</td>\n",
       "      <td>2.200555e+02</td>\n",
       "      <td>5.362701e+01</td>\n",
       "      <td>27.235766</td>\n",
       "    </tr>\n",
       "    <tr>\n",
       "      <th>min</th>\n",
       "      <td>-38.953125</td>\n",
       "      <td>-2.099740e+01</td>\n",
       "      <td>-8.172067e+02</td>\n",
       "      <td>-1.476013e+00</td>\n",
       "      <td>-1.204876e+04</td>\n",
       "      <td>-8.344817e-01</td>\n",
       "      <td>-1.538020e+02</td>\n",
       "      <td>-1.528724e+02</td>\n",
       "      <td>-110.140625</td>\n",
       "    </tr>\n",
       "    <tr>\n",
       "      <th>25%</th>\n",
       "      <td>-25.953125</td>\n",
       "      <td>-8.997396e+00</td>\n",
       "      <td>-7.020734e+02</td>\n",
       "      <td>-1.267160e+00</td>\n",
       "      <td>-1.909616e+03</td>\n",
       "      <td>-6.806357e-01</td>\n",
       "      <td>-1.212896e+02</td>\n",
       "      <td>-3.337240e+01</td>\n",
       "      <td>-7.140625</td>\n",
       "    </tr>\n",
       "    <tr>\n",
       "      <th>50%</th>\n",
       "      <td>-11.953125</td>\n",
       "      <td>-9.973958e-01</td>\n",
       "      <td>-4.706118e+02</td>\n",
       "      <td>-9.377056e-01</td>\n",
       "      <td>-1.167282e+03</td>\n",
       "      <td>-4.076962e-01</td>\n",
       "      <td>-7.164976e+01</td>\n",
       "      <td>8.127604e+00</td>\n",
       "      <td>1.859375</td>\n",
       "    </tr>\n",
       "    <tr>\n",
       "      <th>75%</th>\n",
       "      <td>10.296875</td>\n",
       "      <td>9.002604e+00</td>\n",
       "      <td>5.899390e+01</td>\n",
       "      <td>1.805201e-01</td>\n",
       "      <td>3.836276e+02</td>\n",
       "      <td>1.863518e-01</td>\n",
       "      <td>2.289922e+01</td>\n",
       "      <td>4.112760e+01</td>\n",
       "      <td>7.859375</td>\n",
       "    </tr>\n",
       "    <tr>\n",
       "      <th>max</th>\n",
       "      <td>227.046875</td>\n",
       "      <td>2.700260e+01</td>\n",
       "      <td>1.366311e+04</td>\n",
       "      <td>2.329729e+01</td>\n",
       "      <td>3.633554e+04</td>\n",
       "      <td>9.765518e+00</td>\n",
       "      <td>1.518531e+03</td>\n",
       "      <td>9.712760e+01</td>\n",
       "      <td>149.859375</td>\n",
       "    </tr>\n",
       "  </tbody>\n",
       "</table>\n",
       "</div>"
      ],
      "text/plain": [
       "                0             1             2             3             4  \\\n",
       "count  384.000000  3.840000e+02  3.840000e+02  3.840000e+02  3.840000e+02   \n",
       "mean     0.000000 -6.772360e-15 -4.556355e-13 -1.821460e-15 -1.005418e-12   \n",
       "std     38.269320  1.091924e+01  1.606062e+03  2.552374e+00  4.047146e+03   \n",
       "min    -38.953125 -2.099740e+01 -8.172067e+02 -1.476013e+00 -1.204876e+04   \n",
       "25%    -25.953125 -8.997396e+00 -7.020734e+02 -1.267160e+00 -1.909616e+03   \n",
       "50%    -11.953125 -9.973958e-01 -4.706118e+02 -9.377056e-01 -1.167282e+03   \n",
       "75%     10.296875  9.002604e+00  5.899390e+01  1.805201e-01  3.836276e+02   \n",
       "max    227.046875  2.700260e+01  1.366311e+04  2.329729e+01  3.633554e+04   \n",
       "\n",
       "                  5             6             7           8  \n",
       "count  3.840000e+02  3.840000e+02  3.840000e+02  384.000000  \n",
       "mean  -1.393561e-16  6.054416e-14 -3.789561e-14    0.000000  \n",
       "std    1.239815e+00  2.200555e+02  5.362701e+01   27.235766  \n",
       "min   -8.344817e-01 -1.538020e+02 -1.528724e+02 -110.140625  \n",
       "25%   -6.806357e-01 -1.212896e+02 -3.337240e+01   -7.140625  \n",
       "50%   -4.076962e-01 -7.164976e+01  8.127604e+00    1.859375  \n",
       "75%    1.863518e-01  2.289922e+01  4.112760e+01    7.859375  \n",
       "max    9.765518e+00  1.518531e+03  9.712760e+01  149.859375  "
      ]
     },
     "execution_count": 84,
     "metadata": {},
     "output_type": "execute_result"
    }
   ],
   "source": [
    "pd.DataFrame(prexmat_std).describe()"
   ]
  },
  {
   "cell_type": "code",
   "execution_count": 151,
   "metadata": {
    "collapsed": false
   },
   "outputs": [
    {
     "data": {
      "text/plain": [
       "<matplotlib.legend.Legend at 0x10b6708d0>"
      ]
     },
     "execution_count": 151,
     "metadata": {},
     "output_type": "execute_result"
    },
    {
     "data": {
      "image/png": "[encoded data removed]",
      "text/plain": [
       "<matplotlib.figure.Figure at 0x10b31c6d0>"
      ]
     },
     "metadata": {},
     "output_type": "display_data"
    }
   ],
   "source": [
    "from sklearn import linear_model\n",
    "\n",
    "L = 100\n",
    "grid_lamb = np.linspace(0.001,7,L)\n",
    "BetaLasso = np.zeros((L,nvar))\n",
    "for l in range(L):\n",
    "    lambvec = grid_lamb[l]\n",
    "    clf = linear_model.Lasso(alpha=lambvec)\n",
    "    clf.fit(prexmat_std,yy_std)\n",
    "    #print pd.DataFrame(clf.coef_, index = labs_x, columns=['Scikit-Learn'])\n",
    "    BetaLasso[l,:] = clf.coef_\n",
    "pd.DataFrame(BetaLasso, columns= labs_x).plot()\n",
    "plt.legend(loc='best', fontsize=12)"
   ]
  },
  {
   "cell_type": "code",
   "execution_count": 212,
   "metadata": {
    "collapsed": false
   },
   "outputs": [
    {
     "data": {
      "text/plain": [
       "[]"
      ]
     },
     "execution_count": 212,
     "metadata": {},
     "output_type": "execute_result"
    },
    {
     "data": {
      "image/png": "[encoded data removed]",
      "text/plain": [
       "<matplotlib.figure.Figure at 0x10df62250>"
      ]
     },
     "metadata": {},
     "output_type": "display_data"
    }
   ],
   "source": [
    "# Vamos a utilizar validación cruzada: 10-CV\n",
    "grp_cv = 10\n",
    "ind_grp = np.dot(np.random.multinomial(1,[1.0/grp_cv]*grp_cv, nobs),np.arange(1,grp_cv+1).reshape(grp_cv,1))\n",
    "CVRes = np.zeros((L,grp_cv))\n",
    "for g in range(grp_cv):\n",
    "    # asignemos en entrenamiento y validación\n",
    "    ind_train = (ind_grp!=g+1).flatten()\n",
    "    n_train   = ind_train.sum()\n",
    "    ind_valid = (ind_grp==g+1).flatten()\n",
    "    n_valid   = ind_valid.sum()\n",
    "    # y,X\n",
    "    yy_train = yy_std[ind_train]\n",
    "    yy_valid = yy_std[ind_valid]\n",
    "    xx_train = prexmat_std[ind_train,:]\n",
    "    xx_valid = prexmat_std[ind_valid,:]\n",
    "    # Para cada grupo tenemos que estimar todo el path de Lasso\n",
    "    for l in range(L):\n",
    "        # Lasso con la muestra de entrenamiento\n",
    "        lambvec = grid_lamb[l]\n",
    "        clf = linear_model.Lasso(alpha=lambvec)\n",
    "        clf.fit(xx_train,yy_train)\n",
    "        # Ahora obtengamos yy_est con la muestra de validación\n",
    "        pest_valid =  np.dot(xx_valid,(clf.coef_).reshape((nvar,1)))\n",
    "        # queremos que la clasificación entre clientes malos (yy=1) y cero coincida con el promedio muestral\n",
    "        # obtengamos el percentil 1-yy_mean\n",
    "        ptile = np.percentile(pest_valid,100*(1-yy.mean()))\n",
    "        #ptile = 0\n",
    "        # listos para clasificar\n",
    "        clas_est = yy_std.max()*(pest_valid>=ptile)  + yy_std.min()*(pest_valid<ptile)\n",
    "        # obtengamos el error de clasificación\n",
    "        misclas_err = np.not_equal(clas_est,yy_valid).mean()\n",
    "        # guardemos\n",
    "        CVRes[l,g] = misclas_err\n",
    "# veamos qué obtuvimos\n",
    "pd.DataFrame(CVRes, index=grid_lamb).mean(axis=1).plot()\n",
    "plt.plot()"
   ]
  },
  {
   "cell_type": "code",
   "execution_count": 218,
   "metadata": {
    "collapsed": false
   },
   "outputs": [
    {
     "data": {
      "text/html": [
       "<div>\n",
       "<table border=\"1\" class=\"dataframe\">\n",
       "  <thead>\n",
       "    <tr style=\"text-align: right;\">\n",
       "      <th></th>\n",
       "      <th>Lasso_CV</th>\n",
       "    </tr>\n",
       "  </thead>\n",
       "  <tbody>\n",
       "    <tr>\n",
       "      <th>antiguedad</th>\n",
       "      <td>-0.000000</td>\n",
       "    </tr>\n",
       "    <tr>\n",
       "      <th>edad_clie</th>\n",
       "      <td>-0.000000</td>\n",
       "    </tr>\n",
       "    <tr>\n",
       "      <th>factu_antes</th>\n",
       "      <td>-0.000012</td>\n",
       "    </tr>\n",
       "    <tr>\n",
       "      <th>payratio</th>\n",
       "      <td>-0.000000</td>\n",
       "    </tr>\n",
       "    <tr>\n",
       "      <th>saldo_antes</th>\n",
       "      <td>0.000009</td>\n",
       "    </tr>\n",
       "    <tr>\n",
       "      <th>uso_antes</th>\n",
       "      <td>-0.000000</td>\n",
       "    </tr>\n",
       "    <tr>\n",
       "      <th>tktprom_ant</th>\n",
       "      <td>0.000000</td>\n",
       "    </tr>\n",
       "    <tr>\n",
       "      <th>score_last</th>\n",
       "      <td>-0.001181</td>\n",
       "    </tr>\n",
       "    <tr>\n",
       "      <th>score_delta</th>\n",
       "      <td>-0.000000</td>\n",
       "    </tr>\n",
       "  </tbody>\n",
       "</table>\n",
       "</div>"
      ],
      "text/plain": [
       "             Lasso_CV\n",
       "antiguedad  -0.000000\n",
       "edad_clie   -0.000000\n",
       "factu_antes -0.000012\n",
       "payratio    -0.000000\n",
       "saldo_antes  0.000009\n",
       "uso_antes   -0.000000\n",
       "tktprom_ant  0.000000\n",
       "score_last  -0.001181\n",
       "score_delta -0.000000"
      ]
     },
     "execution_count": 218,
     "metadata": {},
     "output_type": "execute_result"
    }
   ],
   "source": [
    "# Veamos los lambdas asociados: escojamos el primero\n",
    "lambda_argmin = grid_lamb[pd.DataFrame(CVRes).mean(axis=1).values==pd.DataFrame(CVRes).mean(axis=1).min()][0]\n",
    "# Obtengamos los coeficientes estimados con este lambd\n",
    "clf = linear_model.Lasso(alpha=lambda_argmin)\n",
    "clf.fit(prexmat_std,yy_std)\n",
    "pd.DataFrame(clf.coef_, index = labs_x, columns=['Lasso_CV'])"
   ]
  },
  {
   "cell_type": "markdown",
   "metadata": {},
   "source": [
    "Encontramos que las variables relevantes son **facturación promedio anterior**, **Saldo Anterior**, **Último Score**.\n",
    "Clientes que facturaron más, tuvieron un menor saldo promedio en los últimos seis meses y un mayor score crediticio tienen una menor probabilidad de dejar de pagar."
   ]
  },
  {
   "cell_type": "markdown",
   "metadata": {},
   "source": [
    "# Punto 3: Función para estimar un logit"
   ]
  },
  {
   "cell_type": "code",
   "execution_count": 280,
   "metadata": {
    "collapsed": true
   },
   "outputs": [],
   "source": [
    "def mylogit_fn(Ymat,Xmat):\n",
    "    # before defining attributes clean data\n",
    "    xmat    = np.asarray(Xmat)\n",
    "    K       = xmat.shape[1]\n",
    "    T       = xmat.shape[0]\n",
    "    ymat    = np.asarray(Ymat)\n",
    "    # vamos a limpiar los datos  de missing\n",
    "    predata = np.asarray(pd.DataFrame(np.concatenate((ymat,xmat), axis=1)).dropna())\n",
    "    xmat    = predata[:,1:]\n",
    "    nvar       = xmat.shape[1]\n",
    "    nobs       = xmat.shape[0]\n",
    "    ymat    = predata[:,0].reshape((nobs,1))\n",
    "\n",
    "    #----------------------------------------------\n",
    "    # NEWTON RAPHSON:\n",
    "    # Inicialicemos con OLS.  Están mal, pero tienen mismos signos\n",
    "    olsini  = ols.ols_dan(ymat,xmat)\n",
    "    beta_old = np.asarray(olsini.betahat()).reshape((olsini.nvar,1))\n",
    "    #beta_old = np.zeros((nvar,1))\n",
    "    # Listos para empezar el algoritmo\n",
    "    dist = 1\n",
    "    maxIter = 10000\n",
    "    counter = 0\n",
    "    while dist>0.0001 and counter<maxIter:\n",
    "        # Necesitamos la diagonal de W\n",
    "        xbeta = np.dot(xmat,beta_old)\n",
    "        Pmat  = np.divide(np.exp(xbeta), 1+np.exp(xbeta))\n",
    "        PreW  = np.multiply(Pmat,1-Pmat)\n",
    "        # Eliminemos ceros porque hacen que el problema sea inestable\n",
    "        PreW[PreW==0] = 0.0000001\n",
    "        # Y-p\n",
    "        Y_minusP = ymat - Pmat\n",
    "        # Usemos broadcasting para obtener el vector que queremos\n",
    "        w_inv  = 1.0/PreW\n",
    "        z      = xbeta + np.multiply(w_inv, Y_minusP)\n",
    "        # producto cruzado ponderado\n",
    "        # Listos: para invertir la matrix vamos a usar la descomposición de Cholesky \n",
    "        # Hace que el problema sea más estable\n",
    "        premat = np.dot(xmat.T, PreW*xmat)\n",
    "        newbeta = np.dot(np.linalg.inv(premat),np.dot(xmat.T,np.multiply(PreW,z)))\n",
    "        dist = np.max(np.abs(beta_old-newbeta))\n",
    "        # update beta_old\n",
    "        beta_old = newbeta\n",
    "        counter +=1\n",
    "    #return beta_old, counter\n",
    "    return beta_old"
   ]
  },
  {
   "cell_type": "code",
   "execution_count": 278,
   "metadata": {
    "collapsed": false
   },
   "outputs": [
    {
     "name": "stdout",
     "output_type": "stream",
     "text": [
      "0.4\n"
     ]
    }
   ],
   "source": [
    "# Simulemos un modelo\n",
    "np.random.seed(250679)\n",
    "N = 200\n",
    "\n",
    "# dos regresores independientes entre sí\n",
    "x0 = np.ones((N,1))\n",
    "x1 = 2*np.random.randn(N,1)\n",
    "x2 = np.random.randn(N,1)\n",
    "xmat = np.hstack((x0,x1,x2))\n",
    "beta_true = np.array([-2,3,5]).reshape((3,1))\n",
    "\n",
    "# vamos a simular residuos de un logit\n",
    "# Paso 1: simular N números aleatorios de una distribución U[0,1]\n",
    "# Paso 2: invertir la CDF de una v.a. logística\n",
    "u = np.random.rand(N,1)\n",
    "eps = np.log(u) - np.log(1-u)\n",
    "# variable dependiente latente\n",
    "y = np.dot(xmat,beta_true) + eps\n",
    "\n",
    "# necesitamos una variable dicótoma:\n",
    "d = 1*(y>0)\n",
    "# vamos la proporción\n",
    "\n",
    "print d.mean()"
   ]
  },
  {
   "cell_type": "code",
   "execution_count": 285,
   "metadata": {
    "collapsed": false
   },
   "outputs": [
    {
     "data": {
      "text/plain": [
       "array([[-2.09552386],\n",
       "       [ 3.55413408],\n",
       "       [ 5.92810098]])"
      ]
     },
     "execution_count": 285,
     "metadata": {},
     "output_type": "execute_result"
    }
   ],
   "source": [
    "# probemos la función\n",
    "mylogit_fn(d,xmat)"
   ]
  },
  {
   "cell_type": "markdown",
   "metadata": {},
   "source": [
    "# Punto 4: Logit\n"
   ]
  },
  {
   "cell_type": "code",
   "execution_count": 298,
   "metadata": {
    "collapsed": false
   },
   "outputs": [
    {
     "data": {
      "text/html": [
       "<div>\n",
       "<table border=\"1\" class=\"dataframe\">\n",
       "  <thead>\n",
       "    <tr style=\"text-align: right;\">\n",
       "      <th></th>\n",
       "      <th>Logit</th>\n",
       "    </tr>\n",
       "  </thead>\n",
       "  <tbody>\n",
       "    <tr>\n",
       "      <th>constante</th>\n",
       "      <td>9.078780</td>\n",
       "    </tr>\n",
       "    <tr>\n",
       "      <th>antiguedad</th>\n",
       "      <td>-0.018686</td>\n",
       "    </tr>\n",
       "    <tr>\n",
       "      <th>edad_clie</th>\n",
       "      <td>0.010848</td>\n",
       "    </tr>\n",
       "    <tr>\n",
       "      <th>factu_antes</th>\n",
       "      <td>0.000158</td>\n",
       "    </tr>\n",
       "    <tr>\n",
       "      <th>payratio</th>\n",
       "      <td>-0.071825</td>\n",
       "    </tr>\n",
       "    <tr>\n",
       "      <th>saldo_antes</th>\n",
       "      <td>0.000083</td>\n",
       "    </tr>\n",
       "    <tr>\n",
       "      <th>uso_antes</th>\n",
       "      <td>-0.378073</td>\n",
       "    </tr>\n",
       "    <tr>\n",
       "      <th>tktprom_ant</th>\n",
       "      <td>-0.000562</td>\n",
       "    </tr>\n",
       "    <tr>\n",
       "      <th>score_last</th>\n",
       "      <td>-0.014456</td>\n",
       "    </tr>\n",
       "    <tr>\n",
       "      <th>score_delta</th>\n",
       "      <td>0.001197</td>\n",
       "    </tr>\n",
       "  </tbody>\n",
       "</table>\n",
       "</div>"
      ],
      "text/plain": [
       "                Logit\n",
       "constante    9.078780\n",
       "antiguedad  -0.018686\n",
       "edad_clie    0.010848\n",
       "factu_antes  0.000158\n",
       "payratio    -0.071825\n",
       "saldo_antes  0.000083\n",
       "uso_antes   -0.378073\n",
       "tktprom_ant -0.000562\n",
       "score_last  -0.014456\n",
       "score_delta  0.001197"
      ]
     },
     "execution_count": 298,
     "metadata": {},
     "output_type": "execute_result"
    }
   ],
   "source": [
    "# estimemos un modelo logit para los datos del punto 1\n",
    "beta_logit = pd.DataFrame(mylogit_fn(yy,xmat_cons), index=labs_x_cons, columns=['Logit'])\n",
    "beta_logit"
   ]
  },
  {
   "cell_type": "code",
   "execution_count": 302,
   "metadata": {
    "collapsed": false
   },
   "outputs": [
    {
     "data": {
      "text/html": [
       "<div>\n",
       "<table border=\"1\" class=\"dataframe\">\n",
       "  <thead>\n",
       "    <tr style=\"text-align: right;\">\n",
       "      <th></th>\n",
       "      <th>OLS</th>\n",
       "      <th>Logit</th>\n",
       "    </tr>\n",
       "  </thead>\n",
       "  <tbody>\n",
       "    <tr>\n",
       "      <th>constante</th>\n",
       "      <td>1.839519</td>\n",
       "      <td>9.078780</td>\n",
       "    </tr>\n",
       "    <tr>\n",
       "      <th>antiguedad</th>\n",
       "      <td>-0.001630</td>\n",
       "      <td>-0.018686</td>\n",
       "    </tr>\n",
       "    <tr>\n",
       "      <th>edad_clie</th>\n",
       "      <td>0.001617</td>\n",
       "      <td>0.010848</td>\n",
       "    </tr>\n",
       "    <tr>\n",
       "      <th>factu_antes</th>\n",
       "      <td>0.000017</td>\n",
       "      <td>0.000158</td>\n",
       "    </tr>\n",
       "    <tr>\n",
       "      <th>payratio</th>\n",
       "      <td>-0.006738</td>\n",
       "      <td>-0.071825</td>\n",
       "    </tr>\n",
       "    <tr>\n",
       "      <th>saldo_antes</th>\n",
       "      <td>0.000011</td>\n",
       "      <td>0.000083</td>\n",
       "    </tr>\n",
       "    <tr>\n",
       "      <th>uso_antes</th>\n",
       "      <td>-0.039579</td>\n",
       "      <td>-0.378073</td>\n",
       "    </tr>\n",
       "    <tr>\n",
       "      <th>tktprom_ant</th>\n",
       "      <td>-0.000061</td>\n",
       "      <td>-0.000562</td>\n",
       "    </tr>\n",
       "    <tr>\n",
       "      <th>score_last</th>\n",
       "      <td>-0.002310</td>\n",
       "      <td>-0.014456</td>\n",
       "    </tr>\n",
       "    <tr>\n",
       "      <th>score_delta</th>\n",
       "      <td>0.000067</td>\n",
       "      <td>0.001197</td>\n",
       "    </tr>\n",
       "  </tbody>\n",
       "</table>\n",
       "</div>"
      ],
      "text/plain": [
       "                  OLS     Logit\n",
       "constante    1.839519  9.078780\n",
       "antiguedad  -0.001630 -0.018686\n",
       "edad_clie    0.001617  0.010848\n",
       "factu_antes  0.000017  0.000158\n",
       "payratio    -0.006738 -0.071825\n",
       "saldo_antes  0.000011  0.000083\n",
       "uso_antes   -0.039579 -0.378073\n",
       "tktprom_ant -0.000061 -0.000562\n",
       "score_last  -0.002310 -0.014456\n",
       "score_delta  0.000067  0.001197"
      ]
     },
     "execution_count": 302,
     "metadata": {},
     "output_type": "execute_result"
    }
   ],
   "source": [
    "# miremos los del modelo lineal de probabilidad\n",
    "linprob = ols.ols_dan(yy,xmat_cons)\n",
    "beta_linprob = pd.DataFrame(linprob.betahat(), index=labs_x_cons, columns=['OLS'])\n",
    "pd.concat((beta_linprob, beta_logit),axis=1)"
   ]
  },
  {
   "cell_type": "code",
   "execution_count": 325,
   "metadata": {
    "collapsed": false
   },
   "outputs": [
    {
     "data": {
      "text/html": [
       "<div>\n",
       "<table border=\"1\" class=\"dataframe\">\n",
       "  <thead>\n",
       "    <tr style=\"text-align: right;\">\n",
       "      <th></th>\n",
       "      <th>OLS</th>\n",
       "      <th>Logit</th>\n",
       "      <th>EfectosMarg_Logit</th>\n",
       "    </tr>\n",
       "  </thead>\n",
       "  <tbody>\n",
       "    <tr>\n",
       "      <th>constante</th>\n",
       "      <td>1.839519</td>\n",
       "      <td>6.717859</td>\n",
       "      <td>0.946679</td>\n",
       "    </tr>\n",
       "    <tr>\n",
       "      <th>antiguedad</th>\n",
       "      <td>-0.001630</td>\n",
       "      <td>-0.025802</td>\n",
       "      <td>-0.003636</td>\n",
       "    </tr>\n",
       "    <tr>\n",
       "      <th>edad_clie</th>\n",
       "      <td>0.001617</td>\n",
       "      <td>0.018905</td>\n",
       "      <td>0.002664</td>\n",
       "    </tr>\n",
       "    <tr>\n",
       "      <th>factu_antes</th>\n",
       "      <td>0.000017</td>\n",
       "      <td>0.000330</td>\n",
       "      <td>0.000046</td>\n",
       "    </tr>\n",
       "    <tr>\n",
       "      <th>payratio</th>\n",
       "      <td>-0.006738</td>\n",
       "      <td>0.012575</td>\n",
       "      <td>0.001772</td>\n",
       "    </tr>\n",
       "    <tr>\n",
       "      <th>saldo_antes</th>\n",
       "      <td>0.000011</td>\n",
       "      <td>0.000092</td>\n",
       "      <td>0.000013</td>\n",
       "    </tr>\n",
       "    <tr>\n",
       "      <th>uso_antes</th>\n",
       "      <td>-0.039579</td>\n",
       "      <td>-0.567066</td>\n",
       "      <td>-0.079911</td>\n",
       "    </tr>\n",
       "    <tr>\n",
       "      <th>tktprom_ant</th>\n",
       "      <td>-0.000061</td>\n",
       "      <td>-0.001990</td>\n",
       "      <td>-0.000280</td>\n",
       "    </tr>\n",
       "    <tr>\n",
       "      <th>score_last</th>\n",
       "      <td>-0.002310</td>\n",
       "      <td>-0.010815</td>\n",
       "      <td>-0.001524</td>\n",
       "    </tr>\n",
       "    <tr>\n",
       "      <th>score_delta</th>\n",
       "      <td>0.000067</td>\n",
       "      <td>-0.004071</td>\n",
       "      <td>-0.000574</td>\n",
       "    </tr>\n",
       "  </tbody>\n",
       "</table>\n",
       "</div>"
      ],
      "text/plain": [
       "                  OLS     Logit  EfectosMarg_Logit\n",
       "constante    1.839519  6.717859           0.946679\n",
       "antiguedad  -0.001630 -0.025802          -0.003636\n",
       "edad_clie    0.001617  0.018905           0.002664\n",
       "factu_antes  0.000017  0.000330           0.000046\n",
       "payratio    -0.006738  0.012575           0.001772\n",
       "saldo_antes  0.000011  0.000092           0.000013\n",
       "uso_antes   -0.039579 -0.567066          -0.079911\n",
       "tktprom_ant -0.000061 -0.001990          -0.000280\n",
       "score_last  -0.002310 -0.010815          -0.001524\n",
       "score_delta  0.000067 -0.004071          -0.000574"
      ]
     },
     "execution_count": 325,
     "metadata": {},
     "output_type": "execute_result"
    }
   ],
   "source": [
    "# vamos a obtener los efectos marginales: evaluados en las medias\n",
    "mean_x = np.nanmean(xmat_cons,axis=0)\n",
    "xmeanbeta = np.dot(mean_x.reshape((1,nvar+1)),\n",
    "                  beta_logit.values.reshape((nvar+1,1)))[0,0]\n",
    "Pmat  = np.divide(np.exp(xmeanbeta), 1+np.exp(xmeanbeta))\n",
    "margeff = Pmat*(1-Pmat)*beta_logit\n",
    "margeff.columns = ['EfectosMarg_Logit']\n",
    "LogitDF = pd.concat((beta_linprob, beta_logit,margeff),axis=1)\n",
    "LogitDF"
   ]
  },
  {
   "cell_type": "markdown",
   "metadata": {},
   "source": [
    "# Una vez tenemos los efectos marginales y los comparamos con los del modelo lineal de probabilidad encontramos que son muy similares"
   ]
  },
  {
   "cell_type": "code",
   "execution_count": 330,
   "metadata": {
    "collapsed": false
   },
   "outputs": [
    {
     "data": {
      "text/html": [
       "<div>\n",
       "<table border=\"1\" class=\"dataframe\">\n",
       "  <thead>\n",
       "    <tr style=\"text-align: right;\">\n",
       "      <th></th>\n",
       "      <th>OLS</th>\n",
       "      <th>Logit</th>\n",
       "      <th>EfectosMarg_Logit</th>\n",
       "      <th>Error Estándar Coeficientes</th>\n",
       "      <th>Std Efecto Marginales</th>\n",
       "    </tr>\n",
       "  </thead>\n",
       "  <tbody>\n",
       "    <tr>\n",
       "      <th>constante</th>\n",
       "      <td>1.839519</td>\n",
       "      <td>6.717859</td>\n",
       "      <td>0.946679</td>\n",
       "      <td>1.833378</td>\n",
       "      <td>0.234230</td>\n",
       "    </tr>\n",
       "    <tr>\n",
       "      <th>antiguedad</th>\n",
       "      <td>-0.001630</td>\n",
       "      <td>-0.025802</td>\n",
       "      <td>-0.003636</td>\n",
       "      <td>0.007051</td>\n",
       "      <td>0.000798</td>\n",
       "    </tr>\n",
       "    <tr>\n",
       "      <th>edad_clie</th>\n",
       "      <td>0.001617</td>\n",
       "      <td>0.018905</td>\n",
       "      <td>0.002664</td>\n",
       "      <td>0.014482</td>\n",
       "      <td>0.001858</td>\n",
       "    </tr>\n",
       "    <tr>\n",
       "      <th>factu_antes</th>\n",
       "      <td>0.000017</td>\n",
       "      <td>0.000330</td>\n",
       "      <td>0.000046</td>\n",
       "      <td>0.000242</td>\n",
       "      <td>0.000029</td>\n",
       "    </tr>\n",
       "    <tr>\n",
       "      <th>payratio</th>\n",
       "      <td>-0.006738</td>\n",
       "      <td>0.012575</td>\n",
       "      <td>0.001772</td>\n",
       "      <td>0.088490</td>\n",
       "      <td>0.011569</td>\n",
       "    </tr>\n",
       "    <tr>\n",
       "      <th>saldo_antes</th>\n",
       "      <td>0.000011</td>\n",
       "      <td>0.000092</td>\n",
       "      <td>0.000013</td>\n",
       "      <td>0.000048</td>\n",
       "      <td>0.000006</td>\n",
       "    </tr>\n",
       "    <tr>\n",
       "      <th>uso_antes</th>\n",
       "      <td>-0.039579</td>\n",
       "      <td>-0.567066</td>\n",
       "      <td>-0.079911</td>\n",
       "      <td>0.233824</td>\n",
       "      <td>0.030000</td>\n",
       "    </tr>\n",
       "    <tr>\n",
       "      <th>tktprom_ant</th>\n",
       "      <td>-0.000061</td>\n",
       "      <td>-0.001990</td>\n",
       "      <td>-0.000280</td>\n",
       "      <td>0.001040</td>\n",
       "      <td>0.000137</td>\n",
       "    </tr>\n",
       "    <tr>\n",
       "      <th>score_last</th>\n",
       "      <td>-0.002310</td>\n",
       "      <td>-0.010815</td>\n",
       "      <td>-0.001524</td>\n",
       "      <td>0.002745</td>\n",
       "      <td>0.000349</td>\n",
       "    </tr>\n",
       "    <tr>\n",
       "      <th>score_delta</th>\n",
       "      <td>0.000067</td>\n",
       "      <td>-0.004071</td>\n",
       "      <td>-0.000574</td>\n",
       "      <td>0.004856</td>\n",
       "      <td>0.000628</td>\n",
       "    </tr>\n",
       "  </tbody>\n",
       "</table>\n",
       "</div>"
      ],
      "text/plain": [
       "                  OLS     Logit  EfectosMarg_Logit  \\\n",
       "constante    1.839519  6.717859           0.946679   \n",
       "antiguedad  -0.001630 -0.025802          -0.003636   \n",
       "edad_clie    0.001617  0.018905           0.002664   \n",
       "factu_antes  0.000017  0.000330           0.000046   \n",
       "payratio    -0.006738  0.012575           0.001772   \n",
       "saldo_antes  0.000011  0.000092           0.000013   \n",
       "uso_antes   -0.039579 -0.567066          -0.079911   \n",
       "tktprom_ant -0.000061 -0.001990          -0.000280   \n",
       "score_last  -0.002310 -0.010815          -0.001524   \n",
       "score_delta  0.000067 -0.004071          -0.000574   \n",
       "\n",
       "             Error Estándar Coeficientes  Std Efecto Marginales  \n",
       "constante                       1.833378               0.234230  \n",
       "antiguedad                      0.007051               0.000798  \n",
       "edad_clie                       0.014482               0.001858  \n",
       "factu_antes                     0.000242               0.000029  \n",
       "payratio                        0.088490               0.011569  \n",
       "saldo_antes                     0.000048               0.000006  \n",
       "uso_antes                       0.233824               0.030000  \n",
       "tktprom_ant                     0.001040               0.000137  \n",
       "score_last                      0.002745               0.000349  \n",
       "score_delta                     0.004856               0.000628  "
      ]
     },
     "execution_count": 330,
     "metadata": {},
     "output_type": "execute_result"
    }
   ],
   "source": [
    "# Finalmente, bootstrapping:\n",
    "B = 300\n",
    "BetaBoot   = np.zeros((B,nvar+1))\n",
    "BetaBootME = np.zeros((B,nvar+1))\n",
    "for b in range(B):\n",
    "    ind_b = np.random.choice(nobs,nobs,replace=True)\n",
    "    beta_logit = pd.DataFrame(mylogit_fn(yy[ind_b],xmat_cons[ind_b,:]), index=labs_x_cons, columns=['Logit'])\n",
    "    BetaBoot[b,:] = beta_logit.values.flatten()\n",
    "    # Efectos Marginales\n",
    "    xmeanbeta = np.dot(mean_x.reshape((1,nvar+1)),\n",
    "                      beta_logit.values.reshape((nvar+1,1)))[0,0]\n",
    "    Pmat  = np.divide(np.exp(xmeanbeta), 1+np.exp(xmeanbeta))\n",
    "    margeff = Pmat*(1-Pmat)*beta_logit\n",
    "    BetaBootME[b,:] = margeff.values.flatten()\n",
    "\n",
    "BetaBoot = pd.DataFrame(BetaBoot, columns = labs_x_cons)\n",
    "BetaBootStd = pd.DataFrame(BetaBoot.std())\n",
    "BetaBootStd.columns = [u'Error Estándar Coeficientes']\n",
    "# repitamos para efectos marginales\n",
    "BetaBootME = pd.DataFrame(BetaBootME, columns = labs_x_cons)\n",
    "BetaBootMEStd = pd.DataFrame(BetaBootME.std())\n",
    "BetaBootMEStd.columns = [u'Std Efecto Marginales']\n",
    "#pd.concat((beta_linprob, beta_logit,margeff),axis=1)\n",
    "pd.concat((LogitDF, BetaBootStd, BetaBootMEStd),axis=1)"
   ]
  }
 ],
 "metadata": {
  "kernelspec": {
   "display_name": "Python 2",
   "language": "python",
   "name": "python2"
  },
  "language_info": {
   "codemirror_mode": {
    "name": "ipython",
    "version": 2
   },
   "file_extension": ".py",
   "mimetype": "text/x-python",
   "name": "python",
   "nbconvert_exporter": "python",
   "pygments_lexer": "ipython2",
   "version": "2.7.10"
  }
 },
 "nbformat": 4,
 "nbformat_minor": 0
}
