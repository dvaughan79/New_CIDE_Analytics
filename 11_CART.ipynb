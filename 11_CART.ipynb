{
 "cells": [
  {
   "cell_type": "markdown",
   "metadata": {
    "slideshow": {
     "slide_type": "slide"
    }
   },
   "source": [
    "# Analítica y Ciencia de Datos\n",
    "\n",
    "## CIDE - Otoño 2015\n",
    "\n",
    "### Árboles de Clasificación y Regresión"
   ]
  },
  {
   "cell_type": "markdown",
   "metadata": {
    "slideshow": {
     "slide_type": "slide"
    }
   },
   "source": [
    "# Referencias\n",
    "\n",
    "Capítulo 9 de [ESL](http://statweb.stanford.edu/~tibs/ElemStatLearn.1stEd/).\n",
    "\n",
    "Capítulo 8 de [ISL](http://www-bcf.usc.edu/~gareth/ISL/)\n",
    "\n",
    "[Capítulo 11 del Handbook of Statistics, Vol 23](http://mason.gmu.edu/~csutton/vt6.pdf)\n",
    "\n",
    "[Capítulo 9 de *The Data Mining and Knowledge Discovery Handbook*](http://www.ise.bgu.ac.il/faculty/liorr/hbchap9.pdf)\n",
    "\n",
    "Un descripción a profundidad del algoritmo de *Cost-Complexity Pruning* se puede ver [acá](http://www.cs.uu.nl/docs/vakken/mdm/trees.pdf%60)"
   ]
  },
  {
   "cell_type": "markdown",
   "metadata": {
    "slideshow": {
     "slide_type": "slide"
    }
   },
   "source": [
    "# Árboles de Decisión\n",
    "\n",
    "\n",
    "* En las notas anteriores vimos dos formas de estimar modelos no lineales: \n",
    "\n",
    "    * **Modelos no lineales de regresión**: hacer una aproximación de primer orden un modelo no lineal (en parámetros), y obtuvimos un método simple de actualización por medio de OLS iterativo.\n",
    "    * **Modelos Aditivos Generalizados**\n",
    "    \n",
    "\n",
    "* Ahora vamos a ver una clase de modelos muy simples y poderosos: *árboles de decisión*.\n",
    "\n",
    "\n",
    "* La idea es simple: los regresores $X_1, X_2, \\cdots, X_p$ generan el espacio $X_1 \\times X_2 \\times \\cdots \\times X_p$\n",
    "\n",
    "\n",
    "* Vamos a dividir este espacio en rectángulos: $R_m$\n",
    "\n",
    "\n",
    "* La estimación de $y$ en $R_m$ es la media restringida a ese rectángulo."
   ]
  },
  {
   "cell_type": "markdown",
   "metadata": {
    "slideshow": {
     "slide_type": "subslide"
    }
   },
   "source": [
    "# Ejemplo: dos regresores contínuos $X_1$, $X_2$\n",
    "\n",
    " ![caption](figures/cart_libro.png)\n",
    " \n",
    " [Figura 9.2 de ESL](http://statweb.stanford.edu/~tibs/ElemStatLearn.1stEd/)"
   ]
  },
  {
   "cell_type": "markdown",
   "metadata": {
    "slideshow": {
     "slide_type": "subslide"
    }
   },
   "source": [
    "# Aproximación de la función\n",
    "\n",
    "* En el ejemplo anterior aproximamos la función que queremos aprender como \n",
    "\n",
    "$$\n",
    "f(x) = \\sum_{m=1}^5 c_m I\\{(X_1, X_2) \\in R_m\\}\n",
    "$$\n",
    "\n",
    "\n",
    "* Podemos capturar no linealidades de los regresores que en pueden ser difíciles de capturar con otros modelos.\n",
    "\n",
    "\n",
    "* La figura muestra que el *primer corte* se hace con el primer regresor $X_1$ utilizando el punto de corte o *threshold* $t_1$.\n",
    "\n",
    "> Este corte hace una primera partición del espacio de regresores.\n",
    "\n",
    "\n",
    "* El algoritmo se llama **CART (Classification and Regression Trees)** y sólo hace cortes binarios\n",
    "\n",
    "    * En cada iteración busca simultáneamente el regresor que tiene un mayor poder predictivo y el punto de corte correspondiente.\n",
    "    \n",
    "    * En este caso la interpretación es simple: el regresor con mayor poder predictivo es $X_1$.\n",
    "    \n",
    "\n",
    "* Después explora cada lado del árbol:\n",
    "\n",
    "* **A la izquierda**: condicionamos a $X_1 \\leq t_1$ y buscamos nuevamente el regresor con mayor poder predictivo y el punto de corte correspondiente $(X_2, t_2)$.\n",
    "\n",
    "* **A la derecha**: condicionamos a $X_1 > t_1$ y buscamos nuevamente el regresor con mayor poder predictivo y el punto de corte correspondiente $(X_1, t_3)$.\n",
    "\n",
    "\n",
    "* Principal ventaja de los CART: son fáciles de explicar y de interpretar.\n"
   ]
  },
  {
   "cell_type": "markdown",
   "metadata": {
    "slideshow": {
     "slide_type": "subslide"
    }
   },
   "source": [
    "# Definiendo un árbol de decisión\n",
    "\n",
    "\n",
    "* La figura muestra.\n",
    "\n",
    " ![caption](figures/binary_tree.png)\n",
    " \n",
    "(Tomado de [acá](http://algs4.cs.princeton.edu/32bst/images/binary-tree-anatomy.png)) \n",
    "\n",
    "* Los árboles de decisión se leen de arriba hacia abajo.\n",
    "\n",
    "\n",
    "* El primer nodo es el *nodo inicial*, *base* o *raíz*.\n",
    "\n",
    "* Los **nodos finales** indican que no se hacen más cortes.\n",
    "\n",
    "* Cada nodo genera un subárbol o *subtree* del árbol inicial.\n",
    "\n"
   ]
  },
  {
   "cell_type": "markdown",
   "metadata": {
    "slideshow": {
     "slide_type": "subslide"
    }
   },
   "source": [
    "# Árboles de regresión:\n",
    "\n",
    "\n",
    "* Queremos modelar la función $f(x)$ como \n",
    "\n",
    "$$\n",
    "f(x)  = \\sum_{m=1}^M c_m I(x \\in R_m)\n",
    "$$\n",
    "\n",
    "\n",
    "* Vamos a utilizar como criterio para comparar modelos la suma de residuos al cuadrado, así que vamos a buscar minimizarla.\n",
    "\n",
    "\n",
    "* Si conociéramos las regiones, sabemos que el estimador de OLS es:\n",
    "\n",
    "$$\n",
    "c_m = \\overline{y}_{x \\in R_m}\n",
    "$$\n",
    "\n",
    "\n",
    "*  Cómo funciona el algoritmo:\n",
    "\n",
    "* En cada iteración vamos a buscar simultáneamente el regresor y punto de corte correspondiente que minimizan el SSR, condicionando en la región en la que estamos buscando.\n",
    "\n",
    "* **Primera iteración**:\n",
    "\n",
    "    1. Loop sobre cada regresor $k$:\n",
    "\n",
    "        * Loop sobre un grid de valores que puede tomar el regresor correspondiente: $t_k \\in [\\min X_k, \\max X_k]$\n",
    "        \n",
    "        * Cada $t_k$ genera dos regiones y obtenemos la media de $y$ en esa región:  \n",
    "$$\n",
    "X_k \\leq t_k \\implies c_l\\\\\n",
    "X_k > t_k \\implies c_r\n",
    "$$\n",
    "        * Obtenemos el SSR correspondiente $\\sum_i (y_i - c_l)^2 + (y_i - c_r)^2$ y lo guardamos.\n",
    "        * Buscamos la combinación $(X_k, t_k)$ que minimiza el SSR\n",
    "        \n",
    "\n",
    "* Las demás iteraciones hacen lo mismo: pero tenemos que condicionar por la región en la que estamos buscando."
   ]
  },
  {
   "cell_type": "code",
   "execution_count": 6,
   "metadata": {
    "collapsed": false,
    "slideshow": {
     "slide_type": "subslide"
    }
   },
   "outputs": [],
   "source": [
    "# Veamos un ejemplo\n",
    "import numpy as np\n",
    "import pandas as pd\n",
    "import matplotlib.pyplot as plt\n",
    "%matplotlib inline\n",
    "import sys\n",
    "#sys.path.append('//Users//danielvaughan//Documents//Python Scripts//')\n",
    "sys.path.append('C:\\\\Users\\\\a3940004.EDIFICIOS\\\\Documents\\\\Python Scripts\\\\')\n",
    "import olsdan as ols\n",
    "\n",
    "# importemos los datos\n",
    "#data = pd.read_csv('//Users//danielvaughan//Documents//Clase CIDE//Slides//Analitica//datasets//Credit.csv')\n",
    "data = pd.read_csv(u'D:\\\\Míos\\\\Clase CIDE\\\\Slides\\\\Analitica\\\\New_CIDE_Analytics\\\\data\\\\Credit.csv')\n",
    "N = data.shape[0]\n",
    "dum_hombre     = np.asarray(data.Gender == ' Male').reshape((N,1))\n",
    "dum_estudiante = np.asarray(data.Student == 'Yes').reshape((N,1))\n",
    "dum_casado     = np.asarray(data.Married == 'Yes').reshape((N,1))\n",
    "# Para etnicidad debemos excluir una variable que sirva como referencia:\n",
    "dum_ethnic = np.asarray(pd.get_dummies(data.Ethnicity).iloc[:,:-1])\n",
    "# etiquetas de X\n",
    "labs_x = np.array(['Score','Ingreso',u'Límite de Crédito',u'Número Tarjetas','Edad',u'Educación'])\n",
    "#,'Hombre','Estudiante','Casado','Caucasian','Asian'])\n",
    "# incluyamos todas las variables:\n",
    "prexmat = np.concatenate((\n",
    "                        np.asarray(data.Rating).reshape((N,1)),\n",
    "                        np.asarray(data.Income).reshape((N,1)),\n",
    "                         np.asarray(data.Limit).reshape((N,1)),\n",
    "                         np.asarray(data.Cards).reshape((N,1)),\n",
    "                         np.asarray(data.Age).reshape((N,1)),\n",
    "                         np.asarray(data.Education).reshape((N,1)),\n",
    "                         ),axis=1)\n",
    "saldo = np.asarray(data.Balance).reshape((N,1))\n",
    "# transformemos el saldo: es positivo siempre, así que una log() nos da algo más parecido a una normal\n",
    "yy    = np.log(saldo + 0.000001)\n",
    "\n",
    "nvar = prexmat.shape[1]"
   ]
  },
  {
   "cell_type": "code",
   "execution_count": 11,
   "metadata": {
    "collapsed": false,
    "slideshow": {
     "slide_type": "subslide"
    }
   },
   "outputs": [
    {
     "data": {
      "image/png": "[encoded data removed]",
      "text/plain": [
       "<matplotlib.figure.Figure at 0x17d000f0>"
      ]
     },
     "metadata": {},
     "output_type": "display_data"
    }
   ],
   "source": [
    "# Por qué están tan parecidas score y límite?  Correlación altísima: casi 1-1!\n",
    "# así que eliminemos una.  \n",
    "plt.scatter(data.Rating, data.Limit)\n",
    "plt.title(u'Relación entre Límite de Crédito y Score Crediticio')\n",
    "plt.ylabel(u'Límite (dólares)')\n",
    "plt.xlabel('Score')\n",
    "\n",
    "\n",
    "prexmat = np.concatenate((\n",
    "                        np.asarray(data.Income).reshape((N,1)),\n",
    "                         np.asarray(data.Limit).reshape((N,1)),\n",
    "                         np.asarray(data.Cards).reshape((N,1)),\n",
    "                         np.asarray(data.Age).reshape((N,1)),\n",
    "                         np.asarray(data.Education).reshape((N,1)),\n",
    "                         ),axis=1)\n",
    "labs_x = np.array(['Ingreso',u'Límite de Crédito',u'Número Tarjetas','Edad',u'Educación'])\n",
    "nvar = prexmat.shape[1]"
   ]
  },
  {
   "cell_type": "code",
   "execution_count": 368,
   "metadata": {
    "collapsed": false,
    "slideshow": {
     "slide_type": "subslide"
    }
   },
   "outputs": [
    {
     "name": "stdout",
     "output_type": "stream",
     "text": [
      "la primera variable es:  Límite de Crédito\n",
      "el punto de corte es:  3189.51666667\n"
     ]
    },
    {
     "data": {
      "image/png": "[encoded data removed]",
      "text/plain": [
       "<matplotlib.figure.Figure at 0x10ed85910>"
      ]
     },
     "metadata": {},
     "output_type": "display_data"
    }
   ],
   "source": [
    "# primera iteracion\n",
    "# Tamaño del grid\n",
    "G = 100\n",
    "# Queremos guardar los resultados acá\n",
    "SSRMat = np.zeros((G,nvar))\n",
    "for k in range(nvar):\n",
    "    # seleccionemos la variable\n",
    "    xk    = prexmat[:,k].copy()\n",
    "    # el grid va a ser sobre los percentiles 5% y 95%\n",
    "    q05   = np.percentile(xk,5)\n",
    "    q95   = np.percentile(xk,95)\n",
    "    gridk = np.linspace(q05,q95,G)\n",
    "    # empezamos el loop sobre el grid\n",
    "    for t in range(G):\n",
    "        dum_kt = np.asarray(xk>gridk[t]).reshape((N,1))\n",
    "        xmat   = np.concatenate((np.ones((N,1)), dum_kt),axis=1)\n",
    "        olstk  = ols.ols_dan(yy, xmat)\n",
    "        # guardemos el ssr\n",
    "        SSRMat[t,k] = olstk.ssr()\n",
    "\n",
    "# guardemos el menor, y el threshold correspondiente\n",
    "ssr_min = SSRMat.min()        \n",
    "var_min = np.dot(((SSRMat==ssr_min).mean(axis=0)>0),np.arange(nvar))\n",
    "# ahora el threshold\n",
    "xk    = prexmat[:,var_min].copy()\n",
    "q05   = np.percentile(xk,5)\n",
    "q95   = np.percentile(xk,95)\n",
    "gridk = np.linspace(q05,q95,G)\n",
    "ixmin = np.argmin(SSRMat[:,var_min])\n",
    "thr_min = gridk[ixmin]\n",
    "print 'la primera variable es: ', labs_x[var_min]\n",
    "print 'el punto de corte es: ', thr_min\n",
    "\n",
    "# grafiquémoslo\n",
    "SSRMat = pd.DataFrame(SSRMat, columns = labs_x)\n",
    "SSRMat.plot()        \n",
    "plt.legend(loc='best', fontsize=10)\n",
    "ymin, ymax = plt.ylim()\n",
    "plt.plot([ixmin, ixmin],[ymin,ymax], ls='--')\n",
    "\n",
    "#guardemos el threshold, y la variable\n",
    "Nodes = list([[var_min,thr_min]])"
   ]
  },
  {
   "cell_type": "code",
   "execution_count": 369,
   "metadata": {
    "collapsed": false,
    "slideshow": {
     "slide_type": "subslide"
    }
   },
   "outputs": [
    {
     "name": "stdout",
     "output_type": "stream",
     "text": [
      "la segunda variable es:  Límite de Crédito\n",
      "el punto de corte es:  2724.14393939\n"
     ]
    },
    {
     "data": {
      "image/png": "[encoded data removed]",
      "text/plain": [
       "<matplotlib.figure.Figure at 0x110809b50>"
      ]
     },
     "metadata": {},
     "output_type": "display_data"
    }
   ],
   "source": [
    "# Segunda Iteración: explorar a la izquierda de este primer nodo\n",
    "# definamos la región donde queremos explorar:\n",
    "ind_reg = prexmat[:,Nodes[0][0]] <= Nodes[0][1]\n",
    "# podemos hacer un copy-paste del código anterior (sólo tenemos que tener cuidado con el ind_reg)\n",
    "#--------------------------------------\n",
    "# Queremos guardar los resultados acá\n",
    "SSRMat = np.zeros((G,nvar))\n",
    "for k in range(nvar):\n",
    "    # seleccionemos la variable\n",
    "    xk    = prexmat[:,k].copy()\n",
    "    # el grid va a ser sobre los percentiles 5% y 95%\n",
    "    q05   = np.percentile(xk,5)\n",
    "    q95   = np.percentile(xk,95)\n",
    "    gridk = np.linspace(q05,q95,G)\n",
    "    # empezamos el loop sobre el grid\n",
    "    for t in range(G):\n",
    "        dum_kt = 1.0*(np.asarray(xk>gridk[t]).reshape((N,1)))\n",
    "        # para condicionar que la búsqueda sea sobre ind_reg vamos a utilizar NaNs\n",
    "        # LA FUNCION OLS_DAN ELIMINA LAS FILAS DONDE HAY NANS\n",
    "        dum_kt[ind_reg==False] = np.nan\n",
    "        xmat   = np.concatenate((np.ones((N,1)), dum_kt),axis=1)\n",
    "        olstk  = ols.ols_dan(yy, xmat)\n",
    "        # guardemos el ssr\n",
    "        SSRMat[t,k] = olstk.ssr()\n",
    "\n",
    "# guardemos el menor, y el threshold correspondiente\n",
    "ssr_min = SSRMat.min()        \n",
    "var_min = np.dot(((SSRMat==ssr_min).mean(axis=0)>0),np.arange(nvar))\n",
    "# ahora el threshold\n",
    "xk    = prexmat[:,var_min].copy()\n",
    "q05   = np.percentile(xk,5)\n",
    "q95   = np.percentile(xk,95)\n",
    "gridk = np.linspace(q05,q95,G)\n",
    "ixmin = np.argmin(SSRMat[:,var_min])\n",
    "thr_min = gridk[ixmin]\n",
    "print 'la segunda variable es: ', labs_x[var_min]\n",
    "print 'el punto de corte es: ', thr_min\n",
    "\n",
    "# grafiquémoslo\n",
    "SSRMat = pd.DataFrame(SSRMat, columns = labs_x)\n",
    "SSRMat.plot()        \n",
    "plt.legend(loc='best', fontsize=10)\n",
    "ymin, ymax = plt.ylim()\n",
    "plt.plot([ixmin, ixmin],[ymin,ymax], ls='--')\n",
    "#Actualicemos la lista donde guardamos el árbol\n",
    "Nodes.append([Nodes[0],[var_min,thr_min]])\n",
    "# Es útil guardar la región correspondiente al nodo que acabamos de explorar:\n",
    "# Las columnas corresponderán al orden de los nodos\n",
    "RegMat = np.concatenate((np.ones((N,1)),ind_reg.reshape((N,1))),axis=1)"
   ]
  },
  {
   "cell_type": "code",
   "execution_count": 370,
   "metadata": {
    "collapsed": false,
    "slideshow": {
     "slide_type": "subslide"
    }
   },
   "outputs": [
    {
     "name": "stdout",
     "output_type": "stream",
     "text": [
      "la tercera variable es:  Límite de Crédito\n",
      "el punto de corte es:  4663.1969697\n"
     ]
    },
    {
     "data": {
      "image/png": "[encoded data removed]",
      "text/plain": [
       "<matplotlib.figure.Figure at 0x110adc350>"
      ]
     },
     "metadata": {},
     "output_type": "display_data"
    }
   ],
   "source": [
    "# Repitamos del lado derecho\n",
    "# Segunda Iteración: explorar a la izquierda de este primer nodo\n",
    "# definamos la región donde queremos explorar:\n",
    "ind_reg = prexmat[:,Nodes[0][0]] > Nodes[0][1]\n",
    "# podemos hacer un copy-paste del código anterior (sólo tenemos que tener cuidado con el ind_reg)\n",
    "#--------------------------------------\n",
    "# Queremos guardar los resultados acá\n",
    "SSRMat = np.zeros((G,nvar))\n",
    "for k in range(nvar):\n",
    "    # seleccionemos la variable\n",
    "    xk    = prexmat[:,k].copy()\n",
    "    # el grid va a ser sobre los percentiles 5% y 95%\n",
    "    q05   = np.percentile(xk,5)\n",
    "    q95   = np.percentile(xk,95)\n",
    "    gridk = np.linspace(q05,q95,G)\n",
    "    # empezamos el loop sobre el grid\n",
    "    for t in range(G):\n",
    "        dum_kt = 1.0*(np.asarray(xk>gridk[t]).reshape((N,1)))\n",
    "        # para condicionar que la búsqueda sea sobre ind_reg vamos a utilizar NaNs\n",
    "        # LA FUNCION OLS_DAN ELIMINA LAS FILAS DONDE HAY NANS\n",
    "        dum_kt[ind_reg==False] = np.nan\n",
    "        xmat   = np.concatenate((np.ones((N,1)), dum_kt),axis=1)\n",
    "        olstk  = ols.ols_dan(yy, xmat)\n",
    "        # guardemos el ssr\n",
    "        SSRMat[t,k] = olstk.ssr()\n",
    "\n",
    "# guardemos el menor, y el threshold correspondiente\n",
    "ssr_min = SSRMat.min()        \n",
    "var_min = np.dot(((SSRMat==ssr_min).mean(axis=0)>0),np.arange(nvar))\n",
    "# ahora el threshold\n",
    "xk    = prexmat[:,var_min].copy()\n",
    "q05   = np.percentile(xk,5)\n",
    "q95   = np.percentile(xk,95)\n",
    "gridk = np.linspace(q05,q95,G)\n",
    "ixmin = np.argmin(SSRMat[:,var_min])\n",
    "thr_min = gridk[ixmin]\n",
    "print 'la tercera variable es: ', labs_x[var_min]\n",
    "print 'el punto de corte es: ', thr_min\n",
    "\n",
    "# grafiquémoslo\n",
    "SSRMat = pd.DataFrame(SSRMat, columns = labs_x)\n",
    "SSRMat.plot()        \n",
    "plt.legend(loc='best', fontsize=10)\n",
    "ymin, ymax = plt.ylim()\n",
    "plt.plot([ixmin, ixmin],[ymin,ymax], ls='--')\n",
    "#Actualicemos la lista donde guardamos el árbol\n",
    "Nodes.append([Nodes[0],[var_min,thr_min]])\n",
    "# Es útil guardar la región correspondiente al nodo que acabamos de explorar:\n",
    "# Las columnas corresponderán al orden de los nodos\n",
    "RegMat = np.concatenate((RegMat,ind_reg.reshape((N,1))),axis=1)"
   ]
  },
  {
   "cell_type": "code",
   "execution_count": 371,
   "metadata": {
    "collapsed": false,
    "slideshow": {
     "slide_type": "subslide"
    }
   },
   "outputs": [
    {
     "data": {
      "text/plain": [
       "([], <a list of 0 Text yticklabel objects>)"
      ]
     },
     "execution_count": 371,
     "metadata": {},
     "output_type": "execute_result"
    },
    {
     "data": {
      "image/png": "[encoded data removed]",
      "text/plain": [
       "<matplotlib.figure.Figure at 0x10e9e9350>"
      ]
     },
     "metadata": {},
     "output_type": "display_data"
    }
   ],
   "source": [
    "# Resumen hasta el momento\n",
    "plt.plot([-10,10],[0,0], color='k')\n",
    "plt.plot([0,0],[-0.1,0], color='k')\n",
    "plt.text(-1,0,u'límite <= 3189.5', verticalalignment='bottom', horizontalalignment='right')\n",
    "# siguiente nivel:\n",
    "plt.plot([-10,-10],[-1,0], color='k')\n",
    "plt.plot([10,10],[-1,0], color='k')\n",
    "plt.plot([-16,-4],[-1,-1], color='k')\n",
    "plt.plot([-16,-16],[-1.5,-1], color='k')\n",
    "plt.plot([-4,-4],[-1.5,-1], color='k')\n",
    "plt.plot([4,16],[-1,-1], color='k')\n",
    "plt.plot([4,4],[-1.5,-1], color='k')\n",
    "plt.plot([16,16],[-1.5,-1], color='k')\n",
    "plt.text(-10,-1,u'lím <= 2724.1', verticalalignment='bottom', horizontalalignment='right')\n",
    "plt.text(10,-1,u'lím <= 4663', verticalalignment='bottom', horizontalalignment='right')\n",
    "# axis\n",
    "plt.axis([-20,20,-3,1])\n",
    "plt.xticks([])\n",
    "plt.yticks([])"
   ]
  },
  {
   "cell_type": "code",
   "execution_count": 372,
   "metadata": {
    "collapsed": false,
    "slideshow": {
     "slide_type": "subslide"
    }
   },
   "outputs": [
    {
     "data": {
      "text/plain": [
       "0    1.0000\n",
       "1    0.2675\n",
       "2    0.7325\n",
       "dtype: float64"
      ]
     },
     "execution_count": 372,
     "metadata": {},
     "output_type": "execute_result"
    }
   ],
   "source": [
    "pd.DataFrame(RegMat==1).mean()"
   ]
  },
  {
   "cell_type": "code",
   "execution_count": 373,
   "metadata": {
    "collapsed": false,
    "slideshow": {
     "slide_type": "subslide"
    }
   },
   "outputs": [
    {
     "name": "stdout",
     "output_type": "stream",
     "text": [
      "siguiente variable es:  Ingreso\n",
      "el punto de corte es:  23.4079025253\n"
     ]
    },
    {
     "data": {
      "image/png": "[encoded data removed]",
      "text/plain": [
       "<matplotlib.figure.Figure at 0x1109b9dd0>"
      ]
     },
     "metadata": {},
     "output_type": "display_data"
    }
   ],
   "source": [
    "# Cuarta Iteración: explorar a la izquierda del segundo nodo\n",
    "# Primero: obtengamos el padre de este nodo\n",
    "padre  = Nodes[1][-1]\n",
    "abuelo = Nodes[1][-2]\n",
    "# definamos la región donde queremos explorar:\n",
    "ind_reg = np.multiply(prexmat[:,padre[0]] <= padre[1],\n",
    "                      prexmat[:,abuelo[0]] <= abuelo[1])\n",
    "# podemos hacer un copy-paste del código anterior (sólo tenemos que tener cuidado con el ind_reg)\n",
    "#--------------------------------------\n",
    "# Queremos guardar los resultados acá\n",
    "SSRMat = np.zeros((G,nvar))\n",
    "for k in range(nvar):\n",
    "    # seleccionemos la variable\n",
    "    xk    = prexmat[:,k].copy()\n",
    "    # el grid va a ser sobre los percentiles 5% y 95%\n",
    "    q05   = np.percentile(xk,5)\n",
    "    q95   = np.percentile(xk,95)\n",
    "    gridk = np.linspace(q05,q95,G)\n",
    "    # empezamos el loop sobre el grid\n",
    "    for t in range(G):\n",
    "        dum_kt = 1.0*(np.asarray(xk>gridk[t]).reshape((N,1)))\n",
    "        # para condicionar que la búsqueda sea sobre ind_reg vamos a utilizar NaNs\n",
    "        # LA FUNCION OLS_DAN ELIMINA LAS FILAS DONDE HAY NANS\n",
    "        dum_kt[ind_reg==False] = np.nan\n",
    "        xmat   = np.concatenate((np.ones((N,1)), dum_kt),axis=1)\n",
    "        olstk  = ols.ols_dan(yy, xmat)\n",
    "        # guardemos el ssr\n",
    "        SSRMat[t,k] = olstk.ssr()\n",
    "\n",
    "# guardemos el menor, y el threshold correspondiente\n",
    "ssr_min = SSRMat.min()        \n",
    "var_min = np.dot(((SSRMat==ssr_min).mean(axis=0)>0),np.arange(nvar))\n",
    "# ahora el threshold\n",
    "xk    = prexmat[:,var_min].copy()\n",
    "q05   = np.percentile(xk,5)\n",
    "q95   = np.percentile(xk,95)\n",
    "gridk = np.linspace(q05,q95,G)\n",
    "ixmin = np.argmin(SSRMat[:,var_min])\n",
    "thr_min = gridk[ixmin]\n",
    "print 'siguiente variable es: ', labs_x[var_min]\n",
    "print 'el punto de corte es: ', thr_min\n",
    "\n",
    "# grafiquémoslo\n",
    "SSRMat = pd.DataFrame(SSRMat, columns = labs_x)\n",
    "SSRMat.plot()        \n",
    "plt.legend(loc='best', fontsize=10)\n",
    "ymin, ymax = plt.ylim()\n",
    "plt.plot([ixmin, ixmin],[ymin,ymax], ls='--')\n",
    "#Actualicemos la lista donde guardamos el árbol\n",
    "Nodes.append([Nodes[0],[var_min,thr_min]])\n",
    "# Es útil guardar la región correspondiente al nodo que acabamos de explorar:\n",
    "# Las columnas corresponderán al orden de los nodos\n",
    "RegMat = np.concatenate((RegMat,ind_reg.reshape((N,1))),axis=1)"
   ]
  },
  {
   "cell_type": "code",
   "execution_count": 374,
   "metadata": {
    "collapsed": false,
    "slideshow": {
     "slide_type": "subslide"
    }
   },
   "outputs": [
    {
     "name": "stdout",
     "output_type": "stream",
     "text": [
      "siguiente variable es:  Ingreso\n",
      "el punto de corte es:  26.8104282828\n"
     ]
    },
    {
     "data": {
      "image/png": "[encoded data removed]",
      "text/plain": [
       "<matplotlib.figure.Figure at 0x10ef93bd0>"
      ]
     },
     "metadata": {},
     "output_type": "display_data"
    }
   ],
   "source": [
    "# Quinta Iteración: explorar a la derecha del segundo nodo\n",
    "# Primero: obtengamos el padre de este nodo\n",
    "padre  = Nodes[1][-1]\n",
    "abuelo = Nodes[1][-2]\n",
    "# definamos la región donde queremos explorar:\n",
    "ind_reg = np.multiply(prexmat[:,padre[0]] > padre[1],\n",
    "                      prexmat[:,abuelo[0]] <= abuelo[1])\n",
    "# podemos hacer un copy-paste del código anterior (sólo tenemos que tener cuidado con el ind_reg)\n",
    "#--------------------------------------\n",
    "# Queremos guardar los resultados acá\n",
    "SSRMat = np.zeros((G,nvar))\n",
    "for k in range(nvar):\n",
    "    # seleccionemos la variable\n",
    "    xk    = prexmat[:,k].copy()\n",
    "    # el grid va a ser sobre los percentiles 5% y 95%\n",
    "    q05   = np.percentile(xk,5)\n",
    "    q95   = np.percentile(xk,95)\n",
    "    gridk = np.linspace(q05,q95,G)\n",
    "    # empezamos el loop sobre el grid\n",
    "    for t in range(G):\n",
    "        dum_kt = 1.0*(np.asarray(xk>gridk[t]).reshape((N,1)))\n",
    "        # para condicionar que la búsqueda sea sobre ind_reg vamos a utilizar NaNs\n",
    "        # LA FUNCION OLS_DAN ELIMINA LAS FILAS DONDE HAY NANS\n",
    "        dum_kt[ind_reg==False] = np.nan\n",
    "        xmat   = np.concatenate((np.ones((N,1)), dum_kt),axis=1)\n",
    "        olstk  = ols.ols_dan(yy, xmat)\n",
    "        # guardemos el ssr\n",
    "        SSRMat[t,k] = olstk.ssr()\n",
    "\n",
    "# guardemos el menor, y el threshold correspondiente\n",
    "ssr_min = SSRMat.min()        \n",
    "var_min = np.dot(((SSRMat==ssr_min).mean(axis=0)>0),np.arange(nvar))\n",
    "# ahora el threshold\n",
    "xk    = prexmat[:,var_min].copy()\n",
    "q05   = np.percentile(xk,5)\n",
    "q95   = np.percentile(xk,95)\n",
    "gridk = np.linspace(q05,q95,G)\n",
    "ixmin = np.argmin(SSRMat[:,var_min])\n",
    "thr_min = gridk[ixmin]\n",
    "print 'siguiente variable es: ', labs_x[var_min]\n",
    "print 'el punto de corte es: ', thr_min\n",
    "\n",
    "# grafiquémoslo\n",
    "SSRMat = pd.DataFrame(SSRMat, columns = labs_x)\n",
    "SSRMat.plot()        \n",
    "plt.legend(loc='best', fontsize=10)\n",
    "ymin, ymax = plt.ylim()\n",
    "plt.plot([ixmin, ixmin],[ymin,ymax], ls='--')\n",
    "#Actualicemos la lista donde guardamos el árbol\n",
    "Nodes.append([Nodes[0],[var_min,thr_min]])\n",
    "# Es útil guardar la región correspondiente al nodo que acabamos de explorar:\n",
    "# Las columnas corresponderán al orden de los nodos\n",
    "RegMat = np.concatenate((RegMat,ind_reg.reshape((N,1))),axis=1)"
   ]
  },
  {
   "cell_type": "code",
   "execution_count": 375,
   "metadata": {
    "collapsed": false,
    "slideshow": {
     "slide_type": "subslide"
    }
   },
   "outputs": [
    {
     "name": "stdout",
     "output_type": "stream",
     "text": [
      "siguiente variable es:  Ingreso\n",
      "el punto de corte es:  58.5673353535\n"
     ]
    },
    {
     "data": {
      "image/png": "[encoded data removed]",
      "text/plain": [
       "<matplotlib.figure.Figure at 0x10ef93bd0>"
      ]
     },
     "metadata": {},
     "output_type": "display_data"
    }
   ],
   "source": [
    "# Sexta Iteración: explorar a la derecha del segundo nodo\n",
    "# Primero: obtengamos el padre de este nodo\n",
    "padre  = Nodes[2][-1]\n",
    "abuelo = Nodes[2][-2]\n",
    "# definamos la región donde queremos explorar:\n",
    "ind_reg = np.multiply(prexmat[:,padre[0]] <= padre[1],\n",
    "                      prexmat[:,abuelo[0]] > abuelo[1])\n",
    "# podemos hacer un copy-paste del código anterior (sólo tenemos que tener cuidado con el ind_reg)\n",
    "#--------------------------------------\n",
    "# Queremos guardar los resultados acá\n",
    "SSRMat = np.zeros((G,nvar))\n",
    "for k in range(nvar):\n",
    "    # seleccionemos la variable\n",
    "    xk    = prexmat[:,k].copy()\n",
    "    # el grid va a ser sobre los percentiles 5% y 95%\n",
    "    q05   = np.percentile(xk,5)\n",
    "    q95   = np.percentile(xk,95)\n",
    "    gridk = np.linspace(q05,q95,G)\n",
    "    # empezamos el loop sobre el grid\n",
    "    for t in range(G):\n",
    "        dum_kt = 1.0*(np.asarray(xk>gridk[t]).reshape((N,1)))\n",
    "        # para condicionar que la búsqueda sea sobre ind_reg vamos a utilizar NaNs\n",
    "        # LA FUNCION OLS_DAN ELIMINA LAS FILAS DONDE HAY NANS\n",
    "        dum_kt[ind_reg==False] = np.nan\n",
    "        xmat   = np.concatenate((np.ones((N,1)), dum_kt),axis=1)\n",
    "        olstk  = ols.ols_dan(yy, xmat)\n",
    "        # guardemos el ssr\n",
    "        SSRMat[t,k] = olstk.ssr()\n",
    "\n",
    "# guardemos el menor, y el threshold correspondiente\n",
    "ssr_min = SSRMat.min()        \n",
    "var_min = np.dot(((SSRMat==ssr_min).mean(axis=0)>0),np.arange(nvar))\n",
    "# ahora el threshold\n",
    "xk    = prexmat[:,var_min].copy()\n",
    "q05   = np.percentile(xk,5)\n",
    "q95   = np.percentile(xk,95)\n",
    "gridk = np.linspace(q05,q95,G)\n",
    "ixmin = np.argmin(SSRMat[:,var_min])\n",
    "thr_min = gridk[ixmin]\n",
    "print 'siguiente variable es: ', labs_x[var_min]\n",
    "print 'el punto de corte es: ', thr_min\n",
    "\n",
    "# grafiquémoslo\n",
    "SSRMat = pd.DataFrame(SSRMat, columns = labs_x)\n",
    "SSRMat.plot()        \n",
    "plt.legend(loc='best', fontsize=10)\n",
    "ymin, ymax = plt.ylim()\n",
    "plt.plot([ixmin, ixmin],[ymin,ymax], ls='--')\n",
    "#Actualicemos la lista donde guardamos el árbol\n",
    "Nodes.append([Nodes[0],[var_min,thr_min]])\n",
    "# Es útil guardar la región correspondiente al nodo que acabamos de explorar:\n",
    "# Las columnas corresponderán al orden de los nodos\n",
    "RegMat = np.concatenate((RegMat,ind_reg.reshape((N,1))),axis=1)"
   ]
  },
  {
   "cell_type": "code",
   "execution_count": 376,
   "metadata": {
    "collapsed": false,
    "slideshow": {
     "slide_type": "subslide"
    }
   },
   "outputs": [
    {
     "name": "stdout",
     "output_type": "stream",
     "text": [
      "siguiente variable es:  Límite de Crédito\n",
      "el punto de corte es:  5361.25606061\n"
     ]
    },
    {
     "data": {
      "image/png": "[encoded data removed]",
      "text/plain": [
       "<matplotlib.figure.Figure at 0x110b520d0>"
      ]
     },
     "metadata": {},
     "output_type": "display_data"
    }
   ],
   "source": [
    "# Séptima Iteración: explorar a la derecha del segundo nodo\n",
    "# Primero: obtengamos el padre de este nodo\n",
    "padre  = Nodes[2][-1]\n",
    "abuelo = Nodes[2][-2]\n",
    "# definamos la región donde queremos explorar:\n",
    "ind_reg = np.multiply(prexmat[:,padre[0]]  > padre[1],\n",
    "                      prexmat[:,abuelo[0]] > abuelo[1])\n",
    "# podemos hacer un copy-paste del código anterior (sólo tenemos que tener cuidado con el ind_reg)\n",
    "#--------------------------------------\n",
    "# Queremos guardar los resultados acá\n",
    "SSRMat = np.zeros((G,nvar))\n",
    "for k in range(nvar):\n",
    "    # seleccionemos la variable\n",
    "    xk    = prexmat[:,k].copy()\n",
    "    # el grid va a ser sobre los percentiles 5% y 95%\n",
    "    q05   = np.percentile(xk,5)\n",
    "    q95   = np.percentile(xk,95)\n",
    "    gridk = np.linspace(q05,q95,G)\n",
    "    # empezamos el loop sobre el grid\n",
    "    for t in range(G):\n",
    "        dum_kt = 1.0*(np.asarray(xk>gridk[t]).reshape((N,1)))\n",
    "        # para condicionar que la búsqueda sea sobre ind_reg vamos a utilizar NaNs\n",
    "        # LA FUNCION OLS_DAN ELIMINA LAS FILAS DONDE HAY NANS\n",
    "        dum_kt[ind_reg==False] = np.nan\n",
    "        xmat   = np.concatenate((np.ones((N,1)), dum_kt),axis=1)\n",
    "        olstk  = ols.ols_dan(yy, xmat)\n",
    "        # guardemos el ssr\n",
    "        SSRMat[t,k] = olstk.ssr()\n",
    "\n",
    "# guardemos el menor, y el threshold correspondiente\n",
    "ssr_min = SSRMat.min()        \n",
    "var_min = np.dot(((SSRMat==ssr_min).mean(axis=0)>0),np.arange(nvar))\n",
    "# ahora el threshold\n",
    "xk    = prexmat[:,var_min].copy()\n",
    "q05   = np.percentile(xk,5)\n",
    "q95   = np.percentile(xk,95)\n",
    "gridk = np.linspace(q05,q95,G)\n",
    "ixmin = np.argmin(SSRMat[:,var_min])\n",
    "thr_min = gridk[ixmin]\n",
    "print 'siguiente variable es: ', labs_x[var_min]\n",
    "print 'el punto de corte es: ', thr_min\n",
    "\n",
    "# grafiquémoslo\n",
    "SSRMat = pd.DataFrame(SSRMat, columns = labs_x)\n",
    "SSRMat.plot()        \n",
    "plt.legend(loc='best', fontsize=10)\n",
    "ymin, ymax = plt.ylim()\n",
    "plt.plot([ixmin, ixmin],[ymin,ymax], ls='--')\n",
    "#Actualicemos la lista donde guardamos el árbol\n",
    "Nodes.append([Nodes[0],[var_min,thr_min]])\n",
    "# Es útil guardar la región correspondiente al nodo que acabamos de explorar:\n",
    "# Las columnas corresponderán al orden de los nodos\n",
    "RegMat = np.concatenate((RegMat,ind_reg.reshape((N,1))),axis=1)"
   ]
  },
  {
   "cell_type": "code",
   "execution_count": 377,
   "metadata": {
    "collapsed": false,
    "slideshow": {
     "slide_type": "subslide"
    }
   },
   "outputs": [
    {
     "data": {
      "text/plain": [
       "0    1.0000\n",
       "1    0.2675\n",
       "2    0.7325\n",
       "3    0.1975\n",
       "4    0.0700\n",
       "5    0.2375\n",
       "6    0.4950\n",
       "dtype: float64"
      ]
     },
     "execution_count": 377,
     "metadata": {},
     "output_type": "execute_result"
    }
   ],
   "source": [
    "# Confirmemos que hemos venido haciendo bien los cortes\n",
    "pd.DataFrame(RegMat==1).mean()"
   ]
  },
  {
   "cell_type": "code",
   "execution_count": 378,
   "metadata": {
    "collapsed": false,
    "slideshow": {
     "slide_type": "subslide"
    }
   },
   "outputs": [
    {
     "data": {
      "text/plain": [
       "[[1, 3189.5166666666655],\n",
       " [[1, 3189.5166666666655], [1, 2724.1439393939386]],\n",
       " [[1, 3189.5166666666655], [1, 4663.1969696969682]],\n",
       " [[1, 3189.5166666666655], [0, 23.407902525252521]],\n",
       " [[1, 3189.5166666666655], [0, 26.810428282828276]],\n",
       " [[1, 3189.5166666666655], [0, 58.567335353535334]],\n",
       " [[1, 3189.5166666666655], [1, 5361.2560606060579]]]"
      ]
     },
     "execution_count": 378,
     "metadata": {},
     "output_type": "execute_result"
    }
   ],
   "source": [
    "Nodes"
   ]
  },
  {
   "cell_type": "code",
   "execution_count": 379,
   "metadata": {
    "collapsed": false,
    "slideshow": {
     "slide_type": "subslide"
    }
   },
   "outputs": [
    {
     "name": "stdout",
     "output_type": "stream",
     "text": [
      "siguiente variable es:  Ingreso\n",
      "el punto de corte es:  22.2737272727\n"
     ]
    },
    {
     "data": {
      "image/png": "[encoded data removed]",
      "text/plain": [
       "<matplotlib.figure.Figure at 0x110f66e90>"
      ]
     },
     "metadata": {},
     "output_type": "display_data"
    }
   ],
   "source": [
    "# Siguiente iteración\n",
    "# Primero: obtengamos el padre de este nodo\n",
    "padre  = Nodes[3][-1]\n",
    "# definamos la región donde queremos explorar:\n",
    "ind_reg = np.multiply(prexmat[:,padre[0]]  <= padre[1],\n",
    "                      RegMat[:,3])\n",
    "# podemos hacer un copy-paste del código anterior (sólo tenemos que tener cuidado con el ind_reg)\n",
    "#--------------------------------------\n",
    "# Queremos guardar los resultados acá\n",
    "SSRMat = np.zeros((G,nvar))\n",
    "for k in range(nvar):\n",
    "    # seleccionemos la variable\n",
    "    xk    = prexmat[:,k].copy()\n",
    "    # el grid va a ser sobre los percentiles 5% y 95%\n",
    "    q05   = np.percentile(xk,5)\n",
    "    q95   = np.percentile(xk,95)\n",
    "    gridk = np.linspace(q05,q95,G)\n",
    "    # empezamos el loop sobre el grid\n",
    "    for t in range(G):\n",
    "        dum_kt = 1.0*(np.asarray(xk>gridk[t]).reshape((N,1)))\n",
    "        # para condicionar que la búsqueda sea sobre ind_reg vamos a utilizar NaNs\n",
    "        # LA FUNCION OLS_DAN ELIMINA LAS FILAS DONDE HAY NANS\n",
    "        dum_kt[ind_reg==False] = np.nan\n",
    "        xmat   = np.concatenate((np.ones((N,1)), dum_kt),axis=1)\n",
    "        olstk  = ols.ols_dan(yy, xmat)\n",
    "        # guardemos el ssr\n",
    "        SSRMat[t,k] = olstk.ssr()\n",
    "\n",
    "# guardemos el menor, y el threshold correspondiente\n",
    "ssr_min = SSRMat.min()        \n",
    "var_min = np.dot(((SSRMat==ssr_min).mean(axis=0)>0),np.arange(nvar))\n",
    "# ahora el threshold\n",
    "xk    = prexmat[:,var_min].copy()\n",
    "q05   = np.percentile(xk,5)\n",
    "q95   = np.percentile(xk,95)\n",
    "gridk = np.linspace(q05,q95,G)\n",
    "ixmin = np.argmin(SSRMat[:,var_min])\n",
    "thr_min = gridk[ixmin]\n",
    "print 'siguiente variable es: ', labs_x[var_min]\n",
    "print 'el punto de corte es: ', thr_min\n",
    "\n",
    "# grafiquémoslo\n",
    "SSRMat = pd.DataFrame(SSRMat, columns = labs_x)\n",
    "SSRMat.plot()        \n",
    "plt.legend(loc='best', fontsize=10)\n",
    "ymin, ymax = plt.ylim()\n",
    "plt.plot([ixmin, ixmin],[ymin,ymax], ls='--')\n",
    "#Actualicemos la lista donde guardamos el árbol\n",
    "Nodes.append([Nodes[0],[var_min,thr_min]])\n",
    "# Es útil guardar la región correspondiente al nodo que acabamos de explorar:\n",
    "# Las columnas corresponderán al orden de los nodos\n",
    "RegMat = np.concatenate((RegMat,ind_reg.reshape((N,1))),axis=1)"
   ]
  },
  {
   "cell_type": "code",
   "execution_count": 380,
   "metadata": {
    "collapsed": false,
    "slideshow": {
     "slide_type": "subslide"
    }
   },
   "outputs": [
    {
     "name": "stdout",
     "output_type": "stream",
     "text": [
      "siguiente variable es:  Edad\n",
      "el punto de corte es:  29.0\n"
     ]
    },
    {
     "data": {
      "image/png": "[encoded data removed]",
      "text/plain": [
       "<matplotlib.figure.Figure at 0x10fe07710>"
      ]
     },
     "metadata": {},
     "output_type": "display_data"
    }
   ],
   "source": [
    "# Siguiente iteración\n",
    "# Primero: obtengamos el padre de este nodo\n",
    "padre  = Nodes[3][-1]\n",
    "# definamos la región donde queremos explorar:\n",
    "ind_reg = np.multiply(prexmat[:,padre[0]]  > padre[1],\n",
    "                      RegMat[:,3])\n",
    "# podemos hacer un copy-paste del código anterior (sólo tenemos que tener cuidado con el ind_reg)\n",
    "#--------------------------------------\n",
    "# Queremos guardar los resultados acá\n",
    "SSRMat = np.zeros((G,nvar))\n",
    "for k in range(nvar):\n",
    "    # seleccionemos la variable\n",
    "    xk    = prexmat[:,k].copy()\n",
    "    # el grid va a ser sobre los percentiles 5% y 95%\n",
    "    q05   = np.percentile(xk,5)\n",
    "    q95   = np.percentile(xk,95)\n",
    "    gridk = np.linspace(q05,q95,G)\n",
    "    # empezamos el loop sobre el grid\n",
    "    for t in range(G):\n",
    "        dum_kt = 1.0*(np.asarray(xk>gridk[t]).reshape((N,1)))\n",
    "        # para condicionar que la búsqueda sea sobre ind_reg vamos a utilizar NaNs\n",
    "        # LA FUNCION OLS_DAN ELIMINA LAS FILAS DONDE HAY NANS\n",
    "        dum_kt[ind_reg==False] = np.nan\n",
    "        xmat   = np.concatenate((np.ones((N,1)), dum_kt),axis=1)\n",
    "        olstk  = ols.ols_dan(yy, xmat)\n",
    "        # guardemos el ssr\n",
    "        SSRMat[t,k] = olstk.ssr()\n",
    "\n",
    "# guardemos el menor, y el threshold correspondiente\n",
    "ssr_min = SSRMat.min()        \n",
    "var_min = np.dot(((SSRMat==ssr_min).mean(axis=0)>0),np.arange(nvar))\n",
    "# ahora el threshold\n",
    "xk    = prexmat[:,var_min].copy()\n",
    "q05   = np.percentile(xk,5)\n",
    "q95   = np.percentile(xk,95)\n",
    "gridk = np.linspace(q05,q95,G)\n",
    "ixmin = np.argmin(SSRMat[:,var_min])\n",
    "thr_min = gridk[ixmin]\n",
    "print 'siguiente variable es: ', labs_x[var_min]\n",
    "print 'el punto de corte es: ', thr_min\n",
    "\n",
    "# grafiquémoslo\n",
    "SSRMat = pd.DataFrame(SSRMat, columns = labs_x)\n",
    "SSRMat.plot()        \n",
    "plt.legend(loc='best', fontsize=10)\n",
    "ymin, ymax = plt.ylim()\n",
    "plt.plot([ixmin, ixmin],[ymin,ymax], ls='--')\n",
    "#Actualicemos la lista donde guardamos el árbol\n",
    "Nodes.append([Nodes[0],[var_min,thr_min]])\n",
    "# Es útil guardar la región correspondiente al nodo que acabamos de explorar:\n",
    "# Las columnas corresponderán al orden de los nodos\n",
    "RegMat = np.concatenate((RegMat,ind_reg.reshape((N,1))),axis=1)"
   ]
  },
  {
   "cell_type": "code",
   "execution_count": 381,
   "metadata": {
    "collapsed": false
   },
   "outputs": [
    {
     "name": "stdout",
     "output_type": "stream",
     "text": [
      "siguiente variable es:  Ingreso\n",
      "el punto de corte es:  15.4686757576\n"
     ]
    },
    {
     "data": {
      "image/png": "[encoded data removed]",
      "text/plain": [
       "<matplotlib.figure.Figure at 0x10ee6e0d0>"
      ]
     },
     "metadata": {},
     "output_type": "display_data"
    }
   ],
   "source": [
    "# Siguiente iteración\n",
    "# Primero: obtengamos el padre de este nodo\n",
    "padre  = Nodes[4][-1]\n",
    "# definamos la región donde queremos explorar:\n",
    "ind_reg = np.multiply(prexmat[:,padre[0]]  <= padre[1],\n",
    "                      RegMat[:,4])\n",
    "# podemos hacer un copy-paste del código anterior (sólo tenemos que tener cuidado con el ind_reg)\n",
    "#--------------------------------------\n",
    "# Queremos guardar los resultados acá\n",
    "SSRMat = np.zeros((G,nvar))\n",
    "for k in range(nvar):\n",
    "    # seleccionemos la variable\n",
    "    xk    = prexmat[:,k].copy()\n",
    "    # el grid va a ser sobre los percentiles 5% y 95%\n",
    "    q05   = np.percentile(xk,5)\n",
    "    q95   = np.percentile(xk,95)\n",
    "    gridk = np.linspace(q05,q95,G)\n",
    "    # empezamos el loop sobre el grid\n",
    "    for t in range(G):\n",
    "        dum_kt = 1.0*(np.asarray(xk>gridk[t]).reshape((N,1)))\n",
    "        # para condicionar que la búsqueda sea sobre ind_reg vamos a utilizar NaNs\n",
    "        # LA FUNCION OLS_DAN ELIMINA LAS FILAS DONDE HAY NANS\n",
    "        dum_kt[ind_reg==False] = np.nan\n",
    "        xmat   = np.concatenate((np.ones((N,1)), dum_kt),axis=1)\n",
    "        olstk  = ols.ols_dan(yy, xmat)\n",
    "        # guardemos el ssr\n",
    "        SSRMat[t,k] = olstk.ssr()\n",
    "\n",
    "# guardemos el menor, y el threshold correspondiente\n",
    "ssr_min = SSRMat.min()        \n",
    "var_min = np.dot(((SSRMat==ssr_min).mean(axis=0)>0),np.arange(nvar))\n",
    "# ahora el threshold\n",
    "xk    = prexmat[:,var_min].copy()\n",
    "q05   = np.percentile(xk,5)\n",
    "q95   = np.percentile(xk,95)\n",
    "gridk = np.linspace(q05,q95,G)\n",
    "ixmin = np.argmin(SSRMat[:,var_min])\n",
    "thr_min = gridk[ixmin]\n",
    "print 'siguiente variable es: ', labs_x[var_min]\n",
    "print 'el punto de corte es: ', thr_min\n",
    "\n",
    "# grafiquémoslo\n",
    "SSRMat = pd.DataFrame(SSRMat, columns = labs_x)\n",
    "SSRMat.plot()        \n",
    "plt.legend(loc='best', fontsize=10)\n",
    "ymin, ymax = plt.ylim()\n",
    "plt.plot([ixmin, ixmin],[ymin,ymax], ls='--')\n",
    "#Actualicemos la lista donde guardamos el árbol\n",
    "Nodes.append([Nodes[0],[var_min,thr_min]])\n",
    "# Es útil guardar la región correspondiente al nodo que acabamos de explorar:\n",
    "# Las columnas corresponderán al orden de los nodos\n",
    "RegMat = np.concatenate((RegMat,ind_reg.reshape((N,1))),axis=1)"
   ]
  },
  {
   "cell_type": "code",
   "execution_count": 382,
   "metadata": {
    "collapsed": false,
    "slideshow": {
     "slide_type": "subslide"
    }
   },
   "outputs": [
    {
     "name": "stdout",
     "output_type": "stream",
     "text": [
      "siguiente variable es:  Educación\n",
      "el punto de corte es:  16.2828282828\n"
     ]
    },
    {
     "data": {
      "image/png": "[encoded data removed]",
      "text/plain": [
       "<matplotlib.figure.Figure at 0x110ad7e10>"
      ]
     },
     "metadata": {},
     "output_type": "display_data"
    }
   ],
   "source": [
    "# Siguiente iteración\n",
    "# Primero: obtengamos el padre de este nodo\n",
    "padre  = Nodes[4][-1]\n",
    "# definamos la región donde queremos explorar:\n",
    "ind_reg = np.multiply(prexmat[:,padre[0]]  > padre[1],\n",
    "                      RegMat[:,4])\n",
    "# podemos hacer un copy-paste del código anterior (sólo tenemos que tener cuidado con el ind_reg)\n",
    "#--------------------------------------\n",
    "# Queremos guardar los resultados acá\n",
    "SSRMat = np.zeros((G,nvar))\n",
    "for k in range(nvar):\n",
    "    # seleccionemos la variable\n",
    "    xk    = prexmat[:,k].copy()\n",
    "    # el grid va a ser sobre los percentiles 5% y 95%\n",
    "    q05   = np.percentile(xk,5)\n",
    "    q95   = np.percentile(xk,95)\n",
    "    gridk = np.linspace(q05,q95,G)\n",
    "    # empezamos el loop sobre el grid\n",
    "    for t in range(G):\n",
    "        dum_kt = 1.0*(np.asarray(xk>gridk[t]).reshape((N,1)))\n",
    "        # para condicionar que la búsqueda sea sobre ind_reg vamos a utilizar NaNs\n",
    "        # LA FUNCION OLS_DAN ELIMINA LAS FILAS DONDE HAY NANS\n",
    "        dum_kt[ind_reg==False] = np.nan\n",
    "        xmat   = np.concatenate((np.ones((N,1)), dum_kt),axis=1)\n",
    "        olstk  = ols.ols_dan(yy, xmat)\n",
    "        # guardemos el ssr\n",
    "        SSRMat[t,k] = olstk.ssr()\n",
    "\n",
    "# guardemos el menor, y el threshold correspondiente\n",
    "ssr_min = SSRMat.min()        \n",
    "var_min = np.dot(((SSRMat==ssr_min).mean(axis=0)>0),np.arange(nvar))\n",
    "# ahora el threshold\n",
    "xk    = prexmat[:,var_min].copy()\n",
    "q05   = np.percentile(xk,5)\n",
    "q95   = np.percentile(xk,95)\n",
    "gridk = np.linspace(q05,q95,G)\n",
    "ixmin = np.argmin(SSRMat[:,var_min])\n",
    "thr_min = gridk[ixmin]\n",
    "print 'siguiente variable es: ', labs_x[var_min]\n",
    "print 'el punto de corte es: ', thr_min\n",
    "\n",
    "# grafiquémoslo\n",
    "SSRMat = pd.DataFrame(SSRMat, columns = labs_x)\n",
    "SSRMat.plot()        \n",
    "plt.legend(loc='best', fontsize=10)\n",
    "ymin, ymax = plt.ylim()\n",
    "plt.plot([ixmin, ixmin],[ymin,ymax], ls='--')\n",
    "#Actualicemos la lista donde guardamos el árbol\n",
    "Nodes.append([Nodes[0],[var_min,thr_min]])\n",
    "# Es útil guardar la región correspondiente al nodo que acabamos de explorar:\n",
    "# Las columnas corresponderán al orden de los nodos\n",
    "RegMat = np.concatenate((RegMat,ind_reg.reshape((N,1))),axis=1)"
   ]
  },
  {
   "cell_type": "code",
   "execution_count": 383,
   "metadata": {
    "collapsed": false,
    "slideshow": {
     "slide_type": "subslide"
    }
   },
   "outputs": [
    {
     "name": "stdout",
     "output_type": "stream",
     "text": [
      "siguiente variable es:  Ingreso\n",
      "el punto de corte es:  52.8964590909\n"
     ]
    },
    {
     "data": {
      "image/png": "[encoded data removed]",
      "text/plain": [
       "<matplotlib.figure.Figure at 0x10fa725d0>"
      ]
     },
     "metadata": {},
     "output_type": "display_data"
    }
   ],
   "source": [
    "# Siguiente iteración\n",
    "# Primero: obtengamos el padre de este nodo\n",
    "padre  = Nodes[5][-1]\n",
    "# definamos la región donde queremos explorar:\n",
    "ind_reg = np.multiply(prexmat[:,padre[0]]  <= padre[1],\n",
    "                      RegMat[:,5])\n",
    "# podemos hacer un copy-paste del código anterior (sólo tenemos que tener cuidado con el ind_reg)\n",
    "#--------------------------------------\n",
    "# Queremos guardar los resultados acá\n",
    "SSRMat = np.zeros((G,nvar))\n",
    "for k in range(nvar):\n",
    "    # seleccionemos la variable\n",
    "    xk    = prexmat[:,k].copy()\n",
    "    # el grid va a ser sobre los percentiles 5% y 95%\n",
    "    q05   = np.percentile(xk,5)\n",
    "    q95   = np.percentile(xk,95)\n",
    "    gridk = np.linspace(q05,q95,G)\n",
    "    # empezamos el loop sobre el grid\n",
    "    for t in range(G):\n",
    "        dum_kt = 1.0*(np.asarray(xk>gridk[t]).reshape((N,1)))\n",
    "        # para condicionar que la búsqueda sea sobre ind_reg vamos a utilizar NaNs\n",
    "        # LA FUNCION OLS_DAN ELIMINA LAS FILAS DONDE HAY NANS\n",
    "        dum_kt[ind_reg==False] = np.nan\n",
    "        xmat   = np.concatenate((np.ones((N,1)), dum_kt),axis=1)\n",
    "        olstk  = ols.ols_dan(yy, xmat)\n",
    "        # guardemos el ssr\n",
    "        SSRMat[t,k] = olstk.ssr()\n",
    "\n",
    "# guardemos el menor, y el threshold correspondiente\n",
    "ssr_min = SSRMat.min()        \n",
    "var_min = np.dot(((SSRMat==ssr_min).mean(axis=0)>0),np.arange(nvar))\n",
    "# ahora el threshold\n",
    "xk    = prexmat[:,var_min].copy()\n",
    "q05   = np.percentile(xk,5)\n",
    "q95   = np.percentile(xk,95)\n",
    "gridk = np.linspace(q05,q95,G)\n",
    "ixmin = np.argmin(SSRMat[:,var_min])\n",
    "thr_min = gridk[ixmin]\n",
    "print 'siguiente variable es: ', labs_x[var_min]\n",
    "print 'el punto de corte es: ', thr_min\n",
    "\n",
    "# grafiquémoslo\n",
    "SSRMat = pd.DataFrame(SSRMat, columns = labs_x)\n",
    "SSRMat.plot()        \n",
    "plt.legend(loc='best', fontsize=10)\n",
    "ymin, ymax = plt.ylim()\n",
    "plt.plot([ixmin, ixmin],[ymin,ymax], ls='--')\n",
    "#Actualicemos la lista donde guardamos el árbol\n",
    "Nodes.append([Nodes[0],[var_min,thr_min]])\n",
    "# Es útil guardar la región correspondiente al nodo que acabamos de explorar:\n",
    "# Las columnas corresponderán al orden de los nodos\n",
    "RegMat = np.concatenate((RegMat,ind_reg.reshape((N,1))),axis=1)"
   ]
  },
  {
   "cell_type": "code",
   "execution_count": 384,
   "metadata": {
    "collapsed": false,
    "slideshow": {
     "slide_type": "subslide"
    }
   },
   "outputs": [
    {
     "name": "stdout",
     "output_type": "stream",
     "text": [
      "3.0\n"
     ]
    }
   ],
   "source": [
    "# Siguiente iteración\n",
    "# Primero: obtengamos el padre de este nodo\n",
    "padre  = Nodes[5][-1]\n",
    "# definamos la región donde queremos explorar:\n",
    "ind_reg = np.multiply(prexmat[:,padre[0]]  > padre[1],\n",
    "                      RegMat[:,5])\n",
    "# miremos que tenemos el mínimo de observaciones necesario\n",
    "print ind_reg.sum()\n"
   ]
  },
  {
   "cell_type": "markdown",
   "metadata": {
    "slideshow": {
     "slide_type": "subslide"
    }
   },
   "source": [
    "# Resumen del algoritmo:\n",
    "\n",
    "* Ya vimos que el proceso es simple pero tiene una única complicación:\n",
    "\n",
    "> **Es fundamental saber en qué región estamos explorando (RegMat) y en qué nodo estamos**\n",
    "\n",
    "\n",
    "* La región, nodos y sus antescesores fueron actualizados iterativamente, explorando el árbol de arriba a abajo (naturalmente) y de izquierda a derecha (esto no es necesario, se puede hacer una exploración por ramas).\n",
    "\n",
    "\n",
    "* Un algoritmo haría esto con un loop."
   ]
  },
  {
   "cell_type": "markdown",
   "metadata": {
    "slideshow": {
     "slide_type": "subslide"
    }
   },
   "source": [
    "# ¿Cómo funciona el algoritmo con variables categóricas?\n",
    "\n",
    "\n",
    "* Las iteraciones anteriores se hicieron con variables continuas.\n",
    "\n",
    "\n",
    "* Para cada variable $k$, se evaluaron diferentes puntos de corte $t_{kj}$, y se calcularon variables dummies $X_k \\leq t_{kj}$.\n",
    "\n",
    "\n",
    "* Pero esto no se puede hacer con variables categóricas.\n",
    "\n",
    "\n",
    "* Tomemos el caso de una variable dummy $D_i \\in \\{0,1\\}$.\n",
    "\n",
    "\n",
    "* En este caso el grid tiene sólo dos valores, así que es inmediato calcular el $SSR$:\n",
    "\n",
    "$$\n",
    "\\sum_i (y_i - c_{D=0})^2 + (y_i - c_{D=1})^2\n",
    "$$\n",
    "\n",
    "\n",
    "* O en nuestro algoritmo, corremos la regresión \n",
    "$$\n",
    "y_i = \\alpha + \\beta D_i + \\epsilon_i\n",
    "$$\n",
    "\n",
    "y guardamos el $SSR$ correspondiente.\n",
    "\n",
    "\n",
    "* En el caso de más de dos categorías incluimos todas las variables dummy correspondientes *excluyendo* la categoría de referencia."
   ]
  },
  {
   "cell_type": "markdown",
   "metadata": {
    "slideshow": {
     "slide_type": "subslide"
    }
   },
   "source": [
    "# CART con Scikit-learn\n",
    "\n",
    "\n",
    "* Ya vimos cómo funciona el algoritmo.\n",
    "\n",
    "\n",
    "* Una ventaja que tiene usar Scikit-learn es que nos permite estimar un CART fácilmente, pero sobre todo **visualizarlo**.\n",
    "\n",
    "\n",
    "* El proceso no es inmediato: se necesita tener instalado [Graphviz](http://www.graphviz.org/).\n",
    "\n",
    "\n",
    "* Yo instalé [esta versión (Mac OS)](http://www.ryandesign.com/graphviz/) y tuve que actualizar mi [XQuartz](http://xquartz.macosforge.org/).\n",
    "\n",
    "\n",
    "* También instalé la versión de Windows.\n",
    "\n",
    "\n",
    "* Una vez instalado tienen que incluir la carpeta en el `PATH`."
   ]
  },
  {
   "cell_type": "code",
   "execution_count": 14,
   "metadata": {
    "collapsed": false,
    "slideshow": {
     "slide_type": "subslide"
    }
   },
   "outputs": [],
   "source": [
    "from sklearn import tree\n",
    "clf = tree.DecisionTreeRegressor(max_depth=3)\n",
    "clf = clf.fit(prexmat, yy)\n",
    "labs_x = np.array(['Ingreso',u'CredLim',u'NumTarjetas','Edad',u'Edu'])\n",
    "\n",
    "\n",
    "tree.export_graphviz(clf,out_file='tree.dot', feature_names=labs_x) "
   ]
  },
  {
   "cell_type": "markdown",
   "metadata": {
    "slideshow": {
     "slide_type": "subslide"
    }
   },
   "source": [
    "# Graphviz\n",
    "\n",
    "* Una vez tenemos el archivo `tree.dot` necesitamos la función `dot` de Graphviz para convertirlo a `.png`:\n",
    "\n",
    "\n",
    "* Ver [la documentación oficial](http://scikit-learn.org/stable/modules/generated/sklearn.tree.export_graphviz.html).\n",
    "\n",
    "\n",
    "* Dada mi instalación de Graphviz (y que no cambié el path), tuve que hacer lo siguiente:\n",
    "\n",
    "\n",
    ">  `/usr/local/graphviz-2.14/bin/dot -Tpng tree.dot -o tree.png`\n",
    "\n",
    "\n"
   ]
  },
  {
   "cell_type": "markdown",
   "metadata": {
    "slideshow": {
     "slide_type": "subslide"
    }
   },
   "source": [
    " ![caption](figures/tree4.png)"
   ]
  },
  {
   "cell_type": "markdown",
   "metadata": {
    "slideshow": {
     "slide_type": "slide"
    }
   },
   "source": [
    "# Modelos de *Clasificación*\n",
    "\n",
    "* Como su nombre lo indica, los CART sirven también para clasificar.\n",
    "\n",
    "\n",
    "* Supongamos que tenemos $K \\geq 2$ categorías.\n",
    "\n",
    "\n",
    "* Al igual que en el caso de regresión, cada nodo $m$ representa una región $R_m$ con $n_m$ observaciones.\n",
    "\n",
    "\n",
    "* Definamos la probabilidad de asignar correctamente a categoría $k$ en el nodo $m$: \n",
    "\n",
    "$$\n",
    "\\hat{p}_{mk} = \\frac{1}{n_m} \\sum_{x_i \\in R_m} I(y_{i}=k) \n",
    "$$\n",
    "\n",
    "\n",
    "* En el nodo $m$ clasificamos una observación en la categoría \n",
    "\n",
    "$$\n",
    "k(m) = \\arg \\max_{k} \\hat{p}_{km}\n",
    "$$"
   ]
  },
  {
   "cell_type": "markdown",
   "metadata": {
    "slideshow": {
     "slide_type": "subslide"
    }
   },
   "source": [
    "# Métricas de ajuste o pureza\n",
    "\n",
    "\n",
    "* En regresión utilizamos el $SSR$ para seleccionar la región y el regresor correspondiente.\n",
    "\n",
    "\n",
    "* En clasificación hay tres candidatos (pero sólo se utilizan los últimos dos):\n",
    "\n",
    "\n",
    "**Error de Clasificación:**\n",
    "\n",
    "$$\n",
    "\\frac{1}{n_m} \\sum_{x_i \\in R_m} I (y_i \\neq k(m)) = 1- \\hat{p}_{mk(m)}\n",
    "$$\n",
    "\n",
    "\n",
    "**Índice de Gini** (no confundir con el coeficiente de Gini!):\n",
    "\n",
    "$$\n",
    "\\sum_k \\hat{p}_{mk}(1-\\hat{p}_{mk}) = 1 - \\sum_k \\hat{p}_{mk}^2\n",
    "$$\n",
    "\n",
    "\n",
    "**Entropía cruzada o *deviance*:**\n",
    "\n",
    "$$\n",
    "- \\sum_k \\hat{p}_{mk} \\log(\\hat{p}_{mk})\n",
    "$$\n",
    "\n",
    "\n",
    "* Intuitivamente un nodo es *puro* cuando las observaciones se clasifican en una sola categoría.\n",
    "\n",
    "\n"
   ]
  },
  {
   "cell_type": "markdown",
   "metadata": {
    "slideshow": {
     "slide_type": "subslide"
    }
   },
   "source": [
    "# En el caso de 2 categorías\n",
    "\n",
    "![caption](figures/purity.png)\n",
    "\n",
    "[Figura 9.3 de ESL](http://statweb.stanford.edu/~tibs/ElemStatLearn.1stEd/)"
   ]
  },
  {
   "cell_type": "markdown",
   "metadata": {
    "slideshow": {
     "slide_type": "subslide"
    }
   },
   "source": [
    "# Interpretación\n",
    "\n",
    "\n",
    "* El *Índice de Gini* es muy bajo cuando todos los $\\hat{p}_{mk}$ están cerca a cero o a uno.\n",
    "\n",
    "> **Por esto se considera que es una medida de la *pureza* del nodo.  \n",
    "Un valor bajo significa que se clasifican las observaciones predominantemente en una categoría.**\n",
    "\n",
    "> Se puede interpretar como la varianza en la clasificación: deseamos alta pureza y baja varianza.\n",
    "\n",
    "* La *entropía cruzada* siempre es positiva:  \n",
    "\n",
    "$$\n",
    "\\hat{p}_{mk} \\in [0,1] \\implies \\log(\\hat{p}_{mk}) <0\n",
    "$$\n",
    "\n",
    "\n",
    "> También es muy bajo cuando todos los $\\hat{p}_{mk}$ están cerca a cero o uno."
   ]
  },
  {
   "cell_type": "markdown",
   "metadata": {
    "slideshow": {
     "slide_type": "subslide"
    }
   },
   "source": [
    "# Cómo se calcula la \"impureza\" de un nodo\n",
    "\n",
    "\n",
    "* Tomemos como ejemplo el primer nodo (raíz o inicial).\n",
    "\n",
    "\n",
    "* En ese nodo no hay restricciones sobre el espacio de regresores, así que tomamos la probabilidad incondicional:\n",
    "\n",
    "\n",
    "* **Veamos el caso del Gini (la entropía es análogo)**:\n",
    "\n",
    "$$\n",
    "\\begin{eqnarray*}\n",
    "Gini_{root} &=& 1 - \\hat{Prob}(y=1)^2 - \\hat{Prob}(y=0)^2 \\\\\n",
    "&=& 1 - \\left( \\frac{\\# \\{y_i = 1 \\}}{N}\\right)^2 - \\left( \\frac{\\# \\{y_i = 0\\}}{N}\\right)^2\n",
    "\\end{eqnarray*}\n",
    "$$\n",
    "\n",
    "\n",
    "* Si sólo tenemos observaciones con $y=1$ o $y=2$, tenemos un nodo raíz totalmente puro y el Gini es uno."
   ]
  },
  {
   "cell_type": "markdown",
   "metadata": {},
   "source": [
    "# Cómo seleccionamos el primer corte: variable continua\n",
    "\n",
    "\n",
    "\n",
    "* Supongamos que tenemos una candidata $X_1$ que es una variable continua que toma valores en el rango $[\\underline{x}, \\bar{x} ]$\n",
    "\n",
    "\n",
    "* Tomemos un punto de corte candidato $\\psi \\in [\\underline{x}, \\bar{x} ]$\n",
    "\n",
    "\n",
    "* Este punto de corte genera dos regiones \n",
    "$$\n",
    "R_l = X_1 \\times \\cdots \\times X_p |_{X_1 \\leq \\psi} \\\\\n",
    "R_r = X_1 \\times \\cdots \\times X_p |_{X_1 > \\psi}\n",
    "$$\n",
    "\n",
    "* Así que tenemos dos Ginis, uno para $R_l$ y otro para $R_r$:\n",
    "\n",
    "$$\n",
    "G_l = 1 - \\hat{Prob}(y=1|R_l)^2 - \\hat{Prob}(y=0|R_l)^2 \\\\\n",
    "G_r = 1 - \\hat{Prob}(y=1|R_r)^2 - \\hat{Prob}(y=0|R_r)^2 \\\\\n",
    "$$\n",
    "\n",
    "\n",
    "* El Gini asociado no es más que el *valor esperado* (condicional al nodo padre, que en este caso es la raíz)\n",
    "\n",
    "$$\n",
    "E(G) = prob(R_l)G_l + prob(R_r)G_r\n",
    "$$\n",
    "\n",
    "donde $prob(R_l)$ es la fracción de observaciones que están en $R_l$, es decir \n",
    "$$\n",
    "\\frac{\\#\\{i: x_{1i} \\leq \\psi \\}}{N}\n",
    "$$\n",
    "\n",
    "\n",
    "* El *loop* busca todos los posibles $\\phi_k$, y obtiene, para cada variable, el corte que minimiza el índice de Gini.\n",
    "\n",
    "\n",
    "* Al final seleccionamos la variable que tenga el menor Gini, y su punto de corte correspondiente."
   ]
  },
  {
   "cell_type": "markdown",
   "metadata": {
    "slideshow": {
     "slide_type": "subslide"
    }
   },
   "source": [
    "# Qué pasa en los siguientes cortes?\n",
    "\n",
    "\n",
    "\n",
    "* El proceso continua, pero hay que tener en cuenta que las probabilidades son condicionales a estar en la región actual.\n",
    "\n",
    "\n",
    "* En cada corte hay dos pasos:\n",
    "\n",
    "    * **Cálculo del Gini de cada rama**: hay que condicionar por $R_p \\cap R_{rama}$, donde $R_p$ es la región del nodo padre.\n",
    "\n",
    "    * **Cálculo de las probabilides condicionales**: \n",
    "\n",
    "\n",
    "así, en la rama izquierda del nodo $p$\n",
    "$$\n",
    "prob(R_l|R_p) = \\frac{\\#\\{i: x_{1i} \\leq \\psi \\wedge i \\in R_p\\}}{N_p}\n",
    "$$\n"
   ]
  },
  {
   "cell_type": "code",
   "execution_count": 114,
   "metadata": {
    "collapsed": false,
    "slideshow": {
     "slide_type": "subslide"
    }
   },
   "outputs": [],
   "source": [
    "# veamos un ejemplo\n",
    "#data  = pd.read_excel('//Users//danielvaughan//Documents//Clase CIDE//Slides//Analitica//datasets//data_tarea6.xlsx')\n",
    "data  = pd.read_excel('E:\\\\Slides\\\\Analitica\\\\datasets\\\\data_tarea6.xlsx')\n",
    "\n",
    "N  = data.shape[0]\n",
    "nobs = N\n",
    "yy    = 1*np.asarray(data.UN_MESES_SINPAGO>0).reshape((nobs,1))\n",
    "male  = 1*np.asarray(data.SEXO=='M').reshape((nobs,1))\n",
    "edad  = np.asarray(data.EDAD_CLIENTE).reshape((nobs,1))\n",
    "payr  = np.asarray(data.PAYRATIO_PROM_6M_ANTES).reshape((nobs,1))\n",
    "saldo = np.asarray(data.BALANCE_PROM_6M_ANTES).reshape((nobs,1))\n",
    "uso   = np.asarray(data.USOVECES_PROM_6M_ANTES).reshape((nobs,1))\n",
    "score = np.asarray(data.SCORE_LAST).reshape((nobs,1)).astype('float')\n",
    "score[score<0] = np.nan\n",
    "# regresores continuos\n",
    "prexmat = np.concatenate((edad, payr, saldo, uso, score,male),axis=1)\n",
    "labs_x  = np.array(['Edad','PayR','Saldo','Uso','Score','Hombre'])\n",
    "nvar = prexmat.shape[1]"
   ]
  },
  {
   "cell_type": "code",
   "execution_count": 153,
   "metadata": {
    "collapsed": false,
    "slideshow": {
     "slide_type": "subslide"
    }
   },
   "outputs": [
    {
     "data": {
      "text/plain": [
       "<matplotlib.text.Text at 0x1a1d12e8>"
      ]
     },
     "execution_count": 153,
     "metadata": {},
     "output_type": "execute_result"
    },
    {
     "data": {
      "image/png": "[encoded data removed]",
      "text/plain": [
       "<matplotlib.figure.Figure at 0x1a1f45f8>"
      ]
     },
     "metadata": {},
     "output_type": "display_data"
    }
   ],
   "source": [
    "G = 50\n",
    "ImpMat  = np.zeros((G,nvar))\n",
    "for k in range(nvar):\n",
    "    # seleccionemos la variable\n",
    "    xk    = prexmat[:,k].copy()\n",
    "    # miremos si es continua (ordinal) o categórica (en este caso sólo dos categorías)\n",
    "    cont_chk = pd.Series(xk).unique().shape[0]>2\n",
    "    if cont_chk==True:\n",
    "        # el grid va a ser sobre los percentiles 5% y 95%\n",
    "        q05   = np.percentile(pd.Series(xk).dropna(),5)\n",
    "        q95   = np.percentile(pd.Series(xk).dropna(),95)\n",
    "        gridk = np.linspace(q05,q95,G)\n",
    "        # empezamos el loop sobre el grid\n",
    "        for t in range(G):\n",
    "            # Definamos la región actual\n",
    "            dum_kt = (np.asarray(xk<=gridk[t])).flatten()\n",
    "            # NaNs de la región deben corresponder a las variables\n",
    "            dum_kt[np.isnan(xk)] = np.nan\n",
    "            #---------------------------------------\n",
    "            # Ahora miremos las medidas de impurity:\n",
    "            #---------------------------------------\n",
    "            # Primero: las probabilidades de caer a la izquierda o derecha \n",
    "            frac_l = (dum_kt==True).mean()\n",
    "            frac_r = (dum_kt==False).mean()\n",
    "            # Segundo: Probabilidad condicional de estar en la categoría 1 (en el corte actual)\n",
    "            p_mk_l = np.nanmean(yy[dum_kt==True])\n",
    "            p_mk_r = np.nanmean(yy[dum_kt==False])\n",
    "            # 1. Gini en cada lado del nodo\n",
    "            gini_l = 1 - p_mk_l**2 - (1-p_mk_l)**2\n",
    "            gini_r = 1 - p_mk_r**2 - (1-p_mk_r)**2\n",
    "            sum_gini    = frac_l*gini_l + frac_r*gini_r\n",
    "            ImpMat[t,k] = sum_gini\n",
    "    else:\n",
    "        # Para las variables categóricas: cada región es una categoría\n",
    "        # En este caso (hombre=1) se que los valores son 1 y cero\n",
    "        dum_kt = (xk==True)\n",
    "        dum_kt[np.isnan(xk)] = np.nan\n",
    "        # Primero: las probabilidades de caer a la izquierda o derecha \n",
    "        frac_l = (dum_kt==True).mean()\n",
    "        frac_r = (dum_kt==False).mean()\n",
    "        # Segundo: Probabilidad condicional de estar en la categoría 1 (en el corte actual)\n",
    "        p_mk_l = np.nanmean(yy[dum_kt==True])\n",
    "        p_mk_r = np.nanmean(yy[dum_kt==False])\n",
    "        # 1. Gini en cada lado del nodo\n",
    "        gini_l = 1 - p_mk_l**2 - (1-p_mk_l)**2\n",
    "        gini_r = 1 - p_mk_r**2 - (1-p_mk_r)**2\n",
    "        sum_gini    = frac_l*gini_l + frac_r*gini_r\n",
    "        ImpMat[:,k] = sum_gini\n",
    "\n",
    "pd.DataFrame(ImpMat, columns = labs_x).plot()\n",
    "plt.legend(loc='best', fontsize=11)\n",
    "plt.ylabel('Gini Impurity')"
   ]
  },
  {
   "cell_type": "markdown",
   "metadata": {
    "collapsed": false,
    "slideshow": {
     "slide_type": "slide"
    }
   },
   "source": [
    "# Temas Adicionales de Árboles:\n",
    "\n",
    "## 1. Qué tan grande debe ser un árbol\n",
    "\n",
    "## 2. Bagging\n",
    "\n",
    "## 3. Random Forests\n",
    "\n",
    "Estos temas son un poco más avanzados, así que los veremos un poco más superficialmente.  Quiénes estén interesados en profundizar en estos temas pueden ver las referencias del principio."
   ]
  },
  {
   "cell_type": "markdown",
   "metadata": {
    "slideshow": {
     "slide_type": "slide"
    }
   },
   "source": [
    "# Qué tan grande debe ser un árbol\n",
    "\n",
    "\n",
    "* Arriba vimos cómo hacer crecer un árbol de regresión o de clasificación.\n",
    "\n",
    "\n",
    "* La pregunta es qué tan grande debe ser el árbol.\n",
    "\n",
    "\n",
    "* Una primer criterio es que el árbol debe crecer hasta que haya por lo menos un mínimo de observaciones en cada región.\n",
    "\n",
    "    * Por ejemplo: cada región debe tener al menos cinco observaciones.\n",
    "    \n",
    "\n",
    "* Hay que recordar que cada rama adicional *restringe* el espacio de los regresores donde exploramos.\n",
    "\n",
    "\n",
    "* Las regiones que se forman están anidadas en el sentido que la región generada por un nodo está estrictamente contenida por la región del padre de este nodo (de su antecesor).\n",
    "\n",
    "$$\n",
    "R_{p(n)} \\subset R_n\n",
    "$$\n",
    "\n",
    "* Esto garantiza que los árboles no pueden crecer indefinidamente."
   ]
  },
  {
   "cell_type": "markdown",
   "metadata": {
    "slideshow": {
     "slide_type": "subslide"
    }
   },
   "source": [
    "# Cost-complexity Pruning\n",
    "\n",
    "\n",
    "* Una vez que crecemos un árbol lo suficientemente grande podemos proceder a podarlo.\n",
    "\n",
    "\n",
    "* En la terminología de árboles de decisión esto se conoce como *poda* o **pruning**.\n",
    "\n",
    "\n",
    "* Hay varios métodos pero acá vamos a ver uno ampliamente utilizado: *cost-complexity pruning*\n",
    "\n",
    "\n",
    "* La intuición del método es sencilla:\n",
    "\n",
    "\n",
    "* A medida que crecemos un árbol, cae el sesgo pero aumenta la varianza de la estimación.\n",
    "\n",
    "    * El argumento es igual al utilizado cuando hablamos de sobreajuste polinomial.\n",
    "\n",
    "\n",
    "* Vamos a buscar una forma de penalizar nuestra función objetivo para que balancee el tradeoff entre un mayor ajuste y una mayor complejidad.\n",
    "\n",
    "\n",
    "* En el caso de regresión, crecimos árboles que minimicen el MSE, o equivalentemente, la suma de residuos al cuadrado (SSR).\n",
    "\n",
    "\n",
    "\n",
    "$$\n",
    "SSR_{\\alpha}(T) = SSR(T) + \\alpha |T|\n",
    "$$\n",
    "\n",
    "\n",
    "donde $|T|$ denota el número de *nodos terminales o finales* del árbol $T$, y $\\alpha$ es un parámetro de penalización (que buscaremos óptimamente por validación cruzada)."
   ]
  },
  {
   "cell_type": "markdown",
   "metadata": {
    "slideshow": {
     "slide_type": "subslide"
    }
   },
   "source": [
    "# Cómo se podan los árboles?  \n",
    "\n",
    "\n",
    "*  Cada nodo no terminal genera un subárbol:\n",
    "\n",
    "![caption](figures/pruning.png)\n",
    " \n",
    "(Tomado de [acá](http://www.uni-weimar.de/medien/webis/teaching/lecturenotes/machine-learning/unit-en-decision-trees-pruning.pdf)) \n",
    "\n",
    "\n",
    "* Así, si eliminamos un subárbol (dejando como nodo terminal el nodo inicial del subárbol) obtenemos versiones menos complejas del árbol que crecimos originalmente.\n",
    "\n",
    "\n",
    "* Se puede mostrar que para cada valor de $\\alpha$ hay un subárbol óptimo (que minimiza $SSR_{\\alpha}(T)$)."
   ]
  },
  {
   "cell_type": "markdown",
   "metadata": {
    "slideshow": {
     "slide_type": "subslide"
    }
   },
   "source": [
    "# Podando los árboles\n",
    "\n",
    "\n",
    "* Hay algoritmos eficientes que permiten construir una sucesión anidada de árboles óptimos para cada valor de $\\alpha$.\n",
    "\n",
    "    * Ver [acá](http://www.cs.uu.nl/docs/vakken/mdm/trees.pdf) o [acá](http://sites.stat.psu.edu/~jiali/course/stat597e/notes2/trees2.pdf), por ejemplo.\n",
    "\n",
    "\n",
    "* Aunque Scikit-learn no permite *pruning* en su versión actual, hay alternativas compatibles con este módulo.\n",
    "\n",
    "    * Ver [acá](https://github.com/sgenoud/scikit-learn/blob/4a75a4aaebd45e864e28cfca897121d1199e41d9/sklearn/tree/tree.py)\n",
    "    \n",
    "  \n",
    "* El blog [Triangle Inequality](https://triangleinequality.wordpress.com/) tiene tres entradas muy buenas de cómo construir, crecer y [podar](https://triangleinequality.wordpress.com/2013/09/01/decision-trees-part-3-pruning-your-tree/) árboles en Python."
   ]
  },
  {
   "cell_type": "markdown",
   "metadata": {
    "slideshow": {
     "slide_type": "slide"
    }
   },
   "source": [
    "# Bagging: bootstrap aggregation\n",
    "\n",
    "\n",
    "* Los árboles de decisión tienen varias ventajas:\n",
    "\n",
    "    1. Permiten capturar nolinealidades que pueden ser difíciles con otros modelos.\n",
    "    2. Hacen una segmentación del espacio de regresores.\n",
    "    3. Son fáciles de presentar visualmente (si el árbol es chico).\n",
    "    \n",
    "    \n",
    "* Sin embargo, pueden ser muy sensibles a inclusión de variables o cambio de muestras:\n",
    "\n",
    "    * La razón es que los árboles simultáneamente buscan el regresor y el punto de corte para la muestra de entrenamiento.\n",
    "    \n",
    "    * Así, la estructura de un árbol puede cambiar drásticamente con muestras diferentes.\n",
    "    \n",
    "    \n",
    "* El **bootstrap aggregation**, o *bagging*, permite lidiar precisamente con esta alta varianza."
   ]
  },
  {
   "cell_type": "markdown",
   "metadata": {
    "slideshow": {
     "slide_type": "subslide"
    }
   },
   "source": [
    "# Bagging: (cont.)\n",
    "\n",
    "* La idea es simple:\n",
    "\n",
    "> Vamos a crecer $B$ árboles con **muestras de entrenamiento** diferentes (con las mismas características del bootstrapping que vimos antes).\n",
    "\n",
    "Al final, la decisión es el promedio de las decisiones que obtuvimos.\n",
    "\n",
    "* Así, por ejemplo, si en el árbol $1$, el individuo $i$ estaba en la región $R^1_k$ con $\\bar{y}_{R^1_k} = c_k$, y en el árbol $2$ en la región $R^2_l$ con promedio $c_l$, la predicción de bagging para este individuo es:\n",
    "$$\n",
    "\\hat{y}^{b}_i = \\frac{c_k + c_l}{2}\n",
    "$$\n",
    "\n",
    "\n",
    "* En el caso de un modelo de clasificación, se puede utilizar una *regla de la mayoría*: el individuo $i$ se clasifica en la categoría que tuvo más *votos*, es decir, la categoría que apareció más frecuentemente en los resultados de las $B$ clasificaciones.\n",
    "\n",
    "\n",
    "* En *bagging* no es necesario podar los árboles: lo recomendable es hacer crecer varios árboles los suficientmente grandes en cada una de las muestras de bootstrap.\n",
    "\n",
    "\n",
    "* En Scikit-learn se pueden utilizar los métodos [BaggingClassifier](http://scikit-learn.org/stable/modules/generated/sklearn.ensemble.BaggingClassifier.html) o [BaggingRegressor](http://scikit-learn.org/stable/modules/generated/sklearn.ensemble.BaggingRegressor.html)"
   ]
  },
  {
   "cell_type": "markdown",
   "metadata": {
    "slideshow": {
     "slide_type": "slide"
    }
   },
   "source": [
    "# Random Forests: \n",
    "\n",
    "\n",
    "* Un problema de *bagging* es que las variables más importantes suelen ser seleccionadas temprano cuando se crecen árboles.\n",
    "\n",
    "\n",
    "* Así, aunque utilicemos distintas muestras de bootstrap, los correspondientes árboles suelen tener estructuras similares.\n",
    "\n",
    "\n",
    "* Para reducir aún más la varianza de la estimación se pueden crecer *bosques aleatorios* o *random forests*.\n",
    "\n",
    "\n",
    "* La idea es muy simple:\n",
    "\n",
    "    1. Se van a crecer $B$ árboles con cada muestra de boostrap como en bagging.\n",
    "    2. Para garantizar que los árboles tienen estructuras diferentes, en cada iteración seleccionamos una muestra aleatoria de los regresores candidatos en cada rama del árbol.\n",
    "    \n",
    "    \n",
    "* Scikit-learn tiene módulos de [clasificación](http://scikit-learn.org/stable/modules/generated/sklearn.ensemble.RandomForestClassifier.html) y [regresión](http://scikit-learn.org/stable/modules/generated/sklearn.ensemble.RandomForestRegressor.html) para crecer bosques aleatorios."
   ]
  }
 ],
 "metadata": {
  "celltoolbar": "Slideshow",
  "kernelspec": {
   "display_name": "Python 2",
   "language": "python",
   "name": "python2"
  },
  "language_info": {
   "codemirror_mode": {
    "name": "ipython",
    "version": 2
   },
   "file_extension": ".py",
   "mimetype": "text/x-python",
   "name": "python",
   "nbconvert_exporter": "python",
   "pygments_lexer": "ipython2",
   "version": "2.7.10"
  }
 },
 "nbformat": 4,
 "nbformat_minor": 0
}
