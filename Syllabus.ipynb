{
 "cells": [
  {
   "cell_type": "markdown",
   "metadata": {},
   "source": [
    "# Analítica de Negocios y Ciencia de Datos\n",
    "\n",
    "## CIDE- Otoño 2015\n",
    "\n",
    "#### [Daniel Vaughan](mailto:vaughandaniel@gmail.com)"
   ]
  },
  {
   "cell_type": "markdown",
   "metadata": {},
   "source": [
    "# Descripción General\n",
    "\n",
    "La analítica de negocios se refiere al uso de métodos econométricos, estadísticos y de minería de datos para mejorar la rentabilidad y el estado de resultados de una empresa o un banco.   Empresas como Google, Capital One, Harrah’s o Facebook han logrado utilizar la creciente información de los clientes para mantenerse como líderes de sus respectivas industrias.\n",
    "\n",
    "En este curso se hará una presentación rigurosa de los métodos más utilizados así como sus diversas aplicaciones.  Los tres grandes temas que se tratarán son: programación, datos y métodos y visualización, herramientas fundamentales en analítica.  \n",
    "\n",
    "*Programación*: Aprender a programar en algún lenguaje ampliamente utilizado es fundamental para poder manejar el acervo de datos que las empresas tienen.  En este curso se utilizará Python, uno de los lenguajes más utilizados en computación científica y ciencia de datos y similar a Matlab o R.  No es necesario tener ningún conocimiento previo de programación ni familiaridad con Python.  Se utilizarán los módulos numéricos y de manejo de bases de datos Numpy, Scipy y Pandas.  Para visualización se utilizarán Matplotlib, Bokeh y Seaborn.  Todos disponibles gratis con la descarga de Anaconda.  Hay varios módulos para estimación que incluyen Scikit-Learn, PyBrain y StatsModel.\n",
    "\n",
    "*Datos y Métodos*: el núcleo del curso es la presentación teórica, así como sus aplicaciones, de los métodos más utilizados.  Se presentarán métodos econométricos, de aprendizaje estadístico  y minería de datos que permitan mejorar el conocimiento de los clientes y por esta vía mejorar el estado de resultados de una empresa.  Es recomendable que los estudiantes hayan tomado algún curso de econometría.\n",
    "\n",
    "*Visualización*: una vez se han estimado diferentes modelos, es fundamental tener la capacidad de presentarlos de una manera que sea amigable para los dueños de cada negocio y la alta dirección, que generalmente no está interesada en los detalles técnicos de los métodos, sino en las recomendaciones e implicaciones de negocio derivadas del análisis. \n"
   ]
  },
  {
   "cell_type": "markdown",
   "metadata": {},
   "source": [
    "# Temas \n",
    "![caption](figures/temas.png)"
   ]
  },
  {
   "cell_type": "markdown",
   "metadata": {},
   "source": [
    "# Tareas y Evaluación\n",
    "\n",
    "1.\tCada semana se asignará un trabajo práctico individual con aplicaciones de los métodos aprendidos.\n",
    "\n",
    "2. La evaluación del curso será así:\n",
    "        \n",
    "    a. **Talleres**: 40%\n",
    "        * Fecha: Semanal o quincenalmente\n",
    "    b. **Primer parcial**: 20%\n",
    "        * Fecha: septiembre 24\n",
    "    c. **Segundo parcial**: 20%\n",
    "        * Fecha: noviembre 5\n",
    "    d. **Final**: 20%\n",
    "        * Fecha: Por definir\n",
    "        "
   ]
  },
  {
   "cell_type": "markdown",
   "metadata": {},
   "source": [
    "# Referencias\n",
    "\n",
    "Minería de datos y aprendizaje de máquinas:\n",
    "1.\tHastie, Tibshirani y Friedman (2009), The Elements of Statistical Learning.  Data Mining, Inference and Prediction, NY: Springer. Disponible [online](http://web.stanford.edu/~hastie/local.ftp/Springer/OLD/ESLII_print4.pdf)\n",
    "2.\tJames, Witten, Hastie y Tishshirani (2013), An Introduction to Statistical Learning: with applications in R, NY: Springer\n",
    "3.\tTsiptsis y Chorianopoulos (2009), Data Mining Techniques in CRM: inside customer segmentation, Wiley\n",
    "4.\tVarian, Hal (2014), “Big Data: New Tricks in Econometrics”, Journal of Economic Perspectives, 28 (2)\n",
    "5.\tWu, et.al. (2008), “Top 10 algorithms in data mining”, Knowledge and Information Systems, 14.\n",
    "6.\tWedel y Kamakura (2000), Market Segmentation.  Conceptual and Methodological Foundations. 2nd Edition.\n",
    "Analytics\n",
    "7.\tDavenport, Thomas (2006), “Competing on Analytics”, Harvard Business Review, Jan.\n",
    "8.\tDavenport y Harris (2007), Competing on Analytics, Cambridge: Harvard Business School Publishing Coporation.\n",
    "9.\tDavenport y Harris (2007), “The Dark Side of Customer Analytics”, HBR Case Study and Commentary, May.\n",
    "10.\tDavenport y Patil (2012), “Data Scientist: The Sexiest Job of the 21st Century”, HBR, October\n",
    "11.\tLoveman (2003), “Diamonds in the Data Mine”, HRB, May\n",
    "Diseño de Experimentos\n",
    "12.\tAngrist y Pischke (2009), Mostly Harmless Econometrics: An Empiricist´s Companion, Princeton: Princeton University Press\n",
    "13.\tWooldridge (2010), Econometric Analysis of Cross Section and Panel Data\n",
    "14.\tGreene (2011), Econometric Analysis\n",
    "15.\tDuflo, Glennerster y Kremer, “Using Randomization in Development Economics Research: A Toolkit”.\n",
    "16.\tAlmquist y Wyner, “Boost Your Marketing ROI with Experimental Design”\n",
    "17.\tAndersen y Simester, “A Step-by-Step Guide to Smart Business Experiments”, Harvard Business Review, Marzo 2011.\n",
    "18.\tKhanna y New (2008), “Revolutionizing the Workplace: A Case Study of the Future of Work Program at Capital One”, Human Resource Management, 47 (4)\n",
    "\n",
    "Programación, Python y Visualización\n",
    "19.\tMcKinney, Python for Data Analysis, O’Reilly.\n",
    "20.\tAllen Downey, Think Python.  How to Think Like a Computer Scientist.\n",
    "21.\tCyrille Rossant, IPython Interactive Computing and Visualization Cookbook.\n",
    "22.\tEdward Tufte, The Visual Display of Quantitative Information.\n",
    "23.\tWilli Richert, Building Machine Learning Systems with Python\n",
    "Customer Lifetime Value, Credit Scoring, Visualización Dinámica\n",
    "24.\tMurray (2013), Interactive Data Visualization for the Web, Sebastopol: O’Reilly Media\n",
    "25.\tBokeh: Python Library: bokeh.pydata.org\n",
    "26.\tGupta, et.al. “Modeling Customer Lifetime Value”, Journal of Service Research,9 (2)\n",
    "27.\tGupta y Lehman (2003), “Customers as Assets\n"
   ]
  },
  {
   "cell_type": "markdown",
   "metadata": {},
   "source": [
    "# Notas de Clase\n",
    "\n",
    "### Semanalmente iremos actualizando las notas de clase que pueden descargar directamente de [Github](https://github.com/dvaughan79/New_CIDE_Analytics) o en el [Nbviewer](http://nbviewer.ipython.org/github/dvaughan79/New_CIDE_Analytics/tree/master/)\n",
    "\n",
    "\n",
    "1. [Introducción a la Analítica](1_Introduccion.ipynb)\n",
    "\n",
    "2. [Introducción a Python](2_intro_python.ipynb)"
   ]
  },
  {
   "cell_type": "code",
   "execution_count": null,
   "metadata": {
    "collapsed": true
   },
   "outputs": [],
   "source": []
  }
 ],
 "metadata": {
  "kernelspec": {
   "display_name": "Python 2",
   "language": "python",
   "name": "python2"
  },
  "language_info": {
   "codemirror_mode": {
    "name": "ipython",
    "version": 2
   },
   "file_extension": ".py",
   "mimetype": "text/x-python",
   "name": "python",
   "nbconvert_exporter": "python",
   "pygments_lexer": "ipython2",
   "version": "2.7.9"
  }
 },
 "nbformat": 4,
 "nbformat_minor": 0
}
