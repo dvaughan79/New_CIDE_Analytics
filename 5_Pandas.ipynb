{
 "cells": [
  {
   "cell_type": "markdown",
   "metadata": {
    "slideshow": {
     "slide_type": "slide"
    }
   },
   "source": [
    "# Analítica y Ciencia de Datos\n",
    "\n",
    "## CIDE - Otoño 2015\n",
    "\n",
    "### Introducción a Pandas"
   ]
  },
  {
   "cell_type": "markdown",
   "metadata": {
    "slideshow": {
     "slide_type": "slide"
    }
   },
   "source": [
    "# Pandas\n",
    "\n",
    "* Como lo describen sus creadores [acá](http://pandas.pydata.org/) (ver también [acá](http://pandas.pydata.org/pandas-docs/stable/pandas.pdf), en particular el capítulo 6):\n",
    "\n",
    "> *... es una librería que provee a Python de estructuras de datos y herramientas de análisis de alto rendimiento*.\n",
    "\n",
    "* Nosotros la vamos a utilizar principalmente para organizar y trabajar con datos organizados de manera tabular (en tablas).\n",
    "\n",
    "* Como mínimo debería servir para sustituir completamente Excel...\n",
    "\n",
    "* ... Pero sirve para potenciar el análisis de datos y la creación de algoritmos y funciones."
   ]
  },
  {
   "cell_type": "markdown",
   "metadata": {
    "slideshow": {
     "slide_type": "slide"
    }
   },
   "source": [
    "# Qué permite hacer Pandas\n",
    "\n",
    "*  Los capítulos 6 y 7 de este [documento](http://pandas.pydata.org/pandas-docs/stable/pandas.pdf) describen en su totalidad las capacidades reales de Pandas.\n",
    "\n",
    "* Nosotros vamos a concentrarnos en:\n",
    "\n",
    "    1. Input/Output de archivos (lectura y escritura):\n",
    "    2. Qué son los `DataFrames` y las `Series`.\n",
    "    3. Cómo manejar \"datos faltantes\", *missing values* o *NaNs*.\n",
    "    4. Cómo hacer `groupby` y tablas dinámicas como en Excel.\n",
    "    5. Ejemplos de gráficos en Pandas.\n",
    "    6. Cómo hacer un `merge`.\n",
    "\n",
    "\n",
    "* Por el tiempo no podremos hacer uso de las capacidades para manejar series de tiempo, por ejemplo.\n",
    "\n",
    "    * Para análisis de datos en general, y un uso más avanzado de Pandas, pueden leer [Python for Data Analysis](http://shop.oreilly.com/product/0636920023784.do), escrito por el creador de Pandas."
   ]
  },
  {
   "cell_type": "code",
   "execution_count": 1,
   "metadata": {
    "collapsed": true,
    "slideshow": {
     "slide_type": "slide"
    }
   },
   "outputs": [],
   "source": [
    "# Importemos las librerías que necesitamos \n",
    "import numpy as np\n",
    "import matplotlib.pyplot as plt\n",
    "import pandas as pd\n",
    "\n",
    "%matplotlib inline"
   ]
  },
  {
   "cell_type": "markdown",
   "metadata": {
    "slideshow": {
     "slide_type": "slide"
    }
   },
   "source": [
    "# 1. Lectura de datos\n",
    "\n",
    "* Python cuenta con varias librerías y [funciones](http://www.tutorialspoint.com/python/python_files_io.htm) para importar datos.\n",
    "\n",
    "* Numpy también las [tiene](http://docs.scipy.org/doc/numpy/reference/routines.io.html).\n",
    "\n",
    "* Por ahora vamos a concentrarnos en las funciones de [Pandas](http://pandas.pydata.org/pandas-docs/stable/io.html).\n",
    "\n",
    "    * [`read_csv()`](http://pandas.pydata.org/pandas-docs/stable/io.html#io-read-csv-table) permite leer tablas cuyos valores están separados por comas (comma-separated-values), y en general cualquier archivo *plano* que utilice algún *delimiter* para separar columnas.\n",
    "    \n",
    "    * [`read_excel()`](http://pandas.pydata.org/pandas-docs/stable/io.html#io-excel) permite importar datos de archivos de Excel.\n",
    "    \n",
    "    * Pero hay otras funciones que pueden ser más apropiadas en otros casos (por ejemplo, ¿quiere importar datos de [Stata](http://pandas.pydata.org/pandas-docs/stable/io.html#io-stata-reader), trabajar con ellos o simplemente convertirlos a Excel?)"
   ]
  },
  {
   "cell_type": "code",
   "execution_count": 3,
   "metadata": {
    "collapsed": false,
    "slideshow": {
     "slide_type": "subslide"
    }
   },
   "outputs": [
    {
     "data": {
      "text/html": [
       "<div>\n",
       "<table border=\"1\" class=\"dataframe\">\n",
       "  <thead>\n",
       "    <tr style=\"text-align: right;\">\n",
       "      <th></th>\n",
       "      <th>cve_municipio</th>\n",
       "      <th>cve_institucion</th>\n",
       "      <th>cve_calculado</th>\n",
       "      <th>201412</th>\n",
       "      <th>201501</th>\n",
       "      <th>201502</th>\n",
       "      <th>201503</th>\n",
       "      <th>201504</th>\n",
       "      <th>201505</th>\n",
       "      <th>201506</th>\n",
       "      <th>201507</th>\n",
       "    </tr>\n",
       "  </thead>\n",
       "  <tbody>\n",
       "    <tr>\n",
       "      <th>0</th>\n",
       "      <td>1001</td>\n",
       "      <td>040002</td>\n",
       "      <td>4001479</td>\n",
       "      <td>68</td>\n",
       "      <td>68</td>\n",
       "      <td>68</td>\n",
       "      <td>68</td>\n",
       "      <td>68</td>\n",
       "      <td>68</td>\n",
       "      <td>69</td>\n",
       "      <td>70</td>\n",
       "    </tr>\n",
       "    <tr>\n",
       "      <th>1</th>\n",
       "      <td>NaN</td>\n",
       "      <td>NaN</td>\n",
       "      <td>4001480</td>\n",
       "      <td>175340</td>\n",
       "      <td>175300</td>\n",
       "      <td>168377</td>\n",
       "      <td>168344</td>\n",
       "      <td>170511</td>\n",
       "      <td>170554</td>\n",
       "      <td>170620</td>\n",
       "      <td>170723</td>\n",
       "    </tr>\n",
       "    <tr>\n",
       "      <th>2</th>\n",
       "      <td>NaN</td>\n",
       "      <td>NaN</td>\n",
       "      <td>4001481</td>\n",
       "      <td>111773</td>\n",
       "      <td>112288</td>\n",
       "      <td>112701</td>\n",
       "      <td>113333</td>\n",
       "      <td>113703</td>\n",
       "      <td>114185</td>\n",
       "      <td>114718</td>\n",
       "      <td>95107</td>\n",
       "    </tr>\n",
       "    <tr>\n",
       "      <th>3</th>\n",
       "      <td>NaN</td>\n",
       "      <td>NaN</td>\n",
       "      <td>4001482</td>\n",
       "      <td>148</td>\n",
       "      <td>150</td>\n",
       "      <td>150</td>\n",
       "      <td>149</td>\n",
       "      <td>150</td>\n",
       "      <td>149</td>\n",
       "      <td>150</td>\n",
       "      <td>151</td>\n",
       "    </tr>\n",
       "    <tr>\n",
       "      <th>4</th>\n",
       "      <td>NaN</td>\n",
       "      <td>NaN</td>\n",
       "      <td>4001484</td>\n",
       "      <td>13</td>\n",
       "      <td>13</td>\n",
       "      <td>13</td>\n",
       "      <td>13</td>\n",
       "      <td>13</td>\n",
       "      <td>13</td>\n",
       "      <td>13</td>\n",
       "      <td>13</td>\n",
       "    </tr>\n",
       "  </tbody>\n",
       "</table>\n",
       "</div>"
      ],
      "text/plain": [
       "   cve_municipio cve_institucion  cve_calculado  201412  201501  201502  \\\n",
       "0           1001          040002        4001479      68      68      68   \n",
       "1            NaN             NaN        4001480  175340  175300  168377   \n",
       "2            NaN             NaN        4001481  111773  112288  112701   \n",
       "3            NaN             NaN        4001482     148     150     150   \n",
       "4            NaN             NaN        4001484      13      13      13   \n",
       "\n",
       "   201503  201504  201505  201506  201507  \n",
       "0      68      68      68      69      70  \n",
       "1  168344  170511  170554  170620  170723  \n",
       "2  113333  113703  114185  114718   95107  \n",
       "3     149     150     149     150     151  \n",
       "4      13      13      13      13      13  "
      ]
     },
     "execution_count": 3,
     "metadata": {},
     "output_type": "execute_result"
    }
   ],
   "source": [
    "# importemos nuestros datos:\n",
    "# Si es un archivo de excel tenemos que incluir el nombre de la hoja que queremos abrir\n",
    "data = pd.read_excel('data_cnbv.xlsx','data')\n",
    "# miremos que los datos fueron correctamente importados\n",
    "data.head(5)"
   ]
  },
  {
   "cell_type": "markdown",
   "metadata": {
    "slideshow": {
     "slide_type": "subslide"
    }
   },
   "source": [
    "# Exploremos un *DataFrame* de pandas\n",
    "\n",
    "* Cuando importamos en Pandas, el output es un objeto tabular denominado un *DataFrame*.\n",
    "\n",
    "![caption](figures/dataframe.png)"
   ]
  },
  {
   "cell_type": "markdown",
   "metadata": {
    "slideshow": {
     "slide_type": "subslide"
    }
   },
   "source": [
    "# Estructura de un DataFrame\n",
    "\n",
    "* Un *DataFrame* incluye\n",
    "    \n",
    "    * **Index**: son los números que aparecen a la izquierda, denotando las filas del DataFrame.\n",
    "    \n",
    "    * **Columns**: las columnas.\n",
    "        \n",
    "        * Cuando importamos los datos, por default utiliza la primera fila como header o nombres de las columnas.  Pero podemos decirle a Pandas que no lo haga (ver los argumentos opcionales de la función).\n",
    "        \n",
    "    * **data**: los datos que importamos.\n",
    "    \n",
    "* Los *DataFrames* son un objeto, una estructura especial de Pandas, y por supuesto heredan ciertas funciones o métodos que vamos a utilizar.\n",
    "\n",
    "* Cada columna es una `Serie`, otro objeto de Pandas, así que los DF agrupan Series."
   ]
  },
  {
   "cell_type": "markdown",
   "metadata": {
    "slideshow": {
     "slide_type": "subslide"
    }
   },
   "source": [
    "# Los datos que estamos utilizando.\n",
    "\n",
    "* Los datos fueron obtenidos de la [Comisión Nacional Bancaria y de Valores](http://portafolioinfdoctos.cnbv.gob.mx/Documentacion/minfo/040_4a_R3_2015.xls)\n",
    "\n",
    "* Incluyen la información de varios indicadores (ver hoja *cve_calculado*), para todos los municipios (cve_municipio) y para todos las instituciones de banca múltiple (ver hoja *cve_institucion*).\n",
    "\n",
    "* Las primeras tres columnas contienen estos indicadores, y las siguientes la información mensual de 2015, incluido diciembre de 2014.\n",
    "\n",
    "* Los NaNs o *missing values* corresponden a las correspondientes etiquetas (municipio o institución) que aparecieron por última vez y es lo primero que tenemos que arreglar u organizar para poder trabajar con estos datos.\n",
    "\n",
    "    * En Excel tendrían que hacerlo a mano, o programar una macro en VBA."
   ]
  },
  {
   "cell_type": "code",
   "execution_count": 4,
   "metadata": {
    "collapsed": false,
    "slideshow": {
     "slide_type": "subslide"
    }
   },
   "outputs": [
    {
     "data": {
      "text/html": [
       "<div>\n",
       "<table border=\"1\" class=\"dataframe\">\n",
       "  <thead>\n",
       "    <tr style=\"text-align: right;\">\n",
       "      <th></th>\n",
       "      <th>cve_municipio</th>\n",
       "      <th>cve_institucion</th>\n",
       "      <th>cve_calculado</th>\n",
       "      <th>201412</th>\n",
       "      <th>201501</th>\n",
       "      <th>201502</th>\n",
       "      <th>201503</th>\n",
       "      <th>201504</th>\n",
       "      <th>201505</th>\n",
       "      <th>201506</th>\n",
       "      <th>201507</th>\n",
       "    </tr>\n",
       "  </thead>\n",
       "  <tbody>\n",
       "    <tr>\n",
       "      <th>0</th>\n",
       "      <td>1001</td>\n",
       "      <td>040002</td>\n",
       "      <td>4001479</td>\n",
       "      <td>68</td>\n",
       "      <td>68</td>\n",
       "      <td>68</td>\n",
       "      <td>68</td>\n",
       "      <td>68</td>\n",
       "      <td>68</td>\n",
       "      <td>69</td>\n",
       "      <td>70</td>\n",
       "    </tr>\n",
       "    <tr>\n",
       "      <th>1</th>\n",
       "      <td>NaN</td>\n",
       "      <td>NaN</td>\n",
       "      <td>4001480</td>\n",
       "      <td>175340</td>\n",
       "      <td>175300</td>\n",
       "      <td>168377</td>\n",
       "      <td>168344</td>\n",
       "      <td>170511</td>\n",
       "      <td>170554</td>\n",
       "      <td>170620</td>\n",
       "      <td>170723</td>\n",
       "    </tr>\n",
       "    <tr>\n",
       "      <th>2</th>\n",
       "      <td>NaN</td>\n",
       "      <td>NaN</td>\n",
       "      <td>4001481</td>\n",
       "      <td>111773</td>\n",
       "      <td>112288</td>\n",
       "      <td>112701</td>\n",
       "      <td>113333</td>\n",
       "      <td>113703</td>\n",
       "      <td>114185</td>\n",
       "      <td>114718</td>\n",
       "      <td>95107</td>\n",
       "    </tr>\n",
       "    <tr>\n",
       "      <th>3</th>\n",
       "      <td>NaN</td>\n",
       "      <td>NaN</td>\n",
       "      <td>4001482</td>\n",
       "      <td>148</td>\n",
       "      <td>150</td>\n",
       "      <td>150</td>\n",
       "      <td>149</td>\n",
       "      <td>150</td>\n",
       "      <td>149</td>\n",
       "      <td>150</td>\n",
       "      <td>151</td>\n",
       "    </tr>\n",
       "    <tr>\n",
       "      <th>4</th>\n",
       "      <td>NaN</td>\n",
       "      <td>NaN</td>\n",
       "      <td>4001484</td>\n",
       "      <td>13</td>\n",
       "      <td>13</td>\n",
       "      <td>13</td>\n",
       "      <td>13</td>\n",
       "      <td>13</td>\n",
       "      <td>13</td>\n",
       "      <td>13</td>\n",
       "      <td>13</td>\n",
       "    </tr>\n",
       "  </tbody>\n",
       "</table>\n",
       "</div>"
      ],
      "text/plain": [
       "   cve_municipio cve_institucion  cve_calculado  201412  201501  201502  \\\n",
       "0           1001          040002        4001479      68      68      68   \n",
       "1            NaN             NaN        4001480  175340  175300  168377   \n",
       "2            NaN             NaN        4001481  111773  112288  112701   \n",
       "3            NaN             NaN        4001482     148     150     150   \n",
       "4            NaN             NaN        4001484      13      13      13   \n",
       "\n",
       "   201503  201504  201505  201506  201507  \n",
       "0      68      68      68      69      70  \n",
       "1  168344  170511  170554  170620  170723  \n",
       "2  113333  113703  114185  114718   95107  \n",
       "3     149     150     149     150     151  \n",
       "4      13      13      13      13      13  "
      ]
     },
     "execution_count": 4,
     "metadata": {},
     "output_type": "execute_result"
    }
   ],
   "source": [
    "# Veamos algunas funciones rápidas de los Data Frames.\n",
    "# Para ver los primeros K registros\n",
    "data.head(5)"
   ]
  },
  {
   "cell_type": "code",
   "execution_count": 119,
   "metadata": {
    "collapsed": false,
    "slideshow": {
     "slide_type": "subslide"
    }
   },
   "outputs": [
    {
     "data": {
      "text/html": [
       "<div>\n",
       "<table border=\"1\" class=\"dataframe\">\n",
       "  <thead>\n",
       "    <tr style=\"text-align: right;\">\n",
       "      <th></th>\n",
       "      <th>cve_municipio</th>\n",
       "      <th>cve_institucion</th>\n",
       "      <th>cve_calculado</th>\n",
       "      <th>201412</th>\n",
       "      <th>201501</th>\n",
       "      <th>201502</th>\n",
       "      <th>201503</th>\n",
       "      <th>201504</th>\n",
       "      <th>201505</th>\n",
       "      <th>201506</th>\n",
       "      <th>201507</th>\n",
       "    </tr>\n",
       "  </thead>\n",
       "  <tbody>\n",
       "    <tr>\n",
       "      <th>65526</th>\n",
       "      <td>NaN</td>\n",
       "      <td>NaN</td>\n",
       "      <td>4001531</td>\n",
       "      <td>19</td>\n",
       "      <td>12</td>\n",
       "      <td>72</td>\n",
       "      <td>85</td>\n",
       "      <td>167</td>\n",
       "      <td>127</td>\n",
       "      <td>177</td>\n",
       "      <td>130</td>\n",
       "    </tr>\n",
       "    <tr>\n",
       "      <th>65527</th>\n",
       "      <td>NaN</td>\n",
       "      <td>NaN</td>\n",
       "      <td>4001532</td>\n",
       "      <td>304</td>\n",
       "      <td>325</td>\n",
       "      <td>356</td>\n",
       "      <td>374</td>\n",
       "      <td>403</td>\n",
       "      <td>418</td>\n",
       "      <td>440</td>\n",
       "      <td>440</td>\n",
       "    </tr>\n",
       "    <tr>\n",
       "      <th>65528</th>\n",
       "      <td>NaN</td>\n",
       "      <td>NaN</td>\n",
       "      <td>4001534</td>\n",
       "      <td>303</td>\n",
       "      <td>275</td>\n",
       "      <td>306</td>\n",
       "      <td>324</td>\n",
       "      <td>353</td>\n",
       "      <td>368</td>\n",
       "      <td>390</td>\n",
       "      <td>418</td>\n",
       "    </tr>\n",
       "  </tbody>\n",
       "</table>\n",
       "</div>"
      ],
      "text/plain": [
       "       cve_municipio cve_institucion  cve_calculado  201412  201501  201502  \\\n",
       "65526            NaN             NaN        4001531      19      12      72   \n",
       "65527            NaN             NaN        4001532     304     325     356   \n",
       "65528            NaN             NaN        4001534     303     275     306   \n",
       "\n",
       "       201503  201504  201505  201506  201507  \n",
       "65526      85     167     127     177     130  \n",
       "65527     374     403     418     440     440  \n",
       "65528     324     353     368     390     418  "
      ]
     },
     "execution_count": 119,
     "metadata": {},
     "output_type": "execute_result"
    }
   ],
   "source": [
    "# para ver los últimos M registros\n",
    "data.tail(3)"
   ]
  },
  {
   "cell_type": "code",
   "execution_count": 138,
   "metadata": {
    "collapsed": false,
    "slideshow": {
     "slide_type": "subslide"
    }
   },
   "outputs": [
    {
     "name": "stdout",
     "output_type": "stream",
     "text": [
      "(65529, 11)\n",
      "-------------------\n",
      "Index([  u'cve_municipio', u'cve_institucion',   u'cve_calculado',\n",
      "                   201412,             201501,             201502,\n",
      "                   201503,             201504,             201505,\n",
      "                   201506,             201507],\n",
      "      dtype='object')\n",
      "-------------------\n",
      "cve_municipio      65007\n",
      "cve_institucion    51968\n",
      "cve_calculado       6780\n",
      "201412              2538\n",
      "201501              2529\n",
      "201502              2510\n",
      "201503              3455\n",
      "201504              3471\n",
      "201505              3433\n",
      "201506              3357\n",
      "201507              2466\n",
      "dtype: int64\n",
      "-------------------\n",
      "       cve_municipio   cve_calculado           201412           201501  \\\n",
      "count     522.000000    58749.000000     62991.000000     63000.000000   \n",
      "mean     8998.990421  4001518.045362     32699.585052     30578.722571   \n",
      "std      3035.767627       24.511271    394407.702583    328303.438953   \n",
      "min      1001.000000  4001479.000000         0.000000         0.000000   \n",
      "25%      7051.250000  4001483.000000        14.000000        14.000000   \n",
      "50%      8063.500000  4001531.000000       256.000000       255.000000   \n",
      "75%     12025.750000  4001535.000000      3243.000000      3184.000000   \n",
      "max     13075.000000  4001542.000000  30390502.000000  28387941.000000   \n",
      "\n",
      "                201502           201503           201504           201505  \\\n",
      "count     63019.000000     62074.000000     62058.000000     62096.000000   \n",
      "mean      29107.476936     32104.851178     31935.343952     33828.009067   \n",
      "std      312396.186375    343573.966263    341066.541615    403504.790483   \n",
      "min           0.000000         0.000000         0.000000         0.000000   \n",
      "25%          15.000000        16.000000        17.000000        17.000000   \n",
      "50%         252.000000       280.000000       287.000000       298.000000   \n",
      "75%        3124.500000      3364.750000      3358.000000      3413.000000   \n",
      "max    26973018.000000  28319953.000000  28238229.000000  31169153.000000   \n",
      "\n",
      "                201506           201507  \n",
      "count     62172.000000     63063.000000  \n",
      "mean      32137.848903     33483.912151  \n",
      "std      343244.241307    357389.088677  \n",
      "min           0.000000         0.000000  \n",
      "25%          17.000000        17.000000  \n",
      "50%         309.000000       336.000000  \n",
      "75%        3410.750000      3597.500000  \n",
      "max    28329248.000000  29221006.000000  \n",
      "-------------------\n",
      "(523,)\n",
      "-------------------\n",
      "Primeros cinco municipios\n",
      "0    1001\n",
      "1     NaN\n",
      "2    1002\n",
      "3    1003\n",
      "4    1004\n",
      "dtype: float64\n",
      "Primeros cinco municipios: excluyendo NaNs\n",
      "0    1001\n",
      "2    1002\n",
      "3    1003\n",
      "4    1004\n",
      "5    1005\n",
      "dtype: float64\n",
      "-------------------\n",
      "Total Instituciones únicas\n",
      "(101,)\n",
      "Total Instituciones únicas: sin NaNs\n",
      "(100,)\n"
     ]
    }
   ],
   "source": [
    "# cuál es el tamaño:\n",
    "print data.shape\n",
    "print \"-------------------\"\n",
    "# cuáles son los nombres de las columnas\n",
    "print data.keys()\n",
    "print \"-------------------\"\n",
    "# Cuántos NaNs tenemos por columna:\n",
    "print data.isnull().sum()\n",
    "print \"-------------------\"\n",
    "# Descriptivos:\n",
    "print data.describe()\n",
    "print \"-------------------\"\n",
    "# Cuántos municipios incluimos\n",
    "print data.cve_municipio.unique().shape\n",
    "print \"-------------------\"\n",
    "# veamos los primeros cinco:\n",
    "print \"Primeros cinco municipios\"\n",
    "print pd.Series(data.cve_municipio.unique()).head()\n",
    "# veamos los primeros cinco:\n",
    "print \"Primeros cinco municipios: excluyendo NaNs\"\n",
    "print pd.Series(data.cve_municipio.unique()).dropna().head()\n",
    "print \"-------------------\"\n",
    "# Cuántas instituciones incluimos\n",
    "print \"Total Instituciones únicas\"\n",
    "print data.cve_institucion.unique().shape\n",
    "print \"Total Instituciones únicas: sin NaNs\"\n",
    "print pd.Series(data.cve_institucion.unique()).dropna().shape\n"
   ]
  },
  {
   "cell_type": "markdown",
   "metadata": {
    "slideshow": {
     "slide_type": "subslide"
    }
   },
   "source": [
    "# Slicing/Indexing con DataFrames\n",
    "\n",
    "* La documentación completa se encuentra [acá](http://pandas.pydata.org/pandas-docs/stable/indexing.html)\n",
    "\n",
    "* Veamos varios ejemplos:\n",
    "\n",
    "    1. Selección de toda una columna: si la columna se llama `mi_columna` y el dataframe `df`:\n",
    "    \n",
    "        > `nueva_columna = df.mi_columna.copy()`\n",
    "        \n",
    "    2. Selección de varias columnas: \n",
    "    \n",
    "        > `df[[col1, col2, col3]]`\n",
    "\n",
    "    3. Selección con booleanos: `.loc(bool)`\n",
    "    \n",
    "        > ```\n",
    "            hombre = (gender == 'H')\n",
    "            df.loc(hombre)\n",
    "          ```\n",
    "\n",
    "    4. Selección por índices: `.iloc()`. Usa las mismas reglas que en Numpy con arrays\n",
    "    \n",
    "        > `df.iloc[3,4]`\n",
    "\n",
    "    5. Selección por índices: `.ix()`\n",
    "    \n",
    "        > `df.ix[6:8]`\n"
   ]
  },
  {
   "cell_type": "markdown",
   "metadata": {
    "slideshow": {
     "slide_type": "subslide"
    }
   },
   "source": [
    "# Quitemos las filas que tienen Totales\n",
    "\n",
    "* Para esto vamos a utilizar una función que sirve únicamente para `Strings`.\n",
    "\n",
    "* [Acá](http://pandas.pydata.org/pandas-docs/stable/basics.html#vectorized-string-methods) pueden encontrar un listado de las funciones vectorizadas para textos o strings.\n",
    "\n",
    "* Son bastante útiles así que es bueno que se familiaricen con éstas.\n",
    "\n",
    "* Para los interesados, todas las funciones de texto, en cualquier lenguaje de programación o software, operan utilizando [expresiones regulares, *regular expressiones* o `regex`](http://www.diveintopython3.net/regular-expressions.html)."
   ]
  },
  {
   "cell_type": "code",
   "execution_count": 5,
   "metadata": {
    "collapsed": false,
    "slideshow": {
     "slide_type": "subslide"
    }
   },
   "outputs": [
    {
     "name": "stdout",
     "output_type": "stream",
     "text": [
      "0 6780 bool\n",
      "(65529, 11)\n",
      "(58749, 11)\n",
      "0 (58749, 11)\n"
     ]
    }
   ],
   "source": [
    "# Primero: encontremos las filas donde esto pasa: las siguientes variables son booleanos\n",
    "total_mpio = data.cve_municipio.astype('str').str.contains('Total')\n",
    "total_inst = data.cve_institucion.str.contains('Total')\n",
    "print total_mpio.sum(), total_inst.sum(), total_mpio.dtype\n",
    "# probemos\n",
    "data.cve_institucion.loc[total_inst==True].head()\n",
    "# Listo, eliminémoslas: función .drop()\n",
    "print data.shape\n",
    "data.drop(data.cve_institucion.loc[total_inst==True].index, inplace=True)\n",
    "print data.shape\n",
    "# miremos que quedó bien\n",
    "print data.cve_institucion.str.contains('Total').sum(), data.shape"
   ]
  },
  {
   "cell_type": "code",
   "execution_count": 6,
   "metadata": {
    "collapsed": false,
    "slideshow": {
     "slide_type": "subslide"
    }
   },
   "outputs": [
    {
     "data": {
      "text/html": [
       "<div>\n",
       "<table border=\"1\" class=\"dataframe\">\n",
       "  <thead>\n",
       "    <tr style=\"text-align: right;\">\n",
       "      <th></th>\n",
       "      <th>cve_municipio</th>\n",
       "      <th>cve_institucion</th>\n",
       "      <th>cve_calculado</th>\n",
       "      <th>201412</th>\n",
       "      <th>201501</th>\n",
       "      <th>201502</th>\n",
       "      <th>201503</th>\n",
       "      <th>201504</th>\n",
       "      <th>201505</th>\n",
       "      <th>201506</th>\n",
       "      <th>201507</th>\n",
       "    </tr>\n",
       "  </thead>\n",
       "  <tbody>\n",
       "    <tr>\n",
       "      <th>0</th>\n",
       "      <td>1001</td>\n",
       "      <td>040002</td>\n",
       "      <td>4001479</td>\n",
       "      <td>68</td>\n",
       "      <td>68</td>\n",
       "      <td>68</td>\n",
       "      <td>68</td>\n",
       "      <td>68</td>\n",
       "      <td>68</td>\n",
       "      <td>69</td>\n",
       "      <td>70</td>\n",
       "    </tr>\n",
       "    <tr>\n",
       "      <th>1</th>\n",
       "      <td>NaN</td>\n",
       "      <td>NaN</td>\n",
       "      <td>4001480</td>\n",
       "      <td>175340</td>\n",
       "      <td>175300</td>\n",
       "      <td>168377</td>\n",
       "      <td>168344</td>\n",
       "      <td>170511</td>\n",
       "      <td>170554</td>\n",
       "      <td>170620</td>\n",
       "      <td>170723</td>\n",
       "    </tr>\n",
       "    <tr>\n",
       "      <th>2</th>\n",
       "      <td>NaN</td>\n",
       "      <td>NaN</td>\n",
       "      <td>4001481</td>\n",
       "      <td>111773</td>\n",
       "      <td>112288</td>\n",
       "      <td>112701</td>\n",
       "      <td>113333</td>\n",
       "      <td>113703</td>\n",
       "      <td>114185</td>\n",
       "      <td>114718</td>\n",
       "      <td>95107</td>\n",
       "    </tr>\n",
       "    <tr>\n",
       "      <th>3</th>\n",
       "      <td>NaN</td>\n",
       "      <td>NaN</td>\n",
       "      <td>4001482</td>\n",
       "      <td>148</td>\n",
       "      <td>150</td>\n",
       "      <td>150</td>\n",
       "      <td>149</td>\n",
       "      <td>150</td>\n",
       "      <td>149</td>\n",
       "      <td>150</td>\n",
       "      <td>151</td>\n",
       "    </tr>\n",
       "    <tr>\n",
       "      <th>4</th>\n",
       "      <td>NaN</td>\n",
       "      <td>NaN</td>\n",
       "      <td>4001484</td>\n",
       "      <td>13</td>\n",
       "      <td>13</td>\n",
       "      <td>13</td>\n",
       "      <td>13</td>\n",
       "      <td>13</td>\n",
       "      <td>13</td>\n",
       "      <td>13</td>\n",
       "      <td>13</td>\n",
       "    </tr>\n",
       "    <tr>\n",
       "      <th>5</th>\n",
       "      <td>NaN</td>\n",
       "      <td>NaN</td>\n",
       "      <td>4001528</td>\n",
       "      <td>373510</td>\n",
       "      <td>331970</td>\n",
       "      <td>303318</td>\n",
       "      <td>323662</td>\n",
       "      <td>340293</td>\n",
       "      <td>362727</td>\n",
       "      <td>334275</td>\n",
       "      <td>352296</td>\n",
       "    </tr>\n",
       "    <tr>\n",
       "      <th>6</th>\n",
       "      <td>NaN</td>\n",
       "      <td>NaN</td>\n",
       "      <td>4001529</td>\n",
       "      <td>1190</td>\n",
       "      <td>1185</td>\n",
       "      <td>1186</td>\n",
       "      <td>1202</td>\n",
       "      <td>1208</td>\n",
       "      <td>1234</td>\n",
       "      <td>1229</td>\n",
       "      <td>1223</td>\n",
       "    </tr>\n",
       "    <tr>\n",
       "      <th>7</th>\n",
       "      <td>NaN</td>\n",
       "      <td>NaN</td>\n",
       "      <td>4001530</td>\n",
       "      <td>906</td>\n",
       "      <td>910</td>\n",
       "      <td>904</td>\n",
       "      <td>919</td>\n",
       "      <td>913</td>\n",
       "      <td>932</td>\n",
       "      <td>929</td>\n",
       "      <td>927</td>\n",
       "    </tr>\n",
       "    <tr>\n",
       "      <th>8</th>\n",
       "      <td>NaN</td>\n",
       "      <td>NaN</td>\n",
       "      <td>4001531</td>\n",
       "      <td>285333</td>\n",
       "      <td>242133</td>\n",
       "      <td>216666</td>\n",
       "      <td>238898</td>\n",
       "      <td>230934</td>\n",
       "      <td>245633</td>\n",
       "      <td>250148</td>\n",
       "      <td>272289</td>\n",
       "    </tr>\n",
       "    <tr>\n",
       "      <th>9</th>\n",
       "      <td>NaN</td>\n",
       "      <td>NaN</td>\n",
       "      <td>4001532</td>\n",
       "      <td>24476</td>\n",
       "      <td>25564</td>\n",
       "      <td>26651</td>\n",
       "      <td>27814</td>\n",
       "      <td>28851</td>\n",
       "      <td>29685</td>\n",
       "      <td>30284</td>\n",
       "      <td>30284</td>\n",
       "    </tr>\n",
       "  </tbody>\n",
       "</table>\n",
       "</div>"
      ],
      "text/plain": [
       "   cve_municipio cve_institucion  cve_calculado  201412  201501  201502  \\\n",
       "0           1001          040002        4001479      68      68      68   \n",
       "1            NaN             NaN        4001480  175340  175300  168377   \n",
       "2            NaN             NaN        4001481  111773  112288  112701   \n",
       "3            NaN             NaN        4001482     148     150     150   \n",
       "4            NaN             NaN        4001484      13      13      13   \n",
       "5            NaN             NaN        4001528  373510  331970  303318   \n",
       "6            NaN             NaN        4001529    1190    1185    1186   \n",
       "7            NaN             NaN        4001530     906     910     904   \n",
       "8            NaN             NaN        4001531  285333  242133  216666   \n",
       "9            NaN             NaN        4001532   24476   25564   26651   \n",
       "\n",
       "   201503  201504  201505  201506  201507  \n",
       "0      68      68      68      69      70  \n",
       "1  168344  170511  170554  170620  170723  \n",
       "2  113333  113703  114185  114718   95107  \n",
       "3     149     150     149     150     151  \n",
       "4      13      13      13      13      13  \n",
       "5  323662  340293  362727  334275  352296  \n",
       "6    1202    1208    1234    1229    1223  \n",
       "7     919     913     932     929     927  \n",
       "8  238898  230934  245633  250148  272289  \n",
       "9   27814   28851   29685   30284   30284  "
      ]
     },
     "execution_count": 6,
     "metadata": {},
     "output_type": "execute_result"
    }
   ],
   "source": [
    "# veamos los primeros 10:\n",
    "data.head(10)\n",
    "# set_index() para que los índices vayan de 0:n-1 nuevamente\n",
    "data.set_index(np.arange(data.shape[0]), inplace=True)\n",
    "data.head(10)"
   ]
  },
  {
   "cell_type": "code",
   "execution_count": 7,
   "metadata": {
    "collapsed": false,
    "slideshow": {
     "slide_type": "subslide"
    }
   },
   "outputs": [
    {
     "ename": "AttributeError",
     "evalue": "'Int64Index' object has no attribute 'reshape'",
     "output_type": "error",
     "traceback": [
      "\u001b[0;31m---------------------------------------------------------------------------\u001b[0m",
      "\u001b[0;31mAttributeError\u001b[0m                            Traceback (most recent call last)",
      "\u001b[0;32m<ipython-input-7-4c6a9728910e>\u001b[0m in \u001b[0;36m<module>\u001b[0;34m()\u001b[0m\n\u001b[1;32m      8\u001b[0m \u001b[0;31m# concatenémoslos\u001b[0m\u001b[0;34m\u001b[0m\u001b[0;34m\u001b[0m\u001b[0m\n\u001b[1;32m      9\u001b[0m mat_mun = np.concatenate((mun_notnan.reshape((mun_notnan.shape[0],1)),\n\u001b[0;32m---> 10\u001b[0;31m                           \u001b[0mind_notnan\u001b[0m\u001b[0;34m.\u001b[0m\u001b[0mreshape\u001b[0m\u001b[0;34m(\u001b[0m\u001b[0;34m(\u001b[0m\u001b[0mmun_notnan\u001b[0m\u001b[0;34m.\u001b[0m\u001b[0mshape\u001b[0m\u001b[0;34m[\u001b[0m\u001b[0;36m0\u001b[0m\u001b[0;34m]\u001b[0m\u001b[0;34m,\u001b[0m\u001b[0;36m1\u001b[0m\u001b[0;34m)\u001b[0m\u001b[0;34m)\u001b[0m\u001b[0;34m\u001b[0m\u001b[0m\n\u001b[0m\u001b[1;32m     11\u001b[0m                           ),axis=1)\n",
      "\u001b[0;31mAttributeError\u001b[0m: 'Int64Index' object has no attribute 'reshape'"
     ]
    }
   ],
   "source": [
    "# cuáles son los índices donde no tenemos NaNs?\n",
    "# Vamos a usar dos pasos:\n",
    "# primer paso: buscar con un booleano las filas donde no hay NaNs, y restingir el dataframe sólo a esos\n",
    "# segundo paso: método .index\n",
    "ind_notnan = data[data.cve_municipio.isnull()==False].index\n",
    "mun_notnan = data[data.cve_municipio.isnull()==False].cve_municipio.values\n",
    "#print ind_notnan\n",
    "# concatenémoslos\n",
    "mat_mun = np.concatenate((mun_notnan.reshape((mun_notnan.shape[0],1)),\n",
    "                          ind_notnan.reshape((mun_notnan.shape[0],1))\n",
    "                          ),axis=1)"
   ]
  },
  {
   "cell_type": "code",
   "execution_count": 8,
   "metadata": {
    "collapsed": false,
    "slideshow": {
     "slide_type": "subslide"
    }
   },
   "outputs": [
    {
     "data": {
      "text/plain": [
       "array([[  1001.,      0.],\n",
       "       [  1002.,    393.],\n",
       "       [  1003.,    478.],\n",
       "       ..., \n",
       "       [ 13073.,  58527.],\n",
       "       [ 13074.,  58608.],\n",
       "       [ 13075.,  58743.]])"
      ]
     },
     "execution_count": 8,
     "metadata": {},
     "output_type": "execute_result"
    }
   ],
   "source": [
    "# Tenemos que convertirlo a array primero, porque el método Reshape funciona sobre arrays únicamente\n",
    "mat_mun = np.concatenate((mun_notnan.reshape((mun_notnan.shape[0],1)),\n",
    "                          np.asarray(ind_notnan).reshape((mun_notnan.shape[0],1))\n",
    "                          ),axis=1)\n",
    "# veámoslo\n",
    "mat_mun"
   ]
  },
  {
   "cell_type": "code",
   "execution_count": 9,
   "metadata": {
    "collapsed": false,
    "slideshow": {
     "slide_type": "subslide"
    }
   },
   "outputs": [
    {
     "data": {
      "text/html": [
       "<div>\n",
       "<table border=\"1\" class=\"dataframe\">\n",
       "  <thead>\n",
       "    <tr style=\"text-align: right;\">\n",
       "      <th></th>\n",
       "      <th>Municipio</th>\n",
       "      <th>Indice</th>\n",
       "    </tr>\n",
       "  </thead>\n",
       "  <tbody>\n",
       "    <tr>\n",
       "      <th>0</th>\n",
       "      <td>1001</td>\n",
       "      <td>0</td>\n",
       "    </tr>\n",
       "    <tr>\n",
       "      <th>1</th>\n",
       "      <td>1002</td>\n",
       "      <td>393</td>\n",
       "    </tr>\n",
       "    <tr>\n",
       "      <th>2</th>\n",
       "      <td>1003</td>\n",
       "      <td>478</td>\n",
       "    </tr>\n",
       "    <tr>\n",
       "      <th>3</th>\n",
       "      <td>1004</td>\n",
       "      <td>633</td>\n",
       "    </tr>\n",
       "    <tr>\n",
       "      <th>4</th>\n",
       "      <td>1005</td>\n",
       "      <td>715</td>\n",
       "    </tr>\n",
       "  </tbody>\n",
       "</table>\n",
       "</div>"
      ],
      "text/plain": [
       "   Municipio  Indice\n",
       "0       1001       0\n",
       "1       1002     393\n",
       "2       1003     478\n",
       "3       1004     633\n",
       "4       1005     715"
      ]
     },
     "execution_count": 9,
     "metadata": {},
     "output_type": "execute_result"
    }
   ],
   "source": [
    "# convirtámoslo en un DataFrame:\n",
    "# Permite visualizar mejor la matriz.  \n",
    "# ---> Además aprendemos a generar DataFrames\n",
    "mat_mun = pd.DataFrame(mat_mun, columns=['Municipio','Indice'])\n",
    "mat_mun.head()"
   ]
  },
  {
   "cell_type": "code",
   "execution_count": 10,
   "metadata": {
    "collapsed": false,
    "slideshow": {
     "slide_type": "subslide"
    }
   },
   "outputs": [
    {
     "name": "stdout",
     "output_type": "stream",
     "text": [
      "1001.0 0.0 0 393.0\n"
     ]
    },
    {
     "name": "stderr",
     "output_type": "stream",
     "text": [
      "/Users/danielvaughan/anaconda/lib/python2.7/site-packages/pandas/core/indexing.py:115: SettingWithCopyWarning: \n",
      "A value is trying to be set on a copy of a slice from a DataFrame\n",
      "\n",
      "See the the caveats in the documentation: http://pandas.pydata.org/pandas-docs/stable/indexing.html#indexing-view-versus-copy\n",
      "  self._setitem_with_indexer(indexer, value)\n"
     ]
    },
    {
     "data": {
      "text/html": [
       "<div>\n",
       "<table border=\"1\" class=\"dataframe\">\n",
       "  <thead>\n",
       "    <tr style=\"text-align: right;\">\n",
       "      <th></th>\n",
       "      <th>cve_municipio</th>\n",
       "      <th>primer_intento</th>\n",
       "    </tr>\n",
       "  </thead>\n",
       "  <tbody>\n",
       "    <tr>\n",
       "      <th>390</th>\n",
       "      <td>NaN</td>\n",
       "      <td>1001</td>\n",
       "    </tr>\n",
       "    <tr>\n",
       "      <th>391</th>\n",
       "      <td>NaN</td>\n",
       "      <td>1001</td>\n",
       "    </tr>\n",
       "    <tr>\n",
       "      <th>392</th>\n",
       "      <td>NaN</td>\n",
       "      <td>1001</td>\n",
       "    </tr>\n",
       "    <tr>\n",
       "      <th>393</th>\n",
       "      <td>1002</td>\n",
       "      <td>NaN</td>\n",
       "    </tr>\n",
       "    <tr>\n",
       "      <th>394</th>\n",
       "      <td>NaN</td>\n",
       "      <td>NaN</td>\n",
       "    </tr>\n",
       "  </tbody>\n",
       "</table>\n",
       "</div>"
      ],
      "text/plain": [
       "     cve_municipio  primer_intento\n",
       "390            NaN            1001\n",
       "391            NaN            1001\n",
       "392            NaN            1001\n",
       "393           1002             NaN\n",
       "394            NaN             NaN"
      ]
     },
     "execution_count": 10,
     "metadata": {},
     "output_type": "execute_result"
    }
   ],
   "source": [
    "# primer intento: creemos una nueva columna de NaNs\n",
    "data['primer_intento'] = np.nan\n",
    "# La idea es la siguiente: vamos a hacer un loop sobre todos los  municipios y llenar los espacios entre los índices\n",
    "# con ese municipio\n",
    "# NOTA: VAMOS A PROBAR CON UN SOLO MUNICIPIO PRIMERO\n",
    "for m in mat_mun.Municipio.values[:1]:\n",
    "    # seleccionemos el índice del municipio\n",
    "    ind_mun = mat_mun.loc[mat_mun.Municipio==m].Indice.values[0]\n",
    "    # seleccionemos el índice del SIGUIENTE municipio\n",
    "    # primero, el indice dentro de mat_mun\n",
    "    preind  = mat_mun.loc[mat_mun.Municipio==m].index[0]\n",
    "    # ya podemos mirar en el siguiente índice: preind+1\n",
    "    ind_sig = mat_mun.Indice.ix[int(preind + 1)]\n",
    "    # veamos que hicimos la selección de manera correcta\n",
    "    print m, ind_mun, preind, ind_sig\n",
    "    # Ya tenemos los índices: estamos listos para llenar los índices entre [ind_mun,ind_sig) con m\n",
    "    data.primer_intento.ix[int(ind_mun):(int(ind_sig)-1)] = m\n",
    "\n",
    "data[['cve_municipio','primer_intento']].head()\n",
    "\n",
    "# cuál es el valor de primer_intento en el índice 393?\n",
    "data[['cve_municipio','primer_intento']].ix[390:394]"
   ]
  },
  {
   "cell_type": "code",
   "execution_count": 11,
   "metadata": {
    "collapsed": false,
    "slideshow": {
     "slide_type": "subslide"
    }
   },
   "outputs": [
    {
     "ename": "KeyError",
     "evalue": "522",
     "output_type": "error",
     "traceback": [
      "\u001b[0;31m---------------------------------------------------------------------------\u001b[0m",
      "\u001b[0;31mKeyError\u001b[0m                                  Traceback (most recent call last)",
      "\u001b[0;32m<ipython-input-11-3a0363badaa9>\u001b[0m in \u001b[0;36m<module>\u001b[0;34m()\u001b[0m\n\u001b[1;32m     12\u001b[0m     \u001b[0mpreind\u001b[0m  \u001b[0;34m=\u001b[0m \u001b[0mmat_mun\u001b[0m\u001b[0;34m.\u001b[0m\u001b[0mloc\u001b[0m\u001b[0;34m[\u001b[0m\u001b[0mmat_mun\u001b[0m\u001b[0;34m.\u001b[0m\u001b[0mMunicipio\u001b[0m\u001b[0;34m==\u001b[0m\u001b[0mm\u001b[0m\u001b[0;34m]\u001b[0m\u001b[0;34m.\u001b[0m\u001b[0mindex\u001b[0m\u001b[0;34m[\u001b[0m\u001b[0;36m0\u001b[0m\u001b[0;34m]\u001b[0m\u001b[0;34m\u001b[0m\u001b[0m\n\u001b[1;32m     13\u001b[0m     \u001b[0;31m# ya podemos mirar en el siguiente índice: preind+1\u001b[0m\u001b[0;34m\u001b[0m\u001b[0;34m\u001b[0m\u001b[0m\n\u001b[0;32m---> 14\u001b[0;31m     \u001b[0mind_sig\u001b[0m \u001b[0;34m=\u001b[0m \u001b[0mmat_mun\u001b[0m\u001b[0;34m.\u001b[0m\u001b[0mIndice\u001b[0m\u001b[0;34m.\u001b[0m\u001b[0mix\u001b[0m\u001b[0;34m[\u001b[0m\u001b[0mint\u001b[0m\u001b[0;34m(\u001b[0m\u001b[0mpreind\u001b[0m \u001b[0;34m+\u001b[0m \u001b[0;36m1\u001b[0m\u001b[0;34m)\u001b[0m\u001b[0;34m]\u001b[0m\u001b[0;34m\u001b[0m\u001b[0m\n\u001b[0m\u001b[1;32m     15\u001b[0m     \u001b[0;31m# Ya tenemos los índices: estamos listos para llenar los índices entre [ind_mun,ind_sig) con m\u001b[0m\u001b[0;34m\u001b[0m\u001b[0;34m\u001b[0m\u001b[0m\n\u001b[1;32m     16\u001b[0m     \u001b[0mdata\u001b[0m\u001b[0;34m.\u001b[0m\u001b[0mprimer_intento\u001b[0m\u001b[0;34m.\u001b[0m\u001b[0mix\u001b[0m\u001b[0;34m[\u001b[0m\u001b[0mint\u001b[0m\u001b[0;34m(\u001b[0m\u001b[0mind_mun\u001b[0m\u001b[0;34m)\u001b[0m\u001b[0;34m:\u001b[0m\u001b[0;34m(\u001b[0m\u001b[0mint\u001b[0m\u001b[0;34m(\u001b[0m\u001b[0mind_sig\u001b[0m\u001b[0;34m)\u001b[0m\u001b[0;34m-\u001b[0m\u001b[0;36m1\u001b[0m\u001b[0;34m)\u001b[0m\u001b[0;34m]\u001b[0m \u001b[0;34m=\u001b[0m \u001b[0mm\u001b[0m\u001b[0;34m\u001b[0m\u001b[0m\n",
      "\u001b[0;32m/Users/danielvaughan/anaconda/lib/python2.7/site-packages/pandas/core/indexing.pyc\u001b[0m in \u001b[0;36m__getitem__\u001b[0;34m(self, key)\u001b[0m\n\u001b[1;32m     68\u001b[0m             \u001b[0;32mreturn\u001b[0m \u001b[0mself\u001b[0m\u001b[0;34m.\u001b[0m\u001b[0m_getitem_tuple\u001b[0m\u001b[0;34m(\u001b[0m\u001b[0mkey\u001b[0m\u001b[0;34m)\u001b[0m\u001b[0;34m\u001b[0m\u001b[0m\n\u001b[1;32m     69\u001b[0m         \u001b[0;32melse\u001b[0m\u001b[0;34m:\u001b[0m\u001b[0;34m\u001b[0m\u001b[0m\n\u001b[0;32m---> 70\u001b[0;31m             \u001b[0;32mreturn\u001b[0m \u001b[0mself\u001b[0m\u001b[0;34m.\u001b[0m\u001b[0m_getitem_axis\u001b[0m\u001b[0;34m(\u001b[0m\u001b[0mkey\u001b[0m\u001b[0;34m,\u001b[0m \u001b[0maxis\u001b[0m\u001b[0;34m=\u001b[0m\u001b[0;36m0\u001b[0m\u001b[0;34m)\u001b[0m\u001b[0;34m\u001b[0m\u001b[0m\n\u001b[0m\u001b[1;32m     71\u001b[0m \u001b[0;34m\u001b[0m\u001b[0m\n\u001b[1;32m     72\u001b[0m     \u001b[0;32mdef\u001b[0m \u001b[0m_get_label\u001b[0m\u001b[0;34m(\u001b[0m\u001b[0mself\u001b[0m\u001b[0;34m,\u001b[0m \u001b[0mlabel\u001b[0m\u001b[0;34m,\u001b[0m \u001b[0maxis\u001b[0m\u001b[0;34m=\u001b[0m\u001b[0;36m0\u001b[0m\u001b[0;34m)\u001b[0m\u001b[0;34m:\u001b[0m\u001b[0;34m\u001b[0m\u001b[0m\n",
      "\u001b[0;32m/Users/danielvaughan/anaconda/lib/python2.7/site-packages/pandas/core/indexing.pyc\u001b[0m in \u001b[0;36m_getitem_axis\u001b[0;34m(self, key, axis)\u001b[0m\n\u001b[1;32m    927\u001b[0m                     \u001b[0;32mreturn\u001b[0m \u001b[0mself\u001b[0m\u001b[0;34m.\u001b[0m\u001b[0m_get_loc\u001b[0m\u001b[0;34m(\u001b[0m\u001b[0mkey\u001b[0m\u001b[0;34m,\u001b[0m \u001b[0maxis\u001b[0m\u001b[0;34m=\u001b[0m\u001b[0maxis\u001b[0m\u001b[0;34m)\u001b[0m\u001b[0;34m\u001b[0m\u001b[0m\n\u001b[1;32m    928\u001b[0m \u001b[0;34m\u001b[0m\u001b[0m\n\u001b[0;32m--> 929\u001b[0;31m             \u001b[0;32mreturn\u001b[0m \u001b[0mself\u001b[0m\u001b[0;34m.\u001b[0m\u001b[0m_get_label\u001b[0m\u001b[0;34m(\u001b[0m\u001b[0mkey\u001b[0m\u001b[0;34m,\u001b[0m \u001b[0maxis\u001b[0m\u001b[0;34m=\u001b[0m\u001b[0maxis\u001b[0m\u001b[0;34m)\u001b[0m\u001b[0;34m\u001b[0m\u001b[0m\n\u001b[0m\u001b[1;32m    930\u001b[0m \u001b[0;34m\u001b[0m\u001b[0m\n\u001b[1;32m    931\u001b[0m     \u001b[0;32mdef\u001b[0m \u001b[0m_getitem_iterable\u001b[0m\u001b[0;34m(\u001b[0m\u001b[0mself\u001b[0m\u001b[0;34m,\u001b[0m \u001b[0mkey\u001b[0m\u001b[0;34m,\u001b[0m \u001b[0maxis\u001b[0m\u001b[0;34m=\u001b[0m\u001b[0;36m0\u001b[0m\u001b[0;34m)\u001b[0m\u001b[0;34m:\u001b[0m\u001b[0;34m\u001b[0m\u001b[0m\n",
      "\u001b[0;32m/Users/danielvaughan/anaconda/lib/python2.7/site-packages/pandas/core/indexing.pyc\u001b[0m in \u001b[0;36m_get_label\u001b[0;34m(self, label, axis)\u001b[0m\n\u001b[1;32m     79\u001b[0m                 \u001b[0;32mreturn\u001b[0m \u001b[0mself\u001b[0m\u001b[0;34m.\u001b[0m\u001b[0mobj\u001b[0m\u001b[0;34m.\u001b[0m\u001b[0m_xs\u001b[0m\u001b[0;34m(\u001b[0m\u001b[0mlabel\u001b[0m\u001b[0;34m,\u001b[0m \u001b[0maxis\u001b[0m\u001b[0;34m=\u001b[0m\u001b[0maxis\u001b[0m\u001b[0;34m)\u001b[0m\u001b[0;34m\u001b[0m\u001b[0m\n\u001b[1;32m     80\u001b[0m             \u001b[0;32mexcept\u001b[0m\u001b[0;34m:\u001b[0m\u001b[0;34m\u001b[0m\u001b[0m\n\u001b[0;32m---> 81\u001b[0;31m                 \u001b[0;32mreturn\u001b[0m \u001b[0mself\u001b[0m\u001b[0;34m.\u001b[0m\u001b[0mobj\u001b[0m\u001b[0;34m[\u001b[0m\u001b[0mlabel\u001b[0m\u001b[0;34m]\u001b[0m\u001b[0;34m\u001b[0m\u001b[0m\n\u001b[0m\u001b[1;32m     82\u001b[0m         elif (isinstance(label, tuple) and\n\u001b[1;32m     83\u001b[0m                 isinstance(label[axis], slice)):\n",
      "\u001b[0;32m/Users/danielvaughan/anaconda/lib/python2.7/site-packages/pandas/core/series.pyc\u001b[0m in \u001b[0;36m__getitem__\u001b[0;34m(self, key)\u001b[0m\n\u001b[1;32m    519\u001b[0m     \u001b[0;32mdef\u001b[0m \u001b[0m__getitem__\u001b[0m\u001b[0;34m(\u001b[0m\u001b[0mself\u001b[0m\u001b[0;34m,\u001b[0m \u001b[0mkey\u001b[0m\u001b[0;34m)\u001b[0m\u001b[0;34m:\u001b[0m\u001b[0;34m\u001b[0m\u001b[0m\n\u001b[1;32m    520\u001b[0m         \u001b[0;32mtry\u001b[0m\u001b[0;34m:\u001b[0m\u001b[0;34m\u001b[0m\u001b[0m\n\u001b[0;32m--> 521\u001b[0;31m             \u001b[0mresult\u001b[0m \u001b[0;34m=\u001b[0m \u001b[0mself\u001b[0m\u001b[0;34m.\u001b[0m\u001b[0mindex\u001b[0m\u001b[0;34m.\u001b[0m\u001b[0mget_value\u001b[0m\u001b[0;34m(\u001b[0m\u001b[0mself\u001b[0m\u001b[0;34m,\u001b[0m \u001b[0mkey\u001b[0m\u001b[0;34m)\u001b[0m\u001b[0;34m\u001b[0m\u001b[0m\n\u001b[0m\u001b[1;32m    522\u001b[0m \u001b[0;34m\u001b[0m\u001b[0m\n\u001b[1;32m    523\u001b[0m             \u001b[0;32mif\u001b[0m \u001b[0;32mnot\u001b[0m \u001b[0mnp\u001b[0m\u001b[0;34m.\u001b[0m\u001b[0misscalar\u001b[0m\u001b[0;34m(\u001b[0m\u001b[0mresult\u001b[0m\u001b[0;34m)\u001b[0m\u001b[0;34m:\u001b[0m\u001b[0;34m\u001b[0m\u001b[0m\n",
      "\u001b[0;32m/Users/danielvaughan/anaconda/lib/python2.7/site-packages/pandas/core/index.pyc\u001b[0m in \u001b[0;36mget_value\u001b[0;34m(self, series, key)\u001b[0m\n\u001b[1;32m   1593\u001b[0m \u001b[0;34m\u001b[0m\u001b[0m\n\u001b[1;32m   1594\u001b[0m         \u001b[0;32mtry\u001b[0m\u001b[0;34m:\u001b[0m\u001b[0;34m\u001b[0m\u001b[0m\n\u001b[0;32m-> 1595\u001b[0;31m             \u001b[0;32mreturn\u001b[0m \u001b[0mself\u001b[0m\u001b[0;34m.\u001b[0m\u001b[0m_engine\u001b[0m\u001b[0;34m.\u001b[0m\u001b[0mget_value\u001b[0m\u001b[0;34m(\u001b[0m\u001b[0ms\u001b[0m\u001b[0;34m,\u001b[0m \u001b[0mk\u001b[0m\u001b[0;34m)\u001b[0m\u001b[0;34m\u001b[0m\u001b[0m\n\u001b[0m\u001b[1;32m   1596\u001b[0m         \u001b[0;32mexcept\u001b[0m \u001b[0mKeyError\u001b[0m \u001b[0;32mas\u001b[0m \u001b[0me1\u001b[0m\u001b[0;34m:\u001b[0m\u001b[0;34m\u001b[0m\u001b[0m\n\u001b[1;32m   1597\u001b[0m             \u001b[0;32mif\u001b[0m \u001b[0mlen\u001b[0m\u001b[0;34m(\u001b[0m\u001b[0mself\u001b[0m\u001b[0;34m)\u001b[0m \u001b[0;34m>\u001b[0m \u001b[0;36m0\u001b[0m \u001b[0;32mand\u001b[0m \u001b[0mself\u001b[0m\u001b[0;34m.\u001b[0m\u001b[0minferred_type\u001b[0m \u001b[0;32min\u001b[0m \u001b[0;34m[\u001b[0m\u001b[0;34m'integer'\u001b[0m\u001b[0;34m,\u001b[0m\u001b[0;34m'boolean'\u001b[0m\u001b[0;34m]\u001b[0m\u001b[0;34m:\u001b[0m\u001b[0;34m\u001b[0m\u001b[0m\n",
      "\u001b[0;32mpandas/index.pyx\u001b[0m in \u001b[0;36mpandas.index.IndexEngine.get_value (pandas/index.c:3113)\u001b[0;34m()\u001b[0m\n",
      "\u001b[0;32mpandas/index.pyx\u001b[0m in \u001b[0;36mpandas.index.IndexEngine.get_value (pandas/index.c:2844)\u001b[0;34m()\u001b[0m\n",
      "\u001b[0;32mpandas/index.pyx\u001b[0m in \u001b[0;36mpandas.index.IndexEngine.get_loc (pandas/index.c:3704)\u001b[0;34m()\u001b[0m\n",
      "\u001b[0;32mpandas/hashtable.pyx\u001b[0m in \u001b[0;36mpandas.hashtable.Int64HashTable.get_item (pandas/hashtable.c:7224)\u001b[0;34m()\u001b[0m\n",
      "\u001b[0;32mpandas/hashtable.pyx\u001b[0m in \u001b[0;36mpandas.hashtable.Int64HashTable.get_item (pandas/hashtable.c:7162)\u001b[0;34m()\u001b[0m\n",
      "\u001b[0;31mKeyError\u001b[0m: 522"
     ]
    }
   ],
   "source": [
    "# funcionó, así que repitamos con todos:\n",
    "# primer intento: creemos una nueva columna de NaNs\n",
    "data['primer_intento'] = np.nan\n",
    "# La idea es la siguiente: vamos a hacer un loop sobre todos los  municipios y llenar los espacios entre los índices\n",
    "# con ese municipio\n",
    "# NOTA: VAMOS A PROBAR CON UN SOLO MUNICIPIO PRIMERO\n",
    "for m in mat_mun.Municipio.values:\n",
    "    # seleccionemos el índice del municipio\n",
    "    ind_mun = mat_mun.loc[mat_mun.Municipio==m].Indice.values[0]\n",
    "    # seleccionemos el índice del SIGUIENTE municipio\n",
    "    # primero, el indice dentro de mat_mun\n",
    "    preind  = mat_mun.loc[mat_mun.Municipio==m].index[0]\n",
    "    # ya podemos mirar en el siguiente índice: preind+1\n",
    "    ind_sig = mat_mun.Indice.ix[int(preind + 1)]\n",
    "    # Ya tenemos los índices: estamos listos para llenar los índices entre [ind_mun,ind_sig) con m\n",
    "    data.primer_intento.ix[int(ind_mun):(int(ind_sig)-1)] = m\n",
    "\n"
   ]
  },
  {
   "cell_type": "markdown",
   "metadata": {
    "slideshow": {
     "slide_type": "subslide"
    }
   },
   "source": [
    "### Tuvimos un error.  En la tarea les voy a pedir que lo arreglen.\n",
    "### Por ahora podemos seguir trabajando."
   ]
  },
  {
   "cell_type": "code",
   "execution_count": 12,
   "metadata": {
    "collapsed": false,
    "slideshow": {
     "slide_type": "subslide"
    }
   },
   "outputs": [
    {
     "name": "stdout",
     "output_type": "stream",
     "text": [
      "(522,)\n"
     ]
    },
    {
     "data": {
      "text/html": [
       "<div>\n",
       "<table border=\"1\" class=\"dataframe\">\n",
       "  <thead>\n",
       "    <tr style=\"text-align: right;\">\n",
       "      <th></th>\n",
       "      <th>cve_municipio</th>\n",
       "      <th>cve_institucion</th>\n",
       "      <th>cve_calculado</th>\n",
       "      <th>201412</th>\n",
       "      <th>201501</th>\n",
       "      <th>201502</th>\n",
       "      <th>201503</th>\n",
       "      <th>201504</th>\n",
       "      <th>201505</th>\n",
       "      <th>201506</th>\n",
       "      <th>201507</th>\n",
       "      <th>primer_intento</th>\n",
       "    </tr>\n",
       "  </thead>\n",
       "  <tbody>\n",
       "    <tr>\n",
       "      <th>0</th>\n",
       "      <td>1001</td>\n",
       "      <td>040002</td>\n",
       "      <td>4001479</td>\n",
       "      <td>68</td>\n",
       "      <td>68</td>\n",
       "      <td>68</td>\n",
       "      <td>68</td>\n",
       "      <td>68</td>\n",
       "      <td>68</td>\n",
       "      <td>69</td>\n",
       "      <td>70</td>\n",
       "      <td>1001</td>\n",
       "    </tr>\n",
       "    <tr>\n",
       "      <th>1</th>\n",
       "      <td>NaN</td>\n",
       "      <td>NaN</td>\n",
       "      <td>4001480</td>\n",
       "      <td>175340</td>\n",
       "      <td>175300</td>\n",
       "      <td>168377</td>\n",
       "      <td>168344</td>\n",
       "      <td>170511</td>\n",
       "      <td>170554</td>\n",
       "      <td>170620</td>\n",
       "      <td>170723</td>\n",
       "      <td>1001</td>\n",
       "    </tr>\n",
       "    <tr>\n",
       "      <th>2</th>\n",
       "      <td>NaN</td>\n",
       "      <td>NaN</td>\n",
       "      <td>4001481</td>\n",
       "      <td>111773</td>\n",
       "      <td>112288</td>\n",
       "      <td>112701</td>\n",
       "      <td>113333</td>\n",
       "      <td>113703</td>\n",
       "      <td>114185</td>\n",
       "      <td>114718</td>\n",
       "      <td>95107</td>\n",
       "      <td>1001</td>\n",
       "    </tr>\n",
       "    <tr>\n",
       "      <th>3</th>\n",
       "      <td>NaN</td>\n",
       "      <td>NaN</td>\n",
       "      <td>4001482</td>\n",
       "      <td>148</td>\n",
       "      <td>150</td>\n",
       "      <td>150</td>\n",
       "      <td>149</td>\n",
       "      <td>150</td>\n",
       "      <td>149</td>\n",
       "      <td>150</td>\n",
       "      <td>151</td>\n",
       "      <td>1001</td>\n",
       "    </tr>\n",
       "    <tr>\n",
       "      <th>4</th>\n",
       "      <td>NaN</td>\n",
       "      <td>NaN</td>\n",
       "      <td>4001484</td>\n",
       "      <td>13</td>\n",
       "      <td>13</td>\n",
       "      <td>13</td>\n",
       "      <td>13</td>\n",
       "      <td>13</td>\n",
       "      <td>13</td>\n",
       "      <td>13</td>\n",
       "      <td>13</td>\n",
       "      <td>1001</td>\n",
       "    </tr>\n",
       "  </tbody>\n",
       "</table>\n",
       "</div>"
      ],
      "text/plain": [
       "   cve_municipio cve_institucion  cve_calculado  201412  201501  201502  \\\n",
       "0           1001          040002        4001479      68      68      68   \n",
       "1            NaN             NaN        4001480  175340  175300  168377   \n",
       "2            NaN             NaN        4001481  111773  112288  112701   \n",
       "3            NaN             NaN        4001482     148     150     150   \n",
       "4            NaN             NaN        4001484      13      13      13   \n",
       "\n",
       "   201503  201504  201505  201506  201507  primer_intento  \n",
       "0      68      68      68      69      70            1001  \n",
       "1  168344  170511  170554  170620  170723            1001  \n",
       "2  113333  113703  114185  114718   95107            1001  \n",
       "3     149     150     149     150     151            1001  \n",
       "4      13      13      13      13      13            1001  "
      ]
     },
     "execution_count": 12,
     "metadata": {},
     "output_type": "execute_result"
    }
   ],
   "source": [
    "print data.primer_intento.unique().shape\n",
    "data.head()"
   ]
  },
  {
   "cell_type": "code",
   "execution_count": null,
   "metadata": {
    "collapsed": true
   },
   "outputs": [],
   "source": [
    "# Repitamos con cve_institución\n",
    "# Primero los índices de los no nulos\n",
    "ind_inst_notnan = data[data.cve_institucion.isnull()==False].index\n",
    "# Ahora necesitamos todos los valores no nulos\n",
    "val_inst_notnan = data[data.cve_institucion.isnull()==False].cve_institucion.values\n",
    "data['temporary_values'] = np.nan\n",
    "# El loop es sobre los valores:\n",
    "counter = 0\n",
    "for cod_inst in val_inst_notnan:\n",
    "    # primero el índice del actual:\n",
    "    ind_actual = ind_inst_notnan[counter]\n",
    "    # el índice del siguiente \n",
    "    ind_siguiente = ind_inst_notnan[counter+1]\n",
    "    #print ind_actual, ind_siguiente\n",
    "    data.temporary_values.ix[ind_actual:ind_siguiente-1] = cod_inst\n",
    "    # actualicemos el contador\n",
    "    counter +=1"
   ]
  },
  {
   "cell_type": "code",
   "execution_count": 36,
   "metadata": {
    "collapsed": false,
    "slideshow": {
     "slide_type": "subslide"
    }
   },
   "outputs": [
    {
     "data": {
      "text/plain": [
       "Index([  u'cve_municipio', u'cve_institucion',   u'cve_calculado',\n",
       "              u'f2014_12',        u'f2015_01',        u'f2015_02',\n",
       "              u'f2015_03',        u'f2015_04',        u'f2015_05',\n",
       "              u'f2015_06',        u'f2015_07',      u'cve_Estado'],\n",
       "      dtype='object')"
      ]
     },
     "execution_count": 36,
     "metadata": {},
     "output_type": "execute_result"
    }
   ],
   "source": [
    "# Estamos casi listos.\n",
    "# Vamos a hacer varias cosas para eliminar información que no necesitamos.\n",
    "#-----------\n",
    "# Primero: copiemos primer_intento a cve_municipio y eliminemos la última.\n",
    "#-----------\n",
    "data.cve_municipio   = data.primer_intento.copy()\n",
    "data.cve_institucion = data.temporary_values.copy()\n",
    "print data.cve_municipio.unique().shape, data.cve_institucion.unique().shape\n",
    "# Para eliminarla empecemos por obtener los nombres de las columnas, EXCLUYENDO LAS QUE QUEREMOS ELIMINAR\n",
    "cols = data.keys()[:-2]\n",
    "print cols\n",
    "data = data[np.asarray(cols)]\n",
    "print data.keys()\n",
    "#-----------\n",
    "# Segundo: vamos a cambiar el nombre de las columnas con fechas.  Están como float, y queremos strings:\n",
    "# ------> Para entender por qué, intente escribir `data.` e intente autocompletar con TAB.\n",
    "#         todas las columnas con nombre en string aparecen (búsquelas para cerciorarse), pero las numéricas no\n",
    "#-----------\n",
    "# necesitamos un diccionario:\n",
    "data.rename(columns={201412:'f2014_12',201501:'f2015_01',201502:'f2015_02',201503:'f2015_03',201504:'f2015_04',\n",
    "                     201505:'f2015_05',201506:'f2015_06',201507:'f2015_07'}, inplace=True)\n",
    "\n",
    "data.keys()"
   ]
  },
  {
   "cell_type": "code",
   "execution_count": null,
   "metadata": {
    "collapsed": true,
    "slideshow": {
     "slide_type": "subslide"
    }
   },
   "outputs": [],
   "source": [
    "# Guardemos para no tener que volver a repetir todo este proceso cada vez que queramos arreglar los datos\n",
    "data.to_excel('datos_cnbv_arreglados.xlsx')\n",
    "#data = pd.read_excel('datos_cnbv_arreglados.xlsx')"
   ]
  },
  {
   "cell_type": "code",
   "execution_count": 32,
   "metadata": {
    "collapsed": true,
    "slideshow": {
     "slide_type": "subslide"
    }
   },
   "outputs": [],
   "source": [
    "# Antes de seguir vamos a generar códigos para las entidades federativas:\n",
    "# Los códigos de municipio tienen 4-5 caracteres.\n",
    "# Los últimos tres digitos son los códigos del municipio.  Los restantes son códigos del estado\n",
    "# tenemos que  hacer dos cosas:\n",
    "# 1. Obtener la longitud del número--> convertirlo a entero--> a String--> usar la función len()\n",
    "# Problema: hay que tener cuidado con los NaNs, así que convirtámoslos a algo\n",
    "data.cve_municipio.loc[data.cve_municipio.isnull()==True] = -1\n",
    "length_mpios = data.cve_municipio.astype('int').astype('str').str.len()\n",
    "# 2. Para los que tienen 5: simple: código estado son los primeros 2\n",
    "data['cve_Estado'] = np.nan\n",
    "data.cve_Estado.loc[length_mpios==5] = data.cve_municipio.astype('int').astype('str').str[:2]\n",
    "data.cve_Estado.loc[length_mpios==4] = data.cve_municipio.astype('int').astype('str').str[:1]\n",
    "# NOTA: AL GUARDAR LOS DATOS EN UN ARCHIVO DE EXCEL SOLO CABEN 65K FILAS.  NO TENEMOS NFO DE ESTADOS 14-32"
   ]
  },
  {
   "cell_type": "markdown",
   "metadata": {
    "slideshow": {
     "slide_type": "slide"
    }
   },
   "source": [
    "# Group By: obtener PivotTables como en Excel\n",
    "\n",
    "* Ahora que tenemos los datos limpios podemos empezar a analizarlos.\n",
    "\n",
    "* Tenemos en total 11 indicadores (ver la hoja correspondiente en el archivo de Excel, 50 instituciones o grupos de instituciones).\n",
    "\n",
    "* La función [crosstab](http://pandas.pydata.org/pandas-docs/stable/generated/pandas.crosstab.html) permite hacer conteos cruzados (como la de Stata), pero además, si utilizamos los argumentos opcionales `values` y `aggfunc` (ver documentación en en link de arriba) se pueden obtener promedios, sumas, conteos, medianas, etc. (cualquier función de agregación) de una tercera variable (values).\n",
    "\n",
    "* La función [groupby](http://pandas.pydata.org/pandas-docs/stable/groupby.html) es bastante útil, y permite obtener rápidamente tablas que replican a las tablas dinámicas de Excel.\n",
    "\n",
    "* La función [pivot](http://pandas.pydata.org/pandas-docs/stable/reshaping.html) permite hacer \"reshapes\" de un dataframe.  Por ejemplo, en datos de pánel, podemos rápidamente pasar de un formato *wide* a uno *long* o viceversa."
   ]
  },
  {
   "cell_type": "code",
   "execution_count": 5,
   "metadata": {
    "collapsed": false,
    "slideshow": {
     "slide_type": "subslide"
    }
   },
   "outputs": [
    {
     "name": "stdout",
     "output_type": "stream",
     "text": [
      "[u'cve_calculado', u'data', u'cve_mpio', u'grupos']\n"
     ]
    }
   ],
   "source": [
    "# Veamos qué hojas tiene el archivo de excel:\n",
    "xl = pd.ExcelFile('data_cnbv.xlsx')\n",
    "print xl.sheet_names\n",
    "del xl"
   ]
  },
  {
   "cell_type": "code",
   "execution_count": 12,
   "metadata": {
    "collapsed": false,
    "slideshow": {
     "slide_type": "subslide"
    }
   },
   "outputs": [
    {
     "data": {
      "text/html": [
       "<div>\n",
       "<table border=\"1\" class=\"dataframe\">\n",
       "  <thead>\n",
       "    <tr style=\"text-align: right;\">\n",
       "      <th></th>\n",
       "      <th>dl_calculado</th>\n",
       "      <th>cve_calculado</th>\n",
       "    </tr>\n",
       "  </thead>\n",
       "  <tbody>\n",
       "    <tr>\n",
       "      <th>0</th>\n",
       "      <td>Contratos Cuentas Ahorro</td>\n",
       "      <td>4001541</td>\n",
       "    </tr>\n",
       "    <tr>\n",
       "      <th>1</th>\n",
       "      <td>Contratos Cuentas de Nómina</td>\n",
       "      <td>4001533</td>\n",
       "    </tr>\n",
       "    <tr>\n",
       "      <th>2</th>\n",
       "      <td>Contratos Cuentas Transaccionales (total)</td>\n",
       "      <td>4001534</td>\n",
       "    </tr>\n",
       "    <tr>\n",
       "      <th>3</th>\n",
       "      <td>Contratos Cuentas Transaccionales Mercado Abierto</td>\n",
       "      <td>4001535</td>\n",
       "    </tr>\n",
       "    <tr>\n",
       "      <th>4</th>\n",
       "      <td>Contratos Cuentas Transaccionales Nivel 1</td>\n",
       "      <td>4001536</td>\n",
       "    </tr>\n",
       "  </tbody>\n",
       "</table>\n",
       "</div>"
      ],
      "text/plain": [
       "                                        dl_calculado  cve_calculado\n",
       "0                           Contratos Cuentas Ahorro        4001541\n",
       "1                        Contratos Cuentas de Nómina        4001533\n",
       "2          Contratos Cuentas Transaccionales (total)        4001534\n",
       "3  Contratos Cuentas Transaccionales Mercado Abierto        4001535\n",
       "4          Contratos Cuentas Transaccionales Nivel 1        4001536"
      ]
     },
     "execution_count": 12,
     "metadata": {},
     "output_type": "execute_result"
    }
   ],
   "source": [
    "# Importemos el diccionario de indicadores:\n",
    "dicc_ind  = pd.read_excel('data_cnbv.xlsx','cve_calculado')\n",
    "# Ahora el de las instituciones:\n",
    "dicc_inst = pd.read_excel('data_cnbv.xlsx','cve_mpio')\n",
    "\n",
    "dicc_ind.head()"
   ]
  },
  {
   "cell_type": "code",
   "execution_count": 13,
   "metadata": {
    "collapsed": false,
    "slideshow": {
     "slide_type": "subslide"
    }
   },
   "outputs": [
    {
     "data": {
      "text/html": [
       "<div>\n",
       "<table border=\"1\" class=\"dataframe\">\n",
       "  <thead>\n",
       "    <tr style=\"text-align: right;\">\n",
       "      <th></th>\n",
       "      <th>dl_institucion</th>\n",
       "      <th>cve_institucion</th>\n",
       "      <th>tipo</th>\n",
       "    </tr>\n",
       "  </thead>\n",
       "  <tbody>\n",
       "    <tr>\n",
       "      <th>0</th>\n",
       "      <td>Total Banca Múltiple</td>\n",
       "      <td>5</td>\n",
       "      <td>V</td>\n",
       "    </tr>\n",
       "    <tr>\n",
       "      <th>1</th>\n",
       "      <td>ABC Capital</td>\n",
       "      <td>40138</td>\n",
       "      <td>I</td>\n",
       "    </tr>\n",
       "    <tr>\n",
       "      <th>2</th>\n",
       "      <td>Actinver</td>\n",
       "      <td>40133</td>\n",
       "      <td>I</td>\n",
       "    </tr>\n",
       "    <tr>\n",
       "      <th>3</th>\n",
       "      <td>Afirme</td>\n",
       "      <td>40062</td>\n",
       "      <td>I</td>\n",
       "    </tr>\n",
       "    <tr>\n",
       "      <th>4</th>\n",
       "      <td>American Express</td>\n",
       "      <td>40103</td>\n",
       "      <td>I</td>\n",
       "    </tr>\n",
       "  </tbody>\n",
       "</table>\n",
       "</div>"
      ],
      "text/plain": [
       "         dl_institucion  cve_institucion tipo\n",
       "0  Total Banca Múltiple                5    V\n",
       "1           ABC Capital            40138    I\n",
       "2              Actinver            40133    I\n",
       "3                Afirme            40062    I\n",
       "4      American Express            40103    I"
      ]
     },
     "execution_count": 13,
     "metadata": {},
     "output_type": "execute_result"
    }
   ],
   "source": [
    "dicc_inst.head()"
   ]
  },
  {
   "cell_type": "markdown",
   "metadata": {
    "slideshow": {
     "slide_type": "subslide"
    }
   },
   "source": [
    "# Hagamos unas cuantas tablas dinámicas"
   ]
  },
  {
   "cell_type": "code",
   "execution_count": 49,
   "metadata": {
    "collapsed": false
   },
   "outputs": [
    {
     "name": "stdout",
     "output_type": "stream",
     "text": [
      "Número de obsevaciones por indicador:\n",
      "cve_calculado\n",
      "4001479    2908\n",
      "4001480    4141\n",
      "4001481    4795\n",
      "4001482    1693\n",
      "4001483    1668\n",
      "4001484    2500\n",
      "4001528    2896\n",
      "4001529    3963\n",
      "4001530    3994\n",
      "4001531    3953\n",
      "4001532    2182\n",
      "4001533    3249\n",
      "4001534    4398\n",
      "4001535    4397\n",
      "4001536     846\n",
      "4001537    2981\n",
      "4001538     240\n",
      "4001540    4020\n",
      "4001541     399\n",
      "4001542    3526\n",
      "Name: cve_calculado, dtype: int64\n",
      "---------------------\n",
      "Número de ATMs en marzo de 2015 por Estado:\n",
      "cve_Estado\n",
      "1      1886\n",
      "10     1552\n",
      "11     5857\n",
      "12     2305\n",
      "13     1839\n",
      "2      6998\n",
      "3      1710\n",
      "4      1207\n",
      "5      5444\n",
      "6      1068\n",
      "7      2626\n",
      "8      5669\n",
      "9     24247\n",
      "Name: f2015_03, dtype: float64\n",
      "-------\n",
      "Número de Cuentas de Ahorro reportadas en julio de 2015 por Estado:\n",
      "cve_institucion\n",
      "1        3415\n",
      "2           0\n",
      "4        1020\n",
      "5        4435\n",
      "22       2448\n",
      "40002     162\n",
      "40014     805\n",
      "40044    2207\n",
      "40072     241\n",
      "40103       0\n",
      "40133    1020\n",
      "Name: f2015_07, dtype: float64\n",
      "------ Cuáles son los códigos de las instituciones que aparecieron en la última tabla?-------\n",
      "          dl_institucion  cve_institucion\n",
      "0   Total Banca Múltiple                5\n",
      "2               Actinver            40133\n",
      "4       American Express            40103\n",
      "6                Banamex            40002\n",
      "20           Banorte/Ixe            40072\n",
      "41             Santander            40014\n",
      "42            Scotiabank            40044\n",
      "46    Banca de Inversión                4\n",
      "49               Consumo                2\n",
      "50                  G- 7                1\n",
      "51       G-7 Consolidado               22\n",
      "-----------------\n",
      "Indicadores por mes para Banorte exclusivamente\n",
      "               f2014_12  f2015_01  f2015_02  f2015_03  f2015_04  f2015_05  \\\n",
      "cve_calculado                                                               \n",
      "4001479            2756      2777      2656      2668      2703      2714   \n",
      "4001480         7339289   7275438   7364387   7449292   7348212   7361856   \n",
      "4001481            7439      7395      7332      7308      7275      7256   \n",
      "4001482            8047      7981      7983      7840      7823      7788   \n",
      "4001483             287       261       274       272       261       268   \n",
      "4001484             502       502       502       502       503       491   \n",
      "4001528        11691122  10280017   9668227   9847403  10083876  10908057   \n",
      "4001529           63468     62676     61433     62170     62772     61465   \n",
      "4001530           46545     46035     44962     45087     45431     44187   \n",
      "4001531         9875442   9105330   8636244   9546716   9148172   9854395   \n",
      "4001532           32191     32445     30970     35645     35895     38905   \n",
      "4001533         2217185   2223840   2260018   2294680   2316070   2333533   \n",
      "4001534         4635193   4602817   4668547   4705486   4723825   4729890   \n",
      "4001535         2418008   2378977   2408529   2410806   2407755   2396357   \n",
      "4001536         1148205   1128120   1157159   1152888   1137415   1104605   \n",
      "4001540         3486988   3474697   3511388   3552598   3586410   3625285   \n",
      "4001541             241       241       241       242       241       241   \n",
      "4001542          176058    176849    177143    177480    177585    177670   \n",
      "\n",
      "               f2015_06  f2015_07  \n",
      "cve_calculado                      \n",
      "4001479            2684      2705  \n",
      "4001480         7426381   7493410  \n",
      "4001481            7258      7250  \n",
      "4001482            7676      7501  \n",
      "4001483             252       254  \n",
      "4001484             463       462  \n",
      "4001528         9704371   9756884  \n",
      "4001529           58956     59253  \n",
      "4001530           41948     42079  \n",
      "4001531         9381621   9826443  \n",
      "4001532           39821     43204  \n",
      "4001533         2361234   2397655  \n",
      "4001534         4739754   4761500  \n",
      "4001535         2378520   2363845  \n",
      "4001536         1061227   1044379  \n",
      "4001540         3678527   3717121  \n",
      "4001541             241       241  \n",
      "4001542          176531    176751  \n"
     ]
    }
   ],
   "source": [
    "# Una forma rápida de hacer conteos de una variable es con un groupby\n",
    "conteo_clave = data.cve_calculado.groupby(data.cve_calculado).count()\n",
    "print u\"Número de obsevaciones por indicador:\"\n",
    "print conteo_clave\n",
    "print \"---------------------\"\n",
    "# Cuántos cajeros automáticos había por Estado en marzo de 2015? Cajeros: código 4001479 \n",
    "ind_atms = data.cve_calculado== 4001479 \n",
    "cajeros_estado_mar15 = data.f2015_03.loc[ind_atms].groupby(data.cve_Estado.loc[ind_atms]).sum()\n",
    "print u\"Número de ATMs en marzo de 2015 por Estado:\"\n",
    "print cajeros_estado_mar15\n",
    "# Cuántas cuentas de ahorro había, por institución, en julio 2015:\n",
    "# veamos la sintaxis: \n",
    "# 1. Queremos agrupar por cve_institución, así que esta columna va dentro del groupby()\n",
    "# 2. La variable que queremos medir es cuentas de ahorro (código 4001541)\n",
    "print \"-------\"\n",
    "ind_ahorro = data.cve_calculado == 4001541 \n",
    "total_ahorro_inst_julio15 = data.f2015_07.loc[ind_ahorro].groupby(data.cve_institucion.loc[ind_ahorro]).sum()\n",
    "print u\"Número de Cuentas de Ahorro reportadas en julio de 2015 por Estado:\"\n",
    "print total_ahorro_inst_julio15\n",
    "# solo para revisar, obtengamos los índices de la última para ver qué bancos son\n",
    "ahorro_indices = total_ahorro_inst_julio15.index\n",
    "print u\"------ Cuáles son los códigos de las instituciones que aparecieron en la última tabla?-------\"\n",
    "print dicc_inst[['dl_institucion','cve_institucion']].loc[np.in1d(dicc_inst.cve_institucion,ahorro_indices)]\n",
    "# concentrémonos únicamente en Banorte:\n",
    "ind_banorte = data.cve_institucion==40072\n",
    "# Obtengamos la evolución por meses de todos los indicadores para banorte:\n",
    "cols_years = [u'f2014_12', u'f2015_01', u'f2015_02', u'f2015_03',u'f2015_04',u'f2015_05',u'f2015_06',u'f2015_07']\n",
    "banorte_df = data[cols_years].loc[ind_banorte].groupby(data.cve_calculado.loc[ind_banorte]).sum()\n",
    "print \"-----------------\"\n",
    "print \"Indicadores por mes para Banorte exclusivamente\"\n",
    "print banorte_df"
   ]
  },
  {
   "cell_type": "markdown",
   "metadata": {
    "slideshow": {
     "slide_type": "slide"
    }
   },
   "source": [
    "# Merges: uniendo varias tablas\n",
    "\n",
    "* Los anteriores ejemplos de construcción de tablas dinámicas mediante la función `groupby` fueron útiles.\n",
    "\n",
    "* Pero con códigos numéricos es muy difícil entender qué obtuvimos.\n",
    "\n",
    "* Ahora vamos a utilizar la función [`merge()`](http://pandas.pydata.org/pandas-docs/stable/merging.html) para incluir la etiqueta de cada código.\n",
    "\n",
    "* Un merge une dos tablas:\n",
    "    * Tabla de la izquierda\n",
    "    * Tabla de la derecha\n",
    "    \n",
    "* Utilizando una columna común para las dos: \n",
    "    * Si la columna de una tabla es el índice: `left_index=True` o `right_index=True`\n",
    "    * Si es una columna: `left_on=columa_izquierda` o `right_on=columa_derecha`\n",
    "    \n",
    "* Los `vlookup()`s de Excel se pueden obtener así.\n",
    "\n",
    "* Así como los `JOIN` DE `SQL`.\n",
    "\n",
    "* O el mismo `merge` de STATA."
   ]
  },
  {
   "cell_type": "markdown",
   "metadata": {
    "slideshow": {
     "slide_type": "subslide"
    }
   },
   "source": [
    "# Tipos de merges\n",
    "\n",
    "* En general hay cuatro tipos de merges (ver la documentación para el argumento [how](http://pandas.pydata.org/pandas-docs/stable/generated/pandas.DataFrame.merge.html)):\n",
    "\n",
    "    * Left\n",
    "    * Right\n",
    "    * Inner\n",
    "    * Outer\n",
    "\n",
    "![caption](figures/joins_venn.png)\n",
    "[tomado de](http://www.udel.edu/evelyn/SQL-Class2/joins.jpg)"
   ]
  },
  {
   "cell_type": "code",
   "execution_count": 81,
   "metadata": {
    "collapsed": false
   },
   "outputs": [],
   "source": [
    "# ejemplo de un left merge:\n",
    "# Veamos otra vez el número de cuentas de ahorro por institución \n",
    "# IZQUIERDA: número de cuentas\n",
    "# DERECHA: cve_institución\n",
    "# How: left\n",
    "# left_index: True \n",
    "# right_on: cve_institucion\n",
    "nueva_instahorro = pd.merge(pd.DataFrame(total_ahorro_inst_julio15),dicc_inst,\n",
    "                           how='left', left_index=True, right_on='cve_institucion') \n",
    "nueva_instahorro\n",
    "# si sólo queremos una columna de la derecha la seleccionamos: PERO TOCA SELECCIONAR la que vamos a usar en el merge\n",
    "nueva_instahorro = pd.merge(pd.DataFrame(total_ahorro_inst_julio15),dicc_inst[['cve_institucion','dl_institucion']],\n",
    "                           how='left', left_index=True, right_on='cve_institucion') \n",
    "#print \"----------\"\n",
    "#nueva_instahorro"
   ]
  },
  {
   "cell_type": "code",
   "execution_count": 82,
   "metadata": {
    "collapsed": false,
    "slideshow": {
     "slide_type": "subslide"
    }
   },
   "outputs": [
    {
     "data": {
      "text/html": [
       "<div>\n",
       "<table border=\"1\" class=\"dataframe\">\n",
       "  <thead>\n",
       "    <tr style=\"text-align: right;\">\n",
       "      <th></th>\n",
       "      <th>f2015_07</th>\n",
       "      <th>cve_institucion</th>\n",
       "      <th>dl_institucion</th>\n",
       "    </tr>\n",
       "  </thead>\n",
       "  <tbody>\n",
       "    <tr>\n",
       "      <th>50</th>\n",
       "      <td>3415</td>\n",
       "      <td>1</td>\n",
       "      <td>G- 7</td>\n",
       "    </tr>\n",
       "    <tr>\n",
       "      <th>49</th>\n",
       "      <td>0</td>\n",
       "      <td>2</td>\n",
       "      <td>Consumo</td>\n",
       "    </tr>\n",
       "    <tr>\n",
       "      <th>46</th>\n",
       "      <td>1020</td>\n",
       "      <td>4</td>\n",
       "      <td>Banca de Inversión</td>\n",
       "    </tr>\n",
       "    <tr>\n",
       "      <th>0</th>\n",
       "      <td>4435</td>\n",
       "      <td>5</td>\n",
       "      <td>Total Banca Múltiple</td>\n",
       "    </tr>\n",
       "    <tr>\n",
       "      <th>51</th>\n",
       "      <td>2448</td>\n",
       "      <td>22</td>\n",
       "      <td>G-7 Consolidado</td>\n",
       "    </tr>\n",
       "    <tr>\n",
       "      <th>6</th>\n",
       "      <td>162</td>\n",
       "      <td>40002</td>\n",
       "      <td>Banamex</td>\n",
       "    </tr>\n",
       "    <tr>\n",
       "      <th>41</th>\n",
       "      <td>805</td>\n",
       "      <td>40014</td>\n",
       "      <td>Santander</td>\n",
       "    </tr>\n",
       "    <tr>\n",
       "      <th>42</th>\n",
       "      <td>2207</td>\n",
       "      <td>40044</td>\n",
       "      <td>Scotiabank</td>\n",
       "    </tr>\n",
       "    <tr>\n",
       "      <th>20</th>\n",
       "      <td>241</td>\n",
       "      <td>40072</td>\n",
       "      <td>Banorte/Ixe</td>\n",
       "    </tr>\n",
       "    <tr>\n",
       "      <th>4</th>\n",
       "      <td>0</td>\n",
       "      <td>40103</td>\n",
       "      <td>American Express</td>\n",
       "    </tr>\n",
       "    <tr>\n",
       "      <th>2</th>\n",
       "      <td>1020</td>\n",
       "      <td>40133</td>\n",
       "      <td>Actinver</td>\n",
       "    </tr>\n",
       "  </tbody>\n",
       "</table>\n",
       "</div>"
      ],
      "text/plain": [
       "    f2015_07  cve_institucion        dl_institucion\n",
       "50      3415                1                  G- 7\n",
       "49         0                2               Consumo\n",
       "46      1020                4    Banca de Inversión\n",
       "0       4435                5  Total Banca Múltiple\n",
       "51      2448               22       G-7 Consolidado\n",
       "6        162            40002               Banamex\n",
       "41       805            40014             Santander\n",
       "42      2207            40044            Scotiabank\n",
       "20       241            40072           Banorte/Ixe\n",
       "4          0            40103      American Express\n",
       "2       1020            40133              Actinver"
      ]
     },
     "execution_count": 82,
     "metadata": {},
     "output_type": "execute_result"
    }
   ],
   "source": [
    "nueva_instahorro"
   ]
  },
  {
   "cell_type": "code",
   "execution_count": 83,
   "metadata": {
    "collapsed": false,
    "slideshow": {
     "slide_type": "subslide"
    }
   },
   "outputs": [
    {
     "data": {
      "text/plain": [
       "<matplotlib.axes._subplots.AxesSubplot at 0x1091258d0>"
      ]
     },
     "execution_count": 83,
     "metadata": {},
     "output_type": "execute_result"
    },
    {
     "data": {
      "image/png": "[encoded data removed]",
      "text/plain": [
       "<matplotlib.figure.Figure at 0x10834ff90>"
      ]
     },
     "metadata": {},
     "output_type": "display_data"
    }
   ],
   "source": [
    "# Quiero graficarlo\n",
    "# primero tenemos que hacer un par de cosas:\n",
    "# 1. Cambiemos el índice:\n",
    "nueva_instahorro.set_index(nueva_instahorro.dl_institucion, inplace=True)\n",
    "# 2. Eliminemos las columnas que sobran:\n",
    "cols = [u'f2015_07']\n",
    "nueva_instahorro = nueva_instahorro[cols]\n",
    "# LISTOS\n",
    "nueva_instahorro.plot()"
   ]
  },
  {
   "cell_type": "code",
   "execution_count": 84,
   "metadata": {
    "collapsed": false,
    "slideshow": {
     "slide_type": "subslide"
    }
   },
   "outputs": [
    {
     "data": {
      "text/plain": [
       "<matplotlib.axes._subplots.AxesSubplot at 0x10b7a6050>"
      ]
     },
     "execution_count": 84,
     "metadata": {},
     "output_type": "execute_result"
    },
    {
     "data": {
      "image/png": "[encoded data removed]",
      "text/plain": [
       "<matplotlib.figure.Figure at 0x1083a6f90>"
      ]
     },
     "metadata": {},
     "output_type": "display_data"
    }
   ],
   "source": [
    "# miremos un gráfico de barras:\n",
    "nueva_instahorro.plot(kind='bar')"
   ]
  }
 ],
 "metadata": {
  "celltoolbar": "Slideshow",
  "kernelspec": {
   "display_name": "Python 2",
   "language": "python",
   "name": "python2"
  },
  "language_info": {
   "codemirror_mode": {
    "name": "ipython",
    "version": 2
   },
   "file_extension": ".py",
   "mimetype": "text/x-python",
   "name": "python",
   "nbconvert_exporter": "python",
   "pygments_lexer": "ipython2",
   "version": "2.7.10"
  }
 },
 "nbformat": 4,
 "nbformat_minor": 0
}
