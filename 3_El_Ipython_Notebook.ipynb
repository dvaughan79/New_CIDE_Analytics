{
 "cells": [
  {
   "cell_type": "markdown",
   "metadata": {
    "slideshow": {
     "slide_type": "slide"
    }
   },
   "source": [
    "# El Ipython Notebook\n",
    "\n",
    "### Intro a la Analítica y Ciencia de Datos\n",
    "\n",
    "### CIDE - Otoño 2015\n",
    "\n",
    "#### [Daniel Vaughan](mailto: vaughandaniel@gmail.com)"
   ]
  },
  {
   "cell_type": "markdown",
   "metadata": {
    "slideshow": {
     "slide_type": "slide"
    }
   },
   "source": [
    "# Explorando el Notebook\n",
    "\n",
    "* El notebook se abre desde la terminal o CMD.\n",
    "\n",
    "* Empecemos por navegar, con comandos de la terminal (`cd`, etc.) hasta la carpeta donde vamos a trabajar.\n",
    "\n",
    "* Una vez ahí vamos abrir el notebook con el comando \n",
    "\n",
    "> `ipython notebook` "
   ]
  },
  {
   "cell_type": "markdown",
   "metadata": {
    "slideshow": {
     "slide_type": "subslide"
    }
   },
   "source": [
    "![caption](figures/notebook_term.png)"
   ]
  },
  {
   "cell_type": "markdown",
   "metadata": {
    "slideshow": {
     "slide_type": "subslide"
    }
   },
   "source": [
    "* Esto inicializa el *Notebook* y abre una ventana del navegador web que tengan preseleccionado.\n",
    "\n",
    "* Por cierto, los navegadores sugeridos son Chrome y Firefox.\n",
    "\n",
    "* Si usan Internet Explorer que sea una versión posterior a la 10.\n",
    "\n",
    "* En la práctica qué está sucediendo:\n",
    "\n",
    "    1. Ipython inicializa el notebook, que opera en el navegador como una sesión interactiva de Python pero en HTML.\n",
    "    \n",
    "    2. Para esto inicializa un *servidor local* en el puerto *8888*\n",
    "    \n",
    "        a. En mi caso se encuentra en `localhost:8888/`\n",
    "        \n",
    "        b. En general, si no se abre el Notebook pueden buscar en su navegador en `http://127.0.0.0.1:8888`"
   ]
  },
  {
   "cell_type": "markdown",
   "metadata": {
    "slideshow": {
     "slide_type": "subslide"
    }
   },
   "source": [
    "# El *Dashboard* del Notebook\n",
    "\n",
    "![caption](figures/dashboard.png)"
   ]
  },
  {
   "cell_type": "markdown",
   "metadata": {
    "slideshow": {
     "slide_type": "subslide"
    }
   },
   "source": [
    "# El Dashboard (cont.)\n",
    "\n",
    "* El Dashboard es lo primero que aparece cuando iniciamos el notebook.\n",
    "\n",
    "* Bajo la pestaña de *Files* nos muestra todos los archivos que están en el directorio donde iniciamos el notebook (desde la terminal) y cuáles están activos.\n",
    "\n",
    "* La pestaña de *Running* enumera los archivos que están activos exclusivamente.\n",
    "\n",
    "* La pestaña de *Clusters* se utiliza para hacer ciertas operaciones en paralelo."
   ]
  },
  {
   "cell_type": "markdown",
   "metadata": {
    "slideshow": {
     "slide_type": "slide"
    }
   },
   "source": [
    "# Abramos un notebook nuevo\n",
    "\n",
    "* Desde la pestaña *Files*, abramos un nuevo *notebook*\n",
    "\n",
    "\n",
    "![caption](figures/new_notebook.png)\n"
   ]
  },
  {
   "cell_type": "markdown",
   "metadata": {
    "slideshow": {
     "slide_type": "subslide"
    }
   },
   "source": [
    "\n",
    "# Primer paso: nombremos el notebook y guardemos\n",
    "\n",
    "![caption](figures/save_notebook.png)"
   ]
  },
  {
   "cell_type": "markdown",
   "metadata": {
    "slideshow": {
     "slide_type": "subslide"
    }
   },
   "source": [
    "# Explorando el Notebook\n",
    "\n",
    "* Un notebook es una secuencia de células (*cells*) que pueden contener código (*code*), lenguaje *[markdown](http://daringfireball.net/projects/markdown/basics)* o texto simple.\n",
    "\n",
    "* La mayor parte del tiempo utilizaremos únicamente células con código, pero es útil que exploren las otras posibilidades:\n",
    "\n",
    "    * Estas notas se están escribiendo en su mayoría en *Markdown*, que entre otras cosas, permite incluir gráficas, videos, Latex.\n",
    "    \n",
    "    * Por ejemplo, si queremos escribir una ecuación como $y = X'\\beta + \\epsilon$ simplemente utilizamos Latex: \n",
    "        > `$y = X'/beta + /epsilon$`"
   ]
  },
  {
   "cell_type": "markdown",
   "metadata": {
    "slideshow": {
     "slide_type": "subslide"
    }
   },
   "source": [
    "# Las células:\n",
    "\n",
    "* La idea de las células es poder ir escribiendo código e ir revisando que todo está bien, i.e. hacer un *debugging* secuencial.\n",
    "\n",
    "* Lo usaremos todo el tiempo.\n",
    "\n",
    "* Cada vez que escribamos código en una célular, y queramos ejecutarlo, simplemente utilizamos el mouse y oprimimos \"run\" al lado del signo de parar.\n",
    "\n",
    "* Para ser más eficientes podemos usar *shortcut keys*: `CTRL + Enter` ejecuta una célula sin abrir una nueva, o `SHIFT + ENTER` ejecuta la actual y se desplaza a la siguiente.\n",
    "\n",
    "* Así, nuestros códigos serán secuencias de células que podemos ejecutar de manera secuencial e interactiva\n",
    "\n",
    "![caption](figures/celula1.png)"
   ]
  },
  {
   "cell_type": "markdown",
   "metadata": {
    "slideshow": {
     "slide_type": "subslide"
    }
   },
   "source": [
    "# Por cierto, qué es un Notebook?\n",
    "\n",
    "* Visualmente, el notebook es una página web que ejecuta código de Python de manera interactiva.\n",
    "\n",
    "* A diferencia de un *script*, en lugar de tener la extensión `.py` tienen extensión `.ipynb`.\n",
    "\n",
    "* Si abren un archivo `.ipynb` en un editor de texto verán los metadatos del archivo.\n",
    "\n",
    "    * Los notebooks son archivos en formato *JSON* que se pueden explorar mediante un editor de texto.\n",
    "    \n",
    "* Todas sus tareas serán escritas como notebooks y serán compartidas como notebooks.\n",
    "\n",
    "    * *No quiero ver una sola tarea impresa, y mucho menos enviada a mi correo.*"
   ]
  },
  {
   "cell_type": "markdown",
   "metadata": {
    "slideshow": {
     "slide_type": "subslide"
    }
   },
   "source": [
    "# Cómo compartir las tareas?\n",
    "\n",
    "* Las tareas las van a realizar utilizando exclusivamente el Ipython Notebook.\n",
    "\n",
    "* Adicionalmente, las vamos a compartir utilizando [Gist](https://gist.github.com/).\n",
    "\n",
    "* El proceso es simple:\n",
    "\n",
    "    * Primer paso, escribir un notebook y guardarlo (el shortcut key para guardarlo es `CTRL + s`, o con el mouse en el ícono del \"diskette\", arriba a la izquierda (y abajo de *File*).\n",
    "\n",
    "        * **Es muy importante que guarden la última versión y que vayan guardando contínuamente mientras trabajan.**\n",
    "\n",
    "    * Una vez tienen la última versión, abren el archivo `.ipynb` con un editor de texto.\n",
    "    \n",
    "    * Seleccionan todo y lo copian en la página de [Gist](https://gist.github.com/):\n",
    "    \n",
    "![caption](figures/tarea_gist.png)"
   ]
  },
  {
   "cell_type": "markdown",
   "metadata": {
    "slideshow": {
     "slide_type": "subslide"
    }
   },
   "source": [
    "# Compartiendo las tareas vía Gist\n",
    "\n",
    "* Es importante que el archivo tenga su nombre y fecha en la descripción (ver ejemplo en slide anterior).\n",
    "\n",
    "* Una vez estén listos le dan click a \"Create secret gist\".\n",
    "\n",
    "* El número arriba es el que deben compartir.\n",
    "\n",
    "* Si abren el [Nbviewer](http://nbviewer.ipython.org/) y copian este número, inmediatamente se ejecuta su notebook.\n",
    "\n",
    "* Ese es el número que me deben enviar.  Sólo ese número y nada más, pero verifiquen antes que funciona."
   ]
  },
  {
   "cell_type": "markdown",
   "metadata": {
    "slideshow": {
     "slide_type": "subslide"
    }
   },
   "source": [
    "![caption](figures/numero_gist.png)"
   ]
  },
  {
   "cell_type": "markdown",
   "metadata": {
    "slideshow": {
     "slide_type": "subslide"
    }
   },
   "source": [
    "![caption](figures/nbviewer_gist.png)"
   ]
  },
  {
   "cell_type": "markdown",
   "metadata": {
    "slideshow": {
     "slide_type": "slide"
    }
   },
   "source": [
    "# Estructuras de datos: *lists*, *tuples*, *dictionaries*\n",
    "\n",
    "* Hasta el momento hemos hablado de los *tipos* de objetos que utilizaremos con más frecuencia (`int`,`float`,`boolean`,`string`).\n",
    "\n",
    "* Cuando queremos trabajar con más de un objeto es necesario hacerlo con estructuras de datos.\n",
    "\n",
    "* Aunque la que usaremos con más frecuencia son los arreglos de Numpy (*arrays*), es útil empezar con las estructuras más comunes."
   ]
  },
  {
   "cell_type": "markdown",
   "metadata": {
    "slideshow": {
     "slide_type": "slide"
    }
   },
   "source": [
    "# Listas:\n",
    "\n",
    "\n",
    "* Una lista es estructura plana de datos separados por comas que tienen un orden intrínseco.\n",
    "\n",
    "* Es un objeto que puede cambiar (*mutable*).\n",
    "\n",
    "* Cada elemento en la lista ocupa un lugar, que siempre va de $0$ hasta el tamaño de la lista\n",
    "\n",
    "* Es útil pensar en una lista como parejas `index:value`.\n",
    "\n",
    "* Python guarda cada pareja y puede recuperarla rápidamente buscando su índice\n",
    "\n",
    "* Por ejemplo:\n",
    "> ```\n",
    "> milista = [-1,'a','55-2590-8100']\n",
    "> # los índices son 0,1,2\n",
    "> # los values correspondientes son: -1,'a','55-2590-8100'\n",
    "> ```"
   ]
  },
  {
   "cell_type": "code",
   "execution_count": 66,
   "metadata": {
    "collapsed": false,
    "slideshow": {
     "slide_type": "subslide"
    }
   },
   "outputs": [
    {
     "name": "stdout",
     "output_type": "stream",
     "text": [
      "['Daniel', 'David', 'Fernando', 'Gerardina', 15, '1.0', 1.0, [1, 2]]\n",
      "<type 'list'>\n",
      "Daniel Gerardina 1\n",
      "8\n",
      "['David', 'Fernando', 'Gerardina']\n",
      "Elemento 1 antes del cambio:  David\n",
      "Elemento 1 despuúes del cambio:  nuevo elemento\n",
      "<type 'list'>\n",
      "[0, 1, 2, 3, 4, 5, 6, 7, 8, 9]\n",
      "2\n",
      "Fernando\n"
     ]
    }
   ],
   "source": [
    "# Ejemplos de listas:\n",
    "# Inicialicemos una lista\n",
    "# Noten que puede tener elementos de distintos tipos, e incluso puede contener otras listas\n",
    "list1 = ['Daniel','David','Fernando','Gerardina', 15, '1.0',1.0,[1,2]]\n",
    "# Veámosla en pantalla\n",
    "print list1\n",
    "# Qué tipo de estructura es?\n",
    "print type(list1)\n",
    "# Cómo podemos acceder a distintos elementos?\n",
    "print list1[0], list1[3], list1[7][0]\n",
    "# Cuál es el tamaño de la lista?\n",
    "print len(list1)\n",
    "# los elementos 1 al 4 (noten cómo no incluyo el cuarto elemento, esta característica es común en Python)\n",
    "print list1[1:4]\n",
    "# cambiemos un elemento:\n",
    "print \"Elemento 1 antes del cambio: \", list1[1]\n",
    "list1[1] = \"nuevo elemento\"\n",
    "print \"Elemento 1 despuúes del cambio: \", list1[1]\n",
    "# cuál es el tipo de estructura del objeto producido por la función RANGE?\n",
    "print type(range(10))\n",
    "print range(10)\n",
    "# Miremos el método INDEX()\n",
    "print list1.index('Fernando')\n",
    "print list1[list1.index('Fernando')]"
   ]
  },
  {
   "cell_type": "markdown",
   "metadata": {
    "slideshow": {
     "slide_type": "subslide"
    }
   },
   "source": [
    "# Explorando los métodos (funciones) de una lista: *tab autocompletion*\n",
    "\n",
    "![caption](figures/tab_autocomp.png)"
   ]
  },
  {
   "cell_type": "markdown",
   "metadata": {
    "slideshow": {
     "slide_type": "subslide"
    }
   },
   "source": [
    "# Tab autocompletion:\n",
    "\n",
    "* Una vez inicializamos la lista, Python la clasifica automáticamente como una estructura de *lista*.\n",
    "\n",
    "* Las listas en Python tienen unos métodos (funciones) diseñadas específicamente para manejarlas.\n",
    "\n",
    "* Si la lista se llama `milista` y escribimos `milista.` y utilizamos la tecla de tabulador `Tab`, el notebook nos presenta todos los métodos asociados con las listas.\n",
    "\n",
    "* Esta es la notación de punto o *dot notation* que es muy útil.\n",
    "\n",
    "    * Por ejemplo, podemos incluir un un nuevo elemento: `Este es un nuevo elemento` utilizando el método *append*:\n",
    "        > `milista.append(`Este es un nuevo elemento`)\n",
    "        \n",
    "    * Es un buen ejercicio que [miren](https://docs.python.org/2/tutorial/datastructures.html) qué hace cada método de una lista"
   ]
  },
  {
   "cell_type": "markdown",
   "metadata": {
    "slideshow": {
     "slide_type": "slide"
    }
   },
   "source": [
    "# Tuples: listas que no se pueden modificar (*immutable*)\n",
    "\n",
    "* Si uno quiere asegurarse que bajo ninguna circunstancia (un accidente, por ejemplo) una secuencia de elementos puede ser modificada, los *tuples* son la elección.\n",
    "\n",
    "![caption](figures/tuple_ex.png)"
   ]
  },
  {
   "cell_type": "markdown",
   "metadata": {
    "slideshow": {
     "slide_type": "slide"
    }
   },
   "source": [
    "# Diccionarios\n",
    "\n",
    "* Así como las *listas* son grupos de parejas del tipo *(index, value)*, donde el índice es de carácter numérico u *ordenado*, los **diccionarios** son parejas *(key,value)* donde la clave o *key* no sigue ningún orden.\n",
    "\n",
    "* Para crear un diccionario vacío, simplemente se asigna un nombre y se utilizan *curly braces* o llaves así:\n",
    "``` \n",
    "> mi_dicc_vacio = {}\n",
    ">\n",
    "> mi_dicc_vacio['nuevo_key'] = 'nuevo_value'\n",
    ">\n",
    "> otro_diccionario = {'a':'primera_letra', 'b':'segunda_letra'}\n",
    "```\n",
    "\n",
    "* Al igual que las listas, los diccionario pueden guardar parejas `keys:values` con distintos tipos.\n",
    "\n",
    "* Los *keys* de un diccionario deben ser únicos, es decir, no pueden estar repetidos."
   ]
  },
  {
   "cell_type": "code",
   "execution_count": 83,
   "metadata": {
    "collapsed": false,
    "scrolled": true,
    "slideshow": {
     "slide_type": "subslide"
    }
   },
   "outputs": [
    {
     "name": "stdout",
     "output_type": "stream",
     "text": [
      "{0: 'Nombre_Pais', 1: 'Longitud', 2: 'Latitud', 3: 'Continente', 4: 5}\n",
      "Nombre_Pais\n",
      "[0, 1, 2, 3, 4]\n",
      "['Nombre_Pais', 'Longitud', 'Latitud', 'Continente', 5]\n",
      "{0: 'Nombre_Pais', 1: 'Longitud', 2: 'Latitud', 3: 'Continente', 4: 5, 'Daniel': 'Error_Queriamos_una_numerica'}\n",
      "{0: 'Nombre_Pais', 1: 'Longitud', 2: 'indice_repetido', 3: 'Continente', 4: 5, 'Daniel': 'Error_Queriamos_una_numerica'}\n",
      "----------------------\n",
      "{0: 'b'}\n"
     ]
    }
   ],
   "source": [
    "# Ejemplo de diccionario: columnas de una matriz\n",
    "columns = {0:'Nombre_Pais',1:'Longitud', 2:'Latitud',3:'Continente',4:5}\n",
    "print columns\n",
    "print columns[0]\n",
    "# veamos la lista de keys\n",
    "print columns.keys()\n",
    "# ahora de values\n",
    "print columns.values()\n",
    "# creemos un nuevo elemento:\n",
    "columns['Daniel'] = 'Error_Queriamos_una_numerica'\n",
    "print columns\n",
    "# veamos todo el contenido del diccionario\n",
    "columns.items()\n",
    "# incluyamos un índice repetido:\n",
    "columns[2] = 'indice_repetido'\n",
    "print columns\n",
    "# inicialicemos un diccionario con dos índices repetidos:\n",
    "dicc_rep = {0:'a',0:'b'}\n",
    "print \"----------------------\"\n",
    "print dicc_rep"
   ]
  },
  {
   "cell_type": "markdown",
   "metadata": {
    "slideshow": {
     "slide_type": "slide"
    }
   },
   "source": [
    "# Introducción a Numpy\n",
    "\n",
    "* [Numpy](http://www.numpy.org/) es un paquete específicamente diseñado para computación científica.\n",
    "\n",
    "* Quienes estén familiarizados con Matlab, verán algunas [semejanzas](http://wiki.scipy.org/NumPy_for_Matlab_Users) entre los dos.\n",
    "\n",
    "* El grueso de cálculos numéricos que hagamos serán hechos utilizando capacidades de Numpy, así que es importante entender este paquete, así como dónde encontrar más documentación.\n",
    "\n",
    "* Pueden ver, por ejemplo, este [tutorial](http://wiki.scipy.org/Tentative_NumPy_Tutorial).\n",
    "\n",
    "* Es útil también tener a la mano la [referencia oficial](http://docs.scipy.org/doc/numpy/reference/)\n",
    "\n",
    "* Ver también esta [introducción a la computación científica](https://scipy-lectures.github.io/index.html) que incluye temas avanzados de Numpy, Scipy, Python y Matplotlib."
   ]
  },
  {
   "cell_type": "markdown",
   "metadata": {
    "slideshow": {
     "slide_type": "subslide"
    }
   },
   "source": [
    "# Primero: cómo importar paquetes, módulos o funciones en Python\n",
    "\n",
    "\n",
    "* Para poder utilizar cualquier paquete, módulo o función es necesario **importarlo**.\n",
    "\n",
    "\n",
    "* En general, un paquete se importa utilizando la función **`import nombre_paquete`**\n",
    "\n",
    "    * Esto importa todas las funciones o módulos del paquete y quedan disponibles para su uso inmediato.\n",
    "    * En particular, con la notación de punto, pueden acceder los módulos y métodos así:\n",
    "        > `nombre_paquete.[métodos]`\n",
    "\n",
    "* Alternativamente, es recomendable utilizar un *alias*: **`import nombre_paquete as mi_alias`**\n",
    "    * Un *alias* es una forma más corta de llamar lo que se importa\n",
    "    * El nombre del alias lo pone el usuario.\n",
    "    * Pero es común utilizar el mismo alias por todos los usuarios de Python.\n",
    "    * Para *Numpy*, el alias utilizado es *np*\n",
    "    * Así, en lugar de `numpy.arange(5)`, escribimos `np.arange(5)`\n",
    "        > `import numpy as np`"
   ]
  },
  {
   "cell_type": "markdown",
   "metadata": {
    "slideshow": {
     "slide_type": "subslide"
    }
   },
   "source": [
    "* Finalmente, podemos importar todo el contenido utilizando:\n",
    "    > `from numpy import *`\n",
    "    \n",
    "* Así, todas las funciones están disponibles inmediatamente:\n",
    "    * Por ejemplo, para encontrar el coseno de 5 escribimos: `cos(5)` en lugar de `numpy.cos(5)` o `np.cos(5)`\n",
    "    * Es más rápido pero corremos el riesgo de contaminar el namespace."
   ]
  },
  {
   "cell_type": "markdown",
   "metadata": {
    "slideshow": {
     "slide_type": "subslide"
    }
   },
   "source": [
    "## Al utilizar un alias no contaminamos el *namespace*, y podemos hacer uso del siempre útil *tab autocompletion*\n",
    "\n",
    "\n",
    "![caption](figures/namespace_numpy.png)"
   ]
  },
  {
   "cell_type": "markdown",
   "metadata": {
    "slideshow": {
     "slide_type": "slide"
    }
   },
   "source": [
    "# De vuelta a Numpy\n",
    "\n",
    "* Numpy incluye varias librerías que utilizaremos con frecuencia.\n",
    "\n",
    "    * Permite construir arreglos multidimensionales que pueden ser manipuladas de manera eficiente en memoria.\n",
    "    \n",
    "    * Incluye [funciones universales](http://docs.scipy.org/doc/numpy/reference/ufuncs.html) que permiten, *elemento-por-element* operaciones matemáticas, funciones trigonométricas, operaciones lógicas.\n",
    "    \n",
    "    * Adicionalmente a librerías para resolver eficientemente problemas de [álgebra lineal](http://docs.scipy.org/doc/numpy/reference/routines.linalg.html), [transformada discreta de Fourier](http://docs.scipy.org/doc/numpy/reference/routines.fft.html), [álgebra matricial](http://docs.scipy.org/doc/numpy/reference/routines.matlib.html) y [generación de número aleatorios](http://docs.scipy.org/doc/numpy/reference/routines.random.html), todas ampliamente utilizadas en econometría."
   ]
  },
  {
   "cell_type": "markdown",
   "metadata": {
    "slideshow": {
     "slide_type": "subslide"
    }
   },
   "source": [
    "# Generemos nuestros primeros *arrays* (arreglos)\n",
    "\n",
    "* Un *arreglo* es un bloque de datos *del mismo tipo* que se organiza de manera multidimensional:\n",
    "    \n",
    "    * En una dimensión es un *vector*\n",
    "    * En dos dimensiones una *matriz*\n",
    "    \n",
    "* Todos los elementos deben tener el mismo tipo, a diferencia de las listas y diccionarios.\n",
    "    \n",
    "    * Se conoce como el *dtype* o *data type*\n",
    "\n",
    "* Los arreglos se guardan internamente en bloques contiguos de memoria, haciendo que las operaciones sean mucho más eficientes que, por ejemplo, con loops o ciclos."
   ]
  },
  {
   "cell_type": "code",
   "execution_count": 97,
   "metadata": {
    "collapsed": false,
    "slideshow": {
     "slide_type": "subslide"
    }
   },
   "outputs": [
    {
     "name": "stdout",
     "output_type": "stream",
     "text": [
      "El tipo es: ----> float64\n",
      "El número de dimensiones (ndim): ----> 1\n",
      "La forma, o el tamaño: ----> (4,)\n",
      "La función reshape() nos permite hacerlo sin problema:  (4, 1)\n"
     ]
    },
    {
     "ename": "ValueError",
     "evalue": "total size of new array must be unchanged",
     "output_type": "error",
     "traceback": [
      "\u001b[0;31m---------------------------------------------------------------------------\u001b[0m",
      "\u001b[0;31mValueError\u001b[0m                                Traceback (most recent call last)",
      "\u001b[0;32m<ipython-input-97-fdc378b9663c>\u001b[0m in \u001b[0;36m<module>\u001b[0;34m()\u001b[0m\n\u001b[1;32m     12\u001b[0m \u001b[0;32mprint\u001b[0m \u001b[0;34m\"La función reshape() nos permite hacerlo sin problema: \"\u001b[0m\u001b[0;34m,\u001b[0m \u001b[0muni_vec\u001b[0m\u001b[0;34m.\u001b[0m\u001b[0mshape\u001b[0m\u001b[0;34m\u001b[0m\u001b[0m\n\u001b[1;32m     13\u001b[0m \u001b[0;31m# Aunque no siempre funciona:  ¿qué pasa?\u001b[0m\u001b[0;34m\u001b[0m\u001b[0;34m\u001b[0m\u001b[0m\n\u001b[0;32m---> 14\u001b[0;31m \u001b[0muni_vec\u001b[0m\u001b[0;34m.\u001b[0m\u001b[0mreshape\u001b[0m\u001b[0;34m(\u001b[0m\u001b[0;34m(\u001b[0m\u001b[0;36m4\u001b[0m\u001b[0;34m,\u001b[0m\u001b[0;36m4\u001b[0m\u001b[0;34m)\u001b[0m\u001b[0;34m)\u001b[0m\u001b[0;34m\u001b[0m\u001b[0m\n\u001b[0m",
      "\u001b[0;31mValueError\u001b[0m: total size of new array must be unchanged"
     ]
    }
   ],
   "source": [
    "# Ejemplos de arrays\n",
    "import numpy as np\n",
    "# 1. Un array de una sola dimensión\n",
    "uni_vec = np.array([0,1,2.0,3])\n",
    "print \"El tipo es: ---->\", uni_vec.dtype\n",
    "print \"El número de dimensiones (ndim): ---->\", uni_vec.ndim\n",
    "print \"La forma, o el tamaño: ---->\", uni_vec.shape\n",
    "\n",
    "# Trabajar con arreglos que tienen una sola dimensión es complicado.  \n",
    "# Volvamos este arreglo un arreglo de tamaño 4x1 y no sólo 4\n",
    "uni_vec = uni_vec.reshape((4,1))\n",
    "print \"La función reshape() nos permite hacerlo sin problema: \", uni_vec.shape\n",
    "# Aunque no siempre funciona:  ¿qué pasa?\n",
    "uni_vec.reshape((4,4))"
   ]
  },
  {
   "cell_type": "code",
   "execution_count": 110,
   "metadata": {
    "collapsed": false,
    "slideshow": {
     "slide_type": "subslide"
    }
   },
   "outputs": [
    {
     "name": "stdout",
     "output_type": "stream",
     "text": [
      "1\n",
      "Esta es una matriz de tamaño:   (3, 3)\n",
      "o mejor, es una matriz de tamaño:  3 x 3\n",
      "La fila 1 es,   [4 5 6]\n",
      "La columna 2 es,  [3 6 9]\n",
      "Aunque la matriz es de tamaño  (3, 3)\n",
      "... la primera fila es de tamaño  (3,)\n",
      "... pero debería ser de tamaño 1x3!\n"
     ]
    }
   ],
   "source": [
    "# creemos una matriz, a mano:\n",
    "manual_mat = np.array([[1,2,3],[4,5,6],[7,8,9]])\n",
    "# exploremos el objeto que acabamos de crear\n",
    "# El elemento 1,1 en Python es el (0,0)\n",
    "print manual_mat[0,0]\n",
    "# De qué tamaño es la matriz?\n",
    "print \"Esta es una matriz de tamaño:  \", manual_mat.shape\n",
    "print \"o mejor, es una matriz de tamaño: \", manual_mat.shape[0], \"x\", manual_mat.shape[1]\n",
    "# Podemos obtener toda la fila así:\n",
    "print \"La fila 1 es,  \", manual_mat[1,:]\n",
    "# Cómo podemos obtener una columna?\n",
    "print \"La columna 2 es, \", manual_mat[:,2]\n",
    "# Tenemos que tener cuidado con las dimensiones de filas/columnas que obtengamos de una matriz\n",
    "print \"Aunque la matriz es de tamaño \", manual_mat.shape\n",
    "print \"... la primera fila es de tamaño \", manual_mat[0,:].shape\n",
    "print \"... pero debería ser de tamaño 1x3!\""
   ]
  },
  {
   "cell_type": "markdown",
   "metadata": {
    "slideshow": {
     "slide_type": "subslide"
    }
   },
   "source": [
    "# Seleccionando ciertas partes de un arreglo\n",
    "\n",
    "* Para seleccionar algunas partes de un arreglo es necesario utilizar reglas de [*slicing e indexing*](http://docs.scipy.org/doc/numpy/reference/arrays.indexing.html).\n",
    "\n",
    "* Por ejemplo, supongamos que tenemos una matriz $A_{ij}$ de tamaño $3 \\times 2$."
   ]
  },
  {
   "cell_type": "code",
   "execution_count": 131,
   "metadata": {
    "collapsed": false,
    "slideshow": {
     "slide_type": "subslide"
    }
   },
   "outputs": [
    {
     "name": "stdout",
     "output_type": "stream",
     "text": [
      "-------------------\n",
      "La matriz es:\n",
      "[[0 1]\n",
      " [2 3]\n",
      " [4 5]]\n",
      "-------------------\n",
      "El tamaño de la matriz es:\n",
      "(3, 2)\n",
      "-------------------\n",
      "El elemento 2,1 es:\n",
      "5\n",
      "----------------\n",
      "Cuál es la matriz que se obtiene si dejamos todas las columnas y sólo las filas 0 y 2?\n",
      "[[0 1]\n",
      " [4 5]]\n",
      "----------------\n"
     ]
    }
   ],
   "source": [
    "A = np.array([[0,1],[2,3],[4,5]])\n",
    "print \"-------------------\"\n",
    "print \"La matriz es:\"\n",
    "print A\n",
    "print \"-------------------\"\n",
    "print \"El tamaño de la matriz es:\"\n",
    "print A.shape\n",
    "print \"-------------------\"\n",
    "print \"El elemento 2,1 es:\"\n",
    "print A[2,1]\n",
    "# Ahora vamos a usar slicing\n",
    "print \"----------------\"\n",
    "print \"Cuál es la matriz que se obtiene si dejamos todas las columnas y sólo las filas 0 y 2?\"\n",
    "print A[[0,2],:]\n",
    "print \"----------------\""
   ]
  },
  {
   "cell_type": "code",
   "execution_count": 152,
   "metadata": {
    "collapsed": false
   },
   "outputs": [
    {
     "name": "stdout",
     "output_type": "stream",
     "text": [
      "El vector es de tamaño  (1, 10)\n",
      "[[0 1 2 3 4 5 6 7 8 9]]\n",
      "elementos pares:  [[0 2 4 6 8]]\n",
      "lo mismo, pero con notación init:end:steps:  [[0 2 4 6 8]]\n",
      "lo mismo, pero usando la función np.arange(init,end,steps):  [[0 2 4 6 8]]\n",
      "lo mismo, pero usando la función np.linspace(init,end,number_of_elements): "
     ]
    },
    {
     "ename": "IndexError",
     "evalue": "arrays used as indices must be of integer (or boolean) type",
     "output_type": "error",
     "traceback": [
      "\u001b[0;31m---------------------------------------------------------------------------\u001b[0m",
      "\u001b[0;31mIndexError\u001b[0m                                Traceback (most recent call last)",
      "\u001b[0;32m<ipython-input-152-524c385c3ea8>\u001b[0m in \u001b[0;36m<module>\u001b[0;34m()\u001b[0m\n\u001b[1;32m      9\u001b[0m \u001b[0;32mprint\u001b[0m \u001b[0;34m\"lo mismo, pero con notación init:end:steps: \"\u001b[0m\u001b[0;34m,\u001b[0m \u001b[0mvec_example\u001b[0m\u001b[0;34m[\u001b[0m\u001b[0;34m:\u001b[0m\u001b[0;34m,\u001b[0m\u001b[0;36m0\u001b[0m\u001b[0;34m:\u001b[0m\u001b[0;36m10\u001b[0m\u001b[0;34m:\u001b[0m\u001b[0;36m2\u001b[0m\u001b[0;34m]\u001b[0m\u001b[0;34m\u001b[0m\u001b[0m\n\u001b[1;32m     10\u001b[0m \u001b[0;32mprint\u001b[0m \u001b[0;34m\"lo mismo, pero usando la función np.arange(init,end,steps): \"\u001b[0m\u001b[0;34m,\u001b[0m \u001b[0mvec_example\u001b[0m\u001b[0;34m[\u001b[0m\u001b[0;34m:\u001b[0m\u001b[0;34m,\u001b[0m\u001b[0mnp\u001b[0m\u001b[0;34m.\u001b[0m\u001b[0marange\u001b[0m\u001b[0;34m(\u001b[0m\u001b[0;36m0\u001b[0m\u001b[0;34m,\u001b[0m\u001b[0;36m10\u001b[0m\u001b[0;34m,\u001b[0m\u001b[0;36m2\u001b[0m\u001b[0;34m)\u001b[0m\u001b[0;34m]\u001b[0m\u001b[0;34m\u001b[0m\u001b[0m\n\u001b[0;32m---> 11\u001b[0;31m \u001b[0;32mprint\u001b[0m \u001b[0;34m\"lo mismo, pero usando la función np.linspace(init,end,number_of_elements): \"\u001b[0m\u001b[0;34m,\u001b[0m                 \u001b[0mvec_example\u001b[0m\u001b[0;34m[\u001b[0m\u001b[0;34m:\u001b[0m\u001b[0;34m,\u001b[0m\u001b[0mnp\u001b[0m\u001b[0;34m.\u001b[0m\u001b[0mlinspace\u001b[0m\u001b[0;34m(\u001b[0m\u001b[0;36m0\u001b[0m\u001b[0;34m,\u001b[0m\u001b[0;36m8\u001b[0m\u001b[0;34m,\u001b[0m\u001b[0;36m5\u001b[0m\u001b[0;34m)\u001b[0m\u001b[0;34m]\u001b[0m\u001b[0;34m\u001b[0m\u001b[0m\n\u001b[0m\u001b[1;32m     12\u001b[0m \u001b[0;31m# TAREA: POR QUE NO FUNCIONA?\u001b[0m\u001b[0;34m\u001b[0m\u001b[0;34m\u001b[0m\u001b[0m\n\u001b[1;32m     13\u001b[0m \u001b[0;31m# 1. Haga un print de esta función.  Cuál es el resultado?\u001b[0m\u001b[0;34m\u001b[0m\u001b[0;34m\u001b[0m\u001b[0m\n",
      "\u001b[0;31mIndexError\u001b[0m: arrays used as indices must be of integer (or boolean) type"
     ]
    }
   ],
   "source": [
    "# Creemos un vector de tamaño 1x10\n",
    "vec_example = np.arange(10).reshape((1,10))\n",
    "print \"El vector es de tamaño \", vec_example.shape\n",
    "print vec_example\n",
    "# Seleccionemos los elementos pares, incluído el cero: 0,2,4,6,8\n",
    "print \"elementos pares: \", vec_example[:,[0,2,4,6,8]]\n",
    "# Otra vez, pero utilizando la notación init:final:space \n",
    "# ---->  (empezamos en init, terminamos en final menos 1, y es linealmente espaciado cada 2)\n",
    "print \"lo mismo, pero con notación init:end:steps: \", vec_example[:,0:10:2]\n",
    "print \"lo mismo, pero usando la función np.arange(init,end,steps): \", vec_example[:,np.arange(0,10,2)]\n",
    "print \"lo mismo, pero usando la función np.linspace(init,end,number_of_elements): \", \\\n",
    "                vec_example[:,np.linspace(0,8,5)]\n",
    "# TAREA: POR QUE NO FUNCIONA? \n",
    "# 1. Haga un print de esta función.  Cuál es el resultado?\n",
    "# 2. Cuál es el tipo de cada elemento?\n",
    "# 3. De acuerdo con la sintaxis, cuál debe ser el tipo de los indíces?\n",
    "# 4. Busque la ayuda de la función astype() y obtenga el resultado deseado\n",
    "    \n",
    "    "
   ]
  },
  {
   "cell_type": "markdown",
   "metadata": {
    "slideshow": {
     "slide_type": "slide"
    }
   },
   "source": [
    "# Ipython es realmente eficiente porque *vectoriza* las operaciones\n",
    "\n",
    "* Ipython incluye una serie de *magic functions* que permiten de manera ágil hacer operaciones sobre una fila o una célula.\n",
    "\n",
    "* Más información de las funciones mágicas la pueden encontrar [acá, por ejemplo](https://ipython.org/ipython-doc/dev/interactive/magics.html).\n",
    "\n",
    "* Las *magic functions* que operan sobre una línea empiezan siempre con **un** signo de porcentaje %.\n",
    "\n",
    "* Las funciones mágicas que operan sobre una célula empiezan con **dos** signos de porcentaje %%.\n",
    "\n",
    "* En este momento nos vamos a concentrar exclusivamente en la función mágica [*%timeit*](https://ipython.org/ipython-doc/dev/interactive/magics.html#magic-timeit), que permite calcular el tiempo que toma completar un cálculo en Python."
   ]
  },
  {
   "cell_type": "code",
   "execution_count": 3,
   "metadata": {
    "collapsed": true
   },
   "outputs": [],
   "source": [
    "# Calculemos una suma de un vector de números:\n",
    "import numpy as np\n",
    "vector_num = np.arange(100)"
   ]
  },
  {
   "cell_type": "code",
   "execution_count": 6,
   "metadata": {
    "collapsed": false
   },
   "outputs": [
    {
     "name": "stdout",
     "output_type": "stream",
     "text": [
      "The slowest run took 10.30 times longer than the fastest. This could mean that an intermediate result is being cached \n",
      "100000 loops, best of 3: 3.01 µs per loop\n"
     ]
    }
   ],
   "source": [
    "# Utilicemos la función universal (ufunc) np.sum()\n",
    "# Toma aproximadamente 3 microsegundos\n",
    "%timeit vector_num.sum()"
   ]
  },
  {
   "cell_type": "code",
   "execution_count": 10,
   "metadata": {
    "collapsed": false
   },
   "outputs": [],
   "source": [
    "# ahora probemos una suma con un loop\n",
    "# inicialicemos la suma\n",
    "suma = 0\n",
    "# En cada iteración i, suma_i = suma_[i-1] + vector_num[i]\n",
    "for i in range(100):\n",
    "    suma = suma + vector_num[i]\n",
    "\n",
    "    "
   ]
  },
  {
   "cell_type": "code",
   "execution_count": 13,
   "metadata": {
    "collapsed": false,
    "slideshow": {
     "slide_type": "subslide"
    }
   },
   "outputs": [
    {
     "name": "stdout",
     "output_type": "stream",
     "text": [
      "The slowest run took 11.30 times longer than the fastest. This could mean that an intermediate result is being cached \n",
      "10000 loops, best of 3: 62.7 µs per loop\n"
     ]
    }
   ],
   "source": [
    "# utilicemos el timeit para calcular el tiempo:\n",
    "# Se demora aproximadamente 63 microsegundos!  Casi 20 veces más que la función universal\n",
    "%timeit exec In[10]"
   ]
  },
  {
   "cell_type": "markdown",
   "metadata": {
    "slideshow": {
     "slide_type": "slide"
    }
   },
   "source": [
    "# Condicionales\n",
    "\n",
    "* Un condicional evalúa una operación cuando una condición es verdadera.\n",
    "\n",
    "* Por ejemplo:\n",
    "> \n",
    "   if gender=='Mujer':\n",
    "        salario[t] = 1.04*salario[t-1]\n",
    "   elif gender == 'Hombre':\n",
    "        salario[t] = 1.06*salario[t-1]\n",
    "   else:\n",
    "        salario[t] = salario[t-1]\n",
    "\n",
    "\n",
    "* Este ejemplo muestra el funcionamiento de un condicional del tipo `if-elif-else`\n",
    "\n",
    "* Varios puntos son importantes:\n",
    "\n",
    "    1. La sintaxis es clara: \n",
    "    > `if [condición (falsa/verdadera)] :\n",
    "       [indentación] asignación en caso verdadero`\n",
    "\n",
    "* Ni el `elif` o el `else` son necesarios.\n"
   ]
  },
  {
   "cell_type": "markdown",
   "metadata": {
    "slideshow": {
     "slide_type": "subslide"
    }
   },
   "source": [
    "* Por ejemplo: un condicional en donde algo cambia si un condicional se cumple:\n",
    "> `a = 4   # inicialización de la variable\n",
    "> a = a-2 # se reduce en dos\n",
    "> if a<0:\n",
    ">    a = 0`\n",
    "\n",
    "* Uso del `if-else`: un condicional donde sólo hay dos opciones\n",
    "\n",
    "> `gender = 0 # 0 es hombre, 1 es mujer, sólo hay dos opciones\n",
    "> salario = 10\n",
    "> if gender ==0:\n",
    ">     salario = salario*1.1\n",
    "> else: # no hay más opciones\n",
    ">    salario = salario*1.05`\n",
    "\n",
    "* Finalmente, un `if-elif-else`: cuando hay varias opciones:\n",
    "> `banco = 'Banorte'\n",
    "> if banco == 'Banorte':\n",
    ">     print \"es de origen nacional\"\n",
    "> elif banco== 'Santander':\n",
    ">     print \"es de origen español\"\n",
    "> else banco== 'HSBC':\n",
    ">     print \"es de origen inglés\""
   ]
  },
  {
   "cell_type": "markdown",
   "metadata": {
    "slideshow": {
     "slide_type": "slide"
    }
   },
   "source": [
    "# For Loops\n",
    "\n",
    "* Cuando queremos repetir una instrucción, y sabemos exactamente cuántas veces vamos a repetirla, es conveniente utilizar un `for` loop:\n",
    "\n",
    "* Por ejemplo: el siguiente loop genera los números $2^0, 2^1, \\cdots, 2^4$\n",
    "> `a = 2\n",
    "> for i in range(5):\n",
    "    print a**i\n",
    "`        \n",
    "\n",
    "* **Nota importante**: la función `range(n)` produce un array de tamaño $n$ que empieza en $0$ y termina en $n-1$\n",
    "\n",
    "* La sintaxis es similar: \n",
    "\n",
    "    1. Debe tener los dos puntos al final de la primera instrucción:\n",
    "    2. Debe tener indentación en las instrucciones que están dentro del loop\n",
    "    \n",
    "* Ejemplo:\n",
    "> `\n",
    "> for letters in ['a','b','c','d','e','f','g','h']:\n",
    "    print \"mi nombre es daniel\"\n",
    "`        \n"
   ]
  },
  {
   "cell_type": "markdown",
   "metadata": {
    "slideshow": {
     "slide_type": "slide"
    }
   },
   "source": [
    "# While loops\n",
    "\n",
    "* Cuando necesitamos repetir una instrucción, pero no sabemos cuántas iteraciones necesitamos, pero sí queremos que la ejecución termine cuando cierta condición se cumple, utilizamos una cláusula `while`\n",
    "\n",
    "* Por ejemplo:\n",
    "\n",
    "> `a = 100\n",
    "> while a>5:\n",
    ">     a = a/2.0\n",
    "`\n",
    "\n",
    "* Estos loops son muy comunes cuando actualizamos un valor y el algoritmo se detiene si los cambios no son muy grandes, es decir, si convergemos:\n",
    "\n",
    "> ` \n",
    "> beta = 10\n",
    "> delta = 100\n",
    "> exit_crit = 0.01\n",
    "> while delta>exit_crit:\n",
    ">     beta_new = beta*0.1\n",
    ">     delta = np.abs(beta_new-beta)\n",
    ">     beta = beta_new\n",
    "`"
   ]
  },
  {
   "cell_type": "markdown",
   "metadata": {
    "slideshow": {
     "slide_type": "slide"
    }
   },
   "source": [
    "# Generación de funciones:\n",
    "\n",
    "* Es útil escribir funciones cuando tenemos tareas repetitivas:\n",
    "\n",
    "* Ejemplo:\n",
    ">```\n",
    ">def suma(a,b):\n",
    ">\n",
    ">    '''\n",
    ">    Acá va el docstring, o ayuda de la función.  Es recomendable incluir\n",
    ">    toda la información sobre la función.\n",
    ">    1. Qué son los argumentos?\n",
    ">    2. Qué devuelve la función?\n",
    ">    3. Cómo funciona?\n",
    ">\n",
    ">    '''\n",
    ">\n",
    ">    return a+b\n",
    "```"
   ]
  },
  {
   "cell_type": "code",
   "execution_count": 22,
   "metadata": {
    "collapsed": false,
    "slideshow": {
     "slide_type": "subslide"
    }
   },
   "outputs": [],
   "source": [
    "def misuma(n):\n",
    "    '''\n",
    "    La función calcula la suma de los elementos 1,2,...,n.\n",
    "    Argumento: n es un número entero.\n",
    "    Output: la suma de los enteros que van de 1 a n\n",
    "    '''\n",
    "    # inicialicemos la suma\n",
    "    # Vamos a hacer un loop sobre cada uno de los elementos, actualizando la suma en cada iteración.\n",
    "    suma = 0\n",
    "    for i in range(n):\n",
    "        suma += i+1\n",
    "    \n",
    "    return suma\n",
    "\n",
    "    "
   ]
  },
  {
   "cell_type": "markdown",
   "metadata": {
    "collapsed": false,
    "slideshow": {
     "slide_type": "subslide"
    }
   },
   "source": [
    "# Analicemos esta función\n",
    "\n",
    "1. Declaración de la función: \n",
    "    > `def nombre_funcion(argumentos):`\n",
    "\n",
    "    Esta es la sintaxis para declarar.\n",
    "\n",
    "2. **Reglas de indentación**\n",
    "\n",
    "3. El `docstring` es importante: si escriben `misuma?` (o en general, cualquier función seguido por un signo de interrogación), obtienen la ayuda o información que contiene el docstring.\n",
    "\n",
    "4. Inicialización de las variables *locales* de la función:\n",
    "    > `suma = 0`\n",
    "    \n",
    "    Más sobre variables locales y globales a continuación.\n",
    "\n",
    "5. Cálculos de la función\n",
    "    > `for i in range()...`\n",
    "    \n",
    "6. *Return*: el producto o *output* de la función.\n",
    "    "
   ]
  },
  {
   "cell_type": "code",
   "execution_count": 37,
   "metadata": {
    "collapsed": true,
    "slideshow": {
     "slide_type": "subslide"
    }
   },
   "outputs": [],
   "source": [
    "# Variables locales y globales, un ejemplo.\n",
    "def minuevafunc():\n",
    "    print s\n",
    "\n"
   ]
  },
  {
   "cell_type": "code",
   "execution_count": 38,
   "metadata": {
    "collapsed": false,
    "slideshow": {
     "slide_type": "subslide"
    }
   },
   "outputs": [
    {
     "name": "stdout",
     "output_type": "stream",
     "text": [
      "Este es un texto\n"
     ]
    }
   ],
   "source": [
    "s = \"Este es un texto\"\n",
    "minuevafunc()"
   ]
  },
  {
   "cell_type": "markdown",
   "metadata": {
    "slideshow": {
     "slide_type": "subslide"
    }
   },
   "source": [
    "# No hay variables locales\n",
    "\n",
    "* Como no hay ninguna variable definida `s` declarada dentro de la función, Python devuelve la variable declarada afuera.\n",
    "\n",
    "* Pero si declaramos una variable `s` la variable local ocupa un espacio de memoria *local*"
   ]
  },
  {
   "cell_type": "code",
   "execution_count": 40,
   "metadata": {
    "collapsed": true,
    "slideshow": {
     "slide_type": "subslide"
    }
   },
   "outputs": [],
   "source": [
    "# Variables locales y globales, un ejemplo.\n",
    "def minuevafunc1():\n",
    "    s = \"s es una variable local\"\n",
    "    print s\n",
    "\n"
   ]
  },
  {
   "cell_type": "code",
   "execution_count": 41,
   "metadata": {
    "collapsed": false,
    "slideshow": {
     "slide_type": "subslide"
    }
   },
   "outputs": [
    {
     "name": "stdout",
     "output_type": "stream",
     "text": [
      "s es una variable local\n"
     ]
    }
   ],
   "source": [
    "minuevafunc1()"
   ]
  },
  {
   "cell_type": "code",
   "execution_count": 45,
   "metadata": {
    "collapsed": false,
    "slideshow": {
     "slide_type": "subslide"
    }
   },
   "outputs": [],
   "source": [
    "# Combinemos las dos funciones\n",
    "def minuevafunc2():\n",
    "    print s\n",
    "    s = \"s es una variable local\"\n",
    "    return s\n",
    "\n"
   ]
  },
  {
   "cell_type": "code",
   "execution_count": 46,
   "metadata": {
    "collapsed": false,
    "slideshow": {
     "slide_type": "subslide"
    }
   },
   "outputs": [
    {
     "ename": "UnboundLocalError",
     "evalue": "local variable 's' referenced before assignment",
     "output_type": "error",
     "traceback": [
      "\u001b[0;31m---------------------------------------------------------------------------\u001b[0m",
      "\u001b[0;31mUnboundLocalError\u001b[0m                         Traceback (most recent call last)",
      "\u001b[0;32m<ipython-input-46-44c770e41c7b>\u001b[0m in \u001b[0;36m<module>\u001b[0;34m()\u001b[0m\n\u001b[0;32m----> 1\u001b[0;31m \u001b[0mminuevafunc2\u001b[0m\u001b[0;34m(\u001b[0m\u001b[0;34m)\u001b[0m\u001b[0;34m\u001b[0m\u001b[0m\n\u001b[0m",
      "\u001b[0;32m<ipython-input-45-026d53aa95e9>\u001b[0m in \u001b[0;36mminuevafunc2\u001b[0;34m()\u001b[0m\n\u001b[1;32m      1\u001b[0m \u001b[0;31m# Combinemos las dos funciones\u001b[0m\u001b[0;34m\u001b[0m\u001b[0;34m\u001b[0m\u001b[0m\n\u001b[1;32m      2\u001b[0m \u001b[0;32mdef\u001b[0m \u001b[0mminuevafunc2\u001b[0m\u001b[0;34m(\u001b[0m\u001b[0;34m)\u001b[0m\u001b[0;34m:\u001b[0m\u001b[0;34m\u001b[0m\u001b[0m\n\u001b[0;32m----> 3\u001b[0;31m     \u001b[0;32mprint\u001b[0m \u001b[0ms\u001b[0m\u001b[0;34m\u001b[0m\u001b[0m\n\u001b[0m\u001b[1;32m      4\u001b[0m     \u001b[0ms\u001b[0m \u001b[0;34m=\u001b[0m \u001b[0;34m\"s es una variable local\"\u001b[0m\u001b[0;34m\u001b[0m\u001b[0m\n\u001b[1;32m      5\u001b[0m     \u001b[0;32mreturn\u001b[0m \u001b[0ms\u001b[0m\u001b[0;34m\u001b[0m\u001b[0m\n",
      "\u001b[0;31mUnboundLocalError\u001b[0m: local variable 's' referenced before assignment"
     ]
    }
   ],
   "source": [
    "minuevafunc2()"
   ]
  },
  {
   "cell_type": "code",
   "execution_count": null,
   "metadata": {
    "collapsed": true,
    "slideshow": {
     "slide_type": "subslide"
    }
   },
   "outputs": [],
   "source": [
    "# declarémosla como global primero\n",
    "def minuevafunc3():\n",
    "    global s\n",
    "    print s\n",
    "    s = \"Aunque la habíamos declarado global, ahora la volvemos local\"\n",
    "    print s "
   ]
  },
  {
   "cell_type": "code",
   "execution_count": 50,
   "metadata": {
    "collapsed": false,
    "slideshow": {
     "slide_type": "subslide"
    }
   },
   "outputs": [
    {
     "name": "stdout",
     "output_type": "stream",
     "text": [
      "Esta es una variable global\n",
      "Aunque la habíamos declarado global, ahora la volvemos local\n"
     ]
    }
   ],
   "source": [
    "s = \"Esta es una variable global\" \n",
    "minuevafunc3()"
   ]
  },
  {
   "cell_type": "markdown",
   "metadata": {
    "slideshow": {
     "slide_type": "subslide"
    }
   },
   "source": [
    "# Las variables locales desaparecen de memoria cuando la función termina su ejecución"
   ]
  },
  {
   "cell_type": "code",
   "execution_count": 51,
   "metadata": {
    "collapsed": true,
    "slideshow": {
     "slide_type": "subslide"
    }
   },
   "outputs": [],
   "source": [
    "def areadelcirculo(radio):\n",
    "    unnumeroespecial = 3.1415\n",
    "    return unnumeroespecial*radio**2"
   ]
  },
  {
   "cell_type": "code",
   "execution_count": 55,
   "metadata": {
    "collapsed": false,
    "slideshow": {
     "slide_type": "subslide"
    }
   },
   "outputs": [
    {
     "name": "stdout",
     "output_type": "stream",
     "text": [
      "314.15\n"
     ]
    },
    {
     "ename": "NameError",
     "evalue": "name 'unnumeroespecial' is not defined",
     "output_type": "error",
     "traceback": [
      "\u001b[0;31m---------------------------------------------------------------------------\u001b[0m",
      "\u001b[0;31mNameError\u001b[0m                                 Traceback (most recent call last)",
      "\u001b[0;32m<ipython-input-55-0ebbe9a658c2>\u001b[0m in \u001b[0;36m<module>\u001b[0;34m()\u001b[0m\n\u001b[1;32m      1\u001b[0m \u001b[0;32mprint\u001b[0m \u001b[0mareadelcirculo\u001b[0m\u001b[0;34m(\u001b[0m\u001b[0;36m10\u001b[0m\u001b[0;34m)\u001b[0m\u001b[0;34m\u001b[0m\u001b[0m\n\u001b[0;32m----> 2\u001b[0;31m \u001b[0;32mprint\u001b[0m \u001b[0munnumeroespecial\u001b[0m\u001b[0;34m\u001b[0m\u001b[0m\n\u001b[0m",
      "\u001b[0;31mNameError\u001b[0m: name 'unnumeroespecial' is not defined"
     ]
    }
   ],
   "source": [
    "print areadelcirculo(10)\n",
    "print unnumeroespecial"
   ]
  },
  {
   "cell_type": "code",
   "execution_count": 53,
   "metadata": {
    "collapsed": false,
    "slideshow": {
     "slide_type": "subslide"
    }
   },
   "outputs": [
    {
     "name": "stdout",
     "output_type": "stream",
     "text": [
      "314.15\n"
     ]
    },
    {
     "ename": "NameError",
     "evalue": "name 'unnumeroespecial' is not defined",
     "output_type": "error",
     "traceback": [
      "\u001b[0;31m---------------------------------------------------------------------------\u001b[0m",
      "\u001b[0;31mNameError\u001b[0m                                 Traceback (most recent call last)",
      "\u001b[0;32m<ipython-input-53-0ebbe9a658c2>\u001b[0m in \u001b[0;36m<module>\u001b[0;34m()\u001b[0m\n\u001b[1;32m      1\u001b[0m \u001b[0;32mprint\u001b[0m \u001b[0mareadelcirculo\u001b[0m\u001b[0;34m(\u001b[0m\u001b[0;36m10\u001b[0m\u001b[0;34m)\u001b[0m\u001b[0;34m\u001b[0m\u001b[0m\n\u001b[0;32m----> 2\u001b[0;31m \u001b[0;32mprint\u001b[0m \u001b[0munnumeroespecial\u001b[0m\u001b[0;34m\u001b[0m\u001b[0m\n\u001b[0m",
      "\u001b[0;31mNameError\u001b[0m: name 'unnumeroespecial' is not defined"
     ]
    }
   ],
   "source": []
  }
 ],
 "metadata": {
  "celltoolbar": "Slideshow",
  "kernelspec": {
   "display_name": "Python 2",
   "language": "python",
   "name": "python2"
  },
  "language_info": {
   "codemirror_mode": {
    "name": "ipython",
    "version": 2
   },
   "file_extension": ".py",
   "mimetype": "text/x-python",
   "name": "python",
   "nbconvert_exporter": "python",
   "pygments_lexer": "ipython2",
   "version": "2.7.10"
  }
 },
 "nbformat": 4,
 "nbformat_minor": 0
}
