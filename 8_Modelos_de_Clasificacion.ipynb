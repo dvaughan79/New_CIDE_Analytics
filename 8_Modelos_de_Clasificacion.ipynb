{
 "cells": [
  {
   "cell_type": "markdown",
   "metadata": {
    "slideshow": {
     "slide_type": "slide"
    }
   },
   "source": [
    "# Analítica y Ciencia de Datos\n",
    "\n",
    "## CIDE - Otoño 2015\n",
    "\n",
    "### Modelos de Clasificación"
   ]
  },
  {
   "cell_type": "markdown",
   "metadata": {
    "slideshow": {
     "slide_type": "slide"
    }
   },
   "source": [
    "# Referencias\n",
    "\n",
    "Capítulo 4 de [ESL](http://web.stanford.edu/~hastie/ElemStatLearn/).\n",
    "\n",
    "Capítulo 4 de [ISL](http://www-bcf.usc.edu/~gareth/ISL/)\n",
    "\n",
    "Capítulos de Modelos de Elección Discreta de un texto econométrico (Greene, Wooldridge o Cameron y Trivedi). \n",
    "\n"
   ]
  },
  {
   "cell_type": "markdown",
   "metadata": {
    "slideshow": {
     "slide_type": "slide"
    }
   },
   "source": [
    "# Introducción a los Modelos de Clasificación\n",
    "\n",
    "\n",
    "* En las notas [introductorias](6_Intro_MachineLearning.ipynb) mencionamos algunos de los conceptos que siguen a continuación.\n",
    "\n",
    "\n",
    "* A diferencia de los modelos de regresión, los modelos de clasificación tienen como objetivo estimar la probabilidad de pertenecer a una categoría $k = 1, \\cdots, K$.\n",
    "\n",
    "\n",
    "* La variable dependiente $y_i$ es una variable *categórica* que indica a qué categoría pertenece el individuo $i$.\n",
    "\n",
    "\n",
    "* Así, $y_i \\in \\{1,0\\}$ indica la pertenencia a una de dos categorías, y las etiquetas $1,0$ carecen de contenido numérico u ordinal, así que los podríamos haber permutado, o nombrado de la manera que queramos.\n",
    "\n",
    "\n",
    "* Ejemplo del mundo de los negocios abundan:\n",
    "\n",
    "    * ¿Es el cliente alguien que potencialmente no paga su tarjeta de crédito?\n",
    "    \n",
    "    * ¿Es un cliente *fiel*, o nos abandonará en el siguiente período?\n",
    "    \n",
    "    * ¿Si le ofrecemos el producto, el cliente lo aceptará?\n",
    "    "
   ]
  },
  {
   "cell_type": "markdown",
   "metadata": {},
   "source": [
    "# Errores de Clasificación\n",
    "\n",
    "* A diferencia de un modelo de regresión, la estructura no ordinal de la variable dependiente enriquece el análisis de errores que podemos hacer para evaluar un modelo.\n",
    "\n",
    "\n",
    "* En regresión teníamos que una métrica de ajuste o error de un modelo era la *suma de residuos al cuadrado*.\n",
    "\n",
    "\n",
    "* En el caso de modelos de clasificación esta estructura es más rica.\n",
    "\n",
    "\n",
    "* Podemos empezar con el **error de clasificación**:\n",
    "\n",
    "$$\n",
    "\\frac{1}{N}\\sum_{i=1}^N I[\\hat{y}_i \\neq y_i]\n",
    "$$\n",
    "\n",
    "donde $I[x]$ es una variable indicadora que toma el valor $1$ cuando $x$ es verdadera y $0$ en caso contrario."
   ]
  },
  {
   "cell_type": "markdown",
   "metadata": {
    "slideshow": {
     "slide_type": "slide"
    }
   },
   "source": [
    "# ¿Pero cómo clasificamos?\n",
    "\n",
    "* Todavía no está claro, pero eventualmente formularemos modelos de la probabilidad de pertenecer a una categoría. \n",
    "\n",
    "\n",
    "* El resultado del modelo es una probabilidad estimada $\\hat{p}_{ik}$ de que el individuo $i$ pertenezca a la categoría $k \\in 1, \\cdots, K$.\n",
    "\n",
    "\n",
    "* La probabilidad nos da una medida contínua de pertenecer a una categoría, pero nuestro objetivo es predicir la categoría.\n",
    "\n",
    "\n",
    "* Así, por ejemplo, podemos decir que el individuo $i$ pertenece a la categoría que maximiza la probabilidad.\n",
    "\n",
    "    * En el caso de dos categorías: la predicción es \n",
    "    $$\n",
    "    i \\hat{\\in} k \\iff \\hat{p}_{ik}>0.5\n",
    "    $$\n",
    "    \n",
    "   \n",
    "* Pero **noten** que el valor límite o *threshold* $0.5$ es arbitrario, y más adelante veremos que podemos utilizar cualquiera en el intervalo $[min(\\hat{p}_{i,k}), max(\\hat{p}_{i,k})]$"
   ]
  },
  {
   "cell_type": "markdown",
   "metadata": {
    "slideshow": {
     "slide_type": "subslide"
    }
   },
   "source": [
    "# Matrices de Confusión\n",
    "\n",
    "\n",
    "* Veamos el caso más simple de dos categorías $y_i \\in \\{0,1\\}$.\n",
    "\n",
    "\n",
    "* Aunque el error de clasificación anterior permite tener una primera métrica, para nosotros puede ser más relevante clasificar mal a una categoría que a otra.\n",
    "\n",
    "* Para esto se crea una matriz de confusión, donde las filas denotan la clasificación real u observada y las columnas la clasificación que se obtiene del modelo.\n",
    "\n",
    "$$\n",
    "\\begin{array}{|c|c|c|}\n",
    "\\hline\n",
    "& \\bf \\hat{0} & \\bf \\hat{1} \\\\\n",
    "\\hline\n",
    "\\bf 0 & \\text{Verdaderos Positivos} & \\text{Falsos Negativos} \\\\\n",
    "\\hline\n",
    "\\bf 1 & \\text{Falsos Positivos} & \\text{Verdaderos Negativos} \\\\\n",
    "\\hline\n",
    "\\end{array}\n",
    "$$\n",
    "\n",
    "\n",
    "* Acá estamos siguiendo la tradición en esta literatura de denotar a la categoría $1$ como un negativo, y la categoría $0$ como positivo.\n",
    "\n",
    "\n",
    "* Lo importante es entender que con $K$ categorías tenemos la posibilidad de encontrar $K$ errores de clasificación distintos.\n",
    "\n",
    "* Hay dos métricas importantes que se obtienen de una matriz de confusión:\n",
    "\n",
    "    1. **Sensibilidad**: o tasa de verdaderos positivos\n",
    "    $$\n",
    "    \\text{sensibilidad} = \\frac{VP}{VP + FN}\n",
    "    $$\n",
    "    \n",
    "    2. **Especificidad**: o tasa de verdaderos negativos\n",
    "    $$\n",
    "    \\text{especificidad} = \\frac{VN}{VN + FP}\n",
    "    $$\n",
    "    \n",
    "* En el contexto de modelos de clasificación:\n",
    "\n",
    "    * **Error Tipo 1:** o falso positivo: $1-\\text{especificidad}$\n",
    "    * **Error Tipo 2:** o falso negativo: $1-\\text{sensibilidad}$"
   ]
  },
  {
   "cell_type": "markdown",
   "metadata": {
    "slideshow": {
     "slide_type": "subslide"
    }
   },
   "source": [
    "# Curvas ROC\n",
    "\n",
    " ![caption](figures/roc_curve.png)\n",
    " \n",
    "Figura 4.8 de ISL"
   ]
  },
  {
   "cell_type": "markdown",
   "metadata": {
    "slideshow": {
     "slide_type": "subslide"
    }
   },
   "source": [
    "# Curvas ROC (cont.)\n",
    "\n",
    "\n",
    "* Las tasas de verdaderos positivos y falsos positivos son una buena medida del comportamiento de un modelo.\n",
    "\n",
    "\n",
    "* Sin embargo, dependen crucialmente del *threshold que utilicemos*.\n",
    "\n",
    "\n",
    "* La curva ROC permite mirar cómo cambian las tasas de verdadero y falsos positivos a medida que variamos los *thresholds* de clasificación.\n",
    "\n",
    "$$\n",
    "i \\hat{\\in} 0 \\iff \\hat{p}_{i0} > \\tau\n",
    "$$\n",
    "\n",
    "\n",
    "* Así, si $\\tau = 1$ la matriz de confusión es\n",
    "\n",
    "$$\n",
    "\\begin{array}{|c|c|c|}\n",
    "\\hline\n",
    "& \\bf \\hat{0} & \\bf \\hat{1} \\\\\n",
    "\\hline\n",
    "\\bf 0 & 0 & n_0 \\\\\n",
    "\\hline\n",
    "\\bf 1 & 0 & n_1 \\\\\n",
    "\\hline\n",
    "\\end{array}\n",
    "$$\n",
    "\n",
    "donde $n_i = \\#\\{\\text{$i$ en la muestra de entrenamiento}\\}$ y\n",
    "\n",
    "$$\n",
    "\\text{sensibilidad} = 0$, $1-\\text{especificidad} = 0\n",
    "$$\n",
    "\n",
    "obteniendo el punto en la esquina inferior izquierda de la curva ROC.\n",
    "\n",
    "* De la misma forma $\\tau=0$ implica que todas las observaciones se asignan a la categoría $0$ y obtenemos el punto superior derecho."
   ]
  },
  {
   "cell_type": "markdown",
   "metadata": {
    "slideshow": {
     "slide_type": "subslide"
    }
   },
   "source": [
    "# Curvas ROC (cont.)\n",
    "\n",
    "* ¿Qué pasa con la diagonal?\n",
    "\n",
    "* Los puntos de la diagonal tienen la característica que los errores de clasificación en una u otra categoría son exactamente iguales.\n",
    "\n",
    "* Corresponden a una asignación aleatoria (un \"volado\")\n",
    "\n",
    "    * Sirve como referencia o benchmark para medir a nuestros modelos.\n",
    "    \n",
    "\n",
    "* Intuitivamente quisieramos modelos que estén muy lejos de la diagonal.\n",
    "\n",
    "\n",
    "* Matemáticamente, quisieramos que el **área debajo de la curva** (AUC) sea lo mayor posible.\n",
    "\n",
    "\n",
    "* Noten el parecido con el coeficiente de Gini.  Todas las dificultades que se conocen para comparar distribuciones de ingreso mediante el coeficiente de Gini son válidas acá."
   ]
  },
  {
   "cell_type": "markdown",
   "metadata": {},
   "source": [
    "# Costos directos, indirectos y de oportunidad\n",
    "\n",
    "* Una alternativa con modelos de clasificación es tener una medida del costo esperado de un modelo, es decir, tener en cuenta las asimetrías entre un clasificación correcta de cada alternativa.\n",
    "\n",
    "\n",
    "* Tomemos el caso de un modelo de *credit scoring*\n",
    "\n",
    "$$\n",
    "y_i = \n",
    "\\begin{cases}\n",
    "1 & \\text{si cliente $i$ ha dejado de pagar sus créditos}\\\\\n",
    "0 & \\text{si cliente $i$ ha pagado sus créditos}\n",
    "\\end{cases}\n",
    "$$\n",
    "\n",
    "\n",
    "* El score crediticio es una función de la probabilidad de que el cliente pague.\n",
    "\n",
    "\n",
    "* Así, un *menor* score sugiere que hay una mayor probabilidad de incumplimiento o de impago.\n",
    "\n",
    "\n"
   ]
  },
  {
   "cell_type": "markdown",
   "metadata": {
    "slideshow": {
     "slide_type": "subslide"
    }
   },
   "source": [
    "# Ejemplo Score Crediticio\n",
    "\n",
    "\n",
    "* Supongamos que la matriz de confusión para un modelo y *threshold* dados es\n",
    "\n",
    "$$\n",
    "\\begin{array}{|c|c|c|}\n",
    "\\hline\n",
    "& \\bf \\hat{0} & \\bf \\hat{1} \\\\\n",
    "\\hline\n",
    "\\bf 0 & n_{00} & n_{01} \\\\\n",
    "\\hline\n",
    "\\bf 1 & n_{10} & n_{11} \\\\\n",
    "\\hline\n",
    "\\end{array}\n",
    "$$\n",
    "\n",
    "Miremos caso por caso:\n",
    "\n",
    "\n",
    "* **Caso $0\\hat{0}$**: cliente bueno y el modelo lo asigna correctamente.  Le damos una TdC, y nos deja una rentabilidad promedio de $r_{00} >0$.\n",
    "\n",
    "\n",
    "* **Caso $0\\hat{1}$**: cliente bueno pero el modelo lo clasifica como uno malo.  *No* le damos crédito, así que obtenemos una rentabilidad $r_{01} = 0$. $\\Rightarrow$ **Costo de oportunidad de mala clasificación!**\n",
    "\n",
    "\n",
    "* **Caso $1\\hat{0}$**: cliente malo, pero el modelo lo clasifica como si fuera bueno.  Le damos una TdC y no nos paga $r_{10}<0$.  $\\Rightarrow$ **costo directo de mala clasificación**\n",
    "\n",
    "\n",
    "* **Caso $1\\hat{1}$**: clientes malo y está bien clasificado.  No le damos una TdC, así que $r_{11} = 0$.\n",
    "\n",
    "\n",
    "##### ¿Cuál es la rentabilidad esperada que obtenemos del modelo?\n",
    "\n",
    "$$\n",
    "E(r|\\mathcal{M}) = \\sum_{ij} p_{ij}r_{ij}  = p_{00}r_{00} + p_{10}r_{10}\n",
    "$$\n",
    "\n",
    "donde $p_{ij} = n_{ij}/ \\sum_{kl} n_{kl}$\n",
    "\n",
    "##### ¿Cuál es la rentabilidad esperada que obtenemos del modelo, si incluimos el costo de oportunidad?\n",
    "$$\n",
    "E(r_{co}|\\mathcal{M}) = r_{00}(p_{00} - p_{01}) + p_{10} r_{10}\n",
    "$$\n"
   ]
  },
  {
   "cell_type": "markdown",
   "metadata": {
    "slideshow": {
     "slide_type": "slide"
    }
   },
   "source": [
    "# Modelos lineales de probabilidad\n",
    "\n",
    "\n",
    "* Cuando hay sólo dos categorías, $y_i \\in {0,1}$, es posible estimar por OLS el modelo.\n",
    "\n",
    "$$\n",
    "y_i = x_i' \\beta + \\epsilon_i\n",
    "$$\n",
    "\n",
    "\n",
    "* ¿Por qué se llama un **modelo lineal de probabilidad**?\n",
    "\n",
    "\n",
    "* En general, queremos modelar \n",
    "$$\n",
    "Prob(y=1|X) = F(X,\\beta)\n",
    "$$\n",
    "\n",
    "Si $F(X,\\beta) = x\\beta$, entonces $E(y|x) = x\\beta$, y tenemos el modelo lineal.\n",
    "\n",
    "\n",
    "\n",
    "* Los modelos lineales de probabilidad tienen dos problemas:\n",
    "\n",
    "    1. Nada garantiza que $\\hat{y}_i \\in [0,1]$, afectando la interpretación del modelo.\n",
    "    \n",
    "    2. Heteroscedasticidad.\n",
    "    $$\n",
    "    Var(\\epsilon_i) = x_i'\\beta(1-x_i'\\beta)\n",
    "    $$\n",
    "\n",
    "\n",
    "* ¿Cómo se soluciona este problema?  En la **tarea** lo tendrán que hacer."
   ]
  },
  {
   "cell_type": "markdown",
   "metadata": {
    "slideshow": {
     "slide_type": "slide"
    }
   },
   "source": [
    "# Modelos Probit\n",
    "\n",
    "\n",
    "* Una alternativa natural es asumir que $F(x_i,\\beta) = \\Phi(x_i'\\beta)$, donde $\\Phi$ es la función de distribución de una variable aleatoria normal estándar.\n",
    "\n",
    "\n",
    "* Este tipo de modelos es ampliamente utilizado en econometría, así que no los cubriremos en el curso.\n",
    "\n",
    "\n",
    "* Si miraremos a profundidad los modelos logísticos o Logit."
   ]
  },
  {
   "cell_type": "markdown",
   "metadata": {
    "slideshow": {
     "slide_type": "slide"
    }
   },
   "source": [
    "# Modelos Logit\n",
    "\n",
    "\n",
    "* Otra alternativa es usar \n",
    "$$\n",
    "F(x_i,\\beta) = \\Lambda(x_i'\\beta) = \\frac{e^{x_i'\\beta}}{1+e^{x_i'\\beta}}\n",
    "$$\n",
    "\n",
    "\n",
    "donde $\\Lambda(x_i'\\beta)$ denota a la función acumulativa logística.\n",
    "\n",
    "\n",
    "* ¿Cuál es el valor esperado de $y$?\n",
    "\n",
    "$$\n",
    "E(y|x) = 1 \\times F(x,\\beta) + 0 \\times (1-F(x,\\beta)) = F(x,\\beta)\n",
    "$$\n",
    "\n",
    "\n",
    "* Para encontrar los efectos marginales: \n",
    "\n",
    "$$\n",
    "\\frac{\\partial E(y|x)}{\\partial x} = \\left[\\frac{d F(x,\\beta)}{d x'\\beta}\\right] \\beta = f(x,\\beta) \\beta\n",
    "$$\n",
    "\n",
    "donde $f()$ es la función de densidad.\n",
    "\n",
    "### Nota:\n",
    "##### A diferencia del modelo lineal de probabilidad donde los efectos marginales son constantes, los efectos marginales en los modelos Logit y Probit son funciones de $x$ y $\\beta$.   Generalmente se reportan *evalúandolos en las medias*.\n"
   ]
  },
  {
   "cell_type": "markdown",
   "metadata": {
    "slideshow": {
     "slide_type": "subslide"
    }
   },
   "source": [
    "# Efectos marginales del Logit\n",
    "\n",
    "\n",
    "* En el caso del Logit es inmediato mostrar que:\n",
    "\n",
    "$$\n",
    "f(x,\\beta) = \\frac{e^{x'\\beta}}{(1+e^{x'\\beta})^2} = \\Lambda(x'\\beta)(1-\\Lambda(x'\\beta))\n",
    "$$\n",
    "\n",
    "* Así que para el caso de regresores contínuos podemos utilizar la fórmula de la diapósitiva anterior:\n",
    "\n",
    "$$\n",
    "\\text{Efectos Marginales} = \\frac{\\partial E(y|x)}{\\partial x_k} =  \\Lambda(\\overline{x}'\\beta)(1-\\Lambda(\\overline{x}'\\beta)) \\beta_k\n",
    "$$\n",
    "\n",
    "donde $\\overline{x} := [\\overline{x}_1, \\cdots, \\overline{x}_p]$.\n",
    "\n",
    "\n",
    "* En el caso de regresores categóricos (variables dummy), la derivada se reemplaza por el efecto marginal:\n",
    "\n",
    "$$\n",
    "\\text{Efectos Marginales regresor k} = Prob \\left(y=1 \\Bigg\\vert \\overline{x}_{(d)}, x_k=1 \\right) - Prob \\left(y=1 \\Bigg\\vert  \\overline{x}_{(d)}, x_k=0 \\right)\n",
    "$$\n",
    "\n"
   ]
  },
  {
   "cell_type": "markdown",
   "metadata": {
    "slideshow": {
     "slide_type": "subslide"
    }
   },
   "source": [
    "# Estimación de los modelos Logit\n",
    "\n",
    "* Para estimar el modelo es necesario maximizar la logverosimilitud\n",
    "\n",
    "$$\n",
    "\\begin{eqnarray}\n",
    "\\mathcal{l}(\\beta) &=& \\sum_{i=1}^N \\log p_{g_i}(x_i;\\beta)\\\\\n",
    "&=& \\sum_{i=1}^N y_i \\ln \\Lambda(x_i,\\beta) + (1-y_i) \\ln (1-\\Lambda(x_i,\\beta))\n",
    "\\end{eqnarray}\n",
    "$$\n",
    "\n",
    "* Las condiciones de primer orden son:\n",
    "\n",
    "$$\n",
    "\\frac{\\partial \\mathcal{l}}{\\partial \\beta} = \\sum_{i} (y_i - \\Lambda_i)\\mathbf{x}_i = \\mathbf{0} = X'(y-\\hat{p})\n",
    "$$\n",
    "\n",
    "* El Hessiano es\n",
    "\n",
    "$$\n",
    "H = \\frac{\\partial^2 \\mathcal{l}}{\\partial \\beta \\partial \\beta'} = -\\sum_{i} \\Lambda_i (1-\\Lambda_i)\\mathbf{x}_i\\mathbf{x}_i' = X'WX \n",
    "$$\n",
    "\n",
    "con $W = diag(\\Lambda_i (1-\\Lambda_i))$\n",
    "\n",
    "* Se puede demostrar que la función de verosimilitud es globalmente cóncava, así que existen métodos numéricos iterativos eficientes para resolverlo. "
   ]
  },
  {
   "cell_type": "markdown",
   "metadata": {
    "slideshow": {
     "slide_type": "subslide"
    }
   },
   "source": [
    "# El Método de Newton y Mínimos Cuadrados Ponderados Iterativamente (IRLS)\n",
    "\n",
    "* Supongamos que tenemos una estimación para la iteración $k$: $\\beta_{(k)}$\n",
    "\n",
    "\n",
    "* Vamos a hacer una aproximación de primer orden alrededor de esta estimación utilizando la condición de primer orden\n",
    "\n",
    "$$\n",
    "f(\\beta_{(k+1)}) \\approx f(\\beta_{(k)}) + \\nabla f(\\beta_{(k)})(\\beta_{(k+1)}-\\beta_{(k)})\n",
    "$$\n",
    "\n",
    "donde el gradiente $\\nabla$ de la condición de primer orden es el Hessiano\n",
    "\n",
    "\n",
    "* asumiendo que convergimos y el lado izquierdo es cero, despejando obtenemos la iteración de Newton\n",
    "\n",
    "$$\n",
    "\\beta_{(k+1)} = \\beta_{(k)} -  \\nabla f(\\beta_{(k)})^{-1}f(\\beta_{(k)})\n",
    "$$\n",
    "\n",
    "* Reemplazando, obtenemos\n",
    "\n",
    "$$\n",
    "\\begin{eqnarray}\n",
    "\\beta_{(k+1)} &=& \\beta_{(k)} + (X'WX)^{-1}X'(y-\\hat{p})\\\\\n",
    "&=& (X'WX)^{-1}X'[WX\\beta_{(k)} + (y-\\hat{p})] \\\\\n",
    "&=& (X'WX)^{-1}X'W[X\\beta_{(k)} + W^{-1}(y-\\hat{p})] \\\\\n",
    "&=& (X'WX)^{-1}X'W z\n",
    "\\end{eqnarray}\n",
    "$$\n",
    "\n",
    "con $z = X\\beta_{(k)} + W^{-1}(y-\\hat{p})$\n",
    "\n",
    "\n",
    "* Así que en cada iteración obtenemos una nueva estimación que es el resultado de estimar por mínimos cuadrados ponderados una regresión de $z$ en $X$ utilizando $W$ como matriz de ponderadores.\n",
    "\n",
    "\n",
    "* Este método converge muy rápidamente y tendrán que programarlo en la **tarea**."
   ]
  },
  {
   "cell_type": "markdown",
   "metadata": {
    "slideshow": {
     "slide_type": "subslide"
    }
   },
   "source": [
    "# La librería de optimización de Scipy\n",
    "\n",
    "* La ventaja del método de Newton que vimos en la diapósitiva anterior es que lo podemos programar directamente, y se puede ver que converge muy rápidamente.\n",
    "\n",
    "\n",
    "* Sin embargo es bueno que probemos algunas de las funciones que tiene Scipy para encontrar **mínimos**.\n",
    "\n",
    " ![caption](figures/scipy_optimize.png)"
   ]
  },
  {
   "cell_type": "markdown",
   "metadata": {
    "slideshow": {
     "slide_type": "subslide"
    }
   },
   "source": [
    "# Simulemos un modelo\n",
    "\n",
    "* En la siguiente lámina vamos a simular un modelo.\n",
    "\n",
    "\n",
    "* Aunque existe una función para simular números aleatorios de una distribución logística, vamos a hacerlo utilizando el método que mencionamos hace algunas clases.\n",
    "\n",
    "\n",
    "* En el primer paso simulamos $u \\sim U[0,1]$.\n",
    "\n",
    "\n",
    "* Para obtener $x \\sim \\Lambda$, vamos a invertir la CDF correspondiente \n",
    "\n",
    "\n",
    "$$\n",
    "\\begin{eqnarray*}\n",
    "u = \\frac{e^x}{1+e^x} \\iff x = \\ln(u) - \\ln(1-u)\n",
    "\\end{eqnarray*}\n",
    "$$ "
   ]
  },
  {
   "cell_type": "code",
   "execution_count": 63,
   "metadata": {
    "collapsed": false,
    "slideshow": {
     "slide_type": "subslide"
    }
   },
   "outputs": [
    {
     "name": "stdout",
     "output_type": "stream",
     "text": [
      "0.4\n"
     ]
    }
   ],
   "source": [
    "# Simulemos un modelo\n",
    "import numpy as np\n",
    "import pandas as pd\n",
    "from scipy import optimize\n",
    "import matplotlib.pyplot as plt\n",
    "%matplotlib inline\n",
    "\n",
    "np.random.seed(250679)\n",
    "N = 200\n",
    "\n",
    "# dos regresores independientes entre sí\n",
    "x0 = np.ones((N,1))\n",
    "x1 = 2*np.random.randn(N,1)\n",
    "x2 = np.random.randn(N,1)\n",
    "xmat = np.hstack((x0,x1,x2))\n",
    "beta_true = np.array([-2,3,5]).reshape((3,1))\n",
    "\n",
    "# vamos a simular residuos de un logit\n",
    "# Paso 1: simular N números aleatorios de una distribución U[0,1]\n",
    "# Paso 2: invertir la CDF de una v.a. logística\n",
    "u = np.random.rand(N,1)\n",
    "eps = np.log(u) - np.log(1-u)\n",
    "# variable dependiente latente\n",
    "y = np.dot(xmat,beta_true) + eps\n",
    "\n",
    "# necesitamos una variable dicótoma:\n",
    "d = 1*(y>0)\n",
    "# vamos la proporción\n",
    "\n",
    "print d.mean()"
   ]
  },
  {
   "cell_type": "code",
   "execution_count": 64,
   "metadata": {
    "collapsed": false,
    "slideshow": {
     "slide_type": "subslide"
    }
   },
   "outputs": [
    {
     "name": "stdout",
     "output_type": "stream",
     "text": [
      "26.0011022073\n"
     ]
    }
   ],
   "source": [
    "# Vamos a optimizar una función de verosimilitud, así que generémosla\n",
    "\n",
    "def likeli_fn(betait, ymat,xmat):\n",
    "    '''\n",
    "    Función de log verisimilitud de un modelo Logit\n",
    "    El principal argumento es betait, que corresponde al beta_actual\n",
    "    '''\n",
    "    ymat = np.asarray(ymat)\n",
    "    xmat = np.asarray(xmat)\n",
    "    betait = np.reshape(np.asarray(betait),(len(betait),1))\n",
    "    # machine epsilon\n",
    "    eps = np.finfo(float).eps\n",
    "    # necesitamos la cdf\n",
    "    xbeta = np.dot(xmat,betait)\n",
    "    cdfi  = np.divide(np.exp(xbeta),1+np.exp(xbeta))\n",
    "    p1i   = np.multiply(ymat,np.log(cdfi))\n",
    "    p0i   = np.multiply(1-ymat,np.log(1-cdfi))\n",
    "    logli = np.add(p1i,p0i)\n",
    "    logli = -logli.sum()\n",
    "    return logli\n",
    "\n",
    "#probémosla evalúandola en los parámetros verdaderos\n",
    "likeli_true = likeli_fn(beta_true,d,xmat)\n",
    "print likeli_true"
   ]
  },
  {
   "cell_type": "code",
   "execution_count": 65,
   "metadata": {
    "collapsed": false,
    "slideshow": {
     "slide_type": "subslide"
    }
   },
   "outputs": [
    {
     "data": {
      "text/html": [
       "<div>\n",
       "<table border=\"1\" class=\"dataframe\">\n",
       "  <thead>\n",
       "    <tr style=\"text-align: right;\">\n",
       "      <th></th>\n",
       "      <th>0</th>\n",
       "      <th>1</th>\n",
       "    </tr>\n",
       "  </thead>\n",
       "  <tbody>\n",
       "    <tr>\n",
       "      <th>0</th>\n",
       "      <td>-2</td>\n",
       "      <td>0.394901</td>\n",
       "    </tr>\n",
       "    <tr>\n",
       "      <th>1</th>\n",
       "      <td>3</td>\n",
       "      <td>0.152144</td>\n",
       "    </tr>\n",
       "    <tr>\n",
       "      <th>2</th>\n",
       "      <td>5</td>\n",
       "      <td>0.239861</td>\n",
       "    </tr>\n",
       "  </tbody>\n",
       "</table>\n",
       "</div>"
      ],
      "text/plain": [
       "   0         1\n",
       "0 -2  0.394901\n",
       "1  3  0.152144\n",
       "2  5  0.239861"
      ]
     },
     "execution_count": 65,
     "metadata": {},
     "output_type": "execute_result"
    }
   ],
   "source": [
    "# para inicializar el algoritmo necesitamos un beta_inicial\n",
    "# Utilicemos OLS----> No está bien!\n",
    "import sys\n",
    "sys.path.append('/Users/danielvaughan/Documents/Python Scripts')\n",
    "import olsdan as ols\n",
    "\n",
    "olsinit = ols.ols_dan(d,xmat)\n",
    "beta_init = np.asarray(olsinit.betahat())\n",
    "pd.DataFrame(np.concatenate((beta_true,beta_init.reshape((3,1))),axis=1))\n"
   ]
  },
  {
   "cell_type": "code",
   "execution_count": 69,
   "metadata": {
    "collapsed": false,
    "slideshow": {
     "slide_type": "subslide"
    }
   },
   "outputs": [
    {
     "data": {
      "text/plain": [
       "  status: 0\n",
       "    nfev: 185\n",
       " success: True\n",
       "     fun: 25.457879197541992\n",
       "       x: array([-2.09552344,  3.55413633,  5.92813581])\n",
       " message: 'Optimization terminated successfully.'\n",
       "     nit: 103"
      ]
     },
     "execution_count": 69,
     "metadata": {},
     "output_type": "execute_result"
    }
   ],
   "source": [
    "# probemos primero con Nelder-Mead\n",
    "nm_solution = optimize.minimize(likeli_fn,beta_init, args=(d,xmat),method='Nelder-Mead')\n",
    "nm_solution"
   ]
  },
  {
   "cell_type": "markdown",
   "metadata": {
    "slideshow": {
     "slide_type": "subslide"
    }
   },
   "source": [
    " ![caption](figures/optimize_minimize.png)"
   ]
  },
  {
   "cell_type": "markdown",
   "metadata": {
    "slideshow": {
     "slide_type": "subslide"
    }
   },
   "source": [
    "# Optimize: Nelder-Mead\n",
    "\n",
    "\n",
    "* Como podemos ver el algoritmo convergió a la solución en 103 iteraciones.\n",
    "\n",
    "\n",
    "* Nelder-Mead es un método numérico de optimización de *fuerza bruta*.\n",
    "\n",
    "\n",
    "* Si la función objetivo es *bonita*, funciona generalmente\n",
    "\n",
    "\n",
    "* Pero puede ser muy ineficiente: no utiliza información de la función.\n",
    "\n",
    "\n",
    " ![caption](figures/nelder_mead.png) "
   ]
  },
  {
   "cell_type": "code",
   "execution_count": 71,
   "metadata": {
    "collapsed": false,
    "slideshow": {
     "slide_type": "subslide"
    }
   },
   "outputs": [
    {
     "data": {
      "text/plain": [
       "  status: 0\n",
       " success: True\n",
       "    njev: 42\n",
       "    nfev: 210\n",
       "     fun: nan\n",
       "       x: array([-39939.57482582,  95644.12187077,  39791.5611497 ])\n",
       " message: 'Optimization terminated successfully.'\n",
       "     jac: array([ nan,  nan,  nan])"
      ]
     },
     "execution_count": 71,
     "metadata": {},
     "output_type": "execute_result"
    }
   ],
   "source": [
    "# Probemos con el gradiente conjugado (conjugate gradient)\n",
    "cg_solution = optimize.minimize(likeli_fn,beta_init, args=(d,xmat),method='CG')\n",
    "cg_solution"
   ]
  },
  {
   "cell_type": "code",
   "execution_count": 75,
   "metadata": {
    "collapsed": false,
    "slideshow": {
     "slide_type": "subslide"
    }
   },
   "outputs": [
    {
     "data": {
      "text/plain": [
       "   status: 2\n",
       "  success: False\n",
       "     njev: 42\n",
       "     nfev: 210\n",
       " hess_inv: array([[1, 0, 0],\n",
       "       [0, 1, 0],\n",
       "       [0, 0, 1]])\n",
       "      fun: nan\n",
       "        x: array([-39939.57482582,  95644.12187077,  39791.5611497 ])\n",
       "  message: 'Desired error not necessarily achieved due to precision loss.'\n",
       "      jac: array([ nan,  nan,  nan])"
      ]
     },
     "execution_count": 75,
     "metadata": {},
     "output_type": "execute_result"
    }
   ],
   "source": [
    "# Probemos con el BFGS\n",
    "ncg_solution = optimize.minimize(likeli_fn,beta_init, args=(d,xmat),method='BFGS')\n",
    "ncg_solution"
   ]
  },
  {
   "cell_type": "code",
   "execution_count": 80,
   "metadata": {
    "collapsed": true,
    "slideshow": {
     "slide_type": "subslide"
    }
   },
   "outputs": [],
   "source": [
    "# Dado que sabemos el gradiente y el hessiano, vamos a utilizar Newton-CG\n",
    "def gradient(betait,ymat,xmat):\n",
    "    '''\n",
    "    Gradiente de la función de log verosimilitud.  Ver notas\n",
    "    '''\n",
    "    ymat = np.asarray(ymat)\n",
    "    xmat = np.asarray(xmat)\n",
    "    nobs, nvar = xmat.shape\n",
    "    betait = np.reshape(np.asarray(betait),(len(betait),1))\n",
    "    # Calculemos la CDF\n",
    "    # necesitamos la cdf\n",
    "    xbeta = np.dot(xmat,betait)\n",
    "    cdfi  = np.divide(np.exp(xbeta),1+np.exp(xbeta))\n",
    "    # Usemos broadcasting\n",
    "    prevec = (ymat - cdfi).reshape((nobs,1))\n",
    "    grad = prevec*xmat\n",
    "    grad = -grad.sum(axis=0)\n",
    "    return grad\n",
    "\n",
    "def hessian(betait,ymat, xmat):\n",
    "    '''\n",
    "    Hessiano del modelo logit.  Ver notas.\n",
    "    '''\n",
    "    xmat = np.asarray(xmat)\n",
    "    nobs, nvar = xmat.shape\n",
    "    betait = np.reshape(np.asarray(betait),(len(betait),1))\n",
    "    # Necesitamos estimar la matriz W\n",
    "    # Primero: cdf\n",
    "    xbeta = np.dot(xmat,betait)\n",
    "    cdfi  = np.divide(np.exp(xbeta),1+np.exp(xbeta))\n",
    "    Pvec  = cdfi.reshape((nobs,1))\n",
    "    var_mat = np.multiply(Pvec,1-Pvec)\n",
    "    # No necesitamos la matriz diagonal.  Si N es grande nos quedamos sin memoria rápidamente\n",
    "    # En su lugar, vamos a usar broadcasting\n",
    "    prex = var_mat.reshape((nobs,1))*xmat\n",
    "    hess = np.dot(xmat.T,prex)\n",
    "    return hess\n"
   ]
  },
  {
   "cell_type": "code",
   "execution_count": 83,
   "metadata": {
    "collapsed": false,
    "slideshow": {
     "slide_type": "subslide"
    }
   },
   "outputs": [
    {
     "name": "stdout",
     "output_type": "stream",
     "text": [
      "Optimization terminated successfully.\n",
      "         Current function value: 25.457879\n",
      "         Iterations: 10\n",
      "         Function evaluations: 11\n",
      "         Gradient evaluations: 20\n",
      "         Hessian evaluations: 10\n"
     ]
    },
    {
     "data": {
      "text/plain": [
       "array([-2.09552385,  3.55413405,  5.92810093])"
      ]
     },
     "execution_count": 83,
     "metadata": {},
     "output_type": "execute_result"
    }
   ],
   "source": [
    "prebeta = optimize.fmin_ncg(likeli_fn, x0=beta_init,\n",
    "                            fprime=gradient,\n",
    "                            fhess=hessian, args=(d,xmat),\n",
    "                            full_output=True, disp=True,\n",
    "                            retall=True)\n",
    "prebeta[0]"
   ]
  },
  {
   "cell_type": "markdown",
   "metadata": {
    "slideshow": {
     "slide_type": "subslide"
    }
   },
   "source": [
    "# Sugerencias para optimizar\n",
    "\n",
    "\n",
    "* En estas notas quise introducir la librería de optimización.\n",
    "\n",
    "\n",
    "* Es una librería potente, y tener un ejemplo documentado de cómo usar diferentes métodos es práctico para intentar resolver otros problemas.\n",
    "\n",
    "\n",
    "* Sin embargo, como los ejemplos de arriba mostraron, antes de optimizar es **recomendable** (imperativo, mejor) tener un conocimiento de:\n",
    "\n",
    "    1. La función que vamos a optimizar (es cóncava, convexa, el problema es de maximización/minimización, tiene muchos puntos críticos).\n",
    "    2. El método que vamos a utilizar.\n",
    "    \n",
    "\n",
    "* Al final del día, estamos buscando un óptimo.  Y queremos estar seguros que el óptimo es efectivamente eso."
   ]
  },
  {
   "cell_type": "code",
   "execution_count": null,
   "metadata": {
    "collapsed": true
   },
   "outputs": [],
   "source": []
  }
 ],
 "metadata": {
  "celltoolbar": "Slideshow",
  "kernelspec": {
   "display_name": "Python 2",
   "language": "python",
   "name": "python2"
  },
  "language_info": {
   "codemirror_mode": {
    "name": "ipython",
    "version": 2
   },
   "file_extension": ".py",
   "mimetype": "text/x-python",
   "name": "python",
   "nbconvert_exporter": "python",
   "pygments_lexer": "ipython2",
   "version": "2.7.10"
  }
 },
 "nbformat": 4,
 "nbformat_minor": 0
}
