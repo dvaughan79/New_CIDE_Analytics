{
 "cells": [
  {
   "cell_type": "markdown",
   "metadata": {},
   "source": [
    "# Corrección de la tarea 1:\n",
    "\n",
    "##### Solución está online"
   ]
  },
  {
   "cell_type": "code",
   "execution_count": 17,
   "metadata": {
    "collapsed": false
   },
   "outputs": [
    {
     "data": {
      "text/html": [
       "<div style=\"max-height:1000px;max-width:1500px;overflow:auto;\">\n",
       "<table border=\"1\" class=\"dataframe\">\n",
       "  <thead>\n",
       "    <tr style=\"text-align: right;\">\n",
       "      <th></th>\n",
       "      <th>ID_Estudiante</th>\n",
       "      <th>Gist</th>\n",
       "      <th>Nota</th>\n",
       "    </tr>\n",
       "  </thead>\n",
       "  <tbody>\n",
       "    <tr>\n",
       "      <th>0</th>\n",
       "      <td> 1412004</td>\n",
       "      <td> nan</td>\n",
       "      <td>  8.25</td>\n",
       "    </tr>\n",
       "    <tr>\n",
       "      <th>1</th>\n",
       "      <td> 1412009</td>\n",
       "      <td> nan</td>\n",
       "      <td>  4.85</td>\n",
       "    </tr>\n",
       "    <tr>\n",
       "      <th>2</th>\n",
       "      <td> 1211040</td>\n",
       "      <td> nan</td>\n",
       "      <td>  8.28</td>\n",
       "    </tr>\n",
       "    <tr>\n",
       "      <th>3</th>\n",
       "      <td> 1111089</td>\n",
       "      <td> nan</td>\n",
       "      <td>  8.15</td>\n",
       "    </tr>\n",
       "    <tr>\n",
       "      <th>4</th>\n",
       "      <td> 1412013</td>\n",
       "      <td> nan</td>\n",
       "      <td> 10.00</td>\n",
       "    </tr>\n",
       "  </tbody>\n",
       "</table>\n",
       "</div>"
      ],
      "text/plain": [
       "   ID_Estudiante Gist   Nota\n",
       "0        1412004  nan   8.25\n",
       "1        1412009  nan   4.85\n",
       "2        1211040  nan   8.28\n",
       "3        1111089  nan   8.15\n",
       "4        1412013  nan  10.00"
      ]
     },
     "execution_count": 17,
     "metadata": {},
     "output_type": "execute_result"
    }
   ],
   "source": [
    "import pandas as pd\n",
    "import numpy as np\n",
    "resumen = pd.DataFrame(np.zeros((5,3)), columns=['ID_Estudiante','Gist', 'Nota'])\n",
    "# Números de estudiante\n",
    "resumen.iloc[:,0] = [1412004,1412009, 1211040, 1111089, 1412013]\n",
    "# Gist Numbers\n",
    "resumen.iloc[:,1] = ['nan','nan','nan', \n",
    "                     'nan', 'nan']\n",
    "# Nota\n",
    "resumen.iloc[:,2] = [8.25,4.85, 8.28, \n",
    "                     8.15, 10]\n",
    "resumen"
   ]
  },
  {
   "cell_type": "markdown",
   "metadata": {},
   "source": [
    "### Forma de calificar:\n",
    "\n",
    "#### Punto 1: 2.5 pts\n",
    "    * cada uno 0.5\n",
    "    \n",
    "#### Punto 2: 2.5 pts\n",
    "    * cada uno 2.5/4\n",
    "    \n",
    "#### Punto 3: 2.5 pts\n",
    "    * cada uno 0.5\n",
    "\n",
    "#### Punto 4: 2.5 pts.\n",
    "    * cada uno 2.5/8\n"
   ]
  },
  {
   "cell_type": "markdown",
   "metadata": {},
   "source": [
    "# Estudiante 1: 1412004\n",
    "\n",
    "### Total = 2.5 + 1.75 + 2.0 + 2.0 = \n",
    "#####          8.25"
   ]
  },
  {
   "cell_type": "markdown",
   "metadata": {},
   "source": [
    "##### Punto 1.  2.5\n",
    "* 1a. 0.5\n",
    "* 1b. 0.5\n",
    "* 1c. 0.5\n",
    "* 1d. 0.5\n",
    "* 1e. 0.5\n",
    "--------\n",
    "##### Punto 2.  1.75\n",
    "* 2.a: 2.5/4\n",
    "* 2.b: 2.5/4\n",
    "* 2.c: 0\n",
    "    * Notas: NO ESTA BIEN.  OBTIENE EL RESULTADO PERO PORQUE AL FiNAL HACE A*b.T\n",
    "* 2.d: 2/4\n",
    "    * Notas: está multiplicando A*b tres veces seguidas: usando broadcasting.  Por eso la solución es correcta. Aunque no es lo que pedí.  Ni siquiera es claro que entienda por qué funciona.\n",
    "---------\n",
    "##### Punto 3: 2.0\n",
    "* 3a. 0.5\n",
    "* 3b. 0.5\n",
    "* 3c. 0\n",
    "    * Notas: no está sumando $a_i + b_i$.  Los índices están acumulando `[0:i]`\n",
    "* 3d. 0.5\n",
    "* 3e. 0.5\n",
    "---------\n",
    "##### Punto 4: 2.0\n",
    "* 4a.  2.5/8\n",
    "* 4b.  2.5/8\n",
    "* 4b1. 2.5/8\n",
    "* 4c.  2.5/8\n",
    "* 4d.  0.3*(2.5/8)\n",
    "    * Mismo problema que en notas anteriores.  Los loops no hacen nada.  Acumula el índice\n",
    "* 4e. 2.5/8\n",
    "* 4f. 2.5/8\n",
    "* 4g. 0.1*(2.5/8)\n",
    "    * No obtiene una matriz de distancias.  No utilizó bien el broadcasting."
   ]
  },
  {
   "cell_type": "markdown",
   "metadata": {},
   "source": [
    "# Estudiante 2: 1412009\n",
    "### La tarea ni siquiera se entiende.  La tarea NO es un código.  Es un notebook: un documento que puede incluir código, gráficos, etc.\n",
    "#### Voy a hacer el esfuerzo por corregirla.\n",
    "\n",
    "### Total = 2.5 + 1.25 + 1.1 + 0 = \n",
    "#####          4.85"
   ]
  },
  {
   "cell_type": "markdown",
   "metadata": {},
   "source": [
    "##### Punto 1. 2.5\n",
    "    * a. 0.5\n",
    "    * b. 0.5\n",
    "    * c. 0.5\n",
    "    * d. 0.5\n",
    "    * e. 0.5\n",
    "------------    \n",
    "##### Punto 2. 1.25\n",
    "    * a. (2.5/4)\n",
    "    * b. (2.5/4)\n",
    "    * c. 0*(2.5/4) = 0 \n",
    "        * No encontré la solución\n",
    "    * d. 0*(2.5/4) = 0\n",
    "        * No encontré la solución\n",
    "------------    \n",
    "##### Punto 3. 1.1\n",
    "    * a. 0.5\n",
    "    * b. 0.5\n",
    "    * c. 0.1 \n",
    "        * No está bien hecho\n",
    "    * d. 0\n",
    "        * No lo encontré.\n",
    "    * e. 0\n",
    "        * No lo encontré.\n",
    "------------    \n",
    "##### Punto 4. 0\n",
    "    * No hay nada.\n"
   ]
  },
  {
   "cell_type": "markdown",
   "metadata": {},
   "source": [
    "# Estudiante 3: 1211040\n",
    "### Total = 2.5 + 1.875 + 2.5 + 1.40625\n",
    "#### 8.28"
   ]
  },
  {
   "cell_type": "markdown",
   "metadata": {},
   "source": [
    "#### Punto 1. 2.5\n",
    "    * a. 0.5\n",
    "    * b. 0.5\n",
    "    * c. 0.5\n",
    "    * d. 0.5\n",
    "    * e. 0.5\n",
    "-----------\n",
    "#### Punto 2. 1.875\n",
    "    * a. 1*(2.5/4)\n",
    "    * b. 1*(2.5/4)\n",
    "    * c. 1*(2.5/4) \n",
    "    * d. 0*(2.5/4) = 0\n",
    "        * Nota: Hizo exactamente lo mismo que en la parte c.  Utilizó la función `np.dot()`\n",
    "-----------\n",
    "#### Punto 3. 2.5\n",
    "    * a. 0.5\n",
    "    * b. 0.5\n",
    "    * c. 0.5\n",
    "    * d. 0.5\n",
    "    * e. 0.5\n",
    "-----------\n",
    "#### Punto 4. 1.40625\n",
    "    * a. 1*(2.5/8)\n",
    "    * b. 0*(2.5/8) = 0\n",
    "        * Era copiar del notebook.  Debería ser $y \\sim N(0,1)$, pero en su caso $y \\sim N(0,20**2)$\n",
    "    * b1. 1*(2.5/8)\n",
    "    * c. 1*(2.5/8)\n",
    "    * d. 1*(2.5/8)\n",
    "    * e. 0*(2.5/8) = 0\n",
    "        * El `%timeit` está operando únicamente sobre la línea donde declara una matriz de ceros.  Tiene que utilizar un `exec` como en las notas o en la solución de esta tarea.\n",
    "    * f. 0.5*(2.5/8)\n",
    "        * Le doy $1/2$ de los puntos porque puso algo.  Pero  ni me sirve el link (lo conozco, quería ver que investigó) y el ejemplo es malo, porque está multiplicando un escalar por una matriz, y eso sí está permitido.\n",
    "    * g. 0*(2.5/8)\n",
    "        * Esa operación no está utilizando broadcasting.  Para verificarlo mire la dimensión del arreglo que obtiene.\n",
    "-----------"
   ]
  },
  {
   "cell_type": "markdown",
   "metadata": {},
   "source": [
    "# Estudiante 4: 1111089\n",
    "### Total = 2.5 + 2 + 2.5 + 1.15\n",
    "####  8.15"
   ]
  },
  {
   "cell_type": "markdown",
   "metadata": {},
   "source": [
    "#### Punto 1: 2.5\n",
    "    * a. 0.5\n",
    "    * b. 0.5\n",
    "    * c. 0.5\n",
    "    * d. 0.5\n",
    "    * e. 0.5\n",
    "-----------    \n",
    "#### Punto 2:  2\n",
    "    * a. 1*(2.5/4)\n",
    "    * b. 1*(2.5/4)\n",
    "    * c. 0.2*(2.5/4) = 0\n",
    "        * Le estaba pidiendo usar `np.dot(A_k,b)`\n",
    "    * d. 1*(2.5/4)\n",
    "        * No es un programa eficiente pero funciona\n",
    "-----------    \n",
    "#### Punto 3: 2.5\n",
    "    * a. 0.5\n",
    "    * b. 0.5\n",
    "    * c. 0.5\n",
    "    * d. 0.5\n",
    "    * e. 0.5\n",
    "-----------    \n",
    "#### Punto 4: 1.15\n",
    "    * a. 1*(2.5/8)\n",
    "    * b. 1*(2.5/8)\n",
    "    * b1. 0*(2.5/8) = 0\n",
    "        * No *investigó* cúales son los argumentos de la función.  Sólo repitió lo que habíamos dicho en clase.\n",
    "    * c. 1*(2.5/8)\n",
    "    * d. 0.5*(2.5/8)\n",
    "        * El loop no funciona como usted cree que funciona (intente con i=j=0 y mire qué está haciendo)\n",
    "    * 3. 0.0*(2.5/8) = 0\n",
    "        * No veo el timeit\n",
    "    * f. 0.2*(2.5/8)\n",
    "        * No entiendo.  No veo que haya investigado.\n",
    "    * g. 0*(2.5/8) = \n",
    "        * No utilizó broadcasting\n",
    "-----------    "
   ]
  },
  {
   "cell_type": "markdown",
   "metadata": {},
   "source": [
    "# Estudiante 5: 1412013\n",
    "### Total = 2.5*4 = \n",
    "####  10"
   ]
  },
  {
   "cell_type": "markdown",
   "metadata": {},
   "source": [
    "#### Punto 1: 2.5\n",
    "    * a. 0.5\n",
    "    * b. 0.5\n",
    "    * c. 0.5\n",
    "    * d. 0.5\n",
    "    * e. 0.5\n",
    "-----------    \n",
    "#### Punto 2:  2.5\n",
    "    * a. 1*(2.5/4)\n",
    "    * b. 1*(2.5/4)\n",
    "    * c. 1*(2.5/4)\n",
    "    * d. 1*(2.5/4)\n",
    "-----------    \n",
    "#### Punto 3:  2.5 \n",
    "    * a. 0.5\n",
    "    * b. 0.5\n",
    "    * c. 0.5\n",
    "    * d. 0.5\n",
    "    * e. 0.5\n",
    "-----------    \n",
    "#### Punto 4: 2.5\n",
    "    * a. 1*(2.5/8)\n",
    "    * b. 1*(2.5/8)\n",
    "    * b1. 1*(2.5/8)\n",
    "    * c. 1*(2.5/8)\n",
    "    * d. 1*(2.5/8)\n",
    "    * 3. 1*(2.5/8)\n",
    "    * f. 1*(2.5/8)\n",
    "    * g. 1*(2.5/8)\n",
    "-----------    "
   ]
  }
 ],
 "metadata": {
  "kernelspec": {
   "display_name": "Python 2",
   "language": "python",
   "name": "python2"
  },
  "language_info": {
   "codemirror_mode": {
    "name": "ipython",
    "version": 2
   },
   "file_extension": ".py",
   "mimetype": "text/x-python",
   "name": "python",
   "nbconvert_exporter": "python",
   "pygments_lexer": "ipython2",
   "version": "2.7.9"
  }
 },
 "nbformat": 4,
 "nbformat_minor": 0
}
