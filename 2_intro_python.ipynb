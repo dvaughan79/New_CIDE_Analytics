{
 "cells": [
  {
   "cell_type": "markdown",
   "metadata": {
    "slideshow": {
     "slide_type": "slide"
    }
   },
   "source": [
    "# Analítica de Negocios\n",
    "\n",
    "\n",
    "\n",
    "## Introducción a Python"
   ]
  },
  {
   "cell_type": "markdown",
   "metadata": {
    "slideshow": {
     "slide_type": "slide"
    }
   },
   "source": [
    "# Instalando Python\n",
    "\n",
    "Hay varias formas de instalar Python, pero la recomendada en este curso es seguir el siguiente proceso (funciona con Mac y Windows).  La instalación de **Anaconda** contiene ya muchas librerías que son utilizadas ampliamente en computación científica.\n",
    "\n",
    "1. Ir a la página de Anaconda: [Anaconda Python](https://store.continuum.io/cshop/anaconda/) o simplemente buscar en Google \"Anaconda Python\"\n",
    "\n",
    "2. A la derecha, hacer click en Download Anaconda.  Saldrá una nueva ventana donde tienen que poner una cuenta de email.\n",
    "\n",
    "3. Seleccionar Python 2.7 64 bits para sus sistema operativo.\n",
    "\n",
    "4. Una vez descargado el archivo, hacer doble click y seguir las instrucciones."
   ]
  },
  {
   "cell_type": "markdown",
   "metadata": {
    "slideshow": {
     "slide_type": "subslide"
    }
   },
   "source": [
    " ![caption](figures/anaconda.png)"
   ]
  },
  {
   "cell_type": "markdown",
   "metadata": {
    "slideshow": {
     "slide_type": "subslide"
    }
   },
   "source": [
    " ![caption](figures/anaconda2.png)"
   ]
  },
  {
   "cell_type": "markdown",
   "metadata": {
    "slideshow": {
     "slide_type": "slide"
    }
   },
   "source": [
    "# Cómo utilizar Python\n",
    "\n",
    "* Una vez instalado python es necesario abrir la Terminal (Mac Os/ Linux) o el Command Prompt (Windows).\n",
    "\n",
    "    * **Terminal**: En el teclado: Command+Spacebar (abre la búsqueda).  Escribir **Terminal**, seleccionar y Enter.\n",
    "    \n",
    "    * **Command Prompt** En el teclado: Tecla de Windows (abre la búsqueda).  Escribir **cmd** y Enter.\n",
    "    \n",
    "* En términos generales hay dos formas de correr un programa en Python:\n",
    "\n",
    "    a. Modo interactivo\n",
    "    \n",
    "    b. Escribir un programa (script, con terminación *.py*) y ejecutarlo.\n",
    "    \n",
    "* Aunque en este curso vamos a utilizar el modo interactivo vía IPython, en las siguientes diapósitivas veremos rápidamente cómo se utiliza python y ipython sin utilizar *Notebooks*."
   ]
  },
  {
   "cell_type": "markdown",
   "metadata": {
    "slideshow": {
     "slide_type": "subslide"
    }
   },
   "source": [
    "# ¿Por cierto, qué son Python, Ipython y los Notebooks?\n",
    "\n",
    "* **Python** es un lenguaje de programación de *alto nivel* (necesita ser compilado/interpretado --- traducido--- al lenguaje de la máquina (\"machine language\").\n",
    "\n",
    "    * Python tiene su propia *consola* que se puede utilizar para ejecutar códigos de manera *interactiva* (como en los ejemplos que vienen más abajo) o para ejecutar programas (*scripts* con extensión ```.py```).\n",
    "    \n",
    "    \n",
    "* **Ipython** es una consola de comandos (\"command shell\") utilizada en computación interactiva que opera *sobre* Python.\n",
    "\n",
    "    * Utilizando el lenguaje Python, permite incluir otros medios (imágenes, videos, sonido, etc.), tiene la función de autocompletar (\"tab completion\") y herramientas para paralelización, entre otros.\n",
    "    \n",
    "    \n",
    "* **Ipython Notebook**: es un ambiente en formato de páginas web, que permite ejecutar de manera interactiva código en Python, así como incluir elementos de páginas web (Javascript).  Permite además ejecutar código en otros lenguajes (perl, ruby, y recientemente R).  Se ha convertido rápidamente en un medio de difusión masiva de códigos utilizados en ambientes académicos (para replicar resultados, por ejemplo), profesional y en la enseñanza.\n",
    "\n",
    "    * Estas notas de clase se están escribiendo con Ipython Notebook, y pueden encontrar muchas más (libros incluídos) en el [Nbviewer](http://nbviewer.ipython.org/)"
   ]
  },
  {
   "cell_type": "markdown",
   "metadata": {
    "slideshow": {
     "slide_type": "subslide"
    }
   },
   "source": [
    "# Pero antes, una nota sobre la estructura de los directorios\n",
    "\n",
    "* En general es importante mantener los archivos que utilicemos ordenados.\n",
    "\n",
    "* La recomendación es tener una carpeta para la clase, y dentro de estas varias carpetas para cada proyecto.\n",
    "\n",
    "* Por ejemplo en \n",
    "> ```c:\\Mis Documentos\\Analítica\\Semana 1\\ ```\n",
    "\n",
    "* Las carpetas las pueden crear con el mouse desde Windows o el OS, o con comandos en la terminal para los más sofisticados.\n",
    "\n",
    "* Pero es importante aprender a moverse con comandos de Linux (Terminal) o DOS (Windows) con la terminal.\n",
    "\n",
    "* Por ejemplo:\n",
    "    * Abrir la terminal (cmd).\n",
    "    * Buscar la carpeta en donde vamos a trabajar, usando la función ```cd ```.  Por ejemplo:\n",
    "    \n",
    "       > ```cd c:\\Mis Documentos\\Analítica\\Semana 1\\  ```\n",
    "* Una vez que estamos en el directorio deseado ya se puede abrir Python, Ipython o el Notebook"
   ]
  },
  {
   "cell_type": "markdown",
   "metadata": {
    "slideshow": {
     "slide_type": "slide"
    }
   },
   "source": [
    "# Usando Python como calculadora desde la terminal o el CMD\n",
    "\n",
    "* Desde la Terminal o el CMD\n",
    "\n",
    "* Para inicializar, escribir el comando\n",
    "> python\n",
    "\n",
    "* Esto inicializa la *consola* de Python.  Para salir escribir \n",
    "> exit()\n",
    "\n",
    "* Python termina de ejecutarse y volvemos al sistema operativo desde la terminal"
   ]
  },
  {
   "cell_type": "markdown",
   "metadata": {
    "slideshow": {
     "slide_type": "subslide"
    }
   },
   "source": [
    "# Ejemplo:\n",
    "\n",
    "* Inicialicemos Python\n",
    "\n",
    "> python\n",
    "\n",
    "* Probemos que está bien instalado:\n",
    "\n",
    "> ```>>> 2+2```\n",
    "\n",
    "* Debe devolver la respuesta correcta: 4\n",
    "\n",
    "* *Imprimamos* un texto:\n",
    "\n",
    "> ```print \"Hello World\" ```\n",
    "\n",
    "* Intenten sin las comillas.  Obtendrán un error.\n",
    "\n",
    "* La función ```print``` obliga a Python a imprimir en pantalla el contenido de un objeto o variable."
   ]
  },
  {
   "cell_type": "markdown",
   "metadata": {
    "slideshow": {
     "slide_type": "subslide"
    }
   },
   "source": [
    "# Sigamos con el ejemplo para entender algunas cosas de Python\n",
    "\n",
    "* Vamos a pedirle a Python que ejecute algunas operaciones númericas simples.\n",
    "\n",
    "> ```print 7*3 ```\n",
    "\n",
    "* En este caso le estamos pidiendo que:\n",
    "\n",
    "    1. Ejecute una operación de multiplicación de dos números (enteros, más sobre esto adelante)\n",
    "    2. Imprima el resultado en pantalla\n",
    "\n",
    "* Creemos una nueva variable que se llame ``` promedio```\n",
    "\n",
    "> ``` promedio = 2+3+4+5/4```\n",
    "\n",
    "* Veamos qué hace Python, paso por paso:\n",
    "\n",
    "    1. Asigna en memoria una **variable** con el nombre ```promedio ``` donde guardará el resultado de la operación a la derecha del signo ```=```\n",
    "    2. Si la sintaxis está bien, ejecuta la operación y la guarda en la variable\n",
    "    \n",
    "* Qué resultado obtenemos?\n",
    "    \n",
    "    * 10!"
   ]
  },
  {
   "cell_type": "markdown",
   "metadata": {
    "slideshow": {
     "slide_type": "subslide"
    }
   },
   "source": [
    "# Continuación del Ejemplo: ¿Qué pasó?\n",
    "\n",
    "* El promedio de 2,3,4,5 **no** es 10.\n",
    "\n",
    "* Vamos paso a paso para entender qué hizo Python:\n",
    "\n",
    "    1. Si no incluimos paréntesis, Python (como muchos otros lenguajes) utiliza la *jerarquía* de las operaciones algebráicas.\n",
    "    \n",
    "        * Multiplicación -- División --- Suma y Resta\n",
    "    \n",
    "    2. Como encuentra sumas y división, primero ejecuta la división:\n",
    "    \n",
    "        > 5/4\n",
    "    \n",
    "        * ¿Cuál es el resultado?  Escriban ```5/4``` y den Enter\n",
    "        * Python devuelve ```1 ```\n",
    "        * Entendamos por qué: este es un error muy común (en Python 2.7, la versión 3 no tiene este problema)\n",
    "        * Para Python ```5/4``` es la división de dos números enteros ```5``` y ```4```.\n",
    "        * Como 4 cabe una vez en 5, devuelve ``` 1```\n",
    "        * Probemos con ```5.0/4``` o ```5/4.0 ``` o ```5.0/4.0```\n",
    "        * La respuesta es la correcta: \n",
    "            > ```1.25```\n",
    "            \n",
    "    3. Así que Python lleva a cabo la suma de 2,3,4 y 1 (5/4) y devuelve ``` 10```"
   ]
  },
  {
   "cell_type": "markdown",
   "metadata": {
    "slideshow": {
     "slide_type": "subslide"
    }
   },
   "source": [
    "# Primera lección: en divisiones de dos números, hay que decirle que por lo menos uno es un número real\n",
    "\n",
    "* Esta característica de Python 2.7 es molesta, y está corregida en la versión 3.\n",
    "\n",
    "* Como vamos a usar la versión 2.7 (por problemas de compatibilidad de varias librerías) tenemos que vivir con esta incomodidad.\n",
    "\n",
    "* Para Python ```5``` es un **entero** (int) y ```5.0``` es un real (float).\n",
    "\n",
    "* Lo que nos lleva a discutir los **tipos** de cada objeto en Python.\n",
    "\n",
    "* En general hay cuatro tipos (hay muchos más, pero estos son los más importantes para nosotros):\n",
    "\n",
    "    1. ```int ``` : *integer* o entero\n",
    "    2. ```float```: *floating number* o real\n",
    "    3. ```bool``` : *boolean* o booleano (verdadero o falso)\n",
    "    4. ```str```  : *string*  o texto"
   ]
  },
  {
   "cell_type": "markdown",
   "metadata": {
    "slideshow": {
     "slide_type": "subslide"
    }
   },
   "source": [
    "    \n",
    "* En la consola, escribamos:\n",
    "    > type(2)\n",
    "\n",
    "    > type(2.0)\n",
    "    \n",
    "    > type(2==2)\n",
    "    \n",
    "    > type(\"2\")\n",
    "    \n",
    "* La función ```type``` nos permite indagar sobre el tipo de diferentes variables u objetos."
   ]
  },
  {
   "cell_type": "markdown",
   "metadata": {
    "slideshow": {
     "slide_type": "subslide"
    }
   },
   "source": [
    "###  Así que en general es importante, siempre que hagamos una operación de división (por ejemplo, encontrar la varianza de un estimador) multiplicar todo por ```1.0```"
   ]
  },
  {
   "cell_type": "markdown",
   "metadata": {
    "slideshow": {
     "slide_type": "subslide"
    }
   },
   "source": [
    "# Por esto es importante utilizar paréntesis y nombrar bien las variables.\n",
    "\n",
    "* No sólo facilita la lectura de un código que escriban (para ustedes mismos o para otros)\n",
    "\n",
    "* Sino que garantiza que lo que queramos hacer quede bien hecho.\n",
    "\n",
    "    ``` \n",
    ">    promedio = 1.0*(2+3+4+5)/4\n",
    ">    \n",
    ">    print promedio\n",
    "    ```\n",
    "\n",
    "* En el ejemplo ```promedio``` es una variable que tiene una asignación en memoria (para un número real).\n",
    "\n",
    "* Puede ser el nombre que queramos:\n",
    "\n",
    ">  `p   = (1+2)/2.0`\n",
    "\n",
    ">  `avg = (1+2)/2.0`\n",
    "\n",
    ">  `que_viva_mexico = (1+2)/2.0`\n",
    "\n",
    "* La recomendación es **siempre** utilizar nombre claros, que hagan referencia al objeto que estamos creando"
   ]
  },
  {
   "cell_type": "markdown",
   "metadata": {
    "slideshow": {
     "slide_type": "subslide"
    }
   },
   "source": [
    " ![caption](figures/python.png)"
   ]
  },
  {
   "cell_type": "markdown",
   "metadata": {
    "slideshow": {
     "slide_type": "slide"
    }
   },
   "source": [
    "# Lo mismo se puede hacer con la consola de Ipython\n",
    "\n",
    "* En la terminal, cerremos la sesión de la consola de python ---```exit()```--- y ejecutar:\n",
    "    > ```ipython```\n",
    "    \n",
    "* En general, si quieren hacer cálculos rápidos, lo pueden hacer con cualquiera de las dos consolas.\n",
    "\n",
    "* Adicionalmente, si escriben un código en python con un editor de texto (lo haremos más adelante) pueden ejecutarlo directamente en cualquiera de estas consolas.\n",
    "\n",
    "* De cualquier forma, nosotros utilizaremos las funcionalidades del ```Ipython Notebook```."
   ]
  },
  {
   "cell_type": "markdown",
   "metadata": {
    "slideshow": {
     "slide_type": "subslide"
    }
   },
   "source": [
    "# Escribamos un *script* sencillo y ejecutémoslo en ipython y python\n",
    "\n",
    "* Un programa o *script* es una secuencia de instrucciones que especifica cómo realizar un cálculo o cómputo.\n",
    "\n",
    "* En general un programa puede tener cualquiera de las siguientes instrucciones:\n",
    "\n",
    "    1. **Input**: obtener los datos desde un archivo, una página web, un servidor o desde el teclado.\n",
    "    2. **Output**: mostrar los datos en pantalla o exportar al disco duro.\n",
    "    3. **Operaciones matemáticas**: realizar los cálculos matemáticos necesarios, como sumar, multiplicar, dividir, invertir una matriz, etc.\n",
    "    4. **Ejecución Condicional**: verificar si alguna condición es válida y ejecutar una parte del código cuando lo es y otra cuando no lo es.\n",
    "    5. **Repetición**: ejecutar un mismo código varias veces, sobre objetos diferentes.\n",
    "\n",
    "\n",
    "* Los scripts en Python tienen la extensión ```.py```."
   ]
  },
  {
   "cell_type": "markdown",
   "metadata": {
    "slideshow": {
     "slide_type": "subslide"
    }
   },
   "source": [
    "# ¿Cómo escribir un programa en Python?\n",
    "\n",
    "* Necesitamos un *editor de texto*.\n",
    "\n",
    "* **Nunca** utilizar Word.\n",
    "    * La razón es que Word, sin que lo sepamos, impone formato (cambios de línea, por ejemplo) que no necesariamente pueden ser leídos por un lenguaje de programación (no obedecen a las reglas sintácticas de cada lenguaje).\n",
    "\n",
    "\n",
    "* En Windows, pueden utilizar *Notepad* que escribe sobre archivos planos (sin formato) o de texto, aunque tampoco es recomendable.\n",
    "\n",
    "    * Hay una versión más apta para programación que es [Notepad++](https://notepad-plus-plus.org/)\n",
    "    * O muchas otras que también son gratis.\n",
    "    * Adicionalmente, la instalación de Anaconda incluye **Spyder**, un *ambiente integrado de desarrollo* (IDE) que sirve como editor de texto y una consola que permite ejecutar códigos o instrucciones de manera interactiva.\n",
    "        * Quienes están familiarizados con Matlab, Spyder es muy parecido.\n",
    "\n",
    "\n",
    "* En Mac hay varios:\n",
    "    * Las personas más sofisticadas pueden utilizar VIM en Linux.\n",
    "    * Yo utilizo [TextMate](https://macromates.com/) donde compilo código de Latex, Python, HTML, y cualquier otra cosa que necesite.\n",
    "    * Una búsqueda en Google (\"free editors Mac\") les dará más opciones.\n",
    "\n",
    "\n",
    "* Salvo para escribir funciones externasen este curso haremos muy poco uso de editores de texto gracias al Ipython Notebook."
   ]
  },
  {
   "cell_type": "markdown",
   "metadata": {
    "slideshow": {
     "slide_type": "subslide"
    }
   },
   "source": [
    "# Primer programa\n",
    "\n",
    "* Abramos el editor de texto, y guardemos un archivo nuevo en el directorio donde vamos a ejecutarlo como \n",
    "> ```miprimerprograma.py```\n",
    "\n",
    "* Es **fundamental** que tenga la extensión ```.py```\n",
    "\n",
    "* Este programa hace tres cosas:\n",
    "\n",
    "    1. Inicializa unos parámetros de una función de demanda\n",
    "    2. Calcula la demanda dados unos parámetros y precio.\n",
    "    3. Imprime un mensaje sobre la rentabilidad del proyecto hipotético."
   ]
  },
  {
   "cell_type": "markdown",
   "metadata": {
    "slideshow": {
     "slide_type": "subslide"
    }
   },
   "source": [
    "![caption](figures/programa.png)"
   ]
  },
  {
   "cell_type": "markdown",
   "metadata": {
    "slideshow": {
     "slide_type": "subslide"
    }
   },
   "source": [
    "![caption](figures/programa1.png)"
   ]
  },
  {
   "cell_type": "markdown",
   "metadata": {
    "slideshow": {
     "slide_type": "subslide"
    }
   },
   "source": [
    "# Es hora de ejecutarlo\n",
    "\n",
    "* Guardemos la última versión (la que tiene el código).\n",
    "\n",
    "* Y busquemos la carpeta donde guardamos el programa desde la terminal (utilizando el comando ```cd ```).\n",
    "\n",
    "* Verifiquemos que el código está ahí pidiendo que nos de un listado de todos los archivos en el directorio.\n",
    "    * En Windows: ```dir```\n",
    "    * En Mac o Linux: ```ls```\n",
    "        \n",
    "* Si está, podemos ejecutarlo.\n",
    "\n",
    "* En Python:\n",
    "> ` python miprimerprograma.py`\n",
    "\n",
    "* En Ipython: inicializar la consola y ejecutar:\n",
    "    \n",
    "\n",
    "> `ipython`\n",
    ">    \n",
    ">  `run miprimerprograma.py`"
   ]
  },
  {
   "cell_type": "markdown",
   "metadata": {
    "slideshow": {
     "slide_type": "subslide"
    }
   },
   "source": [
    "![caption](figures/prog_python.png)"
   ]
  },
  {
   "cell_type": "markdown",
   "metadata": {
    "slideshow": {
     "slide_type": "subslide"
    }
   },
   "source": [
    "![caption](figures/prog_ipython.png)"
   ]
  },
  {
   "cell_type": "markdown",
   "metadata": {
    "slideshow": {
     "slide_type": "slide"
    }
   },
   "source": [
    "# Un comentario sobre qué hacer cuando no podemos ejecutar un código\n",
    "\n",
    "* Un buen porcentaje del tiempo que dedica uno a programar se dirige a corregir errores o hacer *debugging*\n",
    "\n",
    "\n",
    "* Al principio van a cometer muchos errores, y les saldrán mensajes de error constantemente.\n",
    "\n",
    "\n",
    "* Con el tiempo cometerán menos errores, y aprenderán a entender qué significan (y cómo solucionarlos rápidamente).\n",
    "\n",
    "\n",
    "* Sin embargo, programar es un proceso de prueba y error.  \n",
    "\n",
    "\n",
    "* Algunos errores los podrán resolver fácilmente, otros no.\n",
    "\n",
    "\n",
    "* Probablemente su nuevo mejor amigo será [Stackoverflow](http://stackoverflow.com/), una página que utilizan los programadores novatos, menos novatos y avanzados para resolver dudas (no sólo de Python sino de muchos otros lenguajes).\n",
    "\n",
    "    * Yo lo uso todos los días en mi trabajo.\n",
    "    "
   ]
  },
  {
   "cell_type": "markdown",
   "metadata": {
    "slideshow": {
     "slide_type": "subslide"
    }
   },
   "source": [
    "* Si no logran arreglar el problema, la sugerencia es ir directamente a Google y hacer una de dos cosas:\n",
    "\n",
    "    1. Hacer un *copy-paste* literal del error.\n",
    "    \n",
    "    2. Tratar de explicar qué pasa.\n",
    "    \n",
    "\n",
    "* Casi siempre encontrarán la respuesta en Stackoverflow."
   ]
  },
  {
   "cell_type": "markdown",
   "metadata": {
    "slideshow": {
     "slide_type": "subslide"
    }
   },
   "source": [
    "# Tipología General de los Errores\n",
    "\n",
    "* En general hay tres tipos de errores:\n",
    "\n",
    "    1. **Errores sintácticos** \n",
    "    \n",
    "    2. **Errores de Run Time**\n",
    "    \n",
    "    3. **Errores semánticos**"
   ]
  },
  {
   "cell_type": "markdown",
   "metadata": {
    "slideshow": {
     "slide_type": "subslide"
    }
   },
   "source": [
    "# Errores Sintácticos:\n",
    "\n",
    "* Las computadores sólo pueden hacer lo que les pidamos que hagan en un lenguaje con unas reglas claras.\n",
    "\n",
    "* La *sintaxis* de un lenguaje son las reglas para combinar palabras y caracteres.\n",
    "\n",
    "* Antes de ejecutar un programa, Python lo recorre completamente para verificar que puede entender lo que escribimos.\n",
    "\n",
    "* Si no hay ningún error sintáctico lo ejecuta.  En caso contrario suspende la ejecución.\n",
    "\n",
    "* Por ejemplo:\n",
    "\n",
    "```\n",
    "a = (1+2   # falta cerrar el paréntesis\n",
    "c = 2=2    # queríamos generar una variable del tipo booleano.  La igualdad booleana utiliza dos signos de =\n",
    "print \"Hello World  # falta cerrar las comillas\n",
    "```\n",
    "\n",
    "* Este es el tipo de errores más común que cometerán al principio."
   ]
  },
  {
   "cell_type": "markdown",
   "metadata": {
    "slideshow": {
     "slide_type": "subslide"
    }
   },
   "source": [
    "# Ejemplos de errores comunes:\n",
    "\n",
    "En [esta página](http://inventwithpython.com/blog/2012/07/09/16-common-python-runtime-errors/) hay un listado de los 16 errores más comunes.\n",
    "\n",
    "Veamos algunos:\n",
    "\n",
    "1. A diferencia de otros programas, las cláusalas condicionales deben incluir `dos puntos` y las siguientes líneas deben estar indentadas\n",
    "\n",
    "```\n",
    "if demanda<0\n",
    "    print \"demanda negativa\"\n",
    "```\n",
    "\n",
    "en lugar de:\n",
    "```\n",
    "if demanda<0:\n",
    "    print \"demanda negativa\"\n",
    "```\n",
    "\n",
    "o \n",
    "\n",
    "```\n",
    "if demanda<0:\n",
    "print \"demanda negativa\"\n",
    "```"
   ]
  },
  {
   "cell_type": "markdown",
   "metadata": {
    "slideshow": {
     "slide_type": "subslide"
    }
   },
   "source": [
    "# Python es extremadamente sensible a la falta o exceso de indentación\n",
    "\n",
    "* La razón es que los condicionales o los ciclos (*loops*) empiezan y terminan cuando Python detecta la indentación correcta.\n",
    "\n",
    "\n",
    "* Por ejemplo:\n",
    "\n",
    "```\n",
    "    for i in range(5):\n",
    "    print i\n",
    "```\n",
    "\n",
    "* Cuando abrimos el loop, Python espera que la(s) siguientes líneas estén indentadas:\n",
    "\n",
    "```\n",
    "    for i in range(5):\n",
    "        print i\n",
    "```\n",
    "\n",
    "* Nota: la función `range(n)` genera una *lista* que va de cero a n-1: $[0,1,2,\\cdots,n-1]$\n",
    "\n",
    "* Así que el loop transita elemento por elemento de esta lista e imprime en pantalla el elemento.\n",
    "\n",
    "* La indentación es necesaria, pero sólo la que es estrictamente necesaria (un `Tab`)"
   ]
  },
  {
   "cell_type": "markdown",
   "metadata": {
    "slideshow": {
     "slide_type": "subslide"
    }
   },
   "source": [
    "# Errores de Runtime\n",
    "\n",
    "* Una vez Python verifica que la sintaxis está bien, procede a ejecutar el programa.\n",
    "\n",
    "* Mientras lo ejecuta, puede que encuentre algo que lo fuerza a terminar la ejecución.\n",
    "\n",
    "* Por ejemplo:\n",
    "\n",
    "```\n",
    "a = 3 + c\n",
    "```\n",
    "\n",
    "* La sintaxis es correcta, pero si el usuario no ha definido y asignado un valor a `c` Python arroja un error de Runtime."
   ]
  },
  {
   "cell_type": "markdown",
   "metadata": {
    "slideshow": {
     "slide_type": "subslide"
    }
   },
   "source": [
    "# Errores semánticos\n",
    "\n",
    "* Un error semántico es difícil de detectar porque Python no arroja ningún mensaje.\n",
    "\n",
    "* El programa se ejecuta sin problemas.\n",
    "\n",
    "* **Pero** no hace lo que uno quiere.\n",
    "\n",
    "* Por ejemplo: queremos encontrar el estimador de OLS $\\hat{\\beta} = (x'x)^{-1}x'y$\n",
    "\n",
    "```\n",
    "betahat = (x.T*x)*(x.T,y)\n",
    "```\n",
    "\n",
    "* Se nos olvidó invertir la matriz de productos cruzados.\n",
    "\n",
    "* No basta que un programa se ejecute bien.  Es *fundamental* revisar los resultados.\n",
    "\n",
    "* **Anécdota**: los consultores jurídicos en EEUU suelen tener a dos o tres personas programando los resultados por su cuenta.  Sólo terminan cuando los resultados sean exactamente iguales.\n",
    "\n",
    "* **Anécdota**: hay muchos papers académicos que han sido muy bien publicados y sólo hasta que alguien intenta replicar los resultados encuentran que hay un error."
   ]
  }
 ],
 "metadata": {
  "celltoolbar": "Slideshow",
  "kernelspec": {
   "display_name": "Python 2",
   "language": "python",
   "name": "python2"
  },
  "language_info": {
   "codemirror_mode": {
    "name": "ipython",
    "version": 2
   },
   "file_extension": ".py",
   "mimetype": "text/x-python",
   "name": "python",
   "nbconvert_exporter": "python",
   "pygments_lexer": "ipython2",
   "version": "2.7.9"
  }
 },
 "nbformat": 4,
 "nbformat_minor": 0
}
