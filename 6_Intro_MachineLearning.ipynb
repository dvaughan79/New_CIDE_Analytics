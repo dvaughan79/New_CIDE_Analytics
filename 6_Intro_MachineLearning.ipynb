{
 "cells": [
  {
   "cell_type": "markdown",
   "metadata": {
    "slideshow": {
     "slide_type": "slide"
    }
   },
   "source": [
    "# Analítica y Ciencia de Datos\n",
    "\n",
    "## CIDE - Otoño 2015\n",
    "\n",
    "### Introducción al Apendizaje Estadístico o Machine Learning"
   ]
  },
  {
   "cell_type": "markdown",
   "metadata": {
    "slideshow": {
     "slide_type": "slide"
    }
   },
   "source": [
    "# Referencias para estas notas\n",
    "\n",
    "* Cualquier texto de aprendizaje estadístico o machine learning.\n",
    "\n",
    "* Pero vamos a seguir de cerca los capítulos 1 y 2 de [Introduction to Statistical Learning](http://www-bcf.usc.edu/~gareth/ISL/ISLR%20First%20Printing.pdf) y [The Elements of Statistical Learning](http://web.stanford.edu/~hastie/local.ftp/Springer/OLD/ESLII_print4.pdf).\n",
    "\n",
    "* El primero es más introductorio y sirve para entender bien los conceptos.\n",
    "\n",
    "* El tratamiento del segundo es más profundo y riguroso.\n",
    "\n",
    "* **Los dos están disponibles gratis por los autores.**"
   ]
  },
  {
   "cell_type": "markdown",
   "metadata": {
    "slideshow": {
     "slide_type": "slide"
    }
   },
   "source": [
    "# ¿Qué es Aprendizaje Estadístico?\n",
    "\n",
    "* En términos generales, el aprendizaje estadístico no es más que el uso de modelos estadísticos con el objeto de aprender o descubrir el proceso de generación de unos datos (*data generating process*).\n",
    "\n",
    "* En general hay dos tipos de aprendizaje:\n",
    "    \n",
    "    1. **Aprendizaje supervizado**: \n",
    "    el objetivo es aprender el proceso de generación de una variable o grupo de variables resultado $\\mathbf{y}$ a partir de un grupo de variables predictoras (regresores en el contexto de un modelo de regresión) $\\mathbf{X}$.  \n",
    "    Se llama supervizado porque tenemos a $\\bf y$ guiando o supervizando la calidad de los modelos, y el objetivo es conocer el proceso de generación de datos $f: X \\rightarrow y$:\n",
    "    $$\n",
    "    y = f(X) + \\epsilon\n",
    "    $$\n",
    "    \n",
    "    2. **Aprendizaje no supervizado**: son todos aquellos casos donde pretendemos descubrir ciertas características de los datos $\\bf X$ en ausencia del resultado o outcome.\n",
    "    \n",
    "\n"
   ]
  },
  {
   "cell_type": "markdown",
   "metadata": {
    "slideshow": {
     "slide_type": "subslide"
    }
   },
   "source": [
    "# ¿Para qué utilizar aprendizaje estadístico?\n",
    "\n",
    "Hay dos razones por las que queremos utilizar las técnicas de aprendizaje estadístico:\n",
    "\n",
    "* **Predicción**:  En el caso de aprendizaje estadístico, si tenemos un modelo $\\hat{f}(X)$, podemos estimar $y$:\n",
    "\n",
    "$$\n",
    "E(y) = \\hat{f}(X) + E(\\epsilon) = \\hat{f}(X)\n",
    "$$\n",
    " asumiendo que $E(\\epsilon)=0$.\n",
    "\n",
    "* **Inferencia**: queremos *entender* cuáles variables $X_1, X_2, \\cdots, X_p$ afectan el resultado $y$, y de qué forma lo hacen."
   ]
  },
  {
   "cell_type": "markdown",
   "metadata": {
    "slideshow": {
     "slide_type": "subslide"
    }
   },
   "source": [
    "# Modelos de regresión y clasificación\n",
    "\n",
    "* Hay dos grandes clases de modelos supervizados que dependen del tipo de variable dependiente $\\bf y$ que tengamos:\n",
    "\n",
    "    * Si la variable es *cuantitativa* o contínua, utilizamos modelos de **regresión**.\n",
    "    \n",
    "    * Si la variable es *categórica* utilizamos modelos de **clasificación**.\n",
    "    \n",
    "* Por ejemplo, si queremos estimar el *ingreso* de la gente, en función de su género, edad y educación, utilizamos un modelo de *regresión*.\n",
    "\n",
    "* Si queremos clasificar a un cliente en dos o más categorías, utilizamos un msdelo de clasificación.\n",
    "\n",
    "    * Por ejemplo, queremos estimar la probabilidad que un cliente que pide una tarjeta de crédite deje de pagar.\n",
    "    \n",
    "    * Queremos estimar la probabilidad que una persona utilice su carro, el metro, el sistema de buses o la bicicleta."
   ]
  },
  {
   "cell_type": "markdown",
   "metadata": {
    "slideshow": {
     "slide_type": "subslide"
    }
   },
   "source": [
    "    \n",
    "* En los casos de modelos de clasificación, es usual utilizar etiquetas numéricas.  Por ejemplo:\n",
    "\n",
    "$$ y = \n",
    "\\begin{cases}\n",
    "1 & \\text{si cliente ha dejado de pagar} \\\\\n",
    "0 & \\text{si nunca ha dejado de pagar sus créditos}\n",
    "\\end{cases}\n",
    "$$\n",
    "\n",
    "o en el caso de más de una categoría\n",
    "\n",
    "$$ y = \n",
    "\\begin{cases}\n",
    "1 & \\text{si individuo utiliza metro} \\\\\n",
    "2 & \\text{si utiliza carro particular} \\\\\n",
    "3 & \\text{si utiliza bicicleta} \\\\\n",
    "\\end{cases}\n",
    "$$\n",
    "\n",
    "* En estos casos, la etiqueta numérica no tiene un carácter *ordinal*, lo que sí sucede con modelos de regresión donde el carácter ordinal define a la variable dependiente."
   ]
  },
  {
   "cell_type": "markdown",
   "metadata": {
    "slideshow": {
     "slide_type": "subslide"
    }
   },
   "source": [
    "# ¿Cómo aprendemos el proceso de generación de datos? \n",
    "\n",
    "\n",
    "* Si queremos comparar modelos, necesitamos una métrica que nos permita decir si un modelo es mejor que otro.\n",
    "\n",
    "\n",
    "* En modelos de regresión, la métrica estándar es el error cuadrático medio (MSE):\n",
    "$$\n",
    "MSE = \\frac{1}{N}\\sum_i (y_i - \\hat{y}_i)^2\n",
    "$$\n",
    "\n",
    "\n",
    "* Así: un modelo $A$ as mejor que un modelo $B$ si $MSE_A < MSE_B$\n",
    "\n",
    "\n",
    "* Alternativamente, si queremos hacer supuestos sobre la distribución del término de error $\\epsilon$, podemos utilizar (el logaritmo de) la función de verosimilitud, $LL(\\theta)$ en el caso de un modelo paramétrico con parámetros a estimar $\\mathbf \\theta$.\n",
    "\n",
    "    * En este caso el mejor modelo es el que tiene un *mayor loglikelihood LL*.\n",
    "\n",
    "\n",
    "* En el caso paramétrico, lineal en los parámetros $Y = X\\beta + \\epsilon$, ya sabemos que el **estimador de mínimos cuadrados ordinarios** (OLS, por sus siglas en inglés), es la solución al problema de minimizar el MSE."
   ]
  },
  {
   "cell_type": "markdown",
   "metadata": {
    "slideshow": {
     "slide_type": "subslide"
    }
   },
   "source": [
    "# Y en el caso de modelos de clasificación:\n",
    "\n",
    "* En modelos con supuestos sobre la distribución (ejemplo: modelos *Logit* o *Probit*), se puede utilizar la respectiva verosimilitud.\n",
    "\n",
    "\n",
    "* Pero en general podemos usar la **tasa de error**:\n",
    "$$\n",
    "\\frac{1}{N}\\sum_i I(y_i \\neq \\hat{y}_i)\n",
    "$$\n",
    "\n",
    "    * Es decir, para cada observación, sabemos si fue clasificada correcta o incorrectmente.  Si fue incorrecta $y_i \\neq \\hat{y}_i$ la variable indicador toma el valor $1$, si fue correcta toma el valor $0$.\n",
    "\n",
    "\n",
    "* Los modelos de clasificación suelen tener asociada una probabilidad condicional: $Prob(y_i \\in C_k| x_i)$, es decir, la probabilidad de que una obsevación $i$ sea del tipo $k$, condicional en el valor de sus regresores $x_i = x_{1i},x_{2i}, \\cdots, x_{pi},$.\n",
    "\n",
    "\n",
    "* En estos casos, el clasificador que minimiza la tasa de error se conoce como el **clasificador de Bayes** (\"Bayes classifier\"), y asigna cada observación $i$ a la clase que tiene una mayor probabilidad de ocurrir $k^* = argmax_k Prob(y_i \\in C_k| x_i)$"
   ]
  },
  {
   "cell_type": "markdown",
   "metadata": {
    "slideshow": {
     "slide_type": "subslide"
    }
   },
   "source": [
    "# Modelos paramétricos y modelos no paramétricos\n",
    "\n",
    "* **Modelo paramétrico:** si tiene un *número fijo de parámetros* y se hacen supuestos sobre la forma funcional del proceso de generación de datos $f(x)$.\n",
    "\n",
    "    * Ejemplo1: $y = \\beta_0 + \\beta_1 x_1 + \\epsilon$\n",
    "    \n",
    "    * Ejemplo2: $Prob(y=1|x,\\beta) = \\Phi(x'\\beta)$, donde $\\Phi()$ es la función de distribución acumulativa de una variable aleatoria normal estándar.\n",
    "\n",
    "\n",
    "\n",
    "\n",
    "* **Modelo no paramétrico:** si no se hacen supuestos sobre la forma funcional del proceso de generación de datos.\n",
    "\n",
    "    * **K-nearest neighbors**: \n",
    "        \n",
    "        * Queremos clasificar la observación $i$.\n",
    "        * Para hacerlo miramos las categorías de las $K$ observaciones más cercanas de acuerdo con las variables independientes $x$, se obtienen las fracciones empíricas (ej. $1/3$ de los K vecinos son de la categoría $1$ y $2/3$ son de la categoría $0$):\n",
    "        $$\n",
    "        Prob \\left(y_i=c|\\mathbf{x_i},K \\right) = \\frac{1}{K}\\sum_{j \\in N_K(x_i)} I(y_j =c)\n",
    "        $$"
   ]
  },
  {
   "cell_type": "markdown",
   "metadata": {
    "slideshow": {
     "slide_type": "subslide"
    }
   },
   "source": [
    "# Datos de entrenamiento y de prueba\n",
    "\n",
    "* En el caso de aprendizaje supervizado, es usual dividir los datos en dos grupos:\n",
    "\n",
    "    * **Datos de entrenamiento (training sample)**: son los datos que utilizamos para estimar o entrenar el modelo.  \n",
    "        * Así, por definición, en el caso OLS, sabemos que los parámetros estimados $\\hat{\\mathbf{\\beta}}$ minimizan el MSE en los datos de entrenamiento.  \n",
    "    \n",
    "    * **Datos de prueba (test sample)**: para calificar la precisión de un modelo utilizamos unos datos distintos a los que fueron necesarios para estimarlo.  Estos son los datos de prueba.\n",
    "\n",
    "\n",
    "* En econometría hablamos de la predicción dentro (in-sample) y fuera (out-of-sample) de la muestra.  \n",
    "\n",
    "\n",
    "* En aprendizaje de datos esta es una parte fundamental del método de aprendizaje.\n",
    "\n",
    "\n",
    "* Dividir los datos en conjuntos de entrenamiento y prueba nos protege de problemas como **overfitting**: el MSE es no creciente en el número de regresores (por eso usamos el $\\bar{R}^2$ en econometría)."
   ]
  },
  {
   "cell_type": "markdown",
   "metadata": {
    "slideshow": {
     "slide_type": "subslide"
    }
   },
   "source": [
    "# El tradeoff entre varianza y sesgo\n",
    "\n",
    "* El MSE se puede descomponer en la varianza y el sesgo.\n",
    "\n",
    "\n",
    "* Denotemos los datos por $\\mathcal{D} = \\{x_1, x_2, \\cdots, x_N\\}$\n",
    "\n",
    "\n",
    "* Sean \n",
    "    * $\\hat{\\theta} = \\hat{\\theta}(\\mathcal{D})$ nuestra estimación, \n",
    "    \n",
    "    * $\\bar{\\theta} = E(\\hat{\\theta})$ el valor esperado de la estimación cuando variamos los datos.\n",
    "    \n",
    "    * $\\theta^*$ el parametro verdadero.\n",
    "\n",
    "\n",
    "* El MSE se puede escribir como:\n",
    "$$\n",
    "\\begin{eqnarray*}\n",
    "E\\left[(\\hat{\\theta} - \\theta^*)^2 \\right] &=& E\\left[\\left[(\\hat{\\theta} - \\bar{\\theta}) + (\\bar{\\theta} - \\theta^*) \\right]^2\\right]\\\\\n",
    "&=& E(\\hat{\\theta} - \\bar{\\theta})^2 + 2(\\bar{\\theta} - \\theta^*)E(\\hat{\\theta} - \\bar{\\theta}) + E(\\bar{\\theta} - \\theta^*)^2\\\\\n",
    "&=& Var(\\hat{\\theta}) + Bias^2\n",
    "\\end{eqnarray*}\n",
    "$$\n",
    "\n",
    "\n",
    "* La *varianza* se refiere a cuánto cambia la estimación si utilizamos otros datos de entrenamiento.\n",
    "\n",
    "\n",
    "* El *sesgo* se refiere al error sistemático que se obtiene al aproximar el proceso de generación de datos verdadero por medio de un modelo simple.\n",
    "\n",
    "\n",
    "* Por ejemplo, de nuestras clases de econometría sabemos que las *omitir variables* sesga la estimación.\n",
    "\n",
    "\n",
    "* El tradeoff sugiere que a veces queremos **sacrificar un poco de *sesgo* si reducimos la *varianza* de la estimación**."
   ]
  },
  {
   "cell_type": "markdown",
   "metadata": {
    "slideshow": {
     "slide_type": "subslide"
    }
   },
   "source": [
    "# Veamos un ejemplo\n",
    "\n",
    "* Vamos a simular un modelo simple: \n",
    "\n",
    "$$\n",
    "y = \\alpha_0 + \\alpha_1 x + \\alpha_2 x^2 +\\epsilon\n",
    "$$\n",
    "\n",
    "* Y vamos a estimar polinomios de orden cada vez mayor.\n",
    "\n",
    "* El objetivo es ver cómo cae el MSE\n",
    "\n",
    "* La moreleja es la siguiente:\n",
    "\n",
    "> Con la muestra de entrenamiento, el MSE siempre cae\n",
    "\n",
    ">> Pero esto ya lo sabían: por eso es útil el $\\bar{R}^2$"
   ]
  },
  {
   "cell_type": "code",
   "execution_count": 86,
   "metadata": {
    "collapsed": false,
    "slideshow": {
     "slide_type": "subslide"
    }
   },
   "outputs": [
    {
     "name": "stdout",
     "output_type": "stream",
     "text": [
      "(200, 1)\n"
     ]
    }
   ],
   "source": [
    "# Tamaño de la muestra\n",
    "import numpy as np\n",
    "import pandas as pd\n",
    "import matplotlib.pyplot as plt\n",
    "%matplotlib inline \n",
    "\n",
    "# fijemos el seed\n",
    "np.random.seed(456091215)\n",
    "\n",
    "N = 200\n",
    "# regresores y error\n",
    "x = np.random.randn(N,1)\n",
    "xmat = np.concatenate((np.ones((N,1)), x, np.power(x,2)), axis=1)\n",
    "# Para el término de error vamos a utilizar una varianza mayor\n",
    "epsilon = np.sqrt(10)*np.random.randn(N,1)\n",
    "# coeficientes verdaderos: queremos una función cóncava (sin ninguna razón especial)\n",
    "beta_true = np.array([-2,3,-2]).reshape((3,1))\n",
    "y = np.dot(xmat,beta_true) + epsilon\n",
    "\n",
    "print y.shape\n",
    "\n"
   ]
  },
  {
   "cell_type": "code",
   "execution_count": null,
   "metadata": {
    "collapsed": true
   },
   "outputs": [],
   "source": [
    "# vamos a crear una función OLS para utilizar varias veces\n",
    "def olsfun(y,X):\n",
    "    '''\n",
    "    ------------------\n",
    "    Objetivo: estimar los coeficientes de un modelo de regresión lineal por medio de mínimos cuadrados\n",
    "    ordinarios (OLS).\n",
    "    ------------------\n",
    "    Argumentos: \n",
    "    y: Variable dependiente: de tamaño Nx1\n",
    "    X: matriz de variables independientes: de tamaño NxK\n",
    "    ------------------\n",
    "    Returns:\n",
    "    betahat: vector de coeficientes estimados\n",
    "    mse    : error cuadrático medio muestral\n",
    "    ssr    : suma de residuos al cuadrado\n",
    "    yhat   : y estimado\n",
    "    ------------------\n",
    "    '''\n",
    "    N,K = X.shape\n",
    "    # necesitamos la matriz inversa\n",
    "    xtx = np.dot(X.T, X)\n",
    "    xtxinv = np.linalg.inv(xtx)\n",
    "    xty = np.dot(X.T,y)\n",
    "    betahat = np.dot(xtxinv,xty)\n",
    "    # obtengamos también el MSE\n",
    "    yhat = np.dot(X,betahat)\n",
    "    resids = y-yhat\n",
    "    ssr  = np.dot(resids.T,resids)\n",
    "    s2   = ssr/(N-K)\n",
    "    mse  = ssr/N\n",
    "    return betahat, mse[0,0], ssr[0,0], yhat"
   ]
  },
  {
   "cell_type": "code",
   "execution_count": 87,
   "metadata": {
    "collapsed": false,
    "slideshow": {
     "slide_type": "subslide"
    }
   },
   "outputs": [
    {
     "data": {
      "text/plain": [
       "array([[-2.39382534],\n",
       "       [ 3.09666475],\n",
       "       [-1.85003661]])"
      ]
     },
     "execution_count": 87,
     "metadata": {},
     "output_type": "execute_result"
    }
   ],
   "source": [
    "# Vamos a probar nuestra función:\n",
    "# los parámetros se \"parecen\" a los verdaderos [-2,3,-2]\n",
    "betahat, mse, ssr, yhat = olsfun(y,xmat)\n",
    "betahat"
   ]
  },
  {
   "cell_type": "code",
   "execution_count": 94,
   "metadata": {
    "collapsed": false,
    "slideshow": {
     "slide_type": "subslide"
    }
   },
   "outputs": [
    {
     "data": {
      "text/plain": [
       "<matplotlib.text.Text at 0x10f01dad0>"
      ]
     },
     "execution_count": 94,
     "metadata": {},
     "output_type": "execute_result"
    },
    {
     "data": {
      "image/png": "[encoded data removed]",
      "text/plain": [
       "<matplotlib.figure.Figure at 0x10ec621d0>"
      ]
     },
     "metadata": {},
     "output_type": "display_data"
    }
   ],
   "source": [
    "# Queremos estimar varios polinomios, digamos hasta orden omax\n",
    "omax = 5\n",
    "# y vamos a graficar los resultados:\n",
    "f, axarr = plt.subplots(1,2,figsize=(10,4))\n",
    "axarr[0].scatter(x, y, s = 10, color='b', alpha=0.5)\n",
    "axarr[0].set_xlabel('x')\n",
    "axarr[0].set_ylabel('y')\n",
    "axarr[0].set_title(u'Estimación polinomial')\n",
    "# acá vamos a guardar nuestros resultados de mse y ssr\n",
    "MSEMat = np.zeros((omax,2))\n",
    "#El loop es sobre los modelos\n",
    "for m in np.arange(omax+1):\n",
    "    # adentro necesitamos un loop para crear la matriz de regresores:\n",
    "    newx = np.ones((N,1))\n",
    "    # esto es todo en la primera iteración\n",
    "    # en las otras tenemos que concatenar los polinomios\n",
    "    if m>0:\n",
    "        for v in np.arange(1,m+1):\n",
    "            newx = np.concatenate((newx, np.power(x,v)), axis=1)\n",
    "    # estamos listos para estimar el modelo \n",
    "    betahat, mse, ssr, yhat = olsfun(y,newx)\n",
    "    # guardemos el mse\n",
    "    MSEMat[m-1,:] = mse,ssr\n",
    "    # Antes de graficar necesitamos ordernar las Xs, vamos a usar un dataframe\n",
    "    data = pd.DataFrame(np.concatenate((yhat,x),axis=1), columns=['yhat','x']).sort(columns=['x'])\n",
    "    axarr[0].plot(data.x, data.yhat,color='r', alpha=0.5)\n",
    "\n",
    "# Afuera del loop podemos graficar los MSEs\n",
    "axarr[1].plot(np.arange(1,omax+1), MSEMat[:,0],color='k', alpha=0.5)\n",
    "axarr[1].set_xlabel('Orden del Polinomio')\n",
    "axarr[1].set_ylabel('MSE')\n",
    "axarr[1].set_title('Cambios en MSE')\n",
    "\n",
    "    "
   ]
  },
  {
   "cell_type": "markdown",
   "metadata": {
    "slideshow": {
     "slide_type": "slide"
    }
   },
   "source": [
    "# Experimentos de Monte Carlo\n",
    "\n",
    "* ¿Cuándo probamos la función de OLS hace un par de diapósitivas, qué quería decir \"parece\"?\n",
    "\n",
    "\n",
    "* Los experimentos de Monte Carlo nos permiten verificar las propiedades asintóticas de un modelo (es decir, qué pasa cuando $N \\rightarrow \\infty$).\n",
    "\n",
    "\n",
    "* Por ejemplo, sabemos que si no hay variables omitidas y los regresores son exógenos, los estimadores de Mínimos Cuadrados Ordinarios son insesgados: $E(\\hat{\\beta}) = \\beta$ donde $\\beta$ es el verdadero vector de parámetros.\n",
    "    * Esto lo debieron haber probado en su curso de econometría básica, y si no lo han hecho recomiendo que lo intenten.\n",
    "\n",
    "\n",
    "* Vamos a verificar esta propiedades con un experimento de Monte Carlo simple:\n",
    "\n",
    "\n",
    "* El pseudocódigo es así\n",
    "\n",
    "\n",
    "\n",
    "```\n",
    "for k in range(MaxIter):\n",
    "    # iteración k: simulemos nuevos errores\n",
    "    eps_k = draw(Normal)\n",
    "    # simulemos el modelo nuevamente:\n",
    "    y_k   = f(x,eps_k)\n",
    "    # Estimemos beta y lo guardamos\n",
    "    beta_k = ols(y_k,x)\n",
    "```\n",
    "\n"
   ]
  },
  {
   "cell_type": "code",
   "execution_count": 118,
   "metadata": {
    "collapsed": false,
    "slideshow": {
     "slide_type": "subslide"
    }
   },
   "outputs": [
    {
     "data": {
      "text/plain": [
       "<matplotlib.text.Text at 0x112304e10>"
      ]
     },
     "execution_count": 118,
     "metadata": {},
     "output_type": "execute_result"
    },
    {
     "data": {
      "text/plain": [
       "<matplotlib.figure.Figure at 0x112833c50>"
      ]
     },
     "metadata": {},
     "output_type": "display_data"
    },
    {
     "data": {
      "image/png": "[encoded data removed]",
      "text/plain": [
       "<matplotlib.figure.Figure at 0x1125b96d0>"
      ]
     },
     "metadata": {},
     "output_type": "display_data"
    }
   ],
   "source": [
    "N = 200\n",
    "# Inicialicemos los parámetros y las X por fuera:\n",
    "x = np.random.randn(N,1)\n",
    "xmat = np.concatenate((np.ones((N,1)), x, np.power(x,2)), axis=1)\n",
    "beta_true = np.array([-2,3,-2]).reshape((3,1))\n",
    "# Iinicialicemos el número de iteraciones y el vector donde guardaremos los resultados\n",
    "MaxIter = 200\n",
    "BetaMat = np.zeros((MaxIter,3))\n",
    "BetaMat[:,:] = np.nan\n",
    "BiasMat = np.zeros((MaxIter,3))\n",
    "# listos para empezar\n",
    "for k in range(MaxIter):\n",
    "    # Para el término de error vamos a utilizar una varianza mayor\n",
    "    epsilon = np.sqrt(10)*np.random.randn(N,1)\n",
    "    # coeficientes verdaderos: queremos una función cóncava (sin ninguna razón especial)\n",
    "    y = np.dot(xmat,beta_true) + epsilon\n",
    "    # Estimemos el modelo\n",
    "    betahat, mse, ssr, yhat = olsfun(y,xmat)\n",
    "    BetaMat[k,:] = betahat.flatten()\n",
    "    # Promedio hasta acá\n",
    "    mean_beta = np.nanmean(BetaMat,axis=0)\n",
    "    BiasMat[k,:] = beta_true.flatten() - mean_beta\n",
    "    \n",
    "# Grafiquemos los sesgos:\n",
    "plt.figure(1)\n",
    "pd.DataFrame(BiasMat,columns=['con','lin','cuad']).plot()\n",
    "plt.title('Sesgos de Cada Coeficiente')\n",
    "plt.xlabel(u'Número de Muestras de Monte Carlo')\n"
   ]
  },
  {
   "cell_type": "markdown",
   "metadata": {
    "slideshow": {
     "slide_type": "slide"
    }
   },
   "source": [
    "# El Jackknife y Bootstrapping\n",
    "\n",
    "* Una técnica relacionada son los estimadores de *Jackknife* y *Bootstrapping*\n",
    "\n",
    "* Supongamos que nuestro modelo es:\n",
    "\n",
    "$$\n",
    "y = \\alpha_0 x^{1/\\alpha_1}e^{\\epsilon}\n",
    "$$\n",
    "\n",
    "* Este modelo no es lineal en los parámetros, así que podemos buscar una transformación que lo vuelva lineal en los parámetros:\n",
    "\n",
    "$$\n",
    "\\ln(y) = \\beta_0 + \\beta_1 \\ln(x) + \\epsilon\n",
    "$$\n",
    "\n",
    "donde $\\beta_0 = \\ln(\\alpha_0)$ y $\\beta_1 = 1/\\alpha_1$\n",
    "\n",
    "* Los parámeros transformados se pueden estimar por OLS, pero si nuestro interés es en los parámetros profundos (*estructurales*), cómo los estimamos, y mejor aún, cómo estimamos sus errores estándar?"
   ]
  },
  {
   "cell_type": "markdown",
   "metadata": {
    "slideshow": {
     "slide_type": "subslide"
    }
   },
   "source": [
    "# El Método Delta\n",
    "\n",
    "* Una primera alternativa es utilizar el [método Delta](https://en.wikipedia.org/wiki/Delta_method) que consiste en hacer una aproximación de primer orden:\n",
    "\n",
    "Si $\\alpha = f(\\beta)$, y $\\beta \\sim N(\\mu_b,\\sigma_b^2)$\n",
    "\n",
    "$$\n",
    "f(\\beta) \\approx f(\\beta_0) + f'(\\beta_0)(\\beta - \\beta_0)\n",
    "$$\n",
    "así que, si denotamos a $\\alpha_0 := f(\\beta_0)$\n",
    "$$\n",
    "\\alpha - \\alpha_0 \\sim^{d} N(0, f'(\\beta_0)^2 \\sigma_b^2)\n",
    "$$\n",
    "\n",
    "(para los interesados $\\sim^d$ significa convergencia en distribución, aunque una explicación de esto nos lleva por fuera del tema del curso)\n"
   ]
  },
  {
   "cell_type": "markdown",
   "metadata": {
    "slideshow": {
     "slide_type": "subslide"
    }
   },
   "source": [
    "# Otra alternativa: Bootstrap:\n",
    "\n",
    "* Otra alternativa es seleccionar aleatoriamente submuestras (con reemplazo) de nuestras observaciones, estimar los coeficientes, transformarlos, y obtener la *distribución muestral*.\n",
    "\n",
    "* El pseudocódigo es así:\n",
    "\n",
    "```\n",
    "#Fijemos un número de muestras de bootstrapping: B\n",
    "for b in range(B):\n",
    "    # Seleccionemos una muestra aleatoria de tamaño N con reemplazo de nuestro conjunto de N observaciones\n",
    "    ind_b = rand_sample_reemplazo(N)\n",
    "    # Estimemos beta con estas observaciones y guardemos\n",
    "    beta_b = ols(y_b,x_b)\n",
    "    # Guardemos la transformación:\n",
    "    AlphaMat[b] = f(\\beta_b)\n",
    "\n",
    "# la varianza de alpha no es más que la varianza muestral de Alphamat\n",
    "var_alpha = var(AlphaMat)\n",
    "\n",
    "```\n"
   ]
  },
  {
   "cell_type": "code",
   "execution_count": 234,
   "metadata": {
    "collapsed": false,
    "slideshow": {
     "slide_type": "subslide"
    }
   },
   "outputs": [
    {
     "name": "stdout",
     "output_type": "stream",
     "text": [
      "La estimación OLS de alpha1 es:  [ 0.46153297] [ 2.16669244]\n",
      "La media muestral de alpha1 es:  [ 0.46528508  2.19050678]\n",
      "La varianza de alpha1 es:  [ 0.00389043  0.09927349]\n"
     ]
    }
   ],
   "source": [
    "# estimemos un modelo así:\n",
    "np.random.seed(19790625)\n",
    "N = 300\n",
    "alpha0 = 10\n",
    "alpha1 = 2.0\n",
    "# para que sea positivo, desplacémoslo\n",
    "x      = 0.1*np.random.randn(N,1)\n",
    "epsilon = np.sqrt(0.5)*np.random.randn(N,1)\n",
    "# listos para estimar el modelo:\n",
    "beta1  = 1/alpha1\n",
    "y = alpha0*np.power(x,beta1)*np.exp(epsilon)\n",
    "# Por la transformación tenemos NaNs en X\n",
    "# Vamos a eliminar los NaNs\n",
    "data = pd.DataFrame(np.concatenate((y,np.log(x)),axis=1), columns=['y','x']).dropna(subset= ['x'])\n",
    "N = data.shape[0]\n",
    "y = np.asarray(data.y).reshape((N,1))\n",
    "x = np.asarray(np.exp(data.x.values)).reshape((N,1))\n",
    "# Fijemos un número de muestras de Boostrapping:\n",
    "B = 350\n",
    "# Me voy a concentrar únicamente en alpha1\n",
    "AlphaMat = np.zeros((B,2))\n",
    "for b in range(int(B)):\n",
    "    # seleccionemos aleatoriamente primer\n",
    "    ind_b = np.random.choice(N,N)\n",
    "    # seleccionemos los x y y\n",
    "    x_b = np.log(x[ind_b].reshape((N,1)))\n",
    "    y_b = np.log(y[ind_b].reshape((N,1)))\n",
    "    # listos\n",
    "    res_b = olsfun(y_b, np.concatenate((np.ones((N,1)),x_b),axis=1))\n",
    "    AlphaMat[b,:] = res_b[0][1], 1/res_b[0][1]\n",
    "# Estimemos sin Bootstrapping alpha_1\n",
    "olsb = olsfun(np.log(y),np.concatenate((np.ones((N,1)),np.log(x)),axis=1))\n",
    "print \"La estimación OLS de alpha1 es: \", olsb[0][1],1/olsb[0][1]\n",
    "print \"La media muestral de alpha1 es: \", np.mean(AlphaMat,axis=0)\n",
    "print \"La varianza de alpha1 es: \", np.var(AlphaMat,axis=0)"
   ]
  },
  {
   "cell_type": "markdown",
   "metadata": {
    "slideshow": {
     "slide_type": "slide"
    }
   },
   "source": [
    "# El estimador de Jackknife:\n",
    "\n",
    "* El truco del estimador de Bootstrapping es simple:\n",
    "\n",
    "* En un mundo imaginario tendríamos muchas muestras del proceso de generación de datos.\n",
    "\n",
    "* En la vida real sólo tenemos una muestra de datos.\n",
    "\n",
    "* Podemos obtener muchas muestras si suponemos que cada individuo fue seleccionado aleatoriamente con reemplazo.\n",
    "\n",
    "    * **Nota:** por esto la técnica hay que modificarla en el caso de series de tiempo!\n",
    "    \n",
    "* Otra alternativa es estimar $N$ veces el modelo, y en cada iteración eliminar un individuo:\n",
    "\n",
    "* Así:\n",
    "\n",
    "$$\n",
    "\\begin{array}{l|l}\n",
    "iter & muestra \\\\\n",
    "\\hline\n",
    "0    & 1,2,\\cdots,N-1 \\\\\n",
    "1    & 0,2,\\cdots,N-1 \\\\\n",
    "2    & 0,1,3,\\cdots,N-1 \\\\\n",
    "\\vdots    & \\vdots \\\\\n",
    "N-1  & 0,1,2,\\cdots, N-2\\\\\n",
    "\\hline\n",
    "\\end{array}\n",
    "$$\n",
    "\n",
    "\n",
    "* Este queda en la tarea"
   ]
  },
  {
   "cell_type": "markdown",
   "metadata": {
    "slideshow": {
     "slide_type": "slide"
    }
   },
   "source": [
    "# K-fold Cross-Validation \n",
    "\n",
    "* Volvamos a *machine learning*.\n",
    "\n",
    "* Si tenemos varios modelos candidatos, ¿cómo seleccionamos un mejor modelo?\n",
    "\n",
    "* Tenemos dos muestras:\n",
    "    * **Entrenamiento:** los datos que utilizamos para estimar el modelo\n",
    "    * **Prueba:** los datos que utilizamos para verificar si el modelo pronostica bien por fuera de la muestra de entrenamiento.\n",
    "    \n",
    "* Una alternativa es juzgar los modelos de acuerdo con el MSE en la muestra de prueba.\n",
    "\n",
    "* Alternativamente, podemos generar varias muestras de prueba, o *muestras de validación*, un proceso parecido al bootstrapping o el jackknife.\n",
    "\n",
    "* En el método de validación cruzada en K grupos (*k-fold cross-validation*), dividimos la muestra en $K$ grupos del mismo tamaño seleccionados de manera aleatoria:\n",
    "\n",
    "    * En $K$ iteraciones, dejamos el grupo correspondiente como grupo de prueba, utilizamos los $K-1$ grupos para estimar el modelo (grupo de entrenamiento) y guardamos el $MSE_k$ del modelo evaluado en el *k-ésimo* grupo que fue excluido.\n",
    "    \n",
    "    * El mejor model es aquel que minimiza el MSE promedio\n",
    "$$\n",
    "CV(MSE) = \\frac{1}{K}\\sum_k MSE_k\n",
    "$$\n"
   ]
  },
  {
   "cell_type": "markdown",
   "metadata": {
    "slideshow": {
     "slide_type": "subslide"
    }
   },
   "source": [
    "![caption](figures/kfoldcv.png)\n",
    "\n",
    "[tomado de:](http://image.slidesharecdn.com/euro-202013-barrowcrone-130707073022-phpapp02/95/crossvalidation-aggregation-for-forecasting-7-638.jpg?cb=1373182327)"
   ]
  },
  {
   "cell_type": "code",
   "execution_count": 238,
   "metadata": {
    "collapsed": false,
    "slideshow": {
     "slide_type": "subslide"
    }
   },
   "outputs": [
    {
     "name": "stdout",
     "output_type": "stream",
     "text": [
      "(40,) (40,) (40,) (40,) (40,)\n"
     ]
    },
    {
     "data": {
      "text/plain": [
       "1    40\n",
       "2    40\n",
       "3    40\n",
       "4    40\n",
       "5    40\n",
       "dtype: int64"
      ]
     },
     "execution_count": 238,
     "metadata": {},
     "output_type": "execute_result"
    }
   ],
   "source": [
    "# Volvamos a nuestro ejemplo de los polinomios\n",
    "# El modelo era:\n",
    "np.random.seed(456091215)\n",
    "\n",
    "N = 200\n",
    "# regresores y error\n",
    "x = np.random.randn(N,1)\n",
    "xmat = np.concatenate((np.ones((N,1)), x, np.power(x,2)), axis=1)\n",
    "# Para el término de error vamos a utilizar una varianza mayor\n",
    "epsilon = np.sqrt(10)*np.random.randn(N,1)\n",
    "# coeficientes verdaderos: queremos una función cóncava (sin ninguna razón especial)\n",
    "beta_true = np.array([-2,3,-2]).reshape((3,1))\n",
    "y = np.dot(xmat,beta_true) + epsilon\n",
    "\n",
    "# Hagamos 5-fold CV:\n",
    "# Dividamos en 5 grupos los datos\n",
    "# Seleccionemos los números aleatorios\n",
    "ind_rnd = pd.DataFrame(np.random.randn(N), columns=['random_num'])\n",
    "# Ordenemos de menor a mayor, vamos a utilizar los índices para generar los números\n",
    "rnd_sort = ind_rnd.sort(columns=['random_num'])\n",
    "# Los grupos los obtenemos con los cuantiles\n",
    "grp1 = rnd_sort[rnd_sort.random_num<=rnd_sort.random_num.quantile(0.2)].index\n",
    "grp2 = rnd_sort[np.logical_and(rnd_sort.random_num>rnd_sort.random_num.quantile(0.2),\n",
    "                               rnd_sort.random_num<=rnd_sort.random_num.quantile(0.4))].index\n",
    "grp3 = rnd_sort[np.logical_and(rnd_sort.random_num>rnd_sort.random_num.quantile(0.4),\n",
    "                               rnd_sort.random_num<=rnd_sort.random_num.quantile(0.6))].index\n",
    "grp4 = rnd_sort[np.logical_and(rnd_sort.random_num>rnd_sort.random_num.quantile(0.6),\n",
    "                               rnd_sort.random_num<=rnd_sort.random_num.quantile(0.8))].index\n",
    "grp5 = rnd_sort[rnd_sort.random_num>rnd_sort.random_num.quantile(0.8)].index\n",
    "print grp1.shape, grp2.shape, grp3.shape, grp4.shape, grp5.shape\n",
    "ind_grp = (1*(np.in1d(np.arange(N),grp1.values)) + \n",
    "           2*(np.in1d(np.arange(N),grp2.values)) + \n",
    "           3*(np.in1d(np.arange(N),grp3.values)) + \n",
    "           4*(np.in1d(np.arange(N),grp4.values)) + \n",
    "           5*(np.in1d(np.arange(N),grp5.values))\n",
    "           )\n",
    "# miremos que quedó bien con un groupby\n",
    "chk_grp = pd.Series(ind_grp).groupby(pd.Series(ind_grp)).count()\n",
    "chk_grp"
   ]
  },
  {
   "cell_type": "code",
   "execution_count": 251,
   "metadata": {
    "collapsed": false,
    "slideshow": {
     "slide_type": "subslide"
    }
   },
   "outputs": [
    {
     "data": {
      "text/plain": [
       "<matplotlib.text.Text at 0x114060d50>"
      ]
     },
     "execution_count": 251,
     "metadata": {},
     "output_type": "execute_result"
    },
    {
     "data": {
      "image/png": "[encoded data removed]",
      "text/plain": [
       "<matplotlib.figure.Figure at 0x113594890>"
      ]
     },
     "metadata": {},
     "output_type": "display_data"
    }
   ],
   "source": [
    "# Estamos listos:\n",
    "# Necesitamos dos loops:\n",
    "# Unos sobre los modelos: digamos orden 0-9\n",
    "omax = 10\n",
    "# Otro sobre las muestras de validación\n",
    "MSECV = np.zeros((5,omax))\n",
    "# loop externo: sobre las muestras de CV\n",
    "for k in range(5):\n",
    "    # Seleccionemos la muestra: tenemos que excluir al grupo v:\n",
    "    ind_train = (ind_grp!=k+1)\n",
    "    n_train   = int(ind_train.sum())\n",
    "    ind_valid = (ind_grp==k+1)\n",
    "    n_valid   = int(ind_valid.sum())\n",
    "    # muestra de entrenamiento:\n",
    "    y_train   = y[ind_train].reshape((n_train,1))\n",
    "    x_train   = x[ind_train].reshape((n_train,1))\n",
    "    # muestra de validación:\n",
    "    y_valid   = y[ind_valid].reshape((n_valid,1))\n",
    "    x_valid   = x[ind_valid].reshape((n_valid,1))\n",
    "    # loop interno: sobre los modelos:\n",
    "    for m in np.arange(omax):\n",
    "        # adentro necesitamos un loop para crear la matriz de regresores:\n",
    "        newx       = np.ones((n_train,1))\n",
    "        newx_valid = np.ones((n_valid,1))\n",
    "        # esto es todo en la primera iteración\n",
    "        # en las otras tenemos que concatenar los polinomios\n",
    "        if m>0:\n",
    "            for v in np.arange(1,m+1):\n",
    "                newx       = np.concatenate((newx, np.power(x_train,v)), axis=1)\n",
    "                newx_valid = np.concatenate((newx_valid, np.power(x_valid,v)), axis=1)\n",
    "        # estamos listos para estimar el modelo \n",
    "        betahat, mse, ssr, yhat = olsfun(y_train,newx)\n",
    "        # Ya estimamos, ahora necesitamos el MSE pero en la muestra de validación\n",
    "        yest_valid = np.dot(newx_valid,betahat)\n",
    "        # Listos para guardar:\n",
    "        diff  = y_valid - yest_valid\n",
    "        MSECV[k,m] = np.dot(diff.T,diff)/n_valid\n",
    "        \n",
    "# Grafiquemos los resultados\n",
    "mean_mse = pd.DataFrame(MSECV).mean().values\n",
    "plt.plot(np.arange(omax),mean_mse)\n",
    "plt.plot([2,2],[8,24],ls='--')\n",
    "plt.xlabel('Orden del polinomio')\n",
    "plt.ylabel('MSE Promedio')\n",
    "plt.title('MSE Promedio CV con 5 grupos')\n"
   ]
  }
 ],
 "metadata": {
  "celltoolbar": "Slideshow",
  "kernelspec": {
   "display_name": "Python 2",
   "language": "python",
   "name": "python2"
  },
  "language_info": {
   "codemirror_mode": {
    "name": "ipython",
    "version": 2
   },
   "file_extension": ".py",
   "mimetype": "text/x-python",
   "name": "python",
   "nbconvert_exporter": "python",
   "pygments_lexer": "ipython2",
   "version": "2.7.10"
  }
 },
 "nbformat": 4,
 "nbformat_minor": 0
}
