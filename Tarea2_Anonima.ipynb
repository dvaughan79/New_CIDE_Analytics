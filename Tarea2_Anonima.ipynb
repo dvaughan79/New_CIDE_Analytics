{
 "cells": [
  {
   "cell_type": "markdown",
   "metadata": {},
   "source": [
    "# Corrección de la tarea 2:\n",
    "\n",
    "##### Solución está online"
   ]
  },
  {
   "cell_type": "code",
   "execution_count": 11,
   "metadata": {
    "collapsed": false
   },
   "outputs": [
    {
     "data": {
      "text/html": [
       "<div style=\"max-height:1000px;max-width:1500px;overflow:auto;\">\n",
       "<table border=\"1\" class=\"dataframe\">\n",
       "  <thead>\n",
       "    <tr style=\"text-align: right;\">\n",
       "      <th></th>\n",
       "      <th>ID_Estudiante</th>\n",
       "      <th>Gist</th>\n",
       "      <th>Nota</th>\n",
       "    </tr>\n",
       "  </thead>\n",
       "  <tbody>\n",
       "    <tr>\n",
       "      <th>0</th>\n",
       "      <td> 1412024</td>\n",
       "      <td> nan</td>\n",
       "      <td>  5.48</td>\n",
       "    </tr>\n",
       "    <tr>\n",
       "      <th>1</th>\n",
       "      <td> 1412004</td>\n",
       "      <td> nan</td>\n",
       "      <td> 10.00</td>\n",
       "    </tr>\n",
       "    <tr>\n",
       "      <th>2</th>\n",
       "      <td> 1412020</td>\n",
       "      <td> nan</td>\n",
       "      <td> 10.00</td>\n",
       "    </tr>\n",
       "    <tr>\n",
       "      <th>3</th>\n",
       "      <td> 1211003</td>\n",
       "      <td> nan</td>\n",
       "      <td>  8.60</td>\n",
       "    </tr>\n",
       "    <tr>\n",
       "      <th>4</th>\n",
       "      <td> 1412002</td>\n",
       "      <td> nan</td>\n",
       "      <td>  8.70</td>\n",
       "    </tr>\n",
       "  </tbody>\n",
       "</table>\n",
       "</div>"
      ],
      "text/plain": [
       "   ID_Estudiante Gist   Nota\n",
       "0        1412024  nan   5.48\n",
       "1        1412004  nan  10.00\n",
       "2        1412020  nan  10.00\n",
       "3        1211003  nan   8.60\n",
       "4        1412002  nan   8.70"
      ]
     },
     "execution_count": 11,
     "metadata": {},
     "output_type": "execute_result"
    }
   ],
   "source": [
    "import pandas as pd\n",
    "import numpy as np\n",
    "resumen = pd.DataFrame(np.zeros((5,3)), columns=['ID_Estudiante','Gist', 'Nota'])\n",
    "# Números de estudiante\n",
    "resumen.iloc[:,0] = [1412024,1412004,1412020,1211003,1412002]\n",
    "# Gist Numbers\n",
    "resumen.iloc[:,1] = ['nan','nan','nan', \n",
    "                     'nan', 'nan']\n",
    "# Nota\n",
    "resumen.iloc[:,2] = [5.48,10,10,8.6,8.7]\n",
    "resumen"
   ]
  },
  {
   "cell_type": "markdown",
   "metadata": {},
   "source": [
    "#  Estudiante 1: 1412024\n",
    "\n",
    "###  Punto 1: 2.0\n",
    "\n",
    "###  Punto 2: 0.1*2.0 = 0.2\n",
    "    * Notas: \n",
    "    * 1. No veo las gráficas en su notebook.\n",
    "    * 2. No utilizó un subplot.\n",
    "    * 3. Los scatterplots: no están bien.  Por qué multiplica por los coeficientes?\n",
    "\n",
    "### Punto 3: OLS: 1.28\n",
    "    * 1. 0.5*(2.0/7)\n",
    "        * $\\hat{\\beta}$ parece bien, pero no da el resultado correcto.  Compare sus coeficientes con los verdaderos.\n",
    "    * 2. 1*(2.0/7)\n",
    "    * 3. 1*(2.0/7)\n",
    "    * 4. 1*(2.0/7)\n",
    "    * 5. 1*(2.0/7)\n",
    "    * 6. 0*(2.0/7):\n",
    "        * Estos no son los errores estándar de los coeficientes.  Mire la solución\n",
    "    * 7. 0*(2.0/7)\n",
    "        * Esos no son los pvalues.  Mire la solución.\n",
    "\n",
    "### Punto 4: Gráfico de cascada: 1.0\n",
    "\n",
    "    * 1. 1*(2.0/2)\n",
    "    * 2. 0*(2.0/2)\n",
    "        * Primero: no veo el gráfico y no me queda claro que usted lo haya visto.\n",
    "        * Segundo: Ese no es el gráfico de cascada.  Mire la solución.\n",
    "        \n",
    "### Punto 5: Gráfico de barras de OLS: 1*(2/2) = 1.0\n",
    "    * No veo el gráfico.\n",
    "    * Esos no son los errores estándar de los coeficientes.  Mire la solución y un texto de econometría.\n",
    "    * "
   ]
  },
  {
   "cell_type": "markdown",
   "metadata": {},
   "source": [
    "#  Estudiante 2: 1412004\n",
    "# 10 pts\n",
    "\n",
    "###  Punto 1: simulación.  2.0 pts.\n",
    "* Está bien.  No es necesario mostrar todos los datos (el notebook es innecesariamente largo).\n",
    "\n",
    "###  Punto 2: 2.0\n",
    "* Está bien, pero la gráfica, con ese color verde de fondo, es impresentable.\n",
    "\n",
    "### Punto 3: 2.0\n",
    "\n",
    "### Punto 4: 2.0\n",
    "* No es exactamente lo que estaba buscando, pero acepto que el problema no era fácil de entender.  Lo importante es utilizó la función de barras con el argumento bottom.\n",
    "\n",
    "### Punto 5: 2.0"
   ]
  },
  {
   "cell_type": "markdown",
   "metadata": {},
   "source": [
    "#  Estudiante 3: 1412020\n",
    "10pts\n",
    "-------\n",
    "\n",
    "###  Punto 1: simulación. 2.0\n",
    "\n",
    "###  Punto 2:  2.0\n",
    "    \n",
    "### Punto 3: 2.0\n",
    "\n",
    "### Punto 4: 2.0\n",
    "\n",
    "### Punto 5: 2.0"
   ]
  },
  {
   "cell_type": "markdown",
   "metadata": {},
   "source": [
    "#  Estudiante 4: 1211003\n",
    "8.6\n",
    "\n",
    "###  Punto 1: 2.0\n",
    "\n",
    "###  Punto 2: 2.0\n",
    "\n",
    "### Punto 3: 1.6\n",
    "\n",
    "* Los estadísticos $t$ no están bien, así que los pvalues no pueden estar bien.\n",
    "$t = \\hat{\\beta}/\\sigma_{\\beta}$.\n",
    "\n",
    "* Los p-values tampoco están bien calculados.  Es el área de las dos colas definidas por el estadístico t como valor crítico.\n",
    "\n",
    "### Punto 4: 2.0\n",
    "\n",
    "### Punto 5: 1.0\n",
    "* 1. Esos no son los coeficientes estimados.\n",
    "* 2. No están los errores estándar.\n",
    "* 3. Para qué utilizar distintos colores? Qué representan?\n",
    "* 4. De qué me sirvan los `xticks` en el eje $x$ que van de 1 a 3.5?\n"
   ]
  },
  {
   "cell_type": "markdown",
   "metadata": {},
   "source": [
    "#  Estudiante 5: 1412002\n",
    "\n",
    "8.7\n",
    "\n",
    "* Notas: el notebook no está marcado.  No me queda claro que es suyo.\n",
    "\n",
    "###  Punto 1: 2.0\n",
    "* El código es ineficiente.  No hay necesidad de hacer un loop sobre las observaciones.\n",
    "* Mire las notas de clase o la solución.\n",
    "\n",
    "###  Punto 2: 2.0\n",
    "\n",
    "### Punto 3: 1.7\n",
    "\n",
    "* La varianza de los errores no está bien calculada.  La corrección por grados de libertad está mal. Mire las fórmulas en un libro de texto de econometría, o en el enunciado mismo de la tarea.\n",
    "* Los errores estándar están bien calculados pero no es necesario el loop.  Utilice funciones vectorizadas.\n",
    "* Los p-values están mal calculados.\n",
    "\n",
    "### Punto 4: 2.0\n",
    "\n",
    "### Punto 5: 1.0\n",
    "* Esos no son los coeficientes.\n",
    "* Tampoco veo los errores estándar o los intervalos confidenciales."
   ]
  },
  {
   "cell_type": "code",
   "execution_count": null,
   "metadata": {
    "collapsed": true
   },
   "outputs": [],
   "source": []
  }
 ],
 "metadata": {
  "kernelspec": {
   "display_name": "Python 2",
   "language": "python",
   "name": "python2"
  },
  "language_info": {
   "codemirror_mode": {
    "name": "ipython",
    "version": 2
   },
   "file_extension": ".py",
   "mimetype": "text/x-python",
   "name": "python",
   "nbconvert_exporter": "python",
   "pygments_lexer": "ipython2",
   "version": "2.7.9"
  }
 },
 "nbformat": 4,
 "nbformat_minor": 0
}
