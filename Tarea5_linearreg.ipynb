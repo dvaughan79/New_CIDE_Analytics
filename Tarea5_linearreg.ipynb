{
 "cells": [
  {
   "cell_type": "markdown",
   "metadata": {},
   "source": [
    "# Analítica de Negocios y Ciencia de Datos\n",
    "\n",
    "## CIDE - Otoño 2015\n",
    "\n",
    "### Tarea 5: Regresión Lineal"
   ]
  },
  {
   "cell_type": "markdown",
   "metadata": {},
   "source": [
    "# 1. Primera versión de un algoritmo de backfitting\n"
   ]
  },
  {
   "cell_type": "markdown",
   "metadata": {},
   "source": [
    "En las [Notas de Clase](7_ModelosLineales.ipynb) se presentaron dos pseudocódigos de cómo estimar OLS mediante una primera versión de un algoritmo de backfitting.\n",
    "\n",
    "**Parte 1** \n",
    "\n",
    "Simule el siguiente modelo, utilizando como **semilla del simulador de números aleatorios su número de estudiante**.\n",
    "\n",
    "$$\n",
    "\\begin{eqnarray*}\n",
    "N &=& 100 \\\\\n",
    "x_0 &=& const \\\\\n",
    "x_1 &\\sim& N(0,4) \\\\\n",
    "x_2 &\\sim& N(0,0.25) \\\\\n",
    "x_3 &\\sim& N(0,1) \\\\\n",
    "\\epsilon &\\sim& N(0,1) \\\\\n",
    "y &=& X\\beta + \\epsilon\\\\\n",
    "\\beta &=& [4,-3,1,5]\n",
    "\\end{eqnarray*}\n",
    "$$"
   ]
  },
  {
   "cell_type": "markdown",
   "metadata": {},
   "source": [
    "**Parte 2**\n",
    "\n",
    "Programe el algoritmo de backfitting, y ejecútelo hasta que los parámetros converjan.\n",
    "\n",
    "\n",
    "\n"
   ]
  },
  {
   "cell_type": "markdown",
   "metadata": {},
   "source": [
    "**Parte 3**\n",
    "\n",
    "Muestre el proceso de convergencia de los parámetros gráficamente, enfatizando que los parámetros estimados convergen a los parámetros verdaderos (y por ende, a los estimadores de OLS).  Debe ser una visualización como la que se presentó en las Notas de Clase"
   ]
  },
  {
   "cell_type": "markdown",
   "metadata": {},
   "source": [
    "# Problema 2: Best Subset Selection y Validación Cruzada\n",
    "\n",
    "En las Notas mostré cómo se ejecuta el algoritmo de Best Subset Selection.\n",
    "\n",
    "\n",
    "**Parte 1**\n",
    "\n",
    "Ejecute de nuevo el código, utilizando los datos de [Crédito](http://www-bcf.usc.edu/~gareth/ISL/Credit.csv).  Muestre gráficamente cuáles son los modelos en la frontera para cada posible número de regresores incluidos.\n",
    "\n"
   ]
  },
  {
   "cell_type": "markdown",
   "metadata": {},
   "source": [
    "**Parte 2**\n",
    "\n",
    "Ahora vamos a decidir cuál es el número óptimo de regresores utilizando validación cruzada con 10 grupos.\n",
    "\n",
    "1. Seleccione los modelos en la frontera.  Recuerde que cada modelo no es más que un subconjunto de índices sobre los regresores. \n",
    "\n",
    "(Ayuda: hay varias formas de hacer esto.  Una es identificar los modelos de acuerdo al SSR mínimo--- así lo hicimos gráficamente.  Si desea seguir este camino, puede que la función `r = np.in1d(A,B)` le sirva.  Esta función devuelve un vector booleano donde $r_i = 1$ cuando $a_i \\in B$, es decir, cuando el elemento correspondiente de A se encuentra en B.)\n",
    "\n",
    "2. Una vez identificados, realice CV con 10 grupos sobre estos modelos, e identifice **gráficamente** el modelo que minimiza el error de CV."
   ]
  }
 ],
 "metadata": {
  "kernelspec": {
   "display_name": "Python 2",
   "language": "python",
   "name": "python2"
  },
  "language_info": {
   "codemirror_mode": {
    "name": "ipython",
    "version": 2
   },
   "file_extension": ".py",
   "mimetype": "text/x-python",
   "name": "python",
   "nbconvert_exporter": "python",
   "pygments_lexer": "ipython2",
   "version": "2.7.10"
  }
 },
 "nbformat": 4,
 "nbformat_minor": 0
}
