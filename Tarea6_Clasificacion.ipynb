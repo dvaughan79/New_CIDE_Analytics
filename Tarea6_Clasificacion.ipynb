{
 "cells": [
  {
   "cell_type": "markdown",
   "metadata": {},
   "source": [
    "#   Analítica de Negocios y Ciencia de Datos\n",
    "\n",
    "##  CIDE - Otoño 2015\n",
    "\n",
    "###  Tarea 6: Modelos de Clasificación\n",
    "\n",
    "#### Fecha de entrega: jueves 22 de octubre."
   ]
  },
  {
   "cell_type": "markdown",
   "metadata": {},
   "source": [
    "En el archivo `data_tarea6.xlsx` encontrará una muestra aleatoria de clientes de tarjeta de crédito.  Todos los datos han sido anonimizados para garantizar la privacidad de los mismos."
   ]
  },
  {
   "cell_type": "markdown",
   "metadata": {},
   "source": [
    "# Punto 1: limpieza de datos\n",
    "\n",
    "1. Elimine aquellos clientes que tienen informacion cero para las columnas E-J.\n",
    "\n",
    "2. Transforme la variable Género a una variable dummy.\n",
    "\n",
    "3. Genere una variable dummy que tome el valor 1 cuando `UN_MESES_SINPAGO` sea estrictamente mayor que cero y cero en caso contrario.  Esta será nuestra variable dependiente."
   ]
  },
  {
   "cell_type": "markdown",
   "metadata": {},
   "source": [
    "# Punto 2: Lasso y Modelo Lineal de Probabilidad\n",
    "\n",
    "1. Siguiendo el código de las Notas de Clase, y usando un modelo lineal de probabilidad, estime el path del Lasso para todos los coeficientes y grafíquelos como en las notas.\n",
    "\n",
    "2. Con toda la muestra, y utilizando la variable dependiente, obtenga el porcentaje de individuos que no pagaron.\n",
    "\n",
    "3. Recuerde que para clasificar a un individuo como $\\hat{y}_i = 1$ o $0$, necesitamos un threshold de probabilidad, es decir, una probabilidad $\\psi$ tal que si $\\hat{p}_i > \\psi$ entonces $\\hat{y}_i = 1$, y cero en caso contrario.  Utilizando la muestra completa, y el resultado del punto 2, diga cómo escoger $\\psi$ para que, en promedio, el modelo prediga el mismo porcentaje de impago que los datos de entrenamiento.  Este *threshold de probabilidad* será utilizado en el punto que sigue.\n",
    "\n",
    "4. Utilizando validación cruzada con 10 grupos, encuentre el valor $\\lambda$ que minimiza el error de clasificación $N^{-1}\\sum_i I(y_i \\neq \\hat{y}_i)$, y muestre los coeficientes de Lasso asociados.  Intreprete los resultados.\n"
   ]
  },
  {
   "cell_type": "markdown",
   "metadata": {},
   "source": [
    "# Punto 3:  Newton-Raphson y el modelo Logit\n",
    "\n",
    "Programe una función que estime los parámetros de un modelo Logit utilizando el algoritmo de Newton-Raphson o *Iteratively Reweighted Least Squares* visto en las notas de clase.\n",
    "\n",
    "Para verificar que quedó bien, simule un modelo que quiera y encuentre los parámetros estimados.\n",
    "    "
   ]
  },
  {
   "cell_type": "markdown",
   "metadata": {},
   "source": [
    "# Punto 4: Logit\n",
    "\n",
    "1. Estime un modelo Logit para los datos del punto 1.\n",
    "\n",
    "2. Compare los coeficientes del modelo Logit con los de un modelo lineal de probabilidad.\n",
    "\n",
    "3. Encuentre los efectos marginales y compárelos con los coeficientes de un modelo lineal de probabilidad.\n",
    "\n",
    "4. Utilizando Bootstrapping, encuentre los errores estándar de los coeficientes del modelo Logit.\n"
   ]
  }
 ],
 "metadata": {
  "kernelspec": {
   "display_name": "Python 2",
   "language": "python",
   "name": "python2"
  },
  "language_info": {
   "codemirror_mode": {
    "name": "ipython",
    "version": 2
   },
   "file_extension": ".py",
   "mimetype": "text/x-python",
   "name": "python",
   "nbconvert_exporter": "python",
   "pygments_lexer": "ipython2",
   "version": "2.7.9"
  }
 },
 "nbformat": 4,
 "nbformat_minor": 0
}
