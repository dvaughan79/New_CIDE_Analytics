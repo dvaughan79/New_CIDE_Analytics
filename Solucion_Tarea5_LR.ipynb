{
 "cells": [
  {
   "cell_type": "markdown",
   "metadata": {},
   "source": [
    "# Analítica de Negocios y Ciencia de Datos\n",
    "\n",
    "## CIDE - Otoño 2015\n",
    "\n",
    "### Solución Tarea 5: Regresión Lineal\n"
   ]
  },
  {
   "cell_type": "markdown",
   "metadata": {},
   "source": [
    "### Problema 1: Algoritmo de Backfitting"
   ]
  },
  {
   "cell_type": "code",
   "execution_count": 6,
   "metadata": {
    "collapsed": false
   },
   "outputs": [
    {
     "data": {
      "text/plain": [
       "<matplotlib.text.Text at 0x1047a1f10>"
      ]
     },
     "execution_count": 6,
     "metadata": {},
     "output_type": "execute_result"
    },
    {
     "data": {
      "image/png": "[encoded data removed]",
      "text/plain": [
       "<matplotlib.figure.Figure at 0x1093e9dd0>"
      ]
     },
     "metadata": {},
     "output_type": "display_data"
    }
   ],
   "source": [
    "import pandas as pd\n",
    "import numpy as np\n",
    "import matplotlib.pyplot as plt\n",
    "import sys\n",
    "sys.path.append('/Users/danielvaughan/Documents/Python Scripts')\n",
    "import olsdan as ols\n",
    "%matplotlib inline\n",
    "\n",
    "# Simulemos el modelo\n",
    "N = 100\n",
    "np.random.seed(3341309)\n",
    "x1 = 2*np.random.randn(N,1)\n",
    "x2 = 0.5*np.random.randn(N,1)\n",
    "x3 = 1*np.random.randn(N,1)\n",
    "betatrue = np.array([4,-3,1,5]).reshape((4,1))\n",
    "\n",
    "# listos\n",
    "xmat = np.concatenate((np.ones((N,1)),x1,x2,x3),axis=1)\n",
    "y = np.dot(xmat,betatrue) + np.random.randn(N,1)\n",
    "\n",
    "dist = 10000\n",
    "beta = np.zeros((1,4))\n",
    "#beta[:,:] = np.nan\n",
    "counter = 0\n",
    "while dist > 0.01:\n",
    "    prebeta = np.zeros((1,4))\n",
    "    for k in range(4):\n",
    "        # la nueva variable dependiente debe estar limpia de otros regresores utilizando la estimación actual\n",
    "        ind_exc = np.setdiff1d(np.arange(4),np.array([k]))\n",
    "        yk = y - np.dot(xmat[:,ind_exc],beta[-1,ind_exc].reshape((3,1)))\n",
    "        # Entra un regresor nuevo\n",
    "        xk = xmat[:,k].reshape((N,1))\n",
    "        olsk = ols.ols_dan(yk,xk)\n",
    "        prebeta[0,k] = olsk.betahat()[0]\n",
    "    # Actualicemos beta\n",
    "    beta = np.concatenate((beta,prebeta),axis=0)\n",
    "    # Actualicemos la distancia:\n",
    "    if counter > 1:\n",
    "        dist = np.abs(np.max(beta[counter,:] - beta[counter-1,:]))\n",
    "    counter +=1\n",
    "    \n",
    "ax = pd.DataFrame(beta).plot()\n",
    "xmin,xmax = plt.xlim()\n",
    "for k in range(4):\n",
    "    plt.plot([0,xmax],[betatrue[k],betatrue[k]], ls='--')\n",
    "ax.legend_.remove()\n",
    "ax.set_title(u'Convergencia de los estimadores de backfitting')\n",
    "#ax.set_xticks(np.arange(beta.shape[0]),np.arange(beta.shape[0]))\n",
    "ax.set_xlabel('Iteraciones')"
   ]
  },
  {
   "cell_type": "markdown",
   "metadata": {},
   "source": [
    "# Problema 2: Best Subset Selection y Validación Cruzada"
   ]
  },
  {
   "cell_type": "markdown",
   "metadata": {},
   "source": [
    "**Parte 1**"
   ]
  },
  {
   "cell_type": "code",
   "execution_count": 8,
   "metadata": {
    "collapsed": false
   },
   "outputs": [
    {
     "name": "stdout",
     "output_type": "stream",
     "text": [
      "['Caucasian' 'Asian' 'African American']\n",
      "(400, 11)\n"
     ]
    },
    {
     "data": {
      "text/plain": [
       "0      354.940000\n",
       "1       45.218885\n",
       "2     4735.600000\n",
       "3        2.957500\n",
       "4       55.667500\n",
       "5       13.450000\n",
       "6        0.482500\n",
       "7        0.100000\n",
       "8        0.612500\n",
       "9        0.247500\n",
       "10       0.255000\n",
       "dtype: float64"
      ]
     },
     "execution_count": 8,
     "metadata": {},
     "output_type": "execute_result"
    }
   ],
   "source": [
    "# best subset selection: using cross-validation\n",
    "data = pd.read_csv('datasets/Credit.csv')\n",
    "data.head()\n",
    "\n",
    "# primero organicemos los datos: las variables cuantitativas están bien.  Las cualitativas toca transformarlas\n",
    "N = data.shape[0]\n",
    "dum_hombre     = np.asarray(data.Gender == ' Male').reshape((N,1))\n",
    "dum_estudiante = np.asarray(data.Student == 'Yes').reshape((N,1))\n",
    "dum_casado     = np.asarray(data.Married == 'Yes').reshape((N,1))\n",
    "# Para etnicidad debemos excluir una variable que sirva como referencia:\n",
    "# tenemos tres categorías: vamos a excluir la tercera: \"African American\"\n",
    "print data.Ethnicity.unique()\n",
    "dum_ethnic = np.asarray(pd.get_dummies(data.Ethnicity).iloc[:,:-1])\n",
    "# etiquetas de X\n",
    "labs_x = np.array(['Rating','Income','Limit','Cards','Age','Education',\n",
    "              'Hombre','Estudiante','Casado','Caucasian','Asian'])\n",
    "# incluyamos todas las variables:\n",
    "prexmat = np.concatenate((\n",
    "                        np.asarray(data.Rating).reshape((N,1)),\n",
    "                        np.asarray(data.Income).reshape((N,1)),\n",
    "                         np.asarray(data.Limit).reshape((N,1)),\n",
    "                         np.asarray(data.Cards).reshape((N,1)),\n",
    "                         np.asarray(data.Age).reshape((N,1)),\n",
    "                         np.asarray(data.Education).reshape((N,1)),\n",
    "                          dum_hombre, dum_estudiante, dum_casado, dum_ethnic\n",
    "                         ),axis=1)\n",
    "saldo = np.asarray(data.Balance).reshape((N,1))\n",
    "print prexmat.shape\n",
    "# revisemos que todo quedó bien:\n",
    "pd.DataFrame(prexmat).mean()"
   ]
  },
  {
   "cell_type": "code",
   "execution_count": 10,
   "metadata": {
    "collapsed": false
   },
   "outputs": [
    {
     "name": "stdout",
     "output_type": "stream",
     "text": [
      "(2047, 6)\n"
     ]
    }
   ],
   "source": [
    "# Para las posibles combinaciones vamos a usar el módulo itertools\n",
    "from itertools import combinations\n",
    "#import sys\n",
    "#sys.path.append('/Users/danielvaughan/Documents/Python Scripts')\n",
    "#import olsdan as ols\n",
    "\n",
    "# probémoslo con conjuntos de 9 elementos\n",
    "list(combinations(np.arange(10),9))\n",
    "\n",
    "# vamos a guardar los resultados en un array, pero no se cuántas filas tenemos\n",
    "res_arr = np.zeros((1,6))\n",
    "res_arr[:,:] = np.nan\n",
    "# necesito una lista con todas las combinaciones.  La voy a guardar en un DF\n",
    "initsub = np.zeros((0,9))\n",
    "initsub[:] = np.nan\n",
    "SubSets = pd.DataFrame(initsub)\n",
    "for k in range(1,12):\n",
    "    # la siguiente es la lista de todos los regresores posibles para tamaño k\n",
    "    list_subsets = list(combinations(np.arange(11),k))\n",
    "    SubSets = SubSets.append(list_subsets)\n",
    "    # tenemos que hacer un loop sobre todas estas posibilidades:\n",
    "    for s in range(len(list_subsets)):\n",
    "        # los regresores seleccionados:\n",
    "        ind_s = np.array(list_subsets[s])\n",
    "        xmat_subset = prexmat[:,ind_s]\n",
    "        # listos para estimar: pero incluyamos constante\n",
    "        olssk = ols.ols_dan(saldo, np.concatenate((np.ones((N,1)),xmat_subset),axis=1))\n",
    "        # guardemos los resultados: queremos: número de regresores, ssr\n",
    "        # Calculemos las medidas que queremos utilizar\n",
    "        Cp = olssk.ssr() + (1.0/olssk.nobs)*(2*olssk.nvar*olssk.s2hat())\n",
    "        AIC = (1.0/(olssk.nobs))*(olssk.ssr() + 2*olssk.nvar*olssk.s2hat())\n",
    "        BIC = (1.0/olssk.nobs)*(olssk.ssr() + np.log(olssk.nobs)*olssk.nvar*olssk.s2hat())\n",
    "        R2bar = olssk.R2_bar()\n",
    "        prelist = np.array([k, olssk.ssr(), Cp[0,0], AIC[0,0], BIC[0,0], R2bar]).reshape((1,6))\n",
    "        # listos para anexar:\n",
    "        res_arr = np.concatenate((res_arr, prelist),axis=0)\n",
    "res_arr = pd.DataFrame(res_arr, columns=['k', 'SSR', 'Cp', 'AIC', 'BIC', 'R2bar'])\n",
    "res_arr.dropna(inplace=True)\n",
    "res_arr.set_index(np.arange(res_arr.shape[0]), inplace=True)\n",
    "print res_arr.shape"
   ]
  },
  {
   "cell_type": "code",
   "execution_count": 12,
   "metadata": {
    "collapsed": false
   },
   "outputs": [
    {
     "data": {
      "text/plain": [
       "[<matplotlib.lines.Line2D at 0x1099f3e90>]"
      ]
     },
     "execution_count": 12,
     "metadata": {},
     "output_type": "execute_result"
    },
    {
     "data": {
      "image/png": "[encoded data removed]",
      "text/plain": [
       "<matplotlib.figure.Figure at 0x109363090>"
      ]
     },
     "metadata": {},
     "output_type": "display_data"
    }
   ],
   "source": [
    "# Ya tenemos todos los modelos:\n",
    "# Hagamos un gráfico:\n",
    "plt.scatter(res_arr.k,res_arr.SSR, s=6, color='b',alpha=0.5)\n",
    "plt.ylabel('Suma de Residuos al Cuadrado')\n",
    "plt.xlabel(u'Número de Regresores')\n",
    "# Encontremos la frontera:\n",
    "front_ssr = res_arr.SSR.groupby(res_arr.k).min()\n",
    "plt.plot(front_ssr.index, front_ssr.values, color='r')                          "
   ]
  },
  {
   "cell_type": "code",
   "execution_count": 13,
   "metadata": {
    "collapsed": false
   },
   "outputs": [
    {
     "name": "stdout",
     "output_type": "stream",
     "text": [
      "Int64Index([0, 11, 71, 354, 564, 1025, 1490, 1826, 1990, 2035, 2046], dtype='int64')\n"
     ]
    },
    {
     "data": {
      "text/plain": [
       "<matplotlib.text.Text at 0x109b8d1d0>"
      ]
     },
     "execution_count": 13,
     "metadata": {},
     "output_type": "execute_result"
    },
    {
     "data": {
      "image/png": "[encoded data removed]",
      "text/plain": [
       "<matplotlib.figure.Figure at 0x1099f39d0>"
      ]
     },
     "metadata": {},
     "output_type": "display_data"
    }
   ],
   "source": [
    "# Cross-validation: necesitamos identificar primero los modelos en la frontera roja\n",
    "# identifiquemos los índices primero: función np.in1d()\n",
    "ind_best = np.in1d(res_arr.SSR.values,front_ssr.values)\n",
    "# teniendo los índices podemos encontrar: los 10 mejores\n",
    "ind_best = res_arr.index[ind_best]\n",
    "print ind_best\n",
    "# Vamos a hacer 10-fold CV así que asignemos grupos.\n",
    "grp_sel = np.dot(np.random.multinomial(1,[1.0/10]*10,N),np.arange(1,11).reshape((10,1)))\n",
    "# Inicialicemos la matriz donde vamos a guardar los resultados.\n",
    "SSRCV = np.zeros((10,11))  # CV groups x Number of variables\n",
    "# Teníamos unos índices equivocados.  Vamos a hacerlo de 0 a M (M es el número total de modelos o combinaciones)\n",
    "SubSets.set_index(np.arange(SubSets.shape[0]), inplace=True)\n",
    "# Primer loop es sobre grupos de validación: g es el grupo que vamos a excluir de la muestra entrenamiento.\n",
    "for g in range(1,11):\n",
    "    # Seleccionemos las muestras desde ya\n",
    "    ind_train = (grp_sel!=g).flatten()\n",
    "    nobs_train = ind_train.sum()\n",
    "    ind_valid = (grp_sel==g).flatten()\n",
    "    nobs_valid = ind_valid.sum()\n",
    "    # Ahora el loop sobre los modelos:\n",
    "    counter = 0\n",
    "    for m in ind_best:\n",
    "        # Seleccionemos el modelo correspondiente sobre la frontera: necesitamos los índices de las variables\n",
    "        ind_s = np.array(pd.Series(SubSets.ix[m]).dropna().values,dtype='int')\n",
    "        # Asignemos la matrix X correspondiente\n",
    "        xmat_subset = np.concatenate((np.ones((N,1)),prexmat[:,ind_s]),axis=1)\n",
    "        # Restrinjamos la estimación a grupos de entrenamiento y validación\n",
    "        xmat_train = xmat_subset[ind_train,:]\n",
    "        xmat_valid = xmat_subset[ind_valid,:]\n",
    "        y_train    = saldo[ind_train].reshape((nobs_train,1))\n",
    "        y_valid    = saldo[ind_valid].reshape((nobs_valid,1))\n",
    "        # La estimación es sobre TRAINING únicamente\n",
    "        olssk = ols.ols_dan(y_train, xmat_train)\n",
    "        # Obtengamos el resultado de la estimación sobre validación\n",
    "        nvar  = olssk.nvar\n",
    "        yhat_valid = np.dot(xmat_valid,olssk.betahat().reshape(nvar,1))\n",
    "        diff       = y_valid - yhat_valid\n",
    "        ssr_valid  = np.dot(diff.T,diff)/nobs_valid\n",
    "        # Guardemos\n",
    "        SSRCV[g-1,counter] = ssr_valid[0,0]\n",
    "        counter +=1\n",
    "# Listo:\n",
    "# Ready to plot:\n",
    "SSRCVm   = pd.DataFrame(SSRCV).mean(axis=0)\n",
    "SSRCVstd = pd.DataFrame(SSRCV).sem(axis=0)\n",
    "# plot SSRCV and std errors\n",
    "plt.plot(np.arange(1,12), SSRCVm.values, color='b')\n",
    "plt.bar(np.arange(1,12), SSRCVm.values, color='w', ec='w',yerr=1.96*SSRCVstd, ecolor='r', align='center')\n",
    "plt.title(u'Selección de Modelos con 10F-CV')\n",
    "plt.xticks(np.arange(1,12), np.arange(1,12))\n",
    "plt.xlabel(u'Número de Regresores')\n",
    "plt.ylabel(u'SSR Promedio en Muestras de Validación')"
   ]
  }
 ],
 "metadata": {
  "kernelspec": {
   "display_name": "Python 2",
   "language": "python",
   "name": "python2"
  },
  "language_info": {
   "codemirror_mode": {
    "name": "ipython",
    "version": 2
   },
   "file_extension": ".py",
   "mimetype": "text/x-python",
   "name": "python",
   "nbconvert_exporter": "python",
   "pygments_lexer": "ipython2",
   "version": "2.7.10"
  }
 },
 "nbformat": 4,
 "nbformat_minor": 0
}
