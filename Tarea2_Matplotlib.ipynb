{
 "cells": [
  {
   "cell_type": "markdown",
   "metadata": {},
   "source": [
    "# Analítica y Ciencia de Datos\n",
    "\n",
    "## CIDE - Otoño 2015\n",
    "\n",
    "### Tarea 2: Matplotlib\n",
    "\n",
    "#### Fecha de entrega: jueves 10 de septiembre"
   ]
  },
  {
   "cell_type": "markdown",
   "metadata": {},
   "source": [
    "# Problema 1: "
   ]
  },
  {
   "cell_type": "markdown",
   "metadata": {},
   "source": [
    "### Parte 1\n",
    "\n",
    "Simule un model lineal de regresión con las siguientes características, donde `dd-mm` son los días y mes de su cumpleaños (ej. jul-01: dd=1, mm=7), y `MVN(mu,sigma)` se refiere una distribución normal multivariada con vector de medias $mu$ y matriz de covarianzas $sigma$: \n",
    "\n",
    "\n",
    "$$\n",
    "\\begin{eqnarray*}\n",
    "N &=& 200 \\\\\n",
    "x_0 &=& constante \\\\\n",
    "x_1,x_2 &\\sim& MVN(\\mathbf{mu},\\mathbf{\\Sigma})\\\\\n",
    "con && \\mathbf{mu} = [dd,mm]\\\\\n",
    "&& \\mathbf{\\Sigma} = \\left[\n",
    "            \\begin{array}{ccc}\n",
    "            0.9 & 0.5 \\\\\n",
    "            0.2 & 0.9 \\\\\n",
    "            \\end{array}\n",
    "            \\right] \\\\\n",
    "\\beta &=& [0.5,2,-3]'\\\\\n",
    "\\epsilon &\\sim& N(0,2)\\\\\n",
    "X &=& [1,x_1,x_2]\\\\\n",
    "Y &=& X\\beta + \\epsilon\n",
    "\\end{eqnarray*}\n",
    "$$\n",
    "\n",
    "*Ayudas:*\n",
    "* Para simular el término de error $\\epsilon$, recuerde que si $x\\sim N(0,1)$ y $z = a + b x$, entonces $z \\sim N(a,b^2)$\n",
    "* Para concatenar la matrix $X$ utilice la función `np.concatenate((),axis=1)`"
   ]
  },
  {
   "cell_type": "markdown",
   "metadata": {
    "collapsed": true
   },
   "source": [
    "### Parte 2\n",
    "\n",
    "Utilizando un `subplot` y `scatterplots` muestre gráficamente la relación entre la variable dependiente y los dos regresores."
   ]
  },
  {
   "cell_type": "markdown",
   "metadata": {},
   "source": [
    "### Parte 3\n",
    "\n",
    "Encuentre:\n",
    "\n",
    "1. El estimador de mínimos cuadrados: $\\hat{\\beta} = (X'X)^{-1}X'Y$\n",
    "2. El $y$ estimado: $\\hat{y} = X\\hat{\\beta}$\n",
    "3. Los errores o residuales: $e = Y-\\hat{y}$\n",
    "4. La varianza de los errores: $\\hat{\\sigma}^2 = \\frac{e'e}{N-K}$\n",
    "5. La matriz de covarianza de los coeficientes: $Var(\\hat{\\beta}) = \\hat{\\sigma}^2(X'X)^{-1}$\n",
    "6. Los errores estándar de los coeficientes.\n",
    "7. El valor p o *pvalue* de los coeficientes.\n",
    "\n",
    "**Ayuda:** \n",
    "Para el pvalue va a necesitar la distribución acumulativa de una variable aleatoria T de Student.  \n",
    "\n",
    "Importe la librería `stats` del paquete `scipy` e investigue en internet cómo obtener la correspondiente CDF.\n",
    "\n",
    "`from scipy import stats`\n",
    "\n"
   ]
  },
  {
   "cell_type": "markdown",
   "metadata": {},
   "source": [
    "### Parte 4\n",
    "\n",
    "Llamemos a la *contribución del regresor* $k$ sobre $y$ a $\\hat{y}_k = x_k \\hat{\\beta}_k$, la *contribución promedio* $(1/N)\\sum_i \\hat{y}_{k,i}$.\n",
    "\n",
    "1. Encuentre las contribuciones de los dos regresores simulados y normalícelas, dividiendo por la suma de todas las contribuciones promedio.\n",
    "\n",
    "2. Haga un [gráfico de cascada](https://en.wikipedia.org/wiki/Waterfall_chart) sobre las contribuciones, donde la primera barra representa 1 o el $100\\%$. \n",
    "\n",
    "**Ayuda:** un gráfico de cascada no es más que un gráfico de barras.  Utilice el argumento `bottom` de la función `plt.bar()`."
   ]
  },
  {
   "cell_type": "markdown",
   "metadata": {},
   "source": [
    "### Parte 5\n",
    "\n",
    "Utilice un gráfico de barras para mostrar el efecto y significancia estadística de los tres coeficientes estimados"
   ]
  },
  {
   "cell_type": "code",
   "execution_count": null,
   "metadata": {
    "collapsed": true
   },
   "outputs": [],
   "source": []
  }
 ],
 "metadata": {
  "kernelspec": {
   "display_name": "Python 2",
   "language": "python",
   "name": "python2"
  },
  "language_info": {
   "codemirror_mode": {
    "name": "ipython",
    "version": 2
   },
   "file_extension": ".py",
   "mimetype": "text/x-python",
   "name": "python",
   "nbconvert_exporter": "python",
   "pygments_lexer": "ipython2",
   "version": "2.7.10"
  }
 },
 "nbformat": 4,
 "nbformat_minor": 0
}
