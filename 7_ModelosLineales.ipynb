{
 "cells": [
  {
   "cell_type": "markdown",
   "metadata": {
    "slideshow": {
     "slide_type": "slide"
    }
   },
   "source": [
    "# Analítica y Ciencia de Datos\n",
    "\n",
    "## CIDE - Otoño 2015\n",
    "\n",
    "### Modelos lineales de regresión"
   ]
  },
  {
   "cell_type": "markdown",
   "metadata": {
    "slideshow": {
     "slide_type": "slide"
    }
   },
   "source": [
    "# Referencias:\n",
    "\n",
    "Las propiedades y supuestos detrás del Modelo Lineal de Regresión, la pueden encontrar en [Greene, \"Econometric Analysis\"](http://pages.stern.nyu.edu/~wgreene/Text/econometricanalysis.htm).\n",
    "\n",
    "También véanse los capítulos 3 y 6 de [ISL](http://www-bcf.usc.edu/~gareth/ISL/getbook.html).\n",
    "\n",
    "O el capítulo 3 de [ESL](http://statweb.stanford.edu/~tibs/ElemStatLearn/)"
   ]
  },
  {
   "cell_type": "markdown",
   "metadata": {
    "slideshow": {
     "slide_type": "slide"
    }
   },
   "source": [
    "# Mínimos Cuadrados Ordinarios (OLS)\n",
    "\n",
    "* Sean $y_{N \\times 1}$, y $X_{N\\times (p+1)}$ las variables dependiente y matriz de regresores, respectivamente, donde $X$ incluye $p$ regresores y un vector de unos.\n",
    "\n",
    "\n",
    "* El modelo lineal es \n",
    "\n",
    "$$\n",
    "\\begin{eqnarray}\n",
    "y &=& X\\beta + \\epsilon\\\\\n",
    "\\end{eqnarray}\n",
    "$$\n",
    "\n",
    "\n",
    "* El estimador de OLS es el vector $\\hat{\\beta}$ que minimiza la *suma de residuos al cuadrado* (SSR):\n",
    "\n",
    "$$\n",
    "\\min_{\\beta} SSR(\\beta) = (y-X\\beta)'(y-X\\beta)\n",
    "$$\n",
    "\n",
    "\n",
    "* La solución se encuentra fácilmente:\n",
    "$$\n",
    "\\hat{\\beta} = (X'X)^{-1}X'y\n",
    "$$\n",
    "\n",
    "y la matriz de varianzas y covarianzas es:\n",
    "\n",
    "$$\n",
    "\\Sigma_{\\beta} = \\hat{\\sigma}^2(X'X)^{-1}\n",
    "$$\n",
    "\n",
    "donde $\\hat{\\sigma}^2$ es la varianza residual estimada."
   ]
  },
  {
   "cell_type": "markdown",
   "metadata": {
    "slideshow": {
     "slide_type": "subslide"
    }
   },
   "source": [
    "# Algunas propiedades del estimador de OLS\n",
    "\n",
    "*  **Prop 1: El estimador OLS es insesgado**:\n",
    "\n",
    "$$\n",
    "E(\\hat{\\beta}) = \\beta\n",
    "$$\n",
    "\n",
    "(qué supuestos hay que hacer para probarlo?)\n",
    "\n",
    "*  **Prop 2: Teorema de Gauss-Markov**:\n",
    "> El estimador OLS es el estimador de menor varianza, dentro de la clase de estimadores lineales insesgados.\n",
    "\n",
    "*  **Prop 3: Los residuos estimados son ortogonales a la matriz de regresores:**\n",
    "\n",
    "$$\n",
    "X'e = 0\n",
    "$$\n",
    "\n",
    "(¿por qué?)\n",
    "\n"
   ]
  },
  {
   "cell_type": "markdown",
   "metadata": {
    "slideshow": {
     "slide_type": "slide"
    }
   },
   "source": [
    "# Propiedades (cont)\n",
    "\n",
    "\n",
    "*  **Prop 4: Teorema de Frisch-Waugh-Lovell**\n",
    "\n",
    "> En una regresión con dos variables $y = \\alpha_0 + \\alpha_1 x_1 + \\alpha_2 x_2 + \\epsilon$, el estimador del coeficiente $\\alpha_i$ se puede obtener en un proceso de dos etapas:\n",
    "\n",
    "> **Etapa 1**: Obtenga los residuos de una regresión de $y$ sobre $x_{-i}$, $r_{y,-i}$, y de una regresión de $x_i$ sobre $x_{-i}$, $r_{x_i, -i}$\n",
    "\n",
    "> **Etapa 2**: en la regresión $r_{y,-i} =  \\eta_0 + \\eta_1 r_{x_i, -i}$, el estimador OLS \n",
    "$$\\hat{\\eta}_1 = \\hat{\\alpha}_i$$\n",
    "\n",
    "El Teorema de FWL es más general que en este caso de dos variables (ver Greene, por ejemplo), y es muy útil para entender qué sucede en OLS: cada coeficiente estimado es el efecto *neto* de los otros efectos.  Este proceso de *neteo* o *partialling out*, limpia la estimación de cualquier efecto compartido\n"
   ]
  },
  {
   "cell_type": "markdown",
   "metadata": {
    "slideshow": {
     "slide_type": "subslide"
    }
   },
   "source": [
    "# Primera versión de un algoritmo de Backfitting\n",
    "\n",
    "* El Teorema de FWL nos dice que cada coeficiente se obtiene limpiando $y$ y $x_k$ de los demás regresores $x_{-k}$, y haciendo una regresión entre los residuales correspondientes.\n",
    "\n",
    "\n",
    "* En la práctica uno no desea hacer esto: para cada coeficiente $\\beta_k$ hay que hacer 3 regresiones!\n",
    "\n",
    "\n",
    "* Pero nos agudiza la intuición.\n",
    "\n",
    "\n",
    "* Además nos permite introducir una primera versión de un algoritmo de **backfitting** que tiene varias ventajas:\n",
    "\n",
    "    1. Sirve para entender el algoritmo de backfitting que vamos a utilizar más adelante para estimar modelos aditivos generalizados (Generalized Additive Models, o GAMs).\n",
    "    \n",
    "    2. Tiene varios parecidos con algoritmos que no vamos a ver en este curso como el *Gibbs Sampler* utilizado en estadística bayesiana, y el *EM* o *expectation-maximization*.\n",
    "    \n",
    "    3. Incluso cuando $p>>N$, podemos estimar los coeficientes, es decir, incluso cuando tenemos más variables explicativas que obsevaciones, porque utiliza regresiones bivariadas únicamente.\n",
    "    \n",
    "* El pseudocódigo sigue a continuación, y en la tarea tendrán que mostrar que funciona."
   ]
  },
  {
   "cell_type": "markdown",
   "metadata": {
    "slideshow": {
     "slide_type": "subslide"
    }
   },
   "source": [
    "# Pseudocódigo del algoritmo de backfitting para OLS\n",
    "\n",
    "```\n",
    "Inicialícese: beta_0 = 0\n",
    "Inicialícese la distancia: dist = 1\n",
    "\n",
    "while dist>0.001:\n",
    "    # En cada iteracción se hacen P+1 regresión bivariadas:\n",
    "    for k in range(nvars):\n",
    "        # seleccionemos las P columnas excluyendo la k-ésima\n",
    "        ind_col = cols/k\n",
    "        xmat_k = x[ind_col]\n",
    "        beta_k = beta_actual[ind_col]\n",
    "        # limpiemos y de los efectos de estas P variables seleccionadas\n",
    "        y_k = y - xmat_k*beta_k\n",
    "        # La actual columna es\n",
    "        x_k = x[k]\n",
    "        # regresión entre y_k y x_k, y actualizamos este coeficiente:\n",
    "        beta_actual[k] = ols(y_k, x_k)\n",
    "    # Actualícese la distancia:\n",
    "    dist = dist(beta_actual,beta_anterior)\n",
    "```"
   ]
  },
  {
   "cell_type": "markdown",
   "metadata": {
    "slideshow": {
     "slide_type": "slide"
    }
   },
   "source": [
    "# Variables Dummy y No Linealidad:\n",
    "\n",
    "* Consideremos un modelo con una variable dummy como regresor:\n",
    "\n",
    "$$\n",
    "y_i  = \\alpha + \\beta D_i + \\epsilon_i\n",
    "$$\n",
    "\n",
    "con $D_i = 1$ si individuo $i$ pertenece al grupo, y $D_i = 0$ si no pertenece.\n",
    "\n",
    "\n",
    "* Es inmediato mostrar que:\n",
    "\n",
    "$$\n",
    "\\beta = E(y_i|D_i = 1) - E(y_i|D_i = 0)\n",
    "$$\n",
    "\n",
    "así que la contraparte muestral es \n",
    "\n",
    "$$\n",
    "\\hat{\\beta} = \\overline{y}_1 - \\overline{y}_0 \n",
    "$$\n",
    "donde $\\overline{y}_i = \\frac{1}{N_i}\\sum_{i \\in \\{1,0\\}} y_i $, y $N_i$ el número de observaciones en el grupo $i$.\n",
    "\n"
   ]
  },
  {
   "cell_type": "markdown",
   "metadata": {},
   "source": [
    "# Las variables dummies nos permiten modelar relaciones no lineales\n",
    "\n",
    "* Por ejemplo, supongamos que queremos modelar la rentabilidad de un cliente en función de su antigüedad.\n",
    "\n",
    "* Qué alternativas tenemos?\n",
    "\n",
    "    1. **Modelo lineal**: \n",
    "    $$\n",
    "    r_i = \\alpha_0 + \\alpha_1 a_i + \\epsilon_i\n",
    "    $$\n",
    "\n",
    "    2. **Modelo cuadrático**: \n",
    "    $$\n",
    "    r_i = \\alpha_0 + \\alpha_1 a_i + \\alpha_2 a_i^2 +\\epsilon_i\n",
    "    $$\n",
    "\n",
    "    3. **Modelo polinomial de orden $K$**: \n",
    "    $$\n",
    "    r_i = \\sum_{k=0}^K \\alpha_k a_i^k +\\epsilon_i\n",
    "    $$\n",
    "\n",
    "\n",
    "* Alternativamente, podemos dividir el rango de antigüedad and percentiles \n",
    "$$\n",
    "r_i = \\sum_{q= 0}^Q \\alpha_q D_{qi} + \\epsilon_i\n",
    "$$\n",
    "con \n",
    "$$\n",
    "D_{qi} = \n",
    "\\begin{cases}\n",
    "1 & \\text{si $a_i \\in [p_{q-1}(a), p_q(a)]$}\\\\\n",
    "0 & \\text{en otro caso}\n",
    "\\end{cases}\n",
    "$$\n",
    "\n",
    "* Si hacemos un grid de percentiles lo suficientemente denso, podremos aproximar cualquier función, así que este método es muy flexible."
   ]
  },
  {
   "cell_type": "markdown",
   "metadata": {
    "slideshow": {
     "slide_type": "slide"
    }
   },
   "source": [
    "# Expansiones polinomiales:\n",
    "\n",
    "* Como vimos en la diapositiva anterior, un método no paramétrico consiste en aproximar la función $f(X)$ por medio de una expansión por polinomios.\n",
    "\n",
    "\n",
    "* Por ejemplo, si tenemos tres variables $x_1, x_2, x_3$, una expansión polinomial posible es:\n",
    "\n",
    "$$\n",
    "y = \\alpha_0 + \\sum_{k=1}^3 \\beta_k x_k + \\sum_{k=1}^3 \\theta_k x_k^2 + \\sum_{i\\neq j} \\eta_{ij} x_i x_j + \\epsilon_i\n",
    "$$\n",
    "\n",
    "\n",
    "* La aproximación puede utilizar polinomios e interacciones de distintos órdenes, y los parámetros se pueden estimar por OLS sin problema, mientras que el número de términos incluido sea menor que el número de observaciones $N>p$."
   ]
  },
  {
   "cell_type": "markdown",
   "metadata": {
    "slideshow": {
     "slide_type": "slide"
    }
   },
   "source": [
    "# Selección de variables\n",
    "\n",
    "\n",
    "* En general no sabemos cuáles variables deben ir incluidas en un análisis, y este problema puede ser importante cuando tenemos muchos regresores $p$.\n",
    "\n",
    "\n",
    "* Hay varios métodos de selección de variables que permiten:\n",
    "\n",
    "    1. **Mejorar la predicción:** por ejemplo, porque un estimador tiene poco sesgo pero mucha varianza.\n",
    "    \n",
    "    2. **Facilitar la interpretación:** al eliminar ciertas variables podemos concentrarnos únicamente en las más importantes.\n",
    "    \n",
    " \n",
    "* Hay tres familias de métodos que se pueden utilizar:\n",
    "\n",
    "    1. Selección de subconjuntos de variables\n",
    "    \n",
    "    2. Regularización o reducción de la magnitud de los coeficientes o *shrinkage*\n",
    "    \n",
    "    3. Reducción de dimensionalidad\n",
    "\n",
    "\n"
   ]
  },
  {
   "cell_type": "markdown",
   "metadata": {
    "slideshow": {
     "slide_type": "slide"
    }
   },
   "source": [
    "# Selección de subconjuntos: *Best Subset Selection*\n",
    "\n",
    "* Si tenemos $p$ regresores, queremos estimar las $\\binom{p}{k}$ posibles combinaciones de subconjuntos de $k$ variables.\n",
    "\n",
    "\n",
    "* Es un método exhaustivo que puede ser computacionalmente ineficientes cuando $p$ es grande.\n",
    "\n",
    "\n",
    "* Veamos cómo funciona este método utilizando los datos de tarjeta de crédito que están disponibles en la página de [ISL](http://www-bcf.usc.edu/~gareth/ISL/data.html).\n",
    "\n",
    "\n",
    "* Los datos incluyen el saldo en tarjeta de crédito (balance), el ingreso (Income) y límite de crédito  (Limit), score crediticio (Rating), número de tarjetas (Cards), edad, educación, género, variable indicadora del estatus de estudiante del cliente, casado, y etnicidad, para 400 clientes.\n",
    "\n",
    "* Queremos estimar el efecto que tienen estos regresores sobre el saldo o balance de cada cliente."
   ]
  },
  {
   "cell_type": "code",
   "execution_count": 58,
   "metadata": {
    "collapsed": false,
    "slideshow": {
     "slide_type": "subslide"
    }
   },
   "outputs": [
    {
     "data": {
      "text/html": [
       "<div>\n",
       "<table border=\"1\" class=\"dataframe\">\n",
       "  <thead>\n",
       "    <tr style=\"text-align: right;\">\n",
       "      <th></th>\n",
       "      <th>Unnamed: 0</th>\n",
       "      <th>Income</th>\n",
       "      <th>Limit</th>\n",
       "      <th>Rating</th>\n",
       "      <th>Cards</th>\n",
       "      <th>Age</th>\n",
       "      <th>Education</th>\n",
       "      <th>Gender</th>\n",
       "      <th>Student</th>\n",
       "      <th>Married</th>\n",
       "      <th>Ethnicity</th>\n",
       "      <th>Balance</th>\n",
       "    </tr>\n",
       "  </thead>\n",
       "  <tbody>\n",
       "    <tr>\n",
       "      <th>0</th>\n",
       "      <td>1</td>\n",
       "      <td>14.891</td>\n",
       "      <td>3606</td>\n",
       "      <td>283</td>\n",
       "      <td>2</td>\n",
       "      <td>34</td>\n",
       "      <td>11</td>\n",
       "      <td>Male</td>\n",
       "      <td>No</td>\n",
       "      <td>Yes</td>\n",
       "      <td>Caucasian</td>\n",
       "      <td>333</td>\n",
       "    </tr>\n",
       "    <tr>\n",
       "      <th>1</th>\n",
       "      <td>2</td>\n",
       "      <td>106.025</td>\n",
       "      <td>6645</td>\n",
       "      <td>483</td>\n",
       "      <td>3</td>\n",
       "      <td>82</td>\n",
       "      <td>15</td>\n",
       "      <td>Female</td>\n",
       "      <td>Yes</td>\n",
       "      <td>Yes</td>\n",
       "      <td>Asian</td>\n",
       "      <td>903</td>\n",
       "    </tr>\n",
       "    <tr>\n",
       "      <th>2</th>\n",
       "      <td>3</td>\n",
       "      <td>104.593</td>\n",
       "      <td>7075</td>\n",
       "      <td>514</td>\n",
       "      <td>4</td>\n",
       "      <td>71</td>\n",
       "      <td>11</td>\n",
       "      <td>Male</td>\n",
       "      <td>No</td>\n",
       "      <td>No</td>\n",
       "      <td>Asian</td>\n",
       "      <td>580</td>\n",
       "    </tr>\n",
       "    <tr>\n",
       "      <th>3</th>\n",
       "      <td>4</td>\n",
       "      <td>148.924</td>\n",
       "      <td>9504</td>\n",
       "      <td>681</td>\n",
       "      <td>3</td>\n",
       "      <td>36</td>\n",
       "      <td>11</td>\n",
       "      <td>Female</td>\n",
       "      <td>No</td>\n",
       "      <td>No</td>\n",
       "      <td>Asian</td>\n",
       "      <td>964</td>\n",
       "    </tr>\n",
       "    <tr>\n",
       "      <th>4</th>\n",
       "      <td>5</td>\n",
       "      <td>55.882</td>\n",
       "      <td>4897</td>\n",
       "      <td>357</td>\n",
       "      <td>2</td>\n",
       "      <td>68</td>\n",
       "      <td>16</td>\n",
       "      <td>Male</td>\n",
       "      <td>No</td>\n",
       "      <td>Yes</td>\n",
       "      <td>Caucasian</td>\n",
       "      <td>331</td>\n",
       "    </tr>\n",
       "  </tbody>\n",
       "</table>\n",
       "</div>"
      ],
      "text/plain": [
       "   Unnamed: 0   Income  Limit  Rating  Cards  Age  Education  Gender Student  \\\n",
       "0           1   14.891   3606     283      2   34         11    Male      No   \n",
       "1           2  106.025   6645     483      3   82         15  Female     Yes   \n",
       "2           3  104.593   7075     514      4   71         11    Male      No   \n",
       "3           4  148.924   9504     681      3   36         11  Female      No   \n",
       "4           5   55.882   4897     357      2   68         16    Male      No   \n",
       "\n",
       "  Married  Ethnicity  Balance  \n",
       "0     Yes  Caucasian      333  \n",
       "1     Yes      Asian      903  \n",
       "2      No      Asian      580  \n",
       "3      No      Asian      964  \n",
       "4     Yes  Caucasian      331  "
      ]
     },
     "execution_count": 58,
     "metadata": {},
     "output_type": "execute_result"
    }
   ],
   "source": [
    "import pandas as pd\n",
    "import numpy as np\n",
    "import matplotlib.pyplot as plt\n",
    "%matplotlib inline\n",
    "\n",
    "data = pd.read_csv('datasets/Credit.csv')\n",
    "data.head()"
   ]
  },
  {
   "cell_type": "code",
   "execution_count": 48,
   "metadata": {
    "collapsed": false
   },
   "outputs": [
    {
     "name": "stdout",
     "output_type": "stream",
     "text": [
      "['Caucasian' 'Asian' 'African American']\n",
      "(400, 10)\n"
     ]
    },
    {
     "data": {
      "text/plain": [
       "0      45.218885\n",
       "1    4735.600000\n",
       "2       2.957500\n",
       "3      55.667500\n",
       "4      13.450000\n",
       "5       0.482500\n",
       "6       0.100000\n",
       "7       0.612500\n",
       "8       0.247500\n",
       "9       0.255000\n",
       "dtype: float64"
      ]
     },
     "execution_count": 48,
     "metadata": {},
     "output_type": "execute_result"
    }
   ],
   "source": [
    "# primero organicemos los datos: las variables cuantitativas están bien.  Las cualitativas toca transformarlas\n",
    "N = data.shape[0]\n",
    "dum_hombre     = np.asarray(data.Gender == ' Male').reshape((N,1))\n",
    "dum_estudiante = np.asarray(data.Student == 'Yes').reshape((N,1))\n",
    "dum_casado     = np.asarray(data.Married == 'Yes').reshape((N,1))\n",
    "# Para etnicidad debemos excluir una variable que sirva como referencia:\n",
    "# tenemos tres categorías: vamos a excluir la tercera: \"African American\"\n",
    "print data.Ethnicity.unique()\n",
    "dum_ethnic = np.asarray(pd.get_dummies(data.Ethnicity).iloc[:,:-1])\n",
    "# incluyamos todas las variables:\n",
    "prexmat = np.concatenate((np.asarray(data.Income).reshape((N,1)),\n",
    "                         np.asarray(data.Limit).reshape((N,1)),\n",
    "                         np.asarray(data.Cards).reshape((N,1)),\n",
    "                         np.asarray(data.Age).reshape((N,1)),\n",
    "                         np.asarray(data.Education).reshape((N,1)),\n",
    "                          dum_hombre, dum_estudiante, dum_casado, dum_ethnic\n",
    "                         ),axis=1)\n",
    "saldo = np.asarray(data.Balance).reshape((N,1))\n",
    "print prexmat.shape\n",
    "# revisemos que todo quedó bien:\n",
    "pd.DataFrame(prexmat).mean()"
   ]
  },
  {
   "cell_type": "code",
   "execution_count": 70,
   "metadata": {
    "collapsed": false
   },
   "outputs": [
    {
     "name": "stdout",
     "output_type": "stream",
     "text": [
      "(1024, 2)\n"
     ]
    }
   ],
   "source": [
    "# Para las posibles combinaciones vamos a usar el módulo itertools\n",
    "from itertools import combinations\n",
    "import sys\n",
    "sys.path.append('/Users/danielvaughan/Documents/Python Scripts')\n",
    "import olsdan as ols\n",
    "\n",
    "# probémoslo con conjuntos de 9 elementos\n",
    "list(combinations(np.arange(10),9))\n",
    "\n",
    "# vamos a guardar los resultados en un array, pero no se cuántas filas tenemos\n",
    "res_arr = np.zeros((1,2))\n",
    "res_arr[:,:] = np.nan\n",
    "for k in range(1,11):\n",
    "    # la siguiente es la lista de todos los regresores posibles\n",
    "    list_subsets = list(combinations(np.arange(10),k))\n",
    "    # tenemos que hacer un loop sobre todas estas posibilidades:\n",
    "    for s in range(len(list_subsets)):\n",
    "        # los regresores seleccionados:\n",
    "        ind_s = np.array(list_subsets[s])\n",
    "        xmat_subset = prexmat[:,ind_s]\n",
    "        # listos para estimar: pero incluyamos constante\n",
    "        olssk = ols.ols_dan(saldo, np.concatenate((np.ones((N,1)),xmat_subset),axis=1))\n",
    "        # guardemos los resultados: queremos: número de regresores, ssr\n",
    "        prelist = np.array([k, olssk.ssr()]).reshape((1,2))\n",
    "        # listos para anexar:\n",
    "        res_arr = np.concatenate((res_arr, prelist),axis=0)\n",
    "print res_arr.shape"
   ]
  },
  {
   "cell_type": "code",
   "execution_count": 69,
   "metadata": {
    "collapsed": false,
    "slideshow": {
     "slide_type": "subslide"
    }
   },
   "outputs": [
    {
     "data": {
      "text/plain": [
       "[<matplotlib.lines.Line2D at 0x109f27f50>]"
      ]
     },
     "execution_count": 69,
     "metadata": {},
     "output_type": "execute_result"
    },
    {
     "data": {
      "image/png": "[encoded data removed]",
      "text/plain": [
       "<matplotlib.figure.Figure at 0x109b05690>"
      ]
     },
     "metadata": {},
     "output_type": "display_data"
    }
   ],
   "source": [
    "# Ya tenemos todos los modelos:\n",
    "# Hagamos un gráfico:\n",
    "plt.scatter(res_arr[:,0],res_arr[:,1], s=6, color='b',alpha=0.5)\n",
    "plt.ylabel('Suma de Residuos al Cuadrado')\n",
    "plt.xlabel(u'Número de Regresores')\n",
    "# Encontremos la frontera: como en el libro:\n",
    "res_arr_df = pd.DataFrame(res_arr, columns=['Num_Pred','SSR'])\n",
    "front_ssr = res_arr_df.SSR.groupby(res_arr_df.Num_Pred).min()\n",
    "plt.plot(front_ssr.index, front_ssr.values, color='r')                          "
   ]
  },
  {
   "cell_type": "markdown",
   "metadata": {
    "slideshow": {
     "slide_type": "subslide"
    }
   },
   "source": [
    "# Cómo seleccionamos el mejor modelo?\n",
    "\n",
    "* Una vez tenemos la frontera, podemos utilizar cuatro opciones para seleccionar:\n",
    "\n",
    "    1. **Cross-Validation**: minimizar el SSR promedio.\n",
    "    \n",
    "    2. Minimizar $C_p$: \n",
    "    $$\n",
    "    C_p = \\frac{1}{n}(SSR + 2d\\hat{\\sigma}_2)\n",
    "    $$\n",
    "    donde $d$ es el número de regresores\n",
    "    3. Minimizar el Criterio de Información de Akaike:\n",
    "    $$\n",
    "    AIC = \\frac{1}{n\\hat{\\sigma}^2}(RSS + 2d \\hat{\\sigma}_2)\n",
    "    $$\n",
    "    4. Minimizar el Criterio de Información de Bayesiano:\n",
    "    $$\n",
    "    BIC = \\frac{1}{n}(RSS + \\ln(n)d \\hat{\\sigma}_2)\n",
    "    $$\n",
    "    5. Maximizar el $\\overline{R}^2$"
   ]
  }
 ],
 "metadata": {
  "celltoolbar": "Slideshow",
  "kernelspec": {
   "display_name": "Python 2",
   "language": "python",
   "name": "python2"
  },
  "language_info": {
   "codemirror_mode": {
    "name": "ipython",
    "version": 2
   },
   "file_extension": ".py",
   "mimetype": "text/x-python",
   "name": "python",
   "nbconvert_exporter": "python",
   "pygments_lexer": "ipython2",
   "version": "2.7.10"
  }
 },
 "nbformat": 4,
 "nbformat_minor": 0
}
