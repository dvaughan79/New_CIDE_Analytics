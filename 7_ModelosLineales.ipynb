{
 "cells": [
  {
   "cell_type": "markdown",
   "metadata": {
    "slideshow": {
     "slide_type": "slide"
    }
   },
   "source": [
    "# Analítica y Ciencia de Datos\n",
    "\n",
    "## CIDE - Otoño 2015\n",
    "\n",
    "### Modelos lineales de regresión"
   ]
  },
  {
   "cell_type": "markdown",
   "metadata": {
    "slideshow": {
     "slide_type": "slide"
    }
   },
   "source": [
    "# Referencias:\n",
    "\n",
    "Las propiedades y supuestos detrás del Modelo Lineal de Regresión, la pueden encontrar en [Greene, \"Econometric Analysis\"](http://pages.stern.nyu.edu/~wgreene/Text/econometricanalysis.htm).\n",
    "\n",
    "También véanse los capítulos 3 y 6 de [ISL](http://www-bcf.usc.edu/~gareth/ISL/getbook.html).\n",
    "\n",
    "O el capítulo 3 de [ESL](http://statweb.stanford.edu/~tibs/ElemStatLearn/)"
   ]
  },
  {
   "cell_type": "markdown",
   "metadata": {
    "slideshow": {
     "slide_type": "slide"
    }
   },
   "source": [
    "# Mínimos Cuadrados Ordinarios (OLS)\n",
    "\n",
    "* Sean $y_{N \\times 1}$, y $X_{N\\times (p+1)}$ las variables dependiente y matriz de regresores, respectivamente, donde $X$ incluye $p$ regresores y un vector de unos.\n",
    "\n",
    "\n",
    "* El modelo lineal es \n",
    "\n",
    "$$\n",
    "\\begin{eqnarray}\n",
    "y &=& X\\beta + \\epsilon\\\\\n",
    "\\end{eqnarray}\n",
    "$$\n",
    "\n",
    "\n",
    "* El estimador de OLS es el vector $\\hat{\\beta}$ que minimiza la *suma de residuos al cuadrado* (SSR):\n",
    "\n",
    "$$\n",
    "\\min_{\\beta} SSR(\\beta) = (y-X\\beta)'(y-X\\beta)\n",
    "$$\n",
    "\n",
    "\n",
    "* La solución se encuentra fácilmente:\n",
    "$$\n",
    "\\hat{\\beta} = (X'X)^{-1}X'y\n",
    "$$\n",
    "\n",
    "y la matriz de varianzas y covarianzas es:\n",
    "\n",
    "$$\n",
    "\\Sigma_{\\beta} = \\hat{\\sigma}^2(X'X)^{-1}\n",
    "$$\n",
    "\n",
    "donde $\\hat{\\sigma}^2$ es la varianza residual estimada."
   ]
  },
  {
   "cell_type": "markdown",
   "metadata": {
    "slideshow": {
     "slide_type": "subslide"
    }
   },
   "source": [
    "# Algunas propiedades del estimador de OLS\n",
    "\n",
    "*  **Prop 1: El estimador OLS es insesgado**:\n",
    "\n",
    "$$\n",
    "E(\\hat{\\beta}) = \\beta\n",
    "$$\n",
    "\n",
    "(qué supuestos hay que hacer para probarlo?)\n",
    "\n",
    "*  **Prop 2: Teorema de Gauss-Markov**:\n",
    "> El estimador OLS es el estimador de menor varianza, dentro de la clase de estimadores lineales insesgados.\n",
    "\n",
    "*  **Prop 3: Los residuos estimados son ortogonales a la matriz de regresores:**\n",
    "\n",
    "$$\n",
    "X'e = 0\n",
    "$$\n",
    "\n",
    "(¿por qué?)\n",
    "\n"
   ]
  },
  {
   "cell_type": "markdown",
   "metadata": {
    "slideshow": {
     "slide_type": "slide"
    }
   },
   "source": [
    "# Propiedades (cont)\n",
    "\n",
    "\n",
    "*  **Prop 4: Teorema de Frisch-Waugh-Lovell**\n",
    "\n",
    "> En una regresión con dos variables $y = \\alpha_0 + \\alpha_1 x_1 + \\alpha_2 x_2 + \\epsilon$, el estimador del coeficiente $\\alpha_i$ se puede obtener en un proceso de dos etapas:\n",
    "\n",
    "> **Etapa 1**: Obtenga los residuos de una regresión de $y$ sobre $x_{-i}$, $r_{y,-i}$, y de una regresión de $x_i$ sobre $x_{-i}$, $r_{x_i, -i}$\n",
    "\n",
    "> **Etapa 2**: en la regresión $r_{y,-i} =  \\eta_0 + \\eta_1 r_{x_i, -i}$, el estimador OLS \n",
    "$$\\hat{\\eta}_1 = \\hat{\\alpha}_i$$\n",
    "\n",
    "El Teorema de FWL es más general que en este caso de dos variables (ver Greene, por ejemplo), y es muy útil para entender qué sucede en OLS: cada coeficiente estimado es el efecto *neto* de los otros efectos.  Este proceso de *neteo* o *partialling out*, limpia la estimación de cualquier efecto compartido\n"
   ]
  },
  {
   "cell_type": "markdown",
   "metadata": {
    "slideshow": {
     "slide_type": "subslide"
    }
   },
   "source": [
    "# Primera versión de un algoritmo de Backfitting\n",
    "\n",
    "* El Teorema de FWL nos dice que cada coeficiente se obtiene limpiando $y$ y $x_k$ de los demás regresores $x_{-k}$, y haciendo una regresión entre los residuales correspondientes.\n",
    "\n",
    "\n",
    "* En la práctica uno no desea hacer esto: para cada coeficiente $\\beta_k$ hay que hacer 3 regresiones!\n",
    "\n",
    "\n",
    "* Pero nos agudiza la intuición.\n",
    "\n",
    "\n",
    "* Además nos permite introducir una primera versión de un algoritmo de **backfitting** que tiene varias ventajas:\n",
    "\n",
    "    1. Sirve para entender el algoritmo de backfitting que vamos a utilizar más adelante para estimar modelos aditivos generalizados (Generalized Additive Models, o GAMs).\n",
    "    \n",
    "    2. Tiene varios parecidos con algoritmos que no vamos a ver en este curso como el *Gibbs Sampler* utilizado en estadística bayesiana, y el *EM* o *expectation-maximization*.\n",
    "    \n",
    "    3. Incluso cuando $p>>N$, podemos estimar los coeficientes, es decir, incluso cuando tenemos más variables explicativas que obsevaciones, porque utiliza regresiones bivariadas únicamente.\n",
    "    \n",
    "* El pseudocódigo sigue a continuación, y en la tarea tendrán que mostrar que funciona."
   ]
  },
  {
   "cell_type": "markdown",
   "metadata": {
    "slideshow": {
     "slide_type": "subslide"
    }
   },
   "source": [
    "# Pseudocódigo del algoritmo de backfitting para OLS\n",
    "\n",
    "```\n",
    "Inicialícese: beta_0 = 0\n",
    "Inicialícese la distancia: dist = 1\n",
    "\n",
    "while dist>0.001:\n",
    "    # En cada iteracción se hacen P+1 regresión bivariadas:\n",
    "    for k in range(nvars):\n",
    "        # seleccionemos las P columnas excluyendo la k-ésima\n",
    "        ind_col = cols/k\n",
    "        xmat_k = x[ind_col]\n",
    "        beta_k = beta_actual[ind_col]\n",
    "        # limpiemos y de los efectos de estas P variables seleccionadas\n",
    "        y_k = y - xmat_k*beta_k\n",
    "        # La actual columna es\n",
    "        x_k = x[k]\n",
    "        # regresión entre y_k y x_k, y actualizamos este coeficiente:\n",
    "        beta_actual[k] = ols(y_k, x_k)\n",
    "    # Actualícese la distancia:\n",
    "    dist = dist(beta_actual,beta_anterior)\n",
    "```"
   ]
  },
  {
   "cell_type": "markdown",
   "metadata": {},
   "source": [
    "# Pseudocódigo: Backfitting:\n",
    "\n",
    "Denotemos a la estimación de la $k-ésima$ iteración como $\\hat{\\beta}_{(k)}$, un vector con $p+1$ elementos (uno por cada regresor, y la constante).\n",
    "\n",
    "1. Inicializamos los parámetros a 0: ${\\hat{\\beta}_{(0)}} = 0$\n",
    "\n",
    "2. Vamos a actualizar las estimaciones hasta que las estimaciones no varíen mucho entre sí, es decir, hasta que\n",
    "$$\n",
    "\\text{distancia}(\\hat{\\beta}_{(k)},\\hat{\\beta}_{(k-1)}) < \\text{epsilon}\n",
    "$$\n",
    "\n",
    "3. Cada iteración consta de $P+1$ estimaciones bivariadas donde:\n",
    "    \n",
    "    a. Excluimos al regresor $i$: $x_{-i} = [x_0, x_1, \\cdots, x_{i-1}, x_{i+1}, \\cdots, x_p]$, y el correspondiente vector ols actual $\\hat{\\beta}_{(k),-i}$.\n",
    "    \n",
    "    b. \"Limpiamos\" la variable dependiente de los demás regresores, utilizando los coeficientes actuales:\n",
    "\n",
    "$$\n",
    "r_{(k),-i} = y - x_{-i} \\hat{\\beta}_{(k),-i}\n",
    "$$\n",
    "\n",
    "    c. Actualizamos el coeficiente actual con la estimación (bivariada) de: \n",
    "$$\n",
    "r_{(k),-i} = \\beta_{(k+1),i} x_i + \\eta\n",
    "$$"
   ]
  },
  {
   "cell_type": "markdown",
   "metadata": {
    "slideshow": {
     "slide_type": "subslide"
    }
   },
   "source": [
    "# En la tarea les voy a pedir que programen el algoritmo y lleguen a algo como esto:\n",
    "\n",
    "\n",
    "![caption](figures/backfitting.png)"
   ]
  },
  {
   "cell_type": "markdown",
   "metadata": {
    "slideshow": {
     "slide_type": "slide"
    }
   },
   "source": [
    "# Variables Dummy y No Linealidad:\n",
    "\n",
    "* Consideremos un modelo con una variable dummy como regresor:\n",
    "\n",
    "$$\n",
    "y_i  = \\alpha + \\beta D_i + \\epsilon_i\n",
    "$$\n",
    "\n",
    "con $D_i = 1$ si individuo $i$ pertenece al grupo, y $D_i = 0$ si no pertenece.\n",
    "\n",
    "\n",
    "* Es inmediato mostrar que:\n",
    "\n",
    "$$\n",
    "\\beta = E(y_i|D_i = 1) - E(y_i|D_i = 0)\n",
    "$$\n",
    "\n",
    "así que la contraparte muestral es \n",
    "\n",
    "$$\n",
    "\\hat{\\beta} = \\overline{y}_1 - \\overline{y}_0 \n",
    "$$\n",
    "donde $\\overline{y}_i = \\frac{1}{N_i}\\sum_{i \\in \\{1,0\\}} y_i $, y $N_i$ el número de observaciones en el grupo $i$.\n",
    "\n"
   ]
  },
  {
   "cell_type": "markdown",
   "metadata": {},
   "source": [
    "# Las variables dummies nos permiten modelar relaciones no lineales\n",
    "\n",
    "* Por ejemplo, supongamos que queremos modelar la rentabilidad de un cliente en función de su antigüedad.\n",
    "\n",
    "* Qué alternativas tenemos?\n",
    "\n",
    "    1. **Modelo lineal**: \n",
    "    $$\n",
    "    r_i = \\alpha_0 + \\alpha_1 a_i + \\epsilon_i\n",
    "    $$\n",
    "\n",
    "    2. **Modelo cuadrático**: \n",
    "    $$\n",
    "    r_i = \\alpha_0 + \\alpha_1 a_i + \\alpha_2 a_i^2 +\\epsilon_i\n",
    "    $$\n",
    "\n",
    "    3. **Modelo polinomial de orden $K$**: \n",
    "    $$\n",
    "    r_i = \\sum_{k=0}^K \\alpha_k a_i^k +\\epsilon_i\n",
    "    $$\n",
    "\n",
    "\n",
    "* Alternativamente, podemos dividir el rango de antigüedad and percentiles \n",
    "$$\n",
    "r_i = \\sum_{q= 0}^Q \\alpha_q D_{qi} + \\epsilon_i\n",
    "$$\n",
    "con \n",
    "$$\n",
    "D_{qi} = \n",
    "\\begin{cases}\n",
    "1 & \\text{si $a_i \\in [p_{q-1}(a), p_q(a)]$}\\\\\n",
    "0 & \\text{en otro caso}\n",
    "\\end{cases}\n",
    "$$\n",
    "\n",
    "* Si hacemos un grid de percentiles lo suficientemente denso, podremos aproximar cualquier función, así que este método es muy flexible."
   ]
  },
  {
   "cell_type": "markdown",
   "metadata": {
    "slideshow": {
     "slide_type": "slide"
    }
   },
   "source": [
    "# Expansiones polinomiales:\n",
    "\n",
    "* Como vimos en la diapositiva anterior, un método no paramétrico consiste en aproximar la función $f(X)$ por medio de una expansión por polinomios.\n",
    "\n",
    "\n",
    "* Por ejemplo, si tenemos tres variables $x_1, x_2, x_3$, una expansión polinomial posible es:\n",
    "\n",
    "$$\n",
    "y = \\alpha_0 + \\sum_{k=1}^3 \\beta_k x_k + \\sum_{k=1}^3 \\theta_k x_k^2 + \\sum_{i\\neq j} \\eta_{ij} x_i x_j + \\epsilon_i\n",
    "$$\n",
    "\n",
    "\n",
    "* La aproximación puede utilizar polinomios e interacciones de distintos órdenes, y los parámetros se pueden estimar por OLS sin problema, mientras que el número de términos incluido sea menor que el número de observaciones $N>p$."
   ]
  },
  {
   "cell_type": "markdown",
   "metadata": {
    "slideshow": {
     "slide_type": "slide"
    }
   },
   "source": [
    "# Selección de variables\n",
    "\n",
    "\n",
    "* En general no sabemos cuáles variables deben ir incluidas en un análisis, y este problema puede ser importante cuando tenemos muchos regresores $p$.\n",
    "\n",
    "\n",
    "* Hay varios métodos de selección de variables que permiten:\n",
    "\n",
    "    1. **Mejorar la predicción:** por ejemplo, porque un estimador tiene poco sesgo pero mucha varianza.\n",
    "    \n",
    "    2. **Facilitar la interpretación:** al eliminar ciertas variables podemos concentrarnos únicamente en las más importantes.\n",
    "    \n",
    " \n",
    "* Hay tres familias de métodos que se pueden utilizar:\n",
    "\n",
    "    1. Selección de subconjuntos de variables\n",
    "    \n",
    "    2. Regularización o reducción de la magnitud de los coeficientes o *shrinkage*\n",
    "    \n",
    "    3. Reducción de dimensionalidad\n",
    "\n",
    "\n"
   ]
  },
  {
   "cell_type": "markdown",
   "metadata": {
    "slideshow": {
     "slide_type": "slide"
    }
   },
   "source": [
    "# Selección de subconjuntos: *Best Subset Selection*\n",
    "\n",
    "* Si tenemos $p$ regresores, queremos estimar las $\\binom{p}{k}$ posibles combinaciones de subconjuntos de $k$ variables.\n",
    "\n",
    "\n",
    "* Es un método exhaustivo que puede ser computacionalmente ineficientes cuando $p$ es grande.\n",
    "\n",
    "\n",
    "* Veamos cómo funciona este método utilizando los datos de tarjeta de crédito que están disponibles en la página de [ISL](http://www-bcf.usc.edu/~gareth/ISL/data.html).\n",
    "\n",
    "\n",
    "* Los datos incluyen el saldo en tarjeta de crédito (balance), el ingreso (Income) y límite de crédito  (Limit), score crediticio (Rating), número de tarjetas (Cards), edad, educación, género, variable indicadora del estatus de estudiante del cliente, casado, y etnicidad, para 400 clientes.\n",
    "\n",
    "\n",
    "* Queremos estimar el efecto que tienen estos regresores sobre el saldo o balance de cada cliente."
   ]
  },
  {
   "cell_type": "code",
   "execution_count": 1,
   "metadata": {
    "collapsed": false,
    "slideshow": {
     "slide_type": "subslide"
    }
   },
   "outputs": [
    {
     "data": {
      "text/html": [
       "<div>\n",
       "<table border=\"1\" class=\"dataframe\">\n",
       "  <thead>\n",
       "    <tr style=\"text-align: right;\">\n",
       "      <th></th>\n",
       "      <th>Unnamed: 0</th>\n",
       "      <th>Income</th>\n",
       "      <th>Limit</th>\n",
       "      <th>Rating</th>\n",
       "      <th>Cards</th>\n",
       "      <th>Age</th>\n",
       "      <th>Education</th>\n",
       "      <th>Gender</th>\n",
       "      <th>Student</th>\n",
       "      <th>Married</th>\n",
       "      <th>Ethnicity</th>\n",
       "      <th>Balance</th>\n",
       "    </tr>\n",
       "  </thead>\n",
       "  <tbody>\n",
       "    <tr>\n",
       "      <th>0</th>\n",
       "      <td>1</td>\n",
       "      <td>14.891</td>\n",
       "      <td>3606</td>\n",
       "      <td>283</td>\n",
       "      <td>2</td>\n",
       "      <td>34</td>\n",
       "      <td>11</td>\n",
       "      <td>Male</td>\n",
       "      <td>No</td>\n",
       "      <td>Yes</td>\n",
       "      <td>Caucasian</td>\n",
       "      <td>333</td>\n",
       "    </tr>\n",
       "    <tr>\n",
       "      <th>1</th>\n",
       "      <td>2</td>\n",
       "      <td>106.025</td>\n",
       "      <td>6645</td>\n",
       "      <td>483</td>\n",
       "      <td>3</td>\n",
       "      <td>82</td>\n",
       "      <td>15</td>\n",
       "      <td>Female</td>\n",
       "      <td>Yes</td>\n",
       "      <td>Yes</td>\n",
       "      <td>Asian</td>\n",
       "      <td>903</td>\n",
       "    </tr>\n",
       "    <tr>\n",
       "      <th>2</th>\n",
       "      <td>3</td>\n",
       "      <td>104.593</td>\n",
       "      <td>7075</td>\n",
       "      <td>514</td>\n",
       "      <td>4</td>\n",
       "      <td>71</td>\n",
       "      <td>11</td>\n",
       "      <td>Male</td>\n",
       "      <td>No</td>\n",
       "      <td>No</td>\n",
       "      <td>Asian</td>\n",
       "      <td>580</td>\n",
       "    </tr>\n",
       "    <tr>\n",
       "      <th>3</th>\n",
       "      <td>4</td>\n",
       "      <td>148.924</td>\n",
       "      <td>9504</td>\n",
       "      <td>681</td>\n",
       "      <td>3</td>\n",
       "      <td>36</td>\n",
       "      <td>11</td>\n",
       "      <td>Female</td>\n",
       "      <td>No</td>\n",
       "      <td>No</td>\n",
       "      <td>Asian</td>\n",
       "      <td>964</td>\n",
       "    </tr>\n",
       "    <tr>\n",
       "      <th>4</th>\n",
       "      <td>5</td>\n",
       "      <td>55.882</td>\n",
       "      <td>4897</td>\n",
       "      <td>357</td>\n",
       "      <td>2</td>\n",
       "      <td>68</td>\n",
       "      <td>16</td>\n",
       "      <td>Male</td>\n",
       "      <td>No</td>\n",
       "      <td>Yes</td>\n",
       "      <td>Caucasian</td>\n",
       "      <td>331</td>\n",
       "    </tr>\n",
       "  </tbody>\n",
       "</table>\n",
       "</div>"
      ],
      "text/plain": [
       "   Unnamed: 0   Income  Limit  Rating  Cards  Age  Education  Gender Student  \\\n",
       "0           1   14.891   3606     283      2   34         11    Male      No   \n",
       "1           2  106.025   6645     483      3   82         15  Female     Yes   \n",
       "2           3  104.593   7075     514      4   71         11    Male      No   \n",
       "3           4  148.924   9504     681      3   36         11  Female      No   \n",
       "4           5   55.882   4897     357      2   68         16    Male      No   \n",
       "\n",
       "  Married  Ethnicity  Balance  \n",
       "0     Yes  Caucasian      333  \n",
       "1     Yes      Asian      903  \n",
       "2      No      Asian      580  \n",
       "3      No      Asian      964  \n",
       "4     Yes  Caucasian      331  "
      ]
     },
     "execution_count": 1,
     "metadata": {},
     "output_type": "execute_result"
    }
   ],
   "source": [
    "import pandas as pd\n",
    "import numpy as np\n",
    "import matplotlib.pyplot as plt\n",
    "%matplotlib inline\n",
    "\n",
    "data = pd.read_csv('datasets/Credit.csv')\n",
    "data.head(5)"
   ]
  },
  {
   "cell_type": "code",
   "execution_count": 2,
   "metadata": {
    "collapsed": false,
    "slideshow": {
     "slide_type": "subslide"
    }
   },
   "outputs": [
    {
     "name": "stdout",
     "output_type": "stream",
     "text": [
      "['Caucasian' 'Asian' 'African American']\n",
      "(400, 11)\n"
     ]
    },
    {
     "data": {
      "text/plain": [
       "0      354.940000\n",
       "1       45.218885\n",
       "2     4735.600000\n",
       "3        2.957500\n",
       "4       55.667500\n",
       "5       13.450000\n",
       "6        0.482500\n",
       "7        0.100000\n",
       "8        0.612500\n",
       "9        0.247500\n",
       "10       0.255000\n",
       "dtype: float64"
      ]
     },
     "execution_count": 2,
     "metadata": {},
     "output_type": "execute_result"
    }
   ],
   "source": [
    "# primero organicemos los datos: las variables cuantitativas están bien.  Las cualitativas toca transformarlas\n",
    "N = data.shape[0]\n",
    "dum_hombre     = np.asarray(data.Gender == ' Male').reshape((N,1))\n",
    "dum_estudiante = np.asarray(data.Student == 'Yes').reshape((N,1))\n",
    "dum_casado     = np.asarray(data.Married == 'Yes').reshape((N,1))\n",
    "# Para etnicidad debemos excluir una variable que sirva como referencia:\n",
    "# tenemos tres categorías: vamos a excluir la tercera: \"African American\"\n",
    "print data.Ethnicity.unique()\n",
    "dum_ethnic = np.asarray(pd.get_dummies(data.Ethnicity).iloc[:,:-1])\n",
    "# etiquetas de X\n",
    "labs_x = np.array(['Rating','Income','Limit','Cards','Age','Education',\n",
    "              'Hombre','Estudiante','Casado','Caucasian','Asian'])\n",
    "# incluyamos todas las variables:\n",
    "prexmat = np.concatenate((\n",
    "                        np.asarray(data.Rating).reshape((N,1)),\n",
    "                        np.asarray(data.Income).reshape((N,1)),\n",
    "                         np.asarray(data.Limit).reshape((N,1)),\n",
    "                         np.asarray(data.Cards).reshape((N,1)),\n",
    "                         np.asarray(data.Age).reshape((N,1)),\n",
    "                         np.asarray(data.Education).reshape((N,1)),\n",
    "                          dum_hombre, dum_estudiante, dum_casado, dum_ethnic\n",
    "                         ),axis=1)\n",
    "saldo = np.asarray(data.Balance).reshape((N,1))\n",
    "print prexmat.shape\n",
    "# revisemos que todo quedó bien:\n",
    "pd.DataFrame(prexmat).mean()"
   ]
  },
  {
   "cell_type": "code",
   "execution_count": 100,
   "metadata": {
    "collapsed": false
   },
   "outputs": [
    {
     "name": "stdout",
     "output_type": "stream",
     "text": [
      "(2047, 6)\n"
     ]
    }
   ],
   "source": [
    "# Para las posibles combinaciones vamos a usar el módulo itertools\n",
    "from itertools import combinations\n",
    "import sys\n",
    "sys.path.append('/Users/danielvaughan/Documents/Python Scripts')\n",
    "import olsdan as ols\n",
    "\n",
    "# probémoslo con conjuntos de 9 elementos\n",
    "list(combinations(np.arange(10),9))\n",
    "\n",
    "# vamos a guardar los resultados en un array, pero no se cuántas filas tenemos\n",
    "res_arr = np.zeros((1,6))\n",
    "res_arr[:,:] = np.nan\n",
    "# necesito una lista con todas las combinaciones.  La voy a guardar en un DF\n",
    "initsub = np.zeros((0,9))\n",
    "initsub[:] = np.nan\n",
    "SubSets = pd.DataFrame(initsub)\n",
    "for k in range(1,12):\n",
    "    # la siguiente es la lista de todos los regresores posibles para tamaño k\n",
    "    list_subsets = list(combinations(np.arange(11),k))\n",
    "    SubSets = SubSets.append(list_subsets)\n",
    "    # tenemos que hacer un loop sobre todas estas posibilidades:\n",
    "    for s in range(len(list_subsets)):\n",
    "        # los regresores seleccionados:\n",
    "        ind_s = np.array(list_subsets[s])\n",
    "        xmat_subset = prexmat[:,ind_s]\n",
    "        # listos para estimar: pero incluyamos constante\n",
    "        olssk = ols.ols_dan(saldo, np.concatenate((np.ones((N,1)),xmat_subset),axis=1))\n",
    "        # guardemos los resultados: queremos: número de regresores, ssr\n",
    "        # Calculemos las medidas que queremos utilizar\n",
    "        Cp = (1.0/olssk.nobs)*(olssk.ssr() + 2*olssk.nvar*olssk.s2hat())\n",
    "        AIC = (1.0/(olssk.nobs*olssk.s2hat()))*(olssk.ssr() + 2*olssk.nvar*olssk.s2hat())\n",
    "        BIC = (1.0/olssk.nobs)*(olssk.ssr() + np.log(olssk.nobs)*olssk.nvar*olssk.s2hat())\n",
    "        R2bar = olssk.R2_bar()\n",
    "        prelist = np.array([k, olssk.ssr(), Cp[0,0], AIC[0,0], BIC[0,0], R2bar]).reshape((1,6))\n",
    "        # listos para anexar:\n",
    "        res_arr = np.concatenate((res_arr, prelist),axis=0)\n",
    "res_arr = pd.DataFrame(res_arr, columns=['k', 'SSR', 'Cp', 'AIC', 'BIC', 'R2bar'])\n",
    "res_arr.dropna(inplace=True)\n",
    "res_arr.set_index(np.arange(res_arr.shape[0]), inplace=True)\n",
    "print res_arr.shape"
   ]
  },
  {
   "cell_type": "code",
   "execution_count": 82,
   "metadata": {
    "collapsed": false,
    "slideshow": {
     "slide_type": "subslide"
    }
   },
   "outputs": [
    {
     "data": {
      "text/plain": [
       "[<matplotlib.lines.Line2D at 0x1099d51d0>]"
      ]
     },
     "execution_count": 82,
     "metadata": {},
     "output_type": "execute_result"
    },
    {
     "data": {
      "image/png": "[encoded data removed]",
      "text/plain": [
       "<matplotlib.figure.Figure at 0x10a3155d0>"
      ]
     },
     "metadata": {},
     "output_type": "display_data"
    }
   ],
   "source": [
    "# Ya tenemos todos los modelos:\n",
    "# Hagamos un gráfico:\n",
    "plt.scatter(res_arr.k,res_arr.SSR, s=6, color='b',alpha=0.3)\n",
    "plt.ylabel('Suma de Residuos al Cuadrado')\n",
    "plt.xlabel(u'Número de Regresores')\n",
    "# Encontremos la frontera: como en el libro:\n",
    "front_ssr = res_arr.SSR.groupby(res_arr.k).min()\n",
    "plt.plot(front_ssr.index, front_ssr.values, color='r')                          "
   ]
  },
  {
   "cell_type": "markdown",
   "metadata": {
    "slideshow": {
     "slide_type": "subslide"
    }
   },
   "source": [
    "# ¿Qué variables están incluidas en los mejores modelos?\n",
    "\n",
    "* Rating\n",
    "\n",
    "* Ingreso\n",
    "\n",
    "* Límite de Crédito\n",
    "\n",
    "* Número de tarjetas\n",
    "\n",
    "* Dummy Estudiante"
   ]
  },
  {
   "cell_type": "code",
   "execution_count": 85,
   "metadata": {
    "collapsed": false,
    "slideshow": {
     "slide_type": "subslide"
    }
   },
   "outputs": [
    {
     "name": "stdout",
     "output_type": "stream",
     "text": [
      "['Rating']\n",
      "['Rating' 'Income']\n",
      "['Rating' 'Income' 'Estudiante']\n",
      "['Income' 'Limit' 'Cards' 'Estudiante']\n",
      "['Rating' 'Income' 'Limit' 'Cards' 'Estudiante']\n",
      "['Rating' 'Income' 'Limit' 'Cards' 'Age' 'Estudiante']\n",
      "['Rating' 'Income' 'Limit' 'Cards' 'Age' 'Hombre' 'Estudiante']\n",
      "['Rating' 'Income' 'Limit' 'Cards' 'Age' 'Hombre' 'Estudiante' 'Caucasian']\n",
      "['Rating' 'Income' 'Limit' 'Cards' 'Age' 'Hombre' 'Estudiante' 'Casado'\n",
      " 'Caucasian']\n",
      "['Rating' 'Income' 'Limit' 'Cards' 'Age' 'Education' 'Hombre' 'Estudiante'\n",
      " 'Casado' 'Caucasian']\n",
      "['Rating' 'Income' 'Limit' 'Cards' 'Age' 'Education' 'Hombre' 'Estudiante'\n",
      " 'Casado' 'Caucasian' 'Asian']\n"
     ]
    }
   ],
   "source": [
    "# Teníamos unos índices equivocados.  Vamos a hacerlo de 0 a M (M es el número total de modelos o combinaciones)\n",
    "SubSets.set_index(np.arange(SubSets.shape[0]), inplace=True)\n",
    "# Get the regressors that were selected:\n",
    "ind_best = np.in1d(res_arr.SSR.values,front_ssr.values)\n",
    "# teniendo los índices podemos encontrar: los 10 mejores\n",
    "ind_best = res_arr.index[ind_best]\n",
    "ind_subset = np.in1d(SubSets.index,ind_best)\n",
    "SubSets.ix[ind_best]\n",
    "for i in range(SubSets.ix[ind_best].shape[0]):\n",
    "    preind = SubSets.ix[ind_best].iloc[i,:]\n",
    "    #print preind\n",
    "    preind = np.asarray(pd.Series(preind).dropna(), dtype='int')\n",
    "    print labs_x[preind]"
   ]
  },
  {
   "cell_type": "markdown",
   "metadata": {
    "slideshow": {
     "slide_type": "subslide"
    }
   },
   "source": [
    "# Cómo seleccionamos el mejor modelo?\n",
    "\n",
    "* Una vez tenemos la frontera, podemos utilizar cuatro opciones para seleccionar:\n",
    "\n",
    "    1. **Cross-Validation**: minimizar el SSR promedio.\n",
    "    \n",
    "    2. Minimizar el Criterio de Información de Akaike:\n",
    "    $$\n",
    "    AIC = \\frac{1}{n}(RSS + 2d \\hat{\\sigma}_2)\n",
    "    $$\n",
    "    3. Minimizar el Criterio de Información de Bayesiano:\n",
    "    $$\n",
    "    BIC = \\frac{1}{n}(RSS + \\ln(n)d \\hat{\\sigma}_2)\n",
    "    $$\n",
    "    4. Maximizar el $\\overline{R}^2$\n",
    "    \n",
    "* La ventaja de los últimos tres criterios es que no necesitamos utilizar muestras de validación: los criterios penalizan el uso indebido de regresores adicionales."
   ]
  },
  {
   "cell_type": "markdown",
   "metadata": {
    "slideshow": {
     "slide_type": "subslide"
    }
   },
   "source": [
    "# 1. Seleccionando el mejor modelo: Cross-Validation\n",
    "\n",
    "* El proceso de validación cruzada es simple:\n",
    "\n",
    "    1. Tenemos identificados los mejores 9 modelos, i.e. los modelos sobre la frontera roja en el gráfico de arriba.\n",
    "        \n",
    "        * Cada modelo $\\mathcal{M}_k$, identifica la mejor combinación de $k$ regresores en términos de SSR.        \n",
    "        \n",
    "    2. Vamos a hacer 10-fold CV: \n",
    "        * Dividimos la muestra en 10 grupos iguales.\n",
    "        * Vamos a iterar el proceso haciendo un loop sobre $1,2,\\cdots,10$, donde en cada iteración $g$, la muestra de entrenamiento excluye al grupo $g$, que es utilizado como grupo de validación.\n",
    "        * Para cada modelo $\\mathcal{M}_k$, estimamos los coeficientes de OLS utilizando los 9 grupos de entrenamiento correspondientes.\n",
    "        * Con estos coeficientes, obtenemos el `SSR` de la muestra de validación correspondiente y lo guardamos.\n",
    "        * Así, terminamos con una matriz de tamaño $10 \\times 10$, donde las filas denotan el modelo, el grupo excluído en la muestra de entrenamiento.\n",
    "        \n",
    "* **En la tarea voy a dejar que lo programen ustedes mismos**   "
   ]
  },
  {
   "cell_type": "markdown",
   "metadata": {
    "slideshow": {
     "slide_type": "subslide"
    }
   },
   "source": [
    "![caption](figures/credit_10fcv.png)\n"
   ]
  },
  {
   "cell_type": "markdown",
   "metadata": {
    "slideshow": {
     "slide_type": "subslide"
    }
   },
   "source": [
    "# Miremos los resultados con otros dos criterios: $BIC$ y $\\bar{R}^2$\n",
    "![caption](figures/bicr2bar.png)"
   ]
  },
  {
   "cell_type": "markdown",
   "metadata": {
    "slideshow": {
     "slide_type": "slide"
    }
   },
   "source": [
    "# Forward Stepwise Selection\n",
    "\n",
    "\n",
    "* *Best Subset Selection* es intensivo en poder computacional: necesitamos estimar modelos para **todas** las combinaciones de regresores.\n",
    "\n",
    "* En el ejemplo anterior, con sólo 10 regresores tuvimos que hacer 2047 estimaciones.\n",
    "\n",
    "* Una alternativa más eficiente consiste en utilizar un método *bottom-up*:\n",
    "\n",
    "    * Empezamos con el modelo con una constante.\n",
    "    \n",
    "    * Vamos incluyendo regresores de manera iterativa.\n",
    "    \n",
    "        * El criterio es seleccionar el regresor que minimiza el SSR en esa iteración.\n",
    "    \n",
    "    * Para seleccionar el mejor modelo *global* (tenemos tantos modelos como regresores) utilizamos CV o cualquiera de los otros criterios de selección vistos anteriormente.\n",
    "    "
   ]
  },
  {
   "cell_type": "code",
   "execution_count": 89,
   "metadata": {
    "collapsed": true,
    "slideshow": {
     "slide_type": "subslide"
    }
   },
   "outputs": [],
   "source": [
    "# forward step-wise selection\n",
    "# inicialicemos la iteración con una constante\n",
    "xmat_fss = np.ones((N,1))\n",
    "# primera iteración: tenemos que seleccionar P modelos\n",
    "nvar = prexmat.shape[1]\n",
    "SSRfss = np.zeros((nvar,2))\n",
    "# una lista donde vamos a guardar los regresores:\n",
    "reg_opt = []\n",
    "for k in range(nvar):\n",
    "    # para cada modelo tenemos que iterar sobre los regresores que quedan:\n",
    "    # seleccionemos los que quedan:\n",
    "    ind_quedan = np.setdiff1d(np.arange(nvar),np.array(reg_opt))\n",
    "    # estamos listos para seleccionar el mejor modelo\n",
    "    nvar_quedan = ind_quedan.shape[0]\n",
    "    SSRmat = np.zeros((nvar_quedan,2))\n",
    "    counter = 0\n",
    "    for p in ind_quedan:\n",
    "        # tenemos que utilizar los X previamente seleccionados\n",
    "        newx = np.concatenate((xmat_fss, prexmat[:,p].reshape((N,1))),axis=1)\n",
    "        # podemos estimar:\n",
    "        olsp = ols.ols_dan(saldo,newx)\n",
    "        SSRmat[counter,:] = [p,olsp.ssr()[0,0]]\n",
    "        counter +=1\n",
    "    # terminamos el loop\n",
    "    # tenemos que seleccionar el regresor actual que minimiza SSRMat\n",
    "    row_min = np.argmin(SSRmat[:,1],axis=0)\n",
    "    ssr_min = SSRmat[row_min,1]\n",
    "    var_min = SSRmat[row_min,0]\n",
    "    # guardemos esta información\n",
    "    SSRfss[k,:] = [var_min,ssr_min]\n",
    "    # finalmente, actualicemos la matriz\n",
    "    xmat_fss = np.concatenate((xmat_fss,prexmat[:,var_min].reshape((N,1))),axis=1)\n",
    "    reg_opt.append(int(var_min))"
   ]
  },
  {
   "cell_type": "code",
   "execution_count": 96,
   "metadata": {
    "collapsed": false,
    "slideshow": {
     "slide_type": "subslide"
    }
   },
   "outputs": [
    {
     "data": {
      "image/png": "[encoded data removed]",
      "text/plain": [
       "<matplotlib.figure.Figure at 0x10a461810>"
      ]
     },
     "metadata": {},
     "output_type": "display_data"
    }
   ],
   "source": [
    "plt.plot(np.arange(1,12), SSRfss[:,1], color='b',alpha=0.5)\n",
    "for p in range(11):\n",
    "    plt.text(p+1,SSRfss[p,1],labs_x[int(SSRfss[p,0])], rotation=20,\n",
    "                verticalalignment='bottom', horizontalalignment='left')\n",
    "# los ticks en x no dicen nada ahora que incluimos las ettiquetas\n",
    "plt.xticks([])\n",
    "plt.title('FSS: Regresores Incluidos y SSR Correspondiente')\n",
    "plt.show()\n"
   ]
  },
  {
   "cell_type": "markdown",
   "metadata": {
    "slideshow": {
     "slide_type": "slide"
    }
   },
   "source": [
    "# Backward Stepwise Selection\n",
    "\n",
    "* Este método es parecido, pero opera de arriba hacia abajo o *top-down*\n",
    "\n",
    "\n",
    "* Empezamos con un modelo que incluye **todos** los regresores.\n",
    "\n",
    "\n",
    "* Vamos excluyendo regresores así:\n",
    "\n",
    "    * En cada iteración nos quedan $k$ regresores.\n",
    "    \n",
    "    * Seleccionamos el modelo con $k-1$ regresores (excluyendo una variable) que tiene el menor SSR.\n",
    "    \n",
    "\n",
    "* De los $P$ modelos posibles, seleccionamos el mejor modelo global con CV o cualquiera de los otros métodos."
   ]
  },
  {
   "cell_type": "markdown",
   "metadata": {
    "slideshow": {
     "slide_type": "subslide"
    }
   },
   "source": [
    "![caption](figures/bss_credit.png)"
   ]
  },
  {
   "cell_type": "markdown",
   "metadata": {
    "slideshow": {
     "slide_type": "slide"
    }
   },
   "source": [
    "# Componentes Principales (PCA):\n",
    "\n",
    "* Una alternativa bastante utilizada en econometría es seleccionar sólo un subconjunto de *combinaciones lineales* de los regresores, y en particular, aquella que tenga un poder de síntesis sobre la matrix $X$ completa lo suficientemente grande.\n",
    "\n",
    "\n",
    "* En series de tiempo, por ejemplo, cuando tenemos numerosas variables endógenas en un VAR, es fácil agotar los grados de libertad rápidamente si intentamos incluir una dinámica flexible, es decir, un orden de autoregresión que incluya $2,3,4,5, etc.$ rezagos de *todas* las variables endógenas.\n",
    "\n",
    "\n",
    "* Ver por ejemplo la literatura sobre **Factor Augmented Vector Autoregressive Regression (FAVAR)**.\n",
    "  \n",
    "  \n",
    "* La pregunta que queremos responder es simple:\n",
    "\n",
    "    > ¿Dada la matriz $X_{N \\times {p+1}}$, podemos reducir la dimensionalidad de $X$ sin perder poder explicativo?\n",
    "\n",
    "\n",
    "* A diferencia de los métodos anteriores donde la *reducción de dimensionalidad* se obtiene *excluyendo* regresores, en PCA se obtiene mediante una selección inteligente de combinaciones lineales de los regresores.\n",
    "\n",
    "\n",
    "* Así, la primera combinación lineal que utilicemos será la que explique un mayor porcentaje de la varianza de $X$, la siguiente la que explique el segundo mayor porcentaje de la varianza de $X$, y así sucesivamente."
   ]
  },
  {
   "cell_type": "markdown",
   "metadata": {
    "slideshow": {
     "slide_type": "subslide"
    }
   },
   "source": [
    "# Componentes Principales (cont):\n",
    "\n",
    "* Antes de empezar, es común, **centrar** la matriz de regresores, así que, abusando un poco de la notación, sea $X$ una matriz de tamaño $N \\times p$, donde cada regresor $x_k$ ha sido centrado, es decir, $x_k- \\overline{x}_k$.\n",
    "\n",
    "    * Por esto excluimos la constante.\n",
    "    \n",
    "    \n",
    "* La intuición de los componentes principales se puede obtener muy rápidamente así.\n",
    "\n",
    "\n",
    "* Supongamos que tenemos $p$  variables aleatorias.\n",
    "\n",
    "    * Nota 1: la matriz $X$ centrada, recoge las $N$ realizaciones de estas variables aleatorias.\n",
    "    \n",
    "    * Nota 2: $N^{-1}X'X$ es la matriz de covarianzas muestral, contraparte de $\\Sigma$.\n",
    "    \n",
    "\n",
    "* Nuestro objetivo es encontrar un vector $\\alpha_j = [\\alpha_{1j}, \\alpha_{2j}, \\cdots, \\alpha_{pj}]$ tal que \n",
    "$$\n",
    "\\sum_{k=1}^p \\alpha_{kj} x_{kj} = \\mathbf{\\alpha}_j' x\n",
    "$$\n",
    "\n",
    "tenga la *mayor varianza posible*.\n",
    "\n",
    "* Como \n",
    "\n",
    "$$\n",
    "Var(\\mathbf{\\alpha}_j' x) = \\mathbf{\\alpha}_j' \\mathbf{\\Sigma} \\mathbf{\\alpha}_j\n",
    "$$\n",
    "\n",
    "sabemos que podemos elegir $\\mathbf{\\alpha}_j$ cada vez más grande, así que el problema está indeterminado, a menos que impongamos una normalización: $\\mathbf{\\alpha}_j'\\mathbf{\\alpha}_j = 1$."
   ]
  },
  {
   "cell_type": "markdown",
   "metadata": {
    "slideshow": {
     "slide_type": "subslide"
    }
   },
   "source": [
    "# Componentes Principales (cont.)\n",
    "\n",
    "\n",
    "* Así, el problema de optimización que queremos resolver es:\n",
    "\n",
    "$$\n",
    "max_{\\mathbf{\\alpha}_j} \\hspace{2mm} \\mathcal{L} = \\mathbf{\\alpha}_j' \\mathbf{\\Sigma} \\mathbf{\\alpha}_j - \\lambda(\\mathbf{\\alpha}_j'\\mathbf{\\alpha}_j - 1)\n",
    "$$\n",
    "\n",
    "* Diferenciando, tenemos las condiciones de primer orden:\n",
    "\n",
    "$$\n",
    "\\begin{eqnarray*}\n",
    "\\mathbf{\\Sigma} \\mathbf{\\alpha}_j &=& \\lambda \\mathbf{\\alpha}_j \\\\\n",
    "\\mathbf{\\alpha}_j'\\mathbf{\\alpha}_j &=& 1\n",
    "\\end{eqnarray*}\n",
    "$$\n",
    "\n",
    "así que podemos reconocer que $\\mathbf{\\alpha}_j$ es un **vector propio de $\\Sigma$**, y $\\lambda$ el valor propio correspondiente.\n",
    "\n",
    "\n",
    "* Pero cuál vector propio?\n",
    "\n",
    "\n",
    "* Queremos maximizar \n",
    "$$\n",
    "\\mathbf{\\alpha}_j' \\mathbf{\\Sigma} \\mathbf{\\alpha}_j = \\mathbf{\\alpha}_j' \\lambda \\mathbf{\\alpha}_j = \\lambda \\mathbf{\\alpha}_j' \\mathbf{\\alpha}_j\n",
    "$$ \n",
    "(¿por qué?)\n",
    "\n",
    "así que la selección es simple: queremos el vector propio $\\mathbf{\\alpha}_j$ que corresponda al **mayor** valor propio $\\lambda$.\n",
    "\n",
    "\n",
    "* Este es el **primer componente principal**: $x'\\mathbf{\\alpha}_j$\n",
    "\n",
    "\n",
    "* Se puede demostrar que el segundo componente principal es la proyección de $X$ utilizando el vector propio correspondiente al segundo mayor valor propio, y así sucesivamente.\n",
    "\n",
    "\n",
    "* Así, los componentes principales se obtienen como el producto de $XV$, donde $V$ es la matriz que tiene los vectores propios correspondientes."
   ]
  },
  {
   "cell_type": "markdown",
   "metadata": {
    "slideshow": {
     "slide_type": "subslide"
    }
   },
   "source": [
    "# Resumen del procedimiento:\n",
    "\n",
    "1. Centrar la matriz $X$.\n",
    "\n",
    "2. Obtener los primeros $k$ vectores propios de $X'X$, $k \\in  \\{1,2,\\cdots, p\\}$, con la convención que  $\\lambda_1> \\lambda_2, \\cdots, \\lambda_p$:\n",
    "\n",
    "$$\n",
    "Z_k = XV_k\n",
    "$$\n",
    "\n",
    "3. Hacer una regresión de\n",
    "\n",
    "$$\n",
    "y = Z_k \\theta + \\epsilon\n",
    "$$\n",
    "\n",
    "4. Guardar el SSR_k y seleccionar el número óptimo por medio de validación cruzada."
   ]
  },
  {
   "cell_type": "code",
   "execution_count": 50,
   "metadata": {
    "collapsed": false
   },
   "outputs": [
    {
     "name": "stdout",
     "output_type": "stream",
     "text": [
      "[ -1.41220369e-15   4.79616347e-16]\n"
     ]
    },
    {
     "data": {
      "text/plain": [
       "<matplotlib.legend.Legend at 0x10af20f90>"
      ]
     },
     "execution_count": 50,
     "metadata": {},
     "output_type": "execute_result"
    },
    {
     "data": {
      "image/png": "[encoded data removed]",
      "text/plain": [
       "<matplotlib.figure.Figure at 0x108bac1d0>"
      ]
     },
     "metadata": {},
     "output_type": "display_data"
    }
   ],
   "source": [
    "#------------------------------\n",
    "# Ejemplo con dos regresores:\n",
    "#------------------------------\n",
    "# vamos a simular dos regresores correlacionados\n",
    "np.random.seed(421091725)\n",
    "N = 100\n",
    "mu = np.array([-3,2])\n",
    "W  = np.random.randn(2,2)\n",
    "DD = np.diag(np.array([10,5]))\n",
    "Sigma = np.dot(W.T,np.dot(DD,W))\n",
    "xmat = np.random.multivariate_normal(mu,Sigma,N)\n",
    "\n",
    "# Paso 1: centrar (usemos broadcasting para facilitar)\n",
    "xmat_dem = xmat - xmat.mean(axis=0).reshape((1,2))\n",
    "# probemos que quedó bien hecho\n",
    "print xmat_dem.mean(axis=0)\n",
    "\n",
    "# Paso 2: obtengamos los vectores y valores propios\n",
    "Smat = (1.0/N)*np.dot(xmat_dem.T,xmat_dem)\n",
    "D, V = np.linalg.eig(Smat)\n",
    "\n",
    "# Grafiquémoslos\n",
    "plt.scatter(xmat[:,0],xmat[:,1], color='b', alpha=0.5)\n",
    "plt.xlabel('Regresor 1')\n",
    "plt.ylabel('Regresor 2')\n",
    "x1bar = xmat.mean(axis=0)[0]\n",
    "x2bar = xmat.mean(axis=0)[1]\n",
    "newV = 10*V\n",
    "plt.plot([x1bar,x1bar + newV[0,0]], [x2bar,x2bar + newV[1,0]], color='orange', label='1er VP')\n",
    "plt.plot([x1bar,x1bar + newV[0,1]], [x2bar,x2bar + newV[1,1]], color='m', label='2do VP')\n",
    "plt.legend(loc='best')"
   ]
  },
  {
   "cell_type": "markdown",
   "metadata": {
    "slideshow": {
     "slide_type": "subslide"
    }
   },
   "source": [
    "# Componentes Principales (Cont.):\n",
    "\n",
    "\n",
    "* Los componentes principales son ortogonales entre sí:\n",
    "\n",
    "    * Los vectores propios lo son.\n",
    "    \n",
    "* El primer componente principal busca la dirección de máxima varianza.\n",
    "\n",
    "* Para obtener la proporción de la varianza de $X$ explicada por el componente principal $k$:\n",
    "\n",
    "$$\n",
    "\\frac{\\lambda_k}{\\sum_j \\lambda_j}\n",
    "$$"
   ]
  },
  {
   "cell_type": "code",
   "execution_count": 144,
   "metadata": {
    "collapsed": false
   },
   "outputs": [
    {
     "name": "stdout",
     "output_type": "stream",
     "text": [
      "2.50111042988e-13\n"
     ]
    },
    {
     "data": {
      "text/plain": [
       "<matplotlib.text.Text at 0x1105eca90>"
      ]
     },
     "execution_count": 144,
     "metadata": {},
     "output_type": "execute_result"
    },
    {
     "data": {
      "image/png": "[encoded data removed]",
      "text/plain": [
       "<matplotlib.figure.Figure at 0x110352f50>"
      ]
     },
     "metadata": {},
     "output_type": "display_data"
    }
   ],
   "source": [
    "# Volvamos al ejemplo de datos de Crédito\n",
    "N = data.shape[0]\n",
    "# Hay dos tipos de variables: continuas y categóricas\n",
    "prexmat_con = np.concatenate((\n",
    "                        np.asarray(data.Rating).reshape((N,1)),\n",
    "                        np.asarray(data.Income).reshape((N,1)),\n",
    "                         np.asarray(data.Limit).reshape((N,1)),\n",
    "                         np.asarray(data.Cards).reshape((N,1)),\n",
    "                         np.asarray(data.Age).reshape((N,1)),\n",
    "                         np.asarray(data.Education).reshape((N,1)),\n",
    "                         ),axis=1)\n",
    "prexmat_cat = np.concatenate((\n",
    "                          dum_hombre, dum_estudiante, dum_casado, dum_ethnic\n",
    "                         ),axis=1)\n",
    "saldo = np.asarray(data.Balance).reshape((N,1))\n",
    "nvar_con = prexmat_con.shape[1]\n",
    "\n",
    "# Paso 1: Centrar la matriz de variables continuas\n",
    "prexmatcon_dem = prexmat_con - np.nanmean(prexmat_con, axis=0).reshape((1,nvar_con))\n",
    "# check\n",
    "print prexmatcon_dem.mean(axis=0).max()\n",
    "\n",
    "# Paso 2: Eigenvalue decomposition\n",
    "D,V = np.linalg.eig(np.dot(prexmatcon_dem.T, prexmatcon_dem))\n",
    "\n",
    "# Paso 3: Construcción de los componentes principales:\n",
    "# Organicémoslos de menor a mayor: NO SIEMPRE LO ESTAN\n",
    "D = pd.DataFrame(D, columns=['valores_ppios']).sort(columns='valores_ppios', ascending=False)\n",
    "ind_sorted = D.index\n",
    "# Componentes principales: con los valores propios ordenados de mayor a menor\n",
    "Zmat = np.dot(prexmatcon_dem,V[:,ind_sorted])\n",
    "# Veamos la proporción de las varianzas explicadas por todos\n",
    "plt.plot((100*D/D.sum()).values)\n",
    "plt.title(u'Proporción de la Varianza')\n",
    "plt.xlabel(u'Número de Componentes Principales')\n",
    "plt.ylabel('% Varianza Explicada')"
   ]
  },
  {
   "cell_type": "code",
   "execution_count": 148,
   "metadata": {
    "collapsed": false
   },
   "outputs": [
    {
     "name": "stdout",
     "output_type": "stream",
     "text": [
      "1     37\n",
      "2     42\n",
      "3     49\n",
      "4     29\n",
      "5     51\n",
      "6     31\n",
      "7     35\n",
      "8     38\n",
      "9     49\n",
      "10    39\n",
      "dtype: int64\n"
     ]
    },
    {
     "data": {
      "text/plain": [
       "<matplotlib.text.Text at 0x110bb29d0>"
      ]
     },
     "execution_count": 148,
     "metadata": {},
     "output_type": "execute_result"
    },
    {
     "data": {
      "image/png": "[encoded data removed]",
      "text/plain": [
       "<matplotlib.figure.Figure at 0x10d358c90>"
      ]
     },
     "metadata": {},
     "output_type": "display_data"
    }
   ],
   "source": [
    "# Vamos a hacer CV con 10 grupos:\n",
    "grp_cv = 10\n",
    "ind_grp = np.dot(np.random.multinomial(1,[1.0/grp_cv]*grp_cv, N),np.arange(1,grp_cv+1).reshape(grp_cv,1))\n",
    "# check:\n",
    "check = pd.Series(ind_grp.flatten()).groupby(pd.Series(ind_grp.flatten())).count()\n",
    "print check\n",
    "# Inicialicemos matriz donde vamos a guardar los resultados:\n",
    "SSRCP = np.zeros((grp_cv,nvar_con))\n",
    "# centremos y, así no tenemos que incluir constante\n",
    "saldo_cen = saldo - np.nanmean(saldo,axis=0)\n",
    "# loop externo: grupos\n",
    "for g in np.arange(grp_cv):\n",
    "    ind_train = (ind_grp!=g+1)\n",
    "    n_train   = ind_train.sum()\n",
    "    ind_valid = (ind_grp==g+1)\n",
    "    n_valid   = ind_valid.sum()\n",
    "    # asignemos variables:\n",
    "    yy_train  = saldo_cen[ind_train].reshape((n_train,1))\n",
    "    yy_valid  = saldo_cen[ind_valid].reshape((n_valid,1))\n",
    "    zz_train  = Zmat[ind_train.flatten(),:]\n",
    "    zz_valid  = Zmat[ind_valid.flatten(),:]\n",
    "    dd_train  = prexmat_cat[ind_train.flatten(),:]\n",
    "    dd_valid  = prexmat_cat[ind_valid.flatten(),:]\n",
    "    # loop interno: modelos (número de CP)\n",
    "    for k in range(nvar_con):\n",
    "        # Necesitamos incluir variables categóricas y los componentes principales\n",
    "        fullxmat_train = np.concatenate((zz_train[:,:k+1],dd_train),axis=1)\n",
    "        fullxmat_valid = np.concatenate((zz_valid[:,:k+1],dd_valid),axis=1)\n",
    "        full_nvar = fullxmat_valid.shape[1]\n",
    "        olsk = ols.ols_dan(yy_train,fullxmat_train)\n",
    "        # necesitamos el SSR evaluado en valid\n",
    "        yhat_valid = np.dot(fullxmat_valid,olsk.betahat().reshape((full_nvar,1)))\n",
    "        res_valid  = yy_valid - yhat_valid\n",
    "        SSRCP[g,k] = np.dot(res_valid.T,res_valid)\n",
    "        \n",
    "\n",
    "mean_ssr = pd.DataFrame(SSRCP).mean()\n",
    "sem_ssr  = pd.DataFrame(SSRCP).sem()\n",
    "plt.plot(np.arange(1,nvar_con+1), mean_ssr.values)\n",
    "plt.bar(np.arange(1,nvar_con+1), mean_ssr.values, ec='w', fc='w', align='center',\n",
    "                    yerr = 1.96*sem_ssr.values, ecolor='r')\n",
    "plt.xlabel(u'Número de Componentes Principales')\n",
    "plt.ylabel(u'SSR Promedio en Grupos de VC')"
   ]
  },
  {
   "cell_type": "markdown",
   "metadata": {
    "slideshow": {
     "slide_type": "slide"
    }
   },
   "source": [
    "# Descomposición con Valores Singulares\n",
    "\n",
    "* Una matriz $Z_{N \\times p}$ se puede descomponer en el producto de tres matrices:\n",
    "\n",
    "$$\n",
    "Z = U_{N \\times p} D_{p \\times p} V'_{p \\times p}\n",
    "$$\n",
    "\n",
    "Las matrices $U, V$ son ortogonales: $UU'= U'U = I_{N}$, $VV'= V'V = I_{p}$, y $D$ sólo tiene entradas no nulas en la diagonal.\n",
    "\n",
    "* Se puede demostrar que:\n",
    "\n",
    "    1. Las columnas de $U$ son los vectores propios de $ZZ'$.\n",
    "    2. Las columnas de $V$ son los vectores propios de $Z'Z$.\n",
    "    3. Los valores singulares distintos de cero $d_{ii}$ son las raíces cuadradas de los valores propios no nulos de $Z'Z$ y $ZZ'$.\n",
    "    \n",
    "\n",
    "* En regresión lineal, por ejemplo, esta transformación nos lleva a **la regresión por componentes principales**.\n",
    "\n",
    "$$\n",
    "\\begin{eqnarray*}\n",
    "y &=& X\\beta + \\epsilon \\\\\n",
    "&=& (UDV')\\beta + \\epsilon \\\\\n",
    "&=& U(DV'\\beta) + \\epsilon \\\\\n",
    "&=& U\\alpha  + \\epsilon \\\\\n",
    "\\end{eqnarray*}\n",
    "$$\n",
    "\n",
    "* Así, $\\hat{\\alpha} = (UU')^{-1}U'y = U'y$, así que no tenemos que invertir ninguna matriz.\n",
    "\n",
    "* El $y$ estimado es: $X\\hat{beta} = X(X'X)^{-1}X'y = $"
   ]
  },
  {
   "cell_type": "markdown",
   "metadata": {
    "slideshow": {
     "slide_type": "slide"
    }
   },
   "source": [
    "# Ridge Regression\n",
    "\n",
    "* Excluyendo la regresión por componentes principales, los métodos anteriores son discontinuos o *sparse*, en el sentido que de los $P$ regresores, sólo excluimos una parte de ellos.\n",
    "    \n",
    "    * Los coeficientes $\\hat{\\beta}_k$ son cero o distintos de cero.\n",
    "    \n",
    "* Tiene la ventaja que facilita la interpretación.\n",
    "\n",
    "* Pero las predicciones pueden tener mucha varianza: incluimos o excluimos regresores.\n",
    "\n",
    "* Una alternativa es buscar un procedimiento más *suave*, en donde minimicemos el valor absoluto de los coeficientes, sin llevarlos a cero.\n",
    "\n",
    "* Esto se puede plantear fácilmente en un modelo de optimización donde penalizamos los coeficientes grandes.\n",
    "\n",
    "$$\n",
    "\\beta_{ridge} = argmin_{\\beta} (y - X\\beta)'(y - X\\beta) + \\lambda \\beta'\\beta\n",
    "$$\n",
    "\n",
    "* Derivando, se puede ver que la solución a este problema es:\n",
    "\n",
    "$$\n",
    "\\beta_{ridge} = (X'X + \\lambda I)^{-1}X'y\n",
    "$$\n",
    "\n",
    "* **Nota**: **estas fórmulas asumen que el modelo se ha estandarizado, es decir, todas las variables, $y$ ha sido centrada y $x$ estandarizadas, así que excluimos la constante de la estimación.** "
   ]
  },
  {
   "cell_type": "code",
   "execution_count": null,
   "metadata": {
    "collapsed": true
   },
   "outputs": [],
   "source": []
  },
  {
   "cell_type": "code",
   "execution_count": null,
   "metadata": {
    "collapsed": true
   },
   "outputs": [],
   "source": [
    "\n"
   ]
  }
 ],
 "metadata": {
  "celltoolbar": "Slideshow",
  "kernelspec": {
   "display_name": "Python 2",
   "language": "python",
   "name": "python2"
  },
  "language_info": {
   "codemirror_mode": {
    "name": "ipython",
    "version": 2
   },
   "file_extension": ".py",
   "mimetype": "text/x-python",
   "name": "python",
   "nbconvert_exporter": "python",
   "pygments_lexer": "ipython2",
   "version": "2.7.10"
  }
 },
 "nbformat": 4,
 "nbformat_minor": 0
}
