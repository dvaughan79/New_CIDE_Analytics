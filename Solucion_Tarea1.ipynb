{
 "cells": [
  {
   "cell_type": "markdown",
   "metadata": {},
   "source": [
    "# Solución Tarea 1: Numpy"
   ]
  },
  {
   "cell_type": "markdown",
   "metadata": {},
   "source": [
    "# Problema 1"
   ]
  },
  {
   "cell_type": "markdown",
   "metadata": {},
   "source": [
    "Parte a"
   ]
  },
  {
   "cell_type": "code",
   "execution_count": 8,
   "metadata": {
    "collapsed": true
   },
   "outputs": [],
   "source": [
    "import numpy as np"
   ]
  },
  {
   "cell_type": "code",
   "execution_count": 13,
   "metadata": {
    "collapsed": false
   },
   "outputs": [
    {
     "name": "stdout",
     "output_type": "stream",
     "text": [
      "[[1 2 3]\n",
      " [4 5 6]\n",
      " [7 8 9]]\n",
      "(3, 3)\n"
     ]
    }
   ],
   "source": [
    "# con np.asarray: tenemos que ingresar fila por fila\n",
    "A = np.asarray([[1,2,3],[4,5,6],[7,8,9]])\n",
    "# Verifiquemos que todo está bien\n",
    "print A\n",
    "print A.shape"
   ]
  },
  {
   "cell_type": "markdown",
   "metadata": {},
   "source": [
    "Parte b"
   ]
  },
  {
   "cell_type": "code",
   "execution_count": 15,
   "metadata": {
    "collapsed": false
   },
   "outputs": [
    {
     "name": "stdout",
     "output_type": "stream",
     "text": [
      "[[1 2 3]\n",
      " [4 5 6]\n",
      " [7 8 9]]\n",
      "(3, 3)\n",
      "1.0\n"
     ]
    }
   ],
   "source": [
    "# primero un array que va de 1 a 9, y hacemos un reshape\n",
    "A1 = np.arange(1,10).reshape(3,3)\n",
    "print A1\n",
    "print A1.shape\n",
    "# Verifiquemos que tienen los mismos elementos----> Qué estoy haciendo con el .mean()?\n",
    "print (A==A1).mean()\n"
   ]
  },
  {
   "cell_type": "markdown",
   "metadata": {},
   "source": [
    "Parte c"
   ]
  },
  {
   "cell_type": "code",
   "execution_count": null,
   "metadata": {
    "collapsed": true
   },
   "outputs": [],
   "source": [
    "# inicialicemos la matriz:\n",
    "A3 = np.zeros((3,3))\n",
    "# vamos a usar un contador para llenar la matriz\n",
    "counter = 1\n",
    "for i in range(3):\n",
    "    for j in range(3):\n",
    "        A3[i,j] = counter\n",
    "        # Actualicemos el contador\n",
    "        counter +=1\n",
    "print A3\n",
    "print A3.shape\n",
    "print (A3==A1).mean()"
   ]
  },
  {
   "cell_type": "markdown",
   "metadata": {},
   "source": [
    "Parte d"
   ]
  },
  {
   "cell_type": "code",
   "execution_count": null,
   "metadata": {
    "collapsed": true
   },
   "outputs": [],
   "source": [
    "# método uno, como es una matriz chica podemos hacerlo sin loops\n",
    "Adiag = np.asarray([A[0,0], A[1,1], A[2,2]])\n",
    "# con un \"list comprehension\"\n",
    "Adiag_lc = [A[i,i] for i in range(3)]\n",
    "# miremos que son iguales\n",
    "print (Adiag==Adiag_lc).mean()"
   ]
  },
  {
   "cell_type": "markdown",
   "metadata": {},
   "source": [
    "Parte e"
   ]
  },
  {
   "cell_type": "code",
   "execution_count": 20,
   "metadata": {
    "collapsed": false
   },
   "outputs": [
    {
     "name": "stdout",
     "output_type": "stream",
     "text": [
      "[1 5 9]\n"
     ]
    }
   ],
   "source": [
    "# usando la función np.diag\n",
    "Adiag_numpy =  np.diag(A)\n",
    "print Adiag_numpy"
   ]
  },
  {
   "cell_type": "markdown",
   "metadata": {},
   "source": [
    "# Problema 2"
   ]
  },
  {
   "cell_type": "markdown",
   "metadata": {},
   "source": [
    "Parte a"
   ]
  },
  {
   "cell_type": "code",
   "execution_count": 22,
   "metadata": {
    "collapsed": false
   },
   "outputs": [
    {
     "name": "stdout",
     "output_type": "stream",
     "text": [
      "(1, 3)\n"
     ]
    }
   ],
   "source": [
    "b = np.asarray([-1,2,1]).reshape((1,3))\n",
    "print b.shape"
   ]
  },
  {
   "cell_type": "markdown",
   "metadata": {},
   "source": [
    "Parte b"
   ]
  },
  {
   "cell_type": "code",
   "execution_count": 23,
   "metadata": {
    "collapsed": false
   },
   "outputs": [
    {
     "ename": "ValueError",
     "evalue": "shapes (3,3) and (1,3) not aligned: 3 (dim 1) != 1 (dim 0)",
     "output_type": "error",
     "traceback": [
      "\u001b[0;31m---------------------------------------------------------------------------\u001b[0m",
      "\u001b[0;31mValueError\u001b[0m                                Traceback (most recent call last)",
      "\u001b[0;32m<ipython-input-23-d8433139bb4b>\u001b[0m in \u001b[0;36m<module>\u001b[0;34m()\u001b[0m\n\u001b[0;32m----> 1\u001b[0;31m \u001b[0mAb\u001b[0m \u001b[0;34m=\u001b[0m \u001b[0mnp\u001b[0m\u001b[0;34m.\u001b[0m\u001b[0mdot\u001b[0m\u001b[0;34m(\u001b[0m\u001b[0mA\u001b[0m\u001b[0;34m,\u001b[0m\u001b[0mb\u001b[0m\u001b[0;34m)\u001b[0m\u001b[0;34m\u001b[0m\u001b[0m\n\u001b[0m",
      "\u001b[0;31mValueError\u001b[0m: shapes (3,3) and (1,3) not aligned: 3 (dim 1) != 1 (dim 0)"
     ]
    }
   ],
   "source": [
    "Ab = np.dot(A,b)"
   ]
  },
  {
   "cell_type": "markdown",
   "metadata": {},
   "source": [
    "### El problema es que las matrices no son conformes para la multiplicación, como el error nos dice.  La solución es muy simple: np.reshape()"
   ]
  },
  {
   "cell_type": "code",
   "execution_count": 25,
   "metadata": {
    "collapsed": true
   },
   "outputs": [],
   "source": [
    "Ab = np.dot(A,b.reshape(3,1))"
   ]
  },
  {
   "cell_type": "markdown",
   "metadata": {},
   "source": [
    "Parte c"
   ]
  },
  {
   "cell_type": "code",
   "execution_count": 31,
   "metadata": {
    "collapsed": false
   },
   "outputs": [
    {
     "name": "stdout",
     "output_type": "stream",
     "text": [
      "1.0\n"
     ]
    }
   ],
   "source": [
    "# inicialicemos la matriz\n",
    "Ab_loop = np.zeros((3,1))\n",
    "# hay que hacer un loop sobre las filas de A\n",
    "for r in range(3):\n",
    "    Ab_loop[r] = np.dot(A[r,:].reshape(1,3),b.reshape(3,1))\n",
    "    \n",
    "# miremos que todo está bien\n",
    "print (Ab== Ab_loop).mean()"
   ]
  },
  {
   "cell_type": "markdown",
   "metadata": {},
   "source": [
    "Parte d"
   ]
  },
  {
   "cell_type": "code",
   "execution_count": 34,
   "metadata": {
    "collapsed": false
   },
   "outputs": [
    {
     "name": "stdout",
     "output_type": "stream",
     "text": [
      "[[  6.]\n",
      " [ 12.]\n",
      " [ 18.]]\n",
      "1.0\n"
     ]
    }
   ],
   "source": [
    "# inicialicemos la nueva matriz\n",
    "Ab_loop2 = np.zeros((3,1))\n",
    "# loop externo es sobre lo elementos del nuevo vector\n",
    "for k in range(3):\n",
    "    # Loop sobre la suma que define a cada elemento k\n",
    "    suma_k = 0\n",
    "    for j in range(3):\n",
    "        # necesitamos seleccionar el elemento j de la fila k de A\n",
    "        suma_k += A[k,j]*b[0,j]\n",
    "    # Fin del for, así que podemos asignar\n",
    "    Ab_loop2[k] = suma_k\n",
    "\n",
    "print Ab_loop2\n",
    "print (Ab_loop==Ab_loop2).mean()"
   ]
  },
  {
   "cell_type": "markdown",
   "metadata": {},
   "source": [
    "# Problema 3"
   ]
  },
  {
   "cell_type": "markdown",
   "metadata": {},
   "source": [
    "Parte 1"
   ]
  },
  {
   "cell_type": "code",
   "execution_count": 36,
   "metadata": {
    "collapsed": false
   },
   "outputs": [
    {
     "name": "stdout",
     "output_type": "stream",
     "text": [
      "(99,) (99,)\n"
     ]
    }
   ],
   "source": [
    "# generemos los vectores\n",
    "vec1 = np.arange(99)\n",
    "vec2 = 20*np.ones((99))\n",
    "print vec1.shape, vec2.shape\n"
   ]
  },
  {
   "cell_type": "markdown",
   "metadata": {},
   "source": [
    "Parte 2"
   ]
  },
  {
   "cell_type": "code",
   "execution_count": 37,
   "metadata": {
    "collapsed": false
   },
   "outputs": [
    {
     "name": "stdout",
     "output_type": "stream",
     "text": [
      "The slowest run took 18.23 times longer than the fastest. This could mean that an intermediate result is being cached \n",
      "1000000 loops, best of 3: 1.43 µs per loop\n"
     ]
    }
   ],
   "source": [
    "# usemos timeit\n",
    "%timeit np.add(vec1,vec2)"
   ]
  },
  {
   "cell_type": "code",
   "execution_count": 44,
   "metadata": {
    "collapsed": false
   },
   "outputs": [
    {
     "name": "stdout",
     "output_type": "stream",
     "text": [
      "[  20.   21.   22.   23.   24.   25.   26.   27.   28.   29.   30.   31.\n",
      "   32.   33.   34.   35.   36.   37.   38.   39.   40.   41.   42.   43.\n",
      "   44.   45.   46.   47.   48.   49.   50.   51.   52.   53.   54.   55.\n",
      "   56.   57.   58.   59.   60.   61.   62.   63.   64.   65.   66.   67.\n",
      "   68.   69.   70.   71.   72.   73.   74.   75.   76.   77.   78.   79.\n",
      "   80.   81.   82.   83.   84.   85.   86.   87.   88.   89.   90.   91.\n",
      "   92.   93.   94.   95.   96.   97.   98.   99.  100.  101.  102.  103.\n",
      "  104.  105.  106.  107.  108.  109.  110.  111.  112.  113.  114.  115.\n",
      "  116.  117.  118.]\n"
     ]
    }
   ],
   "source": [
    "# revisemos que la función está haciendo lo que queremos: el primer elemento es 20+0, el segundo 20+1, \n",
    "#  y así sucesivamente\n",
    "print np.add(vec1,vec2)"
   ]
  },
  {
   "cell_type": "markdown",
   "metadata": {},
   "source": [
    "Parte 3"
   ]
  },
  {
   "cell_type": "code",
   "execution_count": 51,
   "metadata": {
    "collapsed": true
   },
   "outputs": [],
   "source": [
    "# Usemos la función exec como en las notas de clase"
   ]
  },
  {
   "cell_type": "code",
   "execution_count": 46,
   "metadata": {
    "collapsed": true
   },
   "outputs": [],
   "source": [
    "# inicialicemos\n",
    "vec_sum = np.zeros((99))\n",
    "for i in range(99):\n",
    "    vec_sum[i] = vec1[i] + vec2[i]\n",
    "    "
   ]
  },
  {
   "cell_type": "code",
   "execution_count": 52,
   "metadata": {
    "collapsed": false
   },
   "outputs": [
    {
     "name": "stdout",
     "output_type": "stream",
     "text": [
      "1000 loops, best of 3: 364 µs per loop\n"
     ]
    }
   ],
   "source": [
    "%timeit exec(In[46])"
   ]
  },
  {
   "cell_type": "code",
   "execution_count": 54,
   "metadata": {
    "collapsed": false
   },
   "outputs": [
    {
     "name": "stdout",
     "output_type": "stream",
     "text": [
      "254.545454545\n"
     ]
    }
   ],
   "source": [
    "# calculemos la ganancia en velocidad\n",
    "ganancia_vel = 364/1.43\n",
    "print ganancia_vel"
   ]
  },
  {
   "cell_type": "markdown",
   "metadata": {},
   "source": [
    "#### El loop es 254 veces más lento que la función univeral"
   ]
  },
  {
   "cell_type": "markdown",
   "metadata": {},
   "source": [
    "Parte 4"
   ]
  },
  {
   "cell_type": "code",
   "execution_count": 55,
   "metadata": {
    "collapsed": false
   },
   "outputs": [
    {
     "name": "stdout",
     "output_type": "stream",
     "text": [
      "The slowest run took 18.09 times longer than the fastest. This could mean that an intermediate result is being cached \n",
      "1000000 loops, best of 3: 1.44 µs per loop\n"
     ]
    }
   ],
   "source": [
    "# hagamos la suma directa\n",
    "%timeit vec1+vec2"
   ]
  },
  {
   "cell_type": "markdown",
   "metadata": {},
   "source": [
    "Parte 5\n",
    "\n",
    "**La suma directa en NumPy es igual de rápida!  De hecho son la misma función universal**"
   ]
  },
  {
   "cell_type": "markdown",
   "metadata": {},
   "source": [
    "# Problema 4\n"
   ]
  },
  {
   "cell_type": "markdown",
   "metadata": {},
   "source": [
    "Parte a"
   ]
  },
  {
   "cell_type": "code",
   "execution_count": 56,
   "metadata": {
    "collapsed": true
   },
   "outputs": [],
   "source": [
    "x = np.arange(20).reshape((20,1))"
   ]
  },
  {
   "cell_type": "markdown",
   "metadata": {},
   "source": [
    "Parte b\n"
   ]
  },
  {
   "cell_type": "code",
   "execution_count": 57,
   "metadata": {
    "collapsed": true
   },
   "outputs": [],
   "source": [
    "y = np.random.randn(20,1)"
   ]
  },
  {
   "cell_type": "markdown",
   "metadata": {},
   "source": [
    "Parte b1"
   ]
  },
  {
   "cell_type": "markdown",
   "metadata": {},
   "source": [
    "La función `np.random.randn(d1,d2,...,dk)` genera un vector multidimensional (k dimensiones) de números aleatorios distribuidos normal estándar.  Las dimensiones las pasa el usuario como argumento."
   ]
  },
  {
   "cell_type": "markdown",
   "metadata": {},
   "source": [
    "Parte c"
   ]
  },
  {
   "cell_type": "code",
   "execution_count": 59,
   "metadata": {
    "collapsed": true
   },
   "outputs": [],
   "source": [
    "# medias muestrales\n",
    "xbar = x.mean()\n",
    "ybar = y.mean()"
   ]
  },
  {
   "cell_type": "markdown",
   "metadata": {},
   "source": [
    "Parte d"
   ]
  },
  {
   "cell_type": "code",
   "execution_count": 60,
   "metadata": {
    "collapsed": true
   },
   "outputs": [],
   "source": [
    "# inicialicemos la matriz\n",
    "DistMat = np.zeros((20,20))\n",
    "# loop externo: controla las filas\n",
    "for i in range(20):\n",
    "    # loop interno: controla las columnas\n",
    "    for j in range(20):\n",
    "        DistMat[i,j] = (x[i]-xbar)**2 + (y[j]-ybar)**2"
   ]
  },
  {
   "cell_type": "code",
   "execution_count": 62,
   "metadata": {
    "collapsed": false
   },
   "outputs": [
    {
     "name": "stdout",
     "output_type": "stream",
     "text": [
      "91.4543023202\n",
      "[ 91.45430232]\n"
     ]
    }
   ],
   "source": [
    "# Miremos que quedó bien seleccionando dos elementos a mano:\n",
    "# A. Uno sobre la diagonal:\n",
    "print DistMat[0,0]\n",
    "# B. Cómo debería ser?\n",
    "d00 = (x[0]-xbar)**2 + (y[0]-ybar)**2\n",
    "print d00"
   ]
  },
  {
   "cell_type": "markdown",
   "metadata": {},
   "source": [
    "Parte d\n"
   ]
  },
  {
   "cell_type": "code",
   "execution_count": 63,
   "metadata": {
    "collapsed": false
   },
   "outputs": [
    {
     "name": "stdout",
     "output_type": "stream",
     "text": [
      "100 loops, best of 3: 3.71 ms per loop\n"
     ]
    }
   ],
   "source": [
    "%timeit exec(In[60])"
   ]
  },
  {
   "cell_type": "markdown",
   "metadata": {},
   "source": [
    "Parte e"
   ]
  },
  {
   "cell_type": "markdown",
   "metadata": {},
   "source": [
    "Si no lo han leído, dejo que lo hagan por su [cuenta](http://docs.scipy.org/doc/numpy/user/basics.broadcasting.html)"
   ]
  },
  {
   "cell_type": "code",
   "execution_count": 67,
   "metadata": {
    "collapsed": false
   },
   "outputs": [
    {
     "name": "stdout",
     "output_type": "stream",
     "text": [
      "[[11 21]\n",
      " [12 22]\n",
      " [13 23]\n",
      " [14 24]]\n"
     ]
    }
   ],
   "source": [
    "# El ejemplo más sencillo es la suma de dos vectores que no son conformes para la suma:\n",
    "colvec = np.array([1,2,3,4]).reshape((4,1))\n",
    "rowvec = np.array([10,20]).reshape((1,2))\n",
    "# yo quiero obtener la matriz M_{i,j} = c_{i} + r_{j}\n",
    "# Noten que en principio esto no puede hacerse con reglas algebraícas matriciales\n",
    "# Pero si con broadcasting\n",
    "broad_sum = colvec + rowvec\n",
    "print broad_sum"
   ]
  },
  {
   "cell_type": "markdown",
   "metadata": {},
   "source": [
    "Parte f"
   ]
  },
  {
   "cell_type": "code",
   "execution_count": 69,
   "metadata": {
    "collapsed": false
   },
   "outputs": [
    {
     "name": "stdout",
     "output_type": "stream",
     "text": [
      "(20, 1) (20, 1) (20, 1) (20, 1)\n"
     ]
    }
   ],
   "source": [
    "# Con broadcasting es muy simple:\n",
    "# Primer paso: encontremos los vectores sin las medias elevados al cuadrado\n",
    "x_demean = (x-xbar)**2\n",
    "y_demean = (y-ybar)**2\n",
    "# Revisemos que todo está como creemos que debe estar\n",
    "print x_demean.shape, x.shape, y_demean.shape, y.shape\n"
   ]
  },
  {
   "cell_type": "code",
   "execution_count": 70,
   "metadata": {
    "collapsed": false
   },
   "outputs": [
    {
     "name": "stdout",
     "output_type": "stream",
     "text": [
      "1.0\n"
     ]
    }
   ],
   "source": [
    "# Segundo paso: broadcasting:\n",
    "Dmat_broad = x_demean.reshape((20,1)) + y_demean.reshape((1,20))\n",
    "print (DistMat==Dmat_broad).mean()"
   ]
  },
  {
   "cell_type": "code",
   "execution_count": 71,
   "metadata": {
    "collapsed": true
   },
   "outputs": [],
   "source": [
    "# finalmente miremos cuánto se demora NumPy haciendo todo\n",
    "x_demean = (x-xbar)**2\n",
    "y_demean = (y-ybar)**2\n",
    "Dmat_broad = x_demean.reshape((20,1)) + y_demean.reshape((1,20))"
   ]
  },
  {
   "cell_type": "code",
   "execution_count": 72,
   "metadata": {
    "collapsed": false
   },
   "outputs": [
    {
     "name": "stdout",
     "output_type": "stream",
     "text": [
      "10000 loops, best of 3: 67.3 µs per loop\n"
     ]
    }
   ],
   "source": [
    "%timeit exec(In[71])"
   ]
  },
  {
   "cell_type": "code",
   "execution_count": 73,
   "metadata": {
    "collapsed": true
   },
   "outputs": [],
   "source": [
    "# Con broadcasting: 67.3 microsegundos\n",
    "# Con loops: 3.7 milisegundos:\n",
    "# recordemos que un microsegundo es 1E(-3) milisegundos"
   ]
  },
  {
   "cell_type": "code",
   "execution_count": 78,
   "metadata": {
    "collapsed": false
   },
   "outputs": [
    {
     "name": "stdout",
     "output_type": "stream",
     "text": [
      "54.9695439014\n"
     ]
    }
   ],
   "source": [
    "ganancia_vel = 3.7/(67.31E-3)\n",
    "print ganancia_vel"
   ]
  }
 ],
 "metadata": {
  "kernelspec": {
   "display_name": "Python 2",
   "language": "python",
   "name": "python2"
  },
  "language_info": {
   "codemirror_mode": {
    "name": "ipython",
    "version": 2
   },
   "file_extension": ".py",
   "mimetype": "text/x-python",
   "name": "python",
   "nbconvert_exporter": "python",
   "pygments_lexer": "ipython2",
   "version": "2.7.10"
  }
 },
 "nbformat": 4,
 "nbformat_minor": 0
}
