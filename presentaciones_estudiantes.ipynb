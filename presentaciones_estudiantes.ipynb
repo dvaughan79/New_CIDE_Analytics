{
 "cells": [
  {
   "cell_type": "markdown",
   "metadata": {},
   "source": [
    "# Analítica y Ciencia de Datos\n",
    "\n",
    "## CIDE- Otoño 2015\n",
    "\n",
    "### Presentaciones de los estudiantes\n"
   ]
  },
  {
   "cell_type": "markdown",
   "metadata": {},
   "source": [
    "1. [Perceptron](http://nbviewer.ipython.org/gist/jorgeluisztr/b7735fa692f0c3c9f7cc)\n",
    "\n",
    "2. [Market Basket Analysis](http://nbviewer.ipython.org/gist/anonymous/b32ca867440740ea1219)\n",
    "\n",
    "3. [Gradiente Estocástico](http://nbviewer.ipython.org/gist/anonymous/41730b75013ec41bf26a)\n",
    "\n",
    "4. [Adaboost](http://nbviewer.ipython.org/gist/anonymous/416b86b2d108b1d39edb)\n",
    "\n",
    "5. [Support Vector Machines](http://nbviewer.ipython.org/gist/chris-1488/c7ce3e7fbb53ec024388)\n",
    "\n",
    "6. [Análisis Discriminante](http://nbviewer.ipython.org/gist/AlbertoChe/007a64b7cb2f86052c37)\n",
    "\n",
    "7. [K-Nearest Neighbors](http://nbviewer.ipython.org/gist/anonymous/3766ac9b7585e3a4748a)\n",
    "\n",
    "8. [Redes Neuronales](http://nbviewer.ipython.org/gist/charlieinword/82fd993b5987ff154a09)"
   ]
  },
  {
   "cell_type": "code",
   "execution_count": null,
   "metadata": {
    "collapsed": true
   },
   "outputs": [],
   "source": []
  }
 ],
 "metadata": {
  "kernelspec": {
   "display_name": "Python 2",
   "language": "python",
   "name": "python2"
  },
  "language_info": {
   "codemirror_mode": {
    "name": "ipython",
    "version": 2
   },
   "file_extension": ".py",
   "mimetype": "text/x-python",
   "name": "python",
   "nbconvert_exporter": "python",
   "pygments_lexer": "ipython2",
   "version": "2.7.9"
  }
 },
 "nbformat": 4,
 "nbformat_minor": 0
}
