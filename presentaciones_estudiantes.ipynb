{
 "cells": [
  {
   "cell_type": "markdown",
   "metadata": {},
   "source": [
    "# Analítica y Ciencia de Datos\n",
    "\n",
    "## CIDE- Otoño 2015\n",
    "\n",
    "### Presentaciones de los estudiantes\n"
   ]
  },
  {
   "cell_type": "markdown",
   "metadata": {},
   "source": [
    "1. [Perceptron](http://nbviewer.ipython.org/gist/jorgeluisztr/b7735fa692f0c3c9f7cc)\n",
    "\n",
    "2. [Market Basket Analysis]\n",
    "\n",
    "3. [Gradiente Estocástico](http://nbviewer.ipython.org/gist/anonymous/41730b75013ec41bf26a)\n",
    "\n",
    "4. [Adaboost](http://nbviewer.ipython.org/gist/anonymous/416b86b2d108b1d39edb)\n",
    "\n",
    "5. [Support Vector Machines]\n",
    "\n"
   ]
  },
  {
   "cell_type": "code",
   "execution_count": null,
   "metadata": {
    "collapsed": true
   },
   "outputs": [],
   "source": []
  }
 ],
 "metadata": {
  "kernelspec": {
   "display_name": "Python 2",
   "language": "python",
   "name": "python2"
  },
  "language_info": {
   "codemirror_mode": {
    "name": "ipython",
    "version": 2
   },
   "file_extension": ".py",
   "mimetype": "text/x-python",
   "name": "python",
   "nbconvert_exporter": "python",
   "pygments_lexer": "ipython2",
   "version": "2.7.9"
  }
 },
 "nbformat": 4,
 "nbformat_minor": 0
}
