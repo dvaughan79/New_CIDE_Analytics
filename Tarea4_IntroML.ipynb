{
 "cells": [
  {
   "cell_type": "markdown",
   "metadata": {},
   "source": [
    "# Analítica y Ciencia de Datos\n",
    "\n",
    "## CIDE - Otoño 2015\n",
    "\n",
    "### Tarea 4: Introducción al Aprendizaje Estadístico"
   ]
  },
  {
   "cell_type": "markdown",
   "metadata": {},
   "source": [
    "### Problema 1:  Método Delta\n",
    "\n",
    "En las [Notas de Clase](6_Intro_MachineLearning.ipynb) simulamos el siguiente modelo:\n",
    "\n",
    "$$\n",
    "y = \\alpha_0 x^{1/\\alpha_1}e^{\\epsilon}\n",
    "$$\n",
    "\n",
    "Este modelo no se puede estimar, así que lo loglinealizamos.\n",
    "\n",
    "1. Loglinealícelo.\n",
    "\n",
    "2. Muestre qué parámetros se pueden estimar y cuáles no.\n",
    "\n",
    "3. Utilizando el Método Delta, muestre cómo obtener la varianza de los parámetros *profundos* o *estructurales* $(\\alpha_0, \\alpha_1)$, a partir de los parámetros no estructurales $\\beta_0, \\beta_1$.\n",
    "\n",
    "4. Simule y estime el modelo con los mismos parámetros (y la semilla, o valor inicial del generador de números aleatorios) de las Notas, y obtenga las estimaciones de las varianzas del punto anterior.\n",
    "\n",
    "5. ¿Cómo se comparan con la estimación que obtuvimos por Bootstrapping?  ¿Cuál cree que es mejor, y por qué?"
   ]
  },
  {
   "cell_type": "markdown",
   "metadata": {},
   "source": [
    "### Problema 2: Estimador de Jackknife\n",
    "\n",
    "En las Notas de Clase describimos dos técnicas para estimar los errores estándar de los coeficientes, Bootstrapping y el Jackknife.  \n",
    "\n",
    "Programe el estimador de Jackknife con los datos simulados en el problema anterior y compárelos con los obtenidos mediante Bootstrapping."
   ]
  },
  {
   "cell_type": "markdown",
   "metadata": {},
   "source": [
    "### Problema 3: Cross-Validation"
   ]
  },
  {
   "cell_type": "markdown",
   "metadata": {},
   "source": [
    "En las Notas de Clase vimos un método para generar las muestras de validación cruzada que hacía lo siguiente:\n",
    "\n",
    "1. Números aleatorios normales.\n",
    "2. Ordernarlos de menor a mayor.\n",
    "3. Divir en $K$ grupos utilizando los quantiles.\n",
    "\n",
    "Un método más rápido es simular $N$ números de una distribución multinomial con $K$ grupos.  Suponga que tiene $N=100$ individuos.  Genere **5** grupos de validación utilizando la función `numpy.random.multinomial(n, pvals, size=None)`"
   ]
  },
  {
   "cell_type": "code",
   "execution_count": null,
   "metadata": {
    "collapsed": true
   },
   "outputs": [],
   "source": [
    "\n"
   ]
  }
 ],
 "metadata": {
  "kernelspec": {
   "display_name": "Python 2",
   "language": "python",
   "name": "python2"
  },
  "language_info": {
   "codemirror_mode": {
    "name": "ipython",
    "version": 2
   },
   "file_extension": ".py",
   "mimetype": "text/x-python",
   "name": "python",
   "nbconvert_exporter": "python",
   "pygments_lexer": "ipython2",
   "version": "2.7.10"
  }
 },
 "nbformat": 4,
 "nbformat_minor": 0
}
