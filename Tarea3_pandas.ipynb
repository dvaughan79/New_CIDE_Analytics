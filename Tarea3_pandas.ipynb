{
 "cells": [
  {
   "cell_type": "markdown",
   "metadata": {},
   "source": [
    "# Analítica y Ciencia de Datos\n",
    "\n",
    "## CIDE - Otoño 2015\n",
    "\n",
    "### Tarea 3: Pandas"
   ]
  },
  {
   "cell_type": "markdown",
   "metadata": {},
   "source": [
    "### Primer ejercicio: creación de la columna \"primer_intento\""
   ]
  },
  {
   "cell_type": "markdown",
   "metadata": {},
   "source": [
    "En las [notas de Pandas](5_Pandas.ipynb), cuando creamos la columna `primer_intento` (ver figura abajo) obtuvimos un error.  Replíquelo (es decir, vuelva a correr el código para verificar que hay un error).  \n",
    "\n",
    "a. ¿Por qué sale ese error?  \n",
    "b. ¿Cómo lo puede solucionar? [Ayuda: con un \"`if-else`\" debería ser suficiente]\n",
    "\n",
    "\n",
    "![caption](figures/tarea3_error1.png)"
   ]
  },
  {
   "cell_type": "markdown",
   "metadata": {},
   "source": [
    "### Segundo ejercicio: Una manera alternativa de llenar los NaNs\n",
    "\n"
   ]
  },
  {
   "cell_type": "markdown",
   "metadata": {},
   "source": [
    "a. Genere un DataFrame que tenga 20 filas y 2 columnas con números aleatorios normales.  Llame a las columnas \"columna1\" y \"columna2\" [Ayuda: `pd.DataFrame(mi_array)` genera un DF con los datos del array `mi_array`].\n",
    "\n",
    "b. Para la `columna1` realice lo siguiente: utilizando operaciones de *slicing/indexing* reemplace las filas 1:4, 7:9 y 15:19 con `NaN`s.\n",
    "\n",
    "c. Adapte el método que utilizamos en las Notas (ver ejercicio anterior) para completar los NaNs con la observación anterior.  **Utilizando el magic `%timeit` calcule el tiempo que se demora.**\n",
    "\n",
    "d. ¿Qué otro método se le ocurre que sea distinto?  Prográmelo y cronometre los tiempos de ejecución.  ¿Cuál es más rápido?"
   ]
  },
  {
   "cell_type": "markdown",
   "metadata": {
    "collapsed": true
   },
   "source": [
    "### Tercer ejercicio: importar, merges, y exportar datos de Excel\n",
    "\n",
    "El archivo `data_tarea3.xlsx` tiene datos de ventas por meses para varias tiendas.  Cada mes está en una hoja separada.  El objetivo es abrir el archivo y unificar los datos en un solo dataframe que exportaremos al final."
   ]
  },
  {
   "cell_type": "markdown",
   "metadata": {},
   "source": [
    "Supongan que desconocen cuántos meses hay, así como el nombre de cada hoja.  Utilizando un loop:\n",
    "\n",
    "a. Abra cada hoja.\n",
    "\n",
    "b. Cambie el nombre de la columna `ventas` por el mes actual.\n",
    "\n",
    "c. Haga un merge con los datos de los meses anterior.  El merge se debe hacer sobre el identificador de las tiendas.\n",
    "\n",
    "d. Al final tendremos un dataframe con las ventas de cada mes en columnas separadas, y `NaN`s cuando una tienda no tuvo ventas.  Esos `NaN`s deberían ser ceros.  Reemplace los missing values con ceros.\n",
    "\n",
    "e. Exporte el dataframe final como un excel.\n",
    "\n",
    "Al final debemos tener la información de todas las tiendas con sus respectivas ventas por mes en cada una de las columnas.\n",
    "\n",
    "[*Ayuda: en alguna parte de las notas de clase utilizamos una función que permite recuperar los nombres de las hojas existentes*]"
   ]
  },
  {
   "cell_type": "code",
   "execution_count": null,
   "metadata": {
    "collapsed": true
   },
   "outputs": [],
   "source": [
    "\n"
   ]
  }
 ],
 "metadata": {
  "kernelspec": {
   "display_name": "Python 2",
   "language": "python",
   "name": "python2"
  },
  "language_info": {
   "codemirror_mode": {
    "name": "ipython",
    "version": 2
   },
   "file_extension": ".py",
   "mimetype": "text/x-python",
   "name": "python",
   "nbconvert_exporter": "python",
   "pygments_lexer": "ipython2",
   "version": "2.7.10"
  }
 },
 "nbformat": 4,
 "nbformat_minor": 0
}
