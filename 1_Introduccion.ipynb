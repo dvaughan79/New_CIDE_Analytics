{
 "cells": [
  {
   "cell_type": "markdown",
   "metadata": {
    "slideshow": {
     "slide_type": "slide"
    }
   },
   "source": [
    "# Analítica de Negocios y Ciencia de Datos\n",
    "\n",
    "### CIDE - Otoño 2015\n",
    "\n",
    "[Daniel Vaughan](mailto: vaughandaniel@gmail.com)"
   ]
  },
  {
   "cell_type": "markdown",
   "metadata": {
    "collapsed": false,
    "slideshow": {
     "slide_type": "slide"
    }
   },
   "source": [
    "# Qué es la Analítica de Negocios?\n",
    "\n"
   ]
  },
  {
   "cell_type": "markdown",
   "metadata": {
    "slideshow": {
     "slide_type": "subslide"
    }
   },
   "source": [
    "![caption](figures/comp_ana.png)"
   ]
  },
  {
   "cell_type": "markdown",
   "metadata": {
    "slideshow": {
     "slide_type": "subslide"
    }
   },
   "source": [
    "![caption](figures/comp_ana_book_png.png)"
   ]
  },
  {
   "cell_type": "markdown",
   "metadata": {
    "slideshow": {
     "slide_type": "subslide"
    }
   },
   "source": [
    "# Analítica de Negocios\n",
    "\n",
    "\n",
    "+ En el mundo de los negocios, donde es cada vez más difícil diferenciarse de los competidores, una ventaja comparativa se puede obtener mediante el uso de *analítica*.\n",
    "\n",
    "\n",
    "+ La Analítica combina el uso intensivo en:\n",
    "\n",
    "    1. Datos\n",
    "    \n",
    "    2. Métodos estadísticos, econométricos, de minería de datos o aprendizaje estadístico.\n",
    "    \n",
    "    3. Conocimiento del negocio.\n",
    "\n",
    "\n",
    "+ Estos tres ingredientes permiten que un negocio o empresa respondan preguntas estratégicas que tienen la capacidad de mejorar sustancialmente el estado de resultados, los ingresos y los beneficios:\n",
    "\n",
    "    1. ¿Qué quieren los clientes?\n",
    "    \n",
    "    2. ¿Cuánto están dispuestos a pagar?\n",
    "    \n",
    "    3. ¿Qué estrategias se pueden utilizar para mantener su lealtad?"
   ]
  },
  {
   "cell_type": "markdown",
   "metadata": {
    "slideshow": {
     "slide_type": "subslide"
    }
   },
   "source": [
    "# Analítica de Negocios (cont.)\n",
    "\n",
    "\n",
    "+ En resumen, el objetivo de la analítica es utilizar el método científico para mejorar la productividad de una empresa.\n",
    "\n",
    "\n",
    "\n",
    "+ *... y minimizar el uso del \"instinto\", las corazonadas o el olfato *"
   ]
  },
  {
   "cell_type": "markdown",
   "metadata": {
    "slideshow": {
     "slide_type": "subslide"
    }
   },
   "source": [
    "    \n",
    " ![caption](figures/bi_analytics.png)"
   ]
  },
  {
   "cell_type": "markdown",
   "metadata": {
    "slideshow": {
     "slide_type": "slide"
    }
   },
   "source": [
    "# Tipología de la Analítica de Negocios\n",
    "\n",
    "\n",
    "\n",
    "\n",
    "+ Piensen cualquier pregunta que crean que pueda ser relevante en el mundo de los negocios.\n",
    "\n",
    "\n",
    "+ La combinación correcta de los tres ingredientes (datos,métodos y conocimiento del negocio) deben permitir tener una respuesta más certera o precisa.\n",
    "\n",
    "\n",
    "+ En términos generales hay dos grandes familias de preguntas relevantes para los negocios:\n",
    "\n",
    "    1. Analítica interna o *hacia adentro*\n",
    "\n",
    "    2. Analítica externa o dirigida a los clientes y proveedores."
   ]
  },
  {
   "cell_type": "markdown",
   "metadata": {
    "slideshow": {
     "slide_type": "slide"
    }
   },
   "source": [
    "# Analítica de Procesos Internos\n",
    "\n",
    "\n",
    "## Analítica Financiera:\n",
    "\n",
    "\n",
    "+ Tal vez esta aplicación de la analítica es la que más historia tiene.\n",
    "\n",
    "\n",
    "+ Empieza a finales de la década de los 50 con la llegada de los famosos \"quants\" (por \"quantitative analysts\").\n",
    "\n",
    "\n",
    "+ La historia de los quants es interesante:\n",
    "\n",
    "\n",
    "+ Empieza con el trabajo teórico de varios economistas (Markowitz, Samuelson, Black, Scholes, etc.)\n",
    "\n",
    "+ El fin de la carrera espacial deja sin empleo a centenares de físicos y matemáticos que estaban terminando sus doctorados.\n",
    "    \n",
    "+ Rápidamente se dieron cuenta (en la industria financiera) que su conocimiento de cálculo y procesos estocásticos, así como la habilidad para programar, podía ser utilizada para generar (mucho, muchísimo) dinero."
   ]
  },
  {
   "cell_type": "markdown",
   "metadata": {
    "slideshow": {
     "slide_type": "subslide"
    }
   },
   "source": [
    "# Analítica Financiera:\n",
    "\n",
    "\n",
    "+ Hoy en día se utiliza no sólo en el sector financiero, sino en cualquier empresa que quiera tomar sus decisiones financieras de una manera más inteligente.\n",
    "\n",
    "\n",
    "+ ¿Cómo y cuándo emitir deuda o bonos?\n",
    "\n",
    "+ ¿Cómo maximizar el valor de los accionistas?\n",
    "\n",
    "+ ¿Cómo van a cambiar en el futuro (predicción) las principales cuentas del estado de resultados o el balance?\n",
    "    \n",
    "+ ¿Tiene sentido comprar, vender o fusionarse con otra empresa (M&A)?\n",
    "    \n"
   ]
  },
  {
   "cell_type": "markdown",
   "metadata": {
    "slideshow": {
     "slide_type": "subslide"
    }
   },
   "source": [
    "# Analítica de Operaciones, Manufactura y Análisis de Calidad\n",
    "\n",
    "+ Este uso de también tiene una historia relativamente extensa, principalmente con el uso de herramientas de investigación de operaciones.\n",
    "\n",
    "\n",
    "+ ¿Cuáles productos se deben ejecutar?\n",
    "\n",
    "\n",
    "+ ¿Cómo realizar un proceso eficiente de control de calidad en el proceso de producción?\n",
    "\n",
    "\n",
    "+ ¿Cuál es la combinación de insumos eficiente?\n"
   ]
  },
  {
   "cell_type": "markdown",
   "metadata": {
    "slideshow": {
     "slide_type": "subslide"
    }
   },
   "source": [
    "# Analítica de Apertura/Localización de tiendas/plantas\n",
    "\n",
    "\n",
    "+ ¿En qué ubicaciones geográficas las condiciones de competencia y de mercado (oferta y demanda) se deben abrir tiendas, sucursales o plantas?\n",
    "\n",
    "\n",
    "+ ¿Cuál es el número óptimo de sucursales o tiendas que debe tener un banco o una empresa?\n",
    "\n",
    "\n",
    "+ ¿Cómo se debe configurar una red de ATMs?\n"
   ]
  },
  {
   "cell_type": "markdown",
   "metadata": {
    "slideshow": {
     "slide_type": "subslide"
    }
   },
   "source": [
    "# Analítica de Recursos Humanos\n",
    "\n",
    "\n",
    "+ ¿A quién contratar?\n",
    "\n",
    "    + ¿Cuál es el perfil óptimo de un empleado para un tipo de trabajo particular?\n",
    "    \n",
    "    \n",
    "+ Una vez se contrata, ¿cuál es el mix óptimo de compensación (fija, variable)?\n",
    "\n",
    "\n",
    "+ ¿Cúal es la probabilidad de que un empleado se quede en la empresa?\n",
    "\n",
    "    + ¿Cuál es la estrategia óptima de retención para distintos empleados?\n",
    "\n",
    "\n",
    "+ ¿Cómo se debe desarrollar a un empleado en la empresa?\n",
    "\n",
    "    + ¿Cuál es la asignación más eficiente de cursos de capacitación entre empleados?"
   ]
  },
  {
   "cell_type": "markdown",
   "metadata": {
    "slideshow": {
     "slide_type": "slide"
    }
   },
   "source": [
    "# Analítica Externa: Clientes y Proveedores\n",
    "\n",
    "### Customer Relationship Management (CRM)\n",
    "\n",
    "+ En la actualidad, la mayoría de empresas medianas y grandes tienen algún tipo de CRM.\n",
    "\n",
    "\n",
    "+ La razón es simple: las empresas que sobreviven y son exitosas son aquellas que *generan valor* para sus clientes.\n",
    "\n",
    "    + La razón de ser de las empresas son los clientes.\n",
    "    \n",
    "\n",
    "+ La historia del CRM empieza en los años 80s, con el acervo creciente de información de los clientes y su uso para estrategias de marketing.\n",
    "\n",
    "\n",
    "+ En los 90s empieza el uso generalizado de **programas de lealtad**:\n",
    "\n",
    "    + El objetivo: mantener y desarrollar la relación con los clientes.\n",
    "    "
   ]
  },
  {
   "cell_type": "markdown",
   "metadata": {
    "slideshow": {
     "slide_type": "subslide"
    }
   },
   "source": [
    "# CRM: Segmentar a los clientes\n",
    "\n",
    "+ No todos los clientes son iguales.\n",
    "\n",
    "\n",
    "+ La tendencia en los distintos mercados es a \"customizar\" las ofertas para cada cliente, reconociendo que cada cliente es *único*.\n",
    "\n",
    "\n",
    "+ Pero la oferta personalizada no sólo es costosa (difícil explotar economías de escala), sino que puede incluso ser imposible:\n",
    "\n",
    "    + Es difícil entender el comportamiento de un cliente para el que sólo se tienen algunas observaciones sobre su \n",
    "    comportamiento.\n",
    "    \n",
    "    + Para hacer inferencia estadística es necesario buscar clientes similares.\n",
    "    \n",
    "    + En esto consiste el proceso de **segmentación** de los clientes.\n",
    "\n",
    "\n",
    "+ La segmentación de los clientes balancea los tradeoffs entre incluir muchos clientes heterogéneos y ofrecer un único producto, y ofrecer diferentes productos para grupos homogéneos de clientes con características y necesidades diferentes."
   ]
  },
  {
   "cell_type": "markdown",
   "metadata": {
    "slideshow": {
     "slide_type": "subslide"
    }
   },
   "source": [
    "# Analítica Orientada a Clientes:\n",
    "\n",
    "+ ¿Cómo son mis clientes actuales? ¿Qué necesidades tienen?\n",
    "\n",
    "+ ¿Cuál es el *valor* de un cliente para una empresa?  ¿Cómo cambia este a lo largo de su ciclo de vida con la empresa (Customer Lifetime Value)?\n",
    "\n",
    "+ ¿Con qué probabilidad puedo *atraer* clientes rentables?  \n",
    "\n",
    "+ ¿Con qué probabilidad puedo *retenerlos*?\n",
    "\n",
    "+ ¿Cuáles son los canales de comunicación (call center, email, página web o redes sociales, correo directo, llamadas) que se deben utilizar con diferentes tipos de clientes?\n",
    "\n",
    "+ ¿Qué tipo de marketing (paquetería, colores, diseños, etc.) se deben utilizar con distintos clientes?\n",
    "\n",
    "+ ¿Cuál es el precio óptimo que debo cobrar?"
   ]
  },
  {
   "cell_type": "markdown",
   "metadata": {
    "slideshow": {
     "slide_type": "slide"
    }
   },
   "source": [
    "# Ejemplos de Competidores en Analítica:\n",
    "\n",
    " ![caption](figures/analy_comp.png)"
   ]
  },
  {
   "cell_type": "markdown",
   "metadata": {
    "slideshow": {
     "slide_type": "slide"
    }
   },
   "source": [
    "# ¿Mercados Eficientes? \n",
    "\n",
    "\"When I was a doctoral student in economics at the Massachusetts Institute of Technology, a powerful theory known as rational expectations suggested that it was difficult to profit from widely anticipated, or predictable, events, since rational actors would already have taken the action necessary to arbitrage any such opportunities.  When I become a student of management, I assumed that an extension of rational expectations would apply in business; that is, any straightforward profit-enhancing opportunity in competitive markets would already be exploited and hence unavailable at the margin.\"\n",
    "\n",
    "\"Well, thank goodness for me and the shareholders of Harrah’s Entertainment, Inc. that rational expectations is far from complete characterization of management behavior.  In short, opportunities abound to employ simple analytic methods to marginally or substantially increase profitability, especially in large businesses such as mine where a single insight can ring the cash register literally thousands or millions of times.\" \n",
    "\n",
    "– Gary Loveman, Chairman of the Board, President and Chief Executive Officer, Harrah’s Entertainment"
   ]
  },
  {
   "cell_type": "markdown",
   "metadata": {
    "slideshow": {
     "slide_type": "slide"
    }
   },
   "source": [
    "# Una anécdota: Target\n",
    "\n",
    " ![caption](figures/target.png)\n",
    "\n"
   ]
  },
  {
   "cell_type": "markdown",
   "metadata": {
    "slideshow": {
     "slide_type": "subslide"
    }
   },
   "source": [
    "# Predicciones de Target\n",
    "\n",
    "[Ver artículo NYT](http://www.nytimes.com/2012/02/19/magazine/shopping-habits.html)\n",
    "\n",
    "[Forbes](http://www.forbes.com/sites/kashmirhill/2012/02/16/how-target-figured-out-a-teen-girl-was-pregnant-before-her-father-did/)\n",
    "\n",
    "+ ¿Puede Target predecir si una mujer está embarazada?\n",
    "\n",
    "+ Utilizando patrones de compra de las mujeres que se habían dado de alta en una lista de mujeres embarazadas, calibraron un modelo estadístico que permitía predecir con un buen grado de confianza si una mujer estaba embarazada.\n",
    "\n",
    "+ Realizaron una estrategia de marketing dirigida a clientes con alto \"score de embarazo\".\n",
    "\n",
    "+ Una tarde llegó un padre de familia, enfadado, demandando hablar con el gerente de una de las tiendas.\n",
    "\n",
    "    + Reclamó que a su hija adolescente le habían enviado publicidad para comprar ropa para bebés, así que sentían que \n",
    "    que querían que ella quedara embarazada.\n",
    "    \n",
    "+ El gerente se disculpó, aduciendo un error de mensajería.\n",
    "    \n",
    "+ Días después lo llamó a su casa para volver a disculparse.\n",
    "\n",
    "+ En ese momento el padre se disculpó: la hija efectivamente estaba embarazada y les debía una disculpa."
   ]
  },
  {
   "cell_type": "markdown",
   "metadata": {
    "slideshow": {
     "slide_type": "slide"
    }
   },
   "source": [
    "# La Analítica llega a la cultura popular :\n",
    "\n",
    "![caption](figures/moneyball.png)"
   ]
  },
  {
   "cell_type": "markdown",
   "metadata": {
    "slideshow": {
     "slide_type": "slide"
    }
   },
   "source": [
    "# Qué es la *Ciencia de Datos*\n",
    "\n",
    "\n"
   ]
  },
  {
   "cell_type": "markdown",
   "metadata": {
    "slideshow": {
     "slide_type": "subslide"
    }
   },
   "source": [
    "![caption](figures/sexiestjob.png)\n",
    "\n",
    "[Harvard Business Review](https://hbr.org/2012/10/data-scientist-the-sexiest-job-of-the-21st-century/)"
   ]
  },
  {
   "cell_type": "markdown",
   "metadata": {
    "slideshow": {
     "slide_type": "slide"
    }
   },
   "source": [
    "# Habilidades que debe tener un *data scientist*\n",
    "\n",
    " ![caption](figures/data_scientist_skillset.png)"
   ]
  },
  {
   "cell_type": "markdown",
   "metadata": {
    "slideshow": {
     "slide_type": "subslide"
    }
   },
   "source": [
    " ![caption](figures/SkillSet.png)"
   ]
  },
  {
   "cell_type": "markdown",
   "metadata": {
    "slideshow": {
     "slide_type": "subslide"
    }
   },
   "source": [
    "# De estas habilidades, ¿cuáles se van a adquirir en este curso?\n",
    "\n",
    "1. Este curso es una introducción a la Analítica y la Ciencia de Datos.\n",
    "\n",
    "2. Es un primer acercamiento a la ciencia de datos, y busca **expandir la caja de herramientas** de los estudiantes.\n",
    "\n",
    "3. Los temas que se van a tratar son:\n",
    "\n",
    "    1. Programación en Python\n",
    "\n",
    "    2. Métodos estadísticos, econométricos y de aprendizaje estadístico o minería de datos (\"Machine Learning\")\n",
    "\n",
    "    3. Introducción a la visualización.\n",
    "    \n",
    "4. En resumen, esta es una clase de *métodos*."
   ]
  },
  {
   "cell_type": "markdown",
   "metadata": {
    "slideshow": {
     "slide_type": "subslide"
    }
   },
   "source": [
    "# ¿Qué *no* incluye el curso?\n",
    "\n",
    "1. Naturalmente, este curso no incluye nada de conocimiento del negocio.\n",
    "\n",
    "    + Esto sólo se adquiere *trabajando*, y aprendiendo *on-the-job*, en cada una de las industrias.\n",
    "    \n",
    "2. Tampoco habrá tiempo para discutir temas cada vez más importantes:\n",
    "\n",
    "    + Big data\n",
    "    + SQL - Hadoop\n",
    "    + Data warehousing"
   ]
  },
  {
   "cell_type": "markdown",
   "metadata": {
    "slideshow": {
     "slide_type": "subslide"
    }
   },
   "source": [
    "# Tampoco es una clase para formar *data scientists*\n",
    "\n",
    "+ Espero motivar a algunos estudiantes a planear los años de formación que les quedan para entrar en el mundo de la analítica y la ciencia de datos.\n",
    "\n",
    "+ Pero aquellos estudiantes que planeen seguir una carrera académica también encontrarán valor en la clase:\n",
    "\n",
    "    + Lo importante es ir expandiendo la caja de herramientas."
   ]
  },
  {
   "cell_type": "markdown",
   "metadata": {
    "slideshow": {
     "slide_type": "subslide"
    }
   },
   "source": [
    "# Al final del curso espero que puedan leer, entender, programar y ejecutar algunos de los métodos de este paper:\n",
    "\n",
    " ![caption](figures/varian.png)"
   ]
  },
  {
   "cell_type": "markdown",
   "metadata": {
    "slideshow": {
     "slide_type": "slide"
    }
   },
   "source": [
    "# Para aquellas personas para las que no es suficiente esta motivación: ¿cuánto gana un *data scientist*?\n",
    "\n",
    " ![caption](figures/oreilly_survey.png)"
   ]
  },
  {
   "cell_type": "markdown",
   "metadata": {
    "slideshow": {
     "slide_type": "subslide"
    }
   },
   "source": [
    "# El salario mediano anual en dólares en 2014 fue $91K\n",
    "![caption](figures/salary.png)"
   ]
  },
  {
   "cell_type": "markdown",
   "metadata": {
    "slideshow": {
     "slide_type": "subslide"
    }
   },
   "source": [
    "# Es una profesión joven, dominada por gente joven con capacidad para aprender tecnologías nuevas... \n",
    "## pero la experiencia (el conocimiento del negocio) importan mucho.\n",
    "![caption](figures/age.png)"
   ]
  },
  {
   "cell_type": "markdown",
   "metadata": {
    "slideshow": {
     "slide_type": "subslide"
    }
   },
   "source": [
    "# donde es necesario tener una caja de herramientas bastante amplia:\n",
    "\n",
    " ![caption](figures/tools.png)"
   ]
  },
  {
   "cell_type": "markdown",
   "metadata": {
    "slideshow": {
     "slide_type": "subslide"
    }
   },
   "source": [
    " ![caption](figures/tools1.png)"
   ]
  },
  {
   "cell_type": "markdown",
   "metadata": {
    "slideshow": {
     "slide_type": "slide"
    }
   },
   "source": [
    "# En la siguientes clases empezaremos a aprender a programar en Python."
   ]
  }
 ],
 "metadata": {
  "celltoolbar": "Slideshow",
  "kernelspec": {
   "display_name": "Python 2",
   "language": "python",
   "name": "python2"
  },
  "language_info": {
   "codemirror_mode": {
    "name": "ipython",
    "version": 2
   },
   "file_extension": ".py",
   "mimetype": "text/x-python",
   "name": "python",
   "nbconvert_exporter": "python",
   "pygments_lexer": "ipython2",
   "version": "2.7.10"
  }
 },
 "nbformat": 4,
 "nbformat_minor": 0
}
